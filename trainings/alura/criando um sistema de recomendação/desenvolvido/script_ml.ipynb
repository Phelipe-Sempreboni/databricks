{
 "cells": [
  {
   "cell_type": "markdown",
   "metadata": {
    "application/vnd.databricks.v1+cell": {
     "cellMetadata": {
      "byteLimit": 2048000,
      "rowLimit": 10000
     },
     "inputWidgets": {},
     "nuid": "f516755b-eced-4987-a0b1-46182b681dfb",
     "showTitle": false,
     "tableResultSettingsMap": {},
     "title": ""
    }
   },
   "source": [
    "\n",
    "# Diretórios"
   ]
  },
  {
   "cell_type": "markdown",
   "metadata": {
    "application/vnd.databricks.v1+cell": {
     "cellMetadata": {
      "byteLimit": 2048000,
      "rowLimit": 10000
     },
     "inputWidgets": {},
     "nuid": "07473bc3-2c4e-4f3f-8941-d2e4983f05ee",
     "showTitle": false,
     "tableResultSettingsMap": {},
     "title": ""
    }
   },
   "source": [
    "\n",
    "## Listando diretórios e arquivos"
   ]
  },
  {
   "cell_type": "code",
   "execution_count": 0,
   "metadata": {
    "application/vnd.databricks.v1+cell": {
     "cellMetadata": {
      "byteLimit": 2048000,
      "rowLimit": 10000
     },
     "inputWidgets": {},
     "nuid": "4ff1b5f1-3cb7-489c-83cc-235b800b413e",
     "showTitle": false,
     "tableResultSettingsMap": {},
     "title": ""
    }
   },
   "outputs": [
    {
     "output_type": "display_data",
     "data": {
      "text/html": [
       "<style scoped>\n",
       "  .table-result-container {\n",
       "    max-height: 300px;\n",
       "    overflow: auto;\n",
       "  }\n",
       "  table, th, td {\n",
       "    border: 1px solid black;\n",
       "    border-collapse: collapse;\n",
       "  }\n",
       "  th, td {\n",
       "    padding: 5px;\n",
       "  }\n",
       "  th {\n",
       "    text-align: left;\n",
       "  }\n",
       "</style><div class='table-result-container'><table class='table-result'><thead style='background-color: white'><tr><th>path</th><th>name</th><th>size</th><th>modificationTime</th></tr></thead><tbody><tr><td>dbfs:/FileStore/tables/musica/spotify/data-source/data.csv</td><td>data.csv</td><td>29654587</td><td>1731194368000</td></tr><tr><td>dbfs:/FileStore/tables/musica/spotify/data-source/data_by_artist.csv</td><td>data_by_artist.csv</td><td>4315607</td><td>1731194362000</td></tr><tr><td>dbfs:/FileStore/tables/musica/spotify/data-source/data_by_genres.csv</td><td>data_by_genres.csv</td><td>576456</td><td>1731194362000</td></tr><tr><td>dbfs:/FileStore/tables/musica/spotify/data-source/data_by_year.csv</td><td>data_by_year.csv</td><td>21194</td><td>1731194363000</td></tr><tr><td>dbfs:/FileStore/tables/musica/spotify/data-source/data_w_genres.csv</td><td>data_w_genres.csv</td><td>5224673</td><td>1731194365000</td></tr></tbody></table></div>"
      ]
     },
     "metadata": {
      "application/vnd.databricks.v1+output": {
       "addedWidgets": {},
       "aggData": [],
       "aggError": "",
       "aggOverflow": false,
       "aggSchema": [],
       "aggSeriesLimitReached": false,
       "aggType": "",
       "arguments": {},
       "columnCustomDisplayInfos": {},
       "data": [
        [
         "dbfs:/FileStore/tables/musica/spotify/data-source/data.csv",
         "data.csv",
         29654587,
         1731194368000
        ],
        [
         "dbfs:/FileStore/tables/musica/spotify/data-source/data_by_artist.csv",
         "data_by_artist.csv",
         4315607,
         1731194362000
        ],
        [
         "dbfs:/FileStore/tables/musica/spotify/data-source/data_by_genres.csv",
         "data_by_genres.csv",
         576456,
         1731194362000
        ],
        [
         "dbfs:/FileStore/tables/musica/spotify/data-source/data_by_year.csv",
         "data_by_year.csv",
         21194,
         1731194363000
        ],
        [
         "dbfs:/FileStore/tables/musica/spotify/data-source/data_w_genres.csv",
         "data_w_genres.csv",
         5224673,
         1731194365000
        ]
       ],
       "datasetInfos": [],
       "dbfsResultPath": null,
       "isJsonSchema": true,
       "metadata": {},
       "overflow": false,
       "plotOptions": {
        "customPlotOptions": {},
        "displayType": "table",
        "pivotAggregation": null,
        "pivotColumns": null,
        "xColumns": null,
        "yColumns": null
       },
       "removedWidgets": [],
       "schema": [
        {
         "metadata": "{}",
         "name": "path",
         "type": "\"string\""
        },
        {
         "metadata": "{}",
         "name": "name",
         "type": "\"string\""
        },
        {
         "metadata": "{}",
         "name": "size",
         "type": "\"long\""
        },
        {
         "metadata": "{}",
         "name": "modificationTime",
         "type": "\"long\""
        }
       ],
       "type": "table"
      }
     },
     "output_type": "display_data"
    }
   ],
   "source": [
    "%python\n",
    "\n",
    "# Listar diretórios e arquivos\n",
    "# Esse método lista os nomes em formato de tabela, logo, são amigáveis de visualizar\n",
    "\n",
    "display(dbutils.fs.ls('dbfs:/FileStore/tables/musica/spotify/data-source/'))"
   ]
  },
  {
   "cell_type": "markdown",
   "metadata": {
    "application/vnd.databricks.v1+cell": {
     "cellMetadata": {
      "byteLimit": 2048000,
      "rowLimit": 10000
     },
     "inputWidgets": {},
     "nuid": "b21f70b6-a84a-491b-9670-172c1098aebf",
     "showTitle": false,
     "tableResultSettingsMap": {},
     "title": ""
    }
   },
   "source": [
    "\n",
    "## Criação de diretórios"
   ]
  },
  {
   "cell_type": "code",
   "execution_count": 0,
   "metadata": {
    "application/vnd.databricks.v1+cell": {
     "cellMetadata": {
      "byteLimit": 2048000,
      "rowLimit": 10000
     },
     "inputWidgets": {},
     "nuid": "fcd2dc95-853e-4570-9e8d-517a563e3db5",
     "showTitle": false,
     "tableResultSettingsMap": {},
     "title": ""
    }
   },
   "outputs": [
    {
     "output_type": "stream",
     "name": "stdout",
     "output_type": "stream",
     "text": [
      "Out[26]: \"\\ndisplay(dbutils.fs.ls('dbfs:/FileStore/tables/musica/spotify/'))\\n\""
     ]
    }
   ],
   "source": [
    "%python\n",
    "\n",
    "# Criação do diretório (prouni) dentro do diretório (gov)\n",
    "\n",
    "'''\n",
    "dbutils.fs.mkdirs('/FileStore/tables/musica/spotify/data-treated')\n",
    "\n",
    "display(dbutils.fs.ls('dbfs:/FileStore/tables/musica/spotify/'))\n",
    "'''"
   ]
  },
  {
   "cell_type": "markdown",
   "metadata": {
    "application/vnd.databricks.v1+cell": {
     "cellMetadata": {
      "byteLimit": 2048000,
      "rowLimit": 10000
     },
     "inputWidgets": {},
     "nuid": "37a3f834-0d71-4b71-a468-129bcefe5a3a",
     "showTitle": false,
     "tableResultSettingsMap": {},
     "title": ""
    }
   },
   "source": [
    "\n",
    "## Excluindo arquivos"
   ]
  },
  {
   "cell_type": "code",
   "execution_count": 0,
   "metadata": {
    "application/vnd.databricks.v1+cell": {
     "cellMetadata": {
      "byteLimit": 2048000,
      "rowLimit": 10000
     },
     "inputWidgets": {},
     "nuid": "f997e0c5-646d-489b-8715-6550744e2820",
     "showTitle": false,
     "tableResultSettingsMap": {},
     "title": ""
    }
   },
   "outputs": [
    {
     "output_type": "display_data",
     "data": {
      "text/html": [
       "<style scoped>\n",
       "  .table-result-container {\n",
       "    max-height: 300px;\n",
       "    overflow: auto;\n",
       "  }\n",
       "  table, th, td {\n",
       "    border: 1px solid black;\n",
       "    border-collapse: collapse;\n",
       "  }\n",
       "  th, td {\n",
       "    padding: 5px;\n",
       "  }\n",
       "  th {\n",
       "    text-align: left;\n",
       "  }\n",
       "</style><div class='table-result-container'><table class='table-result'><thead style='background-color: white'><tr><th>path</th><th>name</th><th>size</th><th>modificationTime</th></tr></thead><tbody><tr><td>dbfs:/FileStore/tables/musica/spotify/</td><td>spotify/</td><td>0</td><td>0</td></tr></tbody></table></div>"
      ]
     },
     "metadata": {
      "application/vnd.databricks.v1+output": {
       "addedWidgets": {},
       "aggData": [],
       "aggError": "",
       "aggOverflow": false,
       "aggSchema": [],
       "aggSeriesLimitReached": false,
       "aggType": "",
       "arguments": {},
       "columnCustomDisplayInfos": {},
       "data": [
        [
         "dbfs:/FileStore/tables/musica/spotify/",
         "spotify/",
         0,
         0
        ]
       ],
       "datasetInfos": [],
       "dbfsResultPath": null,
       "isJsonSchema": true,
       "metadata": {},
       "overflow": false,
       "plotOptions": {
        "customPlotOptions": {},
        "displayType": "table",
        "pivotAggregation": null,
        "pivotColumns": null,
        "xColumns": null,
        "yColumns": null
       },
       "removedWidgets": [],
       "schema": [
        {
         "metadata": "{}",
         "name": "path",
         "type": "\"string\""
        },
        {
         "metadata": "{}",
         "name": "name",
         "type": "\"string\""
        },
        {
         "metadata": "{}",
         "name": "size",
         "type": "\"long\""
        },
        {
         "metadata": "{}",
         "name": "modificationTime",
         "type": "\"long\""
        }
       ],
       "type": "table"
      }
     },
     "output_type": "display_data"
    }
   ],
   "source": [
    "%python\n",
    "\n",
    "# Remover (excluir) um arquivo do diretório\n",
    "# Esse métido remove (excluir) um arquivo de um diretório, onde neste caso, nós apontamos o caminho completo e junto o nome do arquiv\n",
    "\n",
    "'''\n",
    "dbutils.fs.rm('/FileStore/tables/musica/spotfy')\n",
    "\n",
    "display(dbutils.fs.ls('dbfs:/FileStore/tables/musica/'))\n",
    "'''"
   ]
  },
  {
   "cell_type": "markdown",
   "metadata": {
    "application/vnd.databricks.v1+cell": {
     "cellMetadata": {
      "byteLimit": 2048000,
      "rowLimit": 10000
     },
     "inputWidgets": {},
     "nuid": "5ac8fd0a-e01f-4f35-90e0-a09bd2d05f22",
     "showTitle": false,
     "tableResultSettingsMap": {},
     "title": ""
    }
   },
   "source": [
    "\n",
    "## Consultando arquivo"
   ]
  },
  {
   "cell_type": "code",
   "execution_count": 0,
   "metadata": {
    "application/vnd.databricks.v1+cell": {
     "cellMetadata": {
      "byteLimit": 2048000,
      "rowLimit": 10000
     },
     "inputWidgets": {},
     "nuid": "3b549e0c-9d95-4c14-86c0-b291ef3d074d",
     "showTitle": false,
     "tableResultSettingsMap": {},
     "title": ""
    }
   },
   "outputs": [
    {
     "output_type": "display_data",
     "data": {
      "text/html": [
       "<style scoped>\n",
       "  .ansiout {\n",
       "    display: block;\n",
       "    unicode-bidi: embed;\n",
       "    white-space: pre-wrap;\n",
       "    word-wrap: break-word;\n",
       "    word-break: break-all;\n",
       "    font-family: \"Menlo\", \"Monaco\", \"Consolas\", \"Ubuntu Mono\", \"Source Code Pro\", monospace;\n",
       "    font-size: 13px;\n",
       "    color: #555;\n",
       "    margin-left: 4px;\n",
       "    line-height: 19px;\n",
       "  }\n",
       "</style>"
      ]
     },
     "metadata": {
      "application/vnd.databricks.v1+output": {
       "arguments": {},
       "data": "",
       "errorSummary": "Cancelled",
       "errorTraceType": "html",
       "metadata": {},
       "type": "ipynbError"
      }
     },
     "output_type": "display_data"
    }
   ],
   "source": [
    "%python\n",
    "\n",
    "# Consultar dados de um arquivo no dbfs\n",
    "# Como estamos lidando com um módulo para interagir com diretórios e arquivos, a visualização ficará dessa maneira nesse caso\n",
    "# Quando for utilizado um PySpark ou um SQL, será possível visualizar os dados de forma mais agradável\n",
    "\n",
    "'''\n",
    "dbutils.fs.head('/FileStore/tables/gov/prouni/arquivos/csv/cursos_prouni.csv')\n",
    "'''"
   ]
  },
  {
   "cell_type": "markdown",
   "metadata": {
    "application/vnd.databricks.v1+cell": {
     "cellMetadata": {
      "byteLimit": 2048000,
      "rowLimit": 10000
     },
     "inputWidgets": {},
     "nuid": "5b8c11e0-a908-4614-892e-b3aec32a0e16",
     "showTitle": false,
     "tableResultSettingsMap": {},
     "title": ""
    }
   },
   "source": [
    "\n",
    "## Movendo arquivo"
   ]
  },
  {
   "cell_type": "code",
   "execution_count": 0,
   "metadata": {
    "application/vnd.databricks.v1+cell": {
     "cellMetadata": {
      "byteLimit": 2048000,
      "rowLimit": 10000
     },
     "inputWidgets": {},
     "nuid": "1a768956-757e-4dcf-ba0e-79ce08a7c054",
     "showTitle": false,
     "tableResultSettingsMap": {},
     "title": ""
    }
   },
   "outputs": [
    {
     "output_type": "display_data",
     "data": {
      "text/html": [
       "<style scoped>\n",
       "  .ansiout {\n",
       "    display: block;\n",
       "    unicode-bidi: embed;\n",
       "    white-space: pre-wrap;\n",
       "    word-wrap: break-word;\n",
       "    word-break: break-all;\n",
       "    font-family: \"Menlo\", \"Monaco\", \"Consolas\", \"Ubuntu Mono\", \"Source Code Pro\", monospace;\n",
       "    font-size: 13px;\n",
       "    color: #555;\n",
       "    margin-left: 4px;\n",
       "    line-height: 19px;\n",
       "  }\n",
       "</style>"
      ]
     },
     "metadata": {
      "application/vnd.databricks.v1+output": {
       "arguments": {},
       "data": "",
       "errorSummary": "Cancelled",
       "errorTraceType": "html",
       "metadata": {},
       "type": "ipynbError"
      }
     },
     "output_type": "display_data"
    }
   ],
   "source": [
    "# Realizar a uma validação e posteriormente mover os arquivos se a condição for satisfatória\n",
    "# Essa validação considera se o arquivo tiver tamanho igual a (0), e então e move o arquivo de diretório\n",
    "\n",
    "'''\n",
    "for item in dbutils.fs.ls('/FileStore/tables/gov/pnsb/gzip'):\n",
    "    if item.size!=0:\n",
    "        dbutils.fs.mv(\n",
    "            f'/FileStore/tables/gov/pnsb/gzip/{item.name}',\n",
    "            '/FileStore/tables/bebidas/vinhos/json'\n",
    "        )\n",
    "\n",
    "display(dbutils.fs.ls('dbfs:/FileStore/tables'))\n",
    "'''"
   ]
  },
  {
   "cell_type": "markdown",
   "metadata": {
    "application/vnd.databricks.v1+cell": {
     "cellMetadata": {
      "byteLimit": 2048000,
      "rowLimit": 10000
     },
     "inputWidgets": {},
     "nuid": "d5d740eb-2f6c-4ad7-a49d-c14d6bde87ff",
     "showTitle": false,
     "tableResultSettingsMap": {},
     "title": ""
    }
   },
   "source": [
    "\n",
    "## Removendo arquivos"
   ]
  },
  {
   "cell_type": "code",
   "execution_count": 0,
   "metadata": {
    "application/vnd.databricks.v1+cell": {
     "cellMetadata": {
      "byteLimit": 2048000,
      "rowLimit": 10000
     },
     "inputWidgets": {},
     "nuid": "acf80d4c-bf97-4edc-b1d2-4dad3cd63398",
     "showTitle": false,
     "tableResultSettingsMap": {},
     "title": ""
    }
   },
   "outputs": [
    {
     "output_type": "stream",
     "name": "stdout",
     "output_type": "stream",
     "text": [
      "hello word\nOut[3]: \"\\nfor arquivo in dbutils.fs.ls('/FileStore/tables/musica/spotify/'):\\n    if arquivo.size == 0:\\n        dbutils.fs.rm(f'/FileStore/tables/musica/spotfy/{arquivo.name}')\\n    else:\\n        print('Não existe arquivo de tamanho (0) para excluir')\\n\\ndisplay(dbutils.fs.ls('dbfs:/FileStore/tables/musica/spotify'))\\n\""
     ]
    }
   ],
   "source": [
    "%python\n",
    "\n",
    "# Realizar uma validação e posteriormente remover os arquivos se a condição for satisfatória\n",
    "# Essa validação considera se o arquivo tiver tamanho igual a (0), e então exclui o arquivo do diretório\n",
    "\n",
    "'''\n",
    "for arquivo in dbutils.fs.ls('/FileStore/tables/musica/spotify/'):\n",
    "    if arquivo.size == 0:\n",
    "        dbutils.fs.rm(f'/FileStore/tables/musica/spotfy/{arquivo.name}')\n",
    "    else:\n",
    "        print('Não existe arquivo de tamanho (0) para excluir')\n",
    "\n",
    "display(dbutils.fs.ls('dbfs:/FileStore/tables/musica/spotify'))\n",
    "'''"
   ]
  },
  {
   "cell_type": "markdown",
   "metadata": {
    "application/vnd.databricks.v1+cell": {
     "cellMetadata": {
      "byteLimit": 2048000,
      "rowLimit": 10000
     },
     "inputWidgets": {},
     "nuid": "afe08762-b3d2-4e95-a8c3-b21251750eb5",
     "showTitle": false,
     "tableResultSettingsMap": {},
     "title": ""
    }
   },
   "source": [
    "\n",
    "# Consultas (spark)"
   ]
  },
  {
   "cell_type": "markdown",
   "metadata": {
    "application/vnd.databricks.v1+cell": {
     "cellMetadata": {
      "byteLimit": 2048000,
      "rowLimit": 10000
     },
     "inputWidgets": {},
     "nuid": "7b574964-dde3-425a-9527-baf60c0f6957",
     "showTitle": false,
     "tableResultSettingsMap": {},
     "title": ""
    }
   },
   "source": [
    "\n",
    "## Caminho do arquivo (original)"
   ]
  },
  {
   "cell_type": "code",
   "execution_count": 0,
   "metadata": {
    "application/vnd.databricks.v1+cell": {
     "cellMetadata": {
      "byteLimit": 2048000,
      "rowLimit": 10000
     },
     "inputWidgets": {},
     "nuid": "768e075f-cbfe-423e-a160-274802dc7b9b",
     "showTitle": false,
     "tableResultSettingsMap": {},
     "title": ""
    }
   },
   "outputs": [],
   "source": [
    "%python\n",
    "\n",
    "# Caminho do arquivo para leitura\n",
    "\n",
    "path_consulta_01 = 'dbfs:/FileStore/tables/musica/spotify/data-source/data.csv'"
   ]
  },
  {
   "cell_type": "markdown",
   "metadata": {
    "application/vnd.databricks.v1+cell": {
     "cellMetadata": {
      "byteLimit": 2048000,
      "rowLimit": 10000
     },
     "inputWidgets": {},
     "nuid": "a9a2d22e-9108-4a92-b433-cd680fe29d4d",
     "showTitle": false,
     "tableResultSettingsMap": {},
     "title": ""
    }
   },
   "source": [
    "\n",
    "## Leitura do df"
   ]
  },
  {
   "cell_type": "code",
   "execution_count": 0,
   "metadata": {
    "application/vnd.databricks.v1+cell": {
     "cellMetadata": {
      "byteLimit": 2048000,
      "rowLimit": 10000
     },
     "inputWidgets": {},
     "nuid": "b2900924-4872-4961-b082-9637e37c7018",
     "showTitle": false,
     "tableResultSettingsMap": {},
     "title": ""
    }
   },
   "outputs": [
    {
     "output_type": "display_data",
     "data": {
      "text/html": [
       "<style scoped>\n",
       "  .table-result-container {\n",
       "    max-height: 300px;\n",
       "    overflow: auto;\n",
       "  }\n",
       "  table, th, td {\n",
       "    border: 1px solid black;\n",
       "    border-collapse: collapse;\n",
       "  }\n",
       "  th, td {\n",
       "    padding: 5px;\n",
       "  }\n",
       "  th {\n",
       "    text-align: left;\n",
       "  }\n",
       "</style><div class='table-result-container'><table class='table-result'><thead style='background-color: white'><tr><th>valence</th><th>year</th><th>acousticness</th><th>artists</th><th>danceability</th><th>duration_ms</th><th>energy</th><th>explicit</th><th>id</th><th>instrumentalness</th><th>key</th><th>liveness</th><th>loudness</th><th>mode</th><th>name</th><th>popularity</th><th>release_date</th><th>speechiness</th><th>tempo</th></tr></thead><tbody><tr><td>0.0594</td><td>1921</td><td>0.982</td><td>['Sergei Rachmaninoff', 'James Levine', 'Berliner Philharmoniker']</td><td>0.279</td><td>831667</td><td>0.211</td><td>0</td><td>4BJqT0PrAfrxzMOxytFOIz</td><td>0.878</td><td>10</td><td>0.665</td><td>-20.096</td><td>1</td><td>Piano Concerto No. 3 in D Minor, Op. 30: III. Finale. Alla breve</td><td>4</td><td>1921</td><td>0.0366</td><td>80.954</td></tr><tr><td>0.963</td><td>1921</td><td>0.732</td><td>['Dennis Day']</td><td>0.8190000000000001</td><td>180533</td><td>0.341</td><td>0</td><td>7xPhfUan2yNtyFG0cUWkt8</td><td>0.0</td><td>7</td><td>0.16</td><td>-12.441</td><td>1</td><td>Clancy Lowered the Boom</td><td>5</td><td>1921</td><td>0.415</td><td>60.93600000000001</td></tr><tr><td>0.0394</td><td>1921</td><td>0.961</td><td>['KHP Kridhamardawa Karaton Ngayogyakarta Hadiningrat']</td><td>0.328</td><td>500062</td><td>0.166</td><td>0</td><td>1o6I8BglA6ylDMrIELygv1</td><td>0.913</td><td>3</td><td>0.101</td><td>-14.85</td><td>1</td><td>Gati Bali</td><td>5</td><td>1921</td><td>0.0339</td><td>110.339</td></tr><tr><td>0.165</td><td>1921</td><td>0.967</td><td>['Frank Parker']</td><td>0.275</td><td>210000</td><td>0.309</td><td>0</td><td>3ftBPsC5vPBKxYSee08FDH</td><td>2.77e-05</td><td>5</td><td>0.381</td><td>-9.316</td><td>1</td><td>Danny Boy</td><td>3</td><td>1921</td><td>0.0354</td><td>100.109</td></tr><tr><td>0.253</td><td>1921</td><td>0.957</td><td>['Phil Regan']</td><td>0.418</td><td>166693</td><td>0.193</td><td>0</td><td>4d6HGyGT8e121BsdKmw9v6</td><td>1.68e-06</td><td>3</td><td>0.229</td><td>-10.096</td><td>1</td><td>When Irish Eyes Are Smiling</td><td>2</td><td>1921</td><td>0.038</td><td>101.665</td></tr></tbody></table></div>"
      ]
     },
     "metadata": {
      "application/vnd.databricks.v1+output": {
       "addedWidgets": {},
       "aggData": [],
       "aggError": "",
       "aggOverflow": false,
       "aggSchema": [],
       "aggSeriesLimitReached": false,
       "aggType": "",
       "arguments": {},
       "columnCustomDisplayInfos": {},
       "data": [
        [
         0.0594,
         1921,
         0.982,
         "['Sergei Rachmaninoff', 'James Levine', 'Berliner Philharmoniker']",
         "0.279",
         "831667",
         "0.211",
         "0",
         "4BJqT0PrAfrxzMOxytFOIz",
         "0.878",
         "10",
         "0.665",
         "-20.096",
         "1",
         "Piano Concerto No. 3 in D Minor, Op. 30: III. Finale. Alla breve",
         "4",
         "1921",
         "0.0366",
         "80.954"
        ],
        [
         0.963,
         1921,
         0.732,
         "['Dennis Day']",
         "0.8190000000000001",
         "180533",
         "0.341",
         "0",
         "7xPhfUan2yNtyFG0cUWkt8",
         "0.0",
         "7",
         "0.16",
         "-12.441",
         "1",
         "Clancy Lowered the Boom",
         "5",
         "1921",
         "0.415",
         "60.93600000000001"
        ],
        [
         0.0394,
         1921,
         0.961,
         "['KHP Kridhamardawa Karaton Ngayogyakarta Hadiningrat']",
         "0.328",
         "500062",
         "0.166",
         "0",
         "1o6I8BglA6ylDMrIELygv1",
         "0.913",
         "3",
         "0.101",
         "-14.85",
         "1",
         "Gati Bali",
         "5",
         "1921",
         "0.0339",
         "110.339"
        ],
        [
         0.165,
         1921,
         0.967,
         "['Frank Parker']",
         "0.275",
         "210000",
         "0.309",
         "0",
         "3ftBPsC5vPBKxYSee08FDH",
         "2.77e-05",
         "5",
         "0.381",
         "-9.316",
         "1",
         "Danny Boy",
         "3",
         "1921",
         "0.0354",
         "100.109"
        ],
        [
         0.253,
         1921,
         0.957,
         "['Phil Regan']",
         "0.418",
         "166693",
         "0.193",
         "0",
         "4d6HGyGT8e121BsdKmw9v6",
         "1.68e-06",
         "3",
         "0.229",
         "-10.096",
         "1",
         "When Irish Eyes Are Smiling",
         "2",
         "1921",
         "0.038",
         "101.665"
        ]
       ],
       "datasetInfos": [],
       "dbfsResultPath": null,
       "isJsonSchema": true,
       "metadata": {},
       "overflow": false,
       "plotOptions": {
        "customPlotOptions": {},
        "displayType": "table",
        "pivotAggregation": null,
        "pivotColumns": null,
        "xColumns": null,
        "yColumns": null
       },
       "removedWidgets": [],
       "schema": [
        {
         "metadata": "{}",
         "name": "valence",
         "type": "\"double\""
        },
        {
         "metadata": "{}",
         "name": "year",
         "type": "\"integer\""
        },
        {
         "metadata": "{}",
         "name": "acousticness",
         "type": "\"double\""
        },
        {
         "metadata": "{}",
         "name": "artists",
         "type": "\"string\""
        },
        {
         "metadata": "{}",
         "name": "danceability",
         "type": "\"string\""
        },
        {
         "metadata": "{}",
         "name": "duration_ms",
         "type": "\"string\""
        },
        {
         "metadata": "{}",
         "name": "energy",
         "type": "\"string\""
        },
        {
         "metadata": "{}",
         "name": "explicit",
         "type": "\"string\""
        },
        {
         "metadata": "{}",
         "name": "id",
         "type": "\"string\""
        },
        {
         "metadata": "{}",
         "name": "instrumentalness",
         "type": "\"string\""
        },
        {
         "metadata": "{}",
         "name": "key",
         "type": "\"string\""
        },
        {
         "metadata": "{}",
         "name": "liveness",
         "type": "\"string\""
        },
        {
         "metadata": "{}",
         "name": "loudness",
         "type": "\"string\""
        },
        {
         "metadata": "{}",
         "name": "mode",
         "type": "\"string\""
        },
        {
         "metadata": "{}",
         "name": "name",
         "type": "\"string\""
        },
        {
         "metadata": "{}",
         "name": "popularity",
         "type": "\"string\""
        },
        {
         "metadata": "{}",
         "name": "release_date",
         "type": "\"string\""
        },
        {
         "metadata": "{}",
         "name": "speechiness",
         "type": "\"string\""
        },
        {
         "metadata": "{}",
         "name": "tempo",
         "type": "\"string\""
        }
       ],
       "type": "table"
      }
     },
     "output_type": "display_data"
    }
   ],
   "source": [
    "%python\n",
    "\n",
    "# Leitura do arquivo\n",
    "\n",
    "df_consulta_01 = spark.read.csv(path_consulta_01, inferSchema=True, header=True)\n",
    "df_consulta_01.limit(5).display()"
   ]
  },
  {
   "cell_type": "markdown",
   "metadata": {
    "application/vnd.databricks.v1+cell": {
     "cellMetadata": {
      "byteLimit": 2048000,
      "rowLimit": 10000
     },
     "inputWidgets": {},
     "nuid": "73c5bde3-859c-4856-8a99-c1ac5ee1dee4",
     "showTitle": false,
     "tableResultSettingsMap": {},
     "title": ""
    }
   },
   "source": [
    "\n",
    "## Tipo do df"
   ]
  },
  {
   "cell_type": "code",
   "execution_count": 0,
   "metadata": {
    "application/vnd.databricks.v1+cell": {
     "cellMetadata": {
      "byteLimit": 2048000,
      "rowLimit": 10000
     },
     "inputWidgets": {},
     "nuid": "e9d75412-6298-42d1-b6f6-8954bab4649a",
     "showTitle": false,
     "tableResultSettingsMap": {},
     "title": ""
    }
   },
   "outputs": [
    {
     "output_type": "stream",
     "name": "stdout",
     "output_type": "stream",
     "text": [
      "Out[3]: pyspark.sql.dataframe.DataFrame"
     ]
    }
   ],
   "source": [
    "%python\n",
    "\n",
    "# Tipo do dataframe gerado\n",
    "\n",
    "type(df_consulta_01)"
   ]
  },
  {
   "cell_type": "markdown",
   "metadata": {
    "application/vnd.databricks.v1+cell": {
     "cellMetadata": {
      "byteLimit": 2048000,
      "rowLimit": 10000
     },
     "inputWidgets": {},
     "nuid": "3acd514f-33bb-4918-8394-9005a2397a19",
     "showTitle": false,
     "tableResultSettingsMap": {},
     "title": ""
    }
   },
   "source": [
    "\n",
    "## Transformação de df"
   ]
  },
  {
   "cell_type": "markdown",
   "metadata": {
    "application/vnd.databricks.v1+cell": {
     "cellMetadata": {
      "byteLimit": 2048000,
      "rowLimit": 10000
     },
     "inputWidgets": {},
     "nuid": "6452bd73-799e-4a7a-96b9-3ae1f2d43f3e",
     "showTitle": false,
     "tableResultSettingsMap": {},
     "title": ""
    }
   },
   "source": [
    "\n",
    "# Consultas (pandas)"
   ]
  },
  {
   "cell_type": "code",
   "execution_count": 0,
   "metadata": {
    "application/vnd.databricks.v1+cell": {
     "cellMetadata": {
      "byteLimit": 2048000,
      "rowLimit": 10000
     },
     "inputWidgets": {},
     "nuid": "b2160d1b-6872-4167-b26a-9805a42f59c8",
     "showTitle": false,
     "tableResultSettingsMap": {},
     "title": ""
    }
   },
   "outputs": [],
   "source": [
    "%python\n",
    "\n",
    "# Transformação do data frame do tipo (pyspark.sql.dataframe.DataFrame) para um (pyspark.pandas.frame.DataFrame)\n",
    "# Agora teremos um data frame do tipo pandas, onde temos as vantagens do data frame em spark, podendo utilizar comandos do pandas\n",
    "\n",
    "df_consulta_01 = df_consulta_01.pandas_api()"
   ]
  },
  {
   "cell_type": "code",
   "execution_count": 0,
   "metadata": {
    "application/vnd.databricks.v1+cell": {
     "cellMetadata": {
      "byteLimit": 2048000,
      "rowLimit": 10000
     },
     "inputWidgets": {},
     "nuid": "e1a232db-76a4-4fdd-b8b0-1e3d6dbecc82",
     "showTitle": false,
     "tableResultSettingsMap": {},
     "title": ""
    }
   },
   "outputs": [
    {
     "output_type": "stream",
     "name": "stdout",
     "output_type": "stream",
     "text": [
      "Out[5]: pyspark.pandas.frame.DataFrame"
     ]
    }
   ],
   "source": [
    "%python\n",
    "\n",
    "# Tipo do dataframe gerado\n",
    "\n",
    "type(df_consulta_01)"
   ]
  },
  {
   "cell_type": "markdown",
   "metadata": {
    "application/vnd.databricks.v1+cell": {
     "cellMetadata": {
      "byteLimit": 2048000,
      "rowLimit": 10000
     },
     "inputWidgets": {},
     "nuid": "3e69d9e2-14df-4bdc-8bde-0f9c29db9ef1",
     "showTitle": false,
     "tableResultSettingsMap": {},
     "title": ""
    }
   },
   "source": [
    "\n",
    "## Leitura do arquivo"
   ]
  },
  {
   "cell_type": "code",
   "execution_count": 0,
   "metadata": {
    "application/vnd.databricks.v1+cell": {
     "cellMetadata": {
      "byteLimit": 2048000,
      "rowLimit": 10000
     },
     "inputWidgets": {},
     "nuid": "b7d642fe-80e3-44ae-a23b-da86bf177493",
     "showTitle": false,
     "tableResultSettingsMap": {},
     "title": ""
    }
   },
   "outputs": [
    {
     "output_type": "display_data",
     "data": {
      "text/html": [
       "<div>\n",
       "<style scoped>\n",
       "    .dataframe tbody tr th:only-of-type {\n",
       "        vertical-align: middle;\n",
       "    }\n",
       "\n",
       "    .dataframe tbody tr th {\n",
       "        vertical-align: top;\n",
       "    }\n",
       "\n",
       "    .dataframe thead th {\n",
       "        text-align: right;\n",
       "    }\n",
       "</style>\n",
       "<table border=\"1\" class=\"dataframe\">\n",
       "  <thead>\n",
       "    <tr style=\"text-align: right;\">\n",
       "      <th></th>\n",
       "      <th>valence</th>\n",
       "      <th>year</th>\n",
       "      <th>acousticness</th>\n",
       "      <th>artists</th>\n",
       "      <th>danceability</th>\n",
       "      <th>duration_ms</th>\n",
       "      <th>energy</th>\n",
       "      <th>explicit</th>\n",
       "      <th>id</th>\n",
       "      <th>instrumentalness</th>\n",
       "      <th>key</th>\n",
       "      <th>liveness</th>\n",
       "      <th>loudness</th>\n",
       "      <th>mode</th>\n",
       "      <th>name</th>\n",
       "      <th>popularity</th>\n",
       "      <th>release_date</th>\n",
       "      <th>speechiness</th>\n",
       "      <th>tempo</th>\n",
       "    </tr>\n",
       "  </thead>\n",
       "  <tbody>\n",
       "    <tr>\n",
       "      <th>0</th>\n",
       "      <td>0.0594</td>\n",
       "      <td>1921</td>\n",
       "      <td>0.982</td>\n",
       "      <td>['Sergei Rachmaninoff', 'James Levine', 'Berli...</td>\n",
       "      <td>0.279</td>\n",
       "      <td>831667</td>\n",
       "      <td>0.211</td>\n",
       "      <td>0</td>\n",
       "      <td>4BJqT0PrAfrxzMOxytFOIz</td>\n",
       "      <td>0.878</td>\n",
       "      <td>10</td>\n",
       "      <td>0.665</td>\n",
       "      <td>-20.096</td>\n",
       "      <td>1</td>\n",
       "      <td>Piano Concerto No. 3 in D Minor, Op. 30: III. ...</td>\n",
       "      <td>4</td>\n",
       "      <td>1921</td>\n",
       "      <td>0.0366</td>\n",
       "      <td>80.954</td>\n",
       "    </tr>\n",
       "    <tr>\n",
       "      <th>1</th>\n",
       "      <td>0.9630</td>\n",
       "      <td>1921</td>\n",
       "      <td>0.732</td>\n",
       "      <td>['Dennis Day']</td>\n",
       "      <td>0.8190000000000001</td>\n",
       "      <td>180533</td>\n",
       "      <td>0.341</td>\n",
       "      <td>0</td>\n",
       "      <td>7xPhfUan2yNtyFG0cUWkt8</td>\n",
       "      <td>0.0</td>\n",
       "      <td>7</td>\n",
       "      <td>0.16</td>\n",
       "      <td>-12.441</td>\n",
       "      <td>1</td>\n",
       "      <td>Clancy Lowered the Boom</td>\n",
       "      <td>5</td>\n",
       "      <td>1921</td>\n",
       "      <td>0.415</td>\n",
       "      <td>60.93600000000001</td>\n",
       "    </tr>\n",
       "    <tr>\n",
       "      <th>2</th>\n",
       "      <td>0.0394</td>\n",
       "      <td>1921</td>\n",
       "      <td>0.961</td>\n",
       "      <td>['KHP Kridhamardawa Karaton Ngayogyakarta Hadi...</td>\n",
       "      <td>0.328</td>\n",
       "      <td>500062</td>\n",
       "      <td>0.166</td>\n",
       "      <td>0</td>\n",
       "      <td>1o6I8BglA6ylDMrIELygv1</td>\n",
       "      <td>0.913</td>\n",
       "      <td>3</td>\n",
       "      <td>0.101</td>\n",
       "      <td>-14.85</td>\n",
       "      <td>1</td>\n",
       "      <td>Gati Bali</td>\n",
       "      <td>5</td>\n",
       "      <td>1921</td>\n",
       "      <td>0.0339</td>\n",
       "      <td>110.339</td>\n",
       "    </tr>\n",
       "    <tr>\n",
       "      <th>3</th>\n",
       "      <td>0.1650</td>\n",
       "      <td>1921</td>\n",
       "      <td>0.967</td>\n",
       "      <td>['Frank Parker']</td>\n",
       "      <td>0.275</td>\n",
       "      <td>210000</td>\n",
       "      <td>0.309</td>\n",
       "      <td>0</td>\n",
       "      <td>3ftBPsC5vPBKxYSee08FDH</td>\n",
       "      <td>2.77e-05</td>\n",
       "      <td>5</td>\n",
       "      <td>0.381</td>\n",
       "      <td>-9.316</td>\n",
       "      <td>1</td>\n",
       "      <td>Danny Boy</td>\n",
       "      <td>3</td>\n",
       "      <td>1921</td>\n",
       "      <td>0.0354</td>\n",
       "      <td>100.109</td>\n",
       "    </tr>\n",
       "    <tr>\n",
       "      <th>4</th>\n",
       "      <td>0.2530</td>\n",
       "      <td>1921</td>\n",
       "      <td>0.957</td>\n",
       "      <td>['Phil Regan']</td>\n",
       "      <td>0.418</td>\n",
       "      <td>166693</td>\n",
       "      <td>0.193</td>\n",
       "      <td>0</td>\n",
       "      <td>4d6HGyGT8e121BsdKmw9v6</td>\n",
       "      <td>1.68e-06</td>\n",
       "      <td>3</td>\n",
       "      <td>0.229</td>\n",
       "      <td>-10.096</td>\n",
       "      <td>1</td>\n",
       "      <td>When Irish Eyes Are Smiling</td>\n",
       "      <td>2</td>\n",
       "      <td>1921</td>\n",
       "      <td>0.038</td>\n",
       "      <td>101.665</td>\n",
       "    </tr>\n",
       "  </tbody>\n",
       "</table>\n",
       "</div>"
      ]
     },
     "metadata": {
      "application/vnd.databricks.v1+output": {
       "addedWidgets": {},
       "arguments": {},
       "data": "<div>\n<style scoped>\n    .dataframe tbody tr th:only-of-type {\n        vertical-align: middle;\n    }\n\n    .dataframe tbody tr th {\n        vertical-align: top;\n    }\n\n    .dataframe thead th {\n        text-align: right;\n    }\n</style>\n<table border=\"1\" class=\"dataframe\">\n  <thead>\n    <tr style=\"text-align: right;\">\n      <th></th>\n      <th>valence</th>\n      <th>year</th>\n      <th>acousticness</th>\n      <th>artists</th>\n      <th>danceability</th>\n      <th>duration_ms</th>\n      <th>energy</th>\n      <th>explicit</th>\n      <th>id</th>\n      <th>instrumentalness</th>\n      <th>key</th>\n      <th>liveness</th>\n      <th>loudness</th>\n      <th>mode</th>\n      <th>name</th>\n      <th>popularity</th>\n      <th>release_date</th>\n      <th>speechiness</th>\n      <th>tempo</th>\n    </tr>\n  </thead>\n  <tbody>\n    <tr>\n      <th>0</th>\n      <td>0.0594</td>\n      <td>1921</td>\n      <td>0.982</td>\n      <td>['Sergei Rachmaninoff', 'James Levine', 'Berli...</td>\n      <td>0.279</td>\n      <td>831667</td>\n      <td>0.211</td>\n      <td>0</td>\n      <td>4BJqT0PrAfrxzMOxytFOIz</td>\n      <td>0.878</td>\n      <td>10</td>\n      <td>0.665</td>\n      <td>-20.096</td>\n      <td>1</td>\n      <td>Piano Concerto No. 3 in D Minor, Op. 30: III. ...</td>\n      <td>4</td>\n      <td>1921</td>\n      <td>0.0366</td>\n      <td>80.954</td>\n    </tr>\n    <tr>\n      <th>1</th>\n      <td>0.9630</td>\n      <td>1921</td>\n      <td>0.732</td>\n      <td>['Dennis Day']</td>\n      <td>0.8190000000000001</td>\n      <td>180533</td>\n      <td>0.341</td>\n      <td>0</td>\n      <td>7xPhfUan2yNtyFG0cUWkt8</td>\n      <td>0.0</td>\n      <td>7</td>\n      <td>0.16</td>\n      <td>-12.441</td>\n      <td>1</td>\n      <td>Clancy Lowered the Boom</td>\n      <td>5</td>\n      <td>1921</td>\n      <td>0.415</td>\n      <td>60.93600000000001</td>\n    </tr>\n    <tr>\n      <th>2</th>\n      <td>0.0394</td>\n      <td>1921</td>\n      <td>0.961</td>\n      <td>['KHP Kridhamardawa Karaton Ngayogyakarta Hadi...</td>\n      <td>0.328</td>\n      <td>500062</td>\n      <td>0.166</td>\n      <td>0</td>\n      <td>1o6I8BglA6ylDMrIELygv1</td>\n      <td>0.913</td>\n      <td>3</td>\n      <td>0.101</td>\n      <td>-14.85</td>\n      <td>1</td>\n      <td>Gati Bali</td>\n      <td>5</td>\n      <td>1921</td>\n      <td>0.0339</td>\n      <td>110.339</td>\n    </tr>\n    <tr>\n      <th>3</th>\n      <td>0.1650</td>\n      <td>1921</td>\n      <td>0.967</td>\n      <td>['Frank Parker']</td>\n      <td>0.275</td>\n      <td>210000</td>\n      <td>0.309</td>\n      <td>0</td>\n      <td>3ftBPsC5vPBKxYSee08FDH</td>\n      <td>2.77e-05</td>\n      <td>5</td>\n      <td>0.381</td>\n      <td>-9.316</td>\n      <td>1</td>\n      <td>Danny Boy</td>\n      <td>3</td>\n      <td>1921</td>\n      <td>0.0354</td>\n      <td>100.109</td>\n    </tr>\n    <tr>\n      <th>4</th>\n      <td>0.2530</td>\n      <td>1921</td>\n      <td>0.957</td>\n      <td>['Phil Regan']</td>\n      <td>0.418</td>\n      <td>166693</td>\n      <td>0.193</td>\n      <td>0</td>\n      <td>4d6HGyGT8e121BsdKmw9v6</td>\n      <td>1.68e-06</td>\n      <td>3</td>\n      <td>0.229</td>\n      <td>-10.096</td>\n      <td>1</td>\n      <td>When Irish Eyes Are Smiling</td>\n      <td>2</td>\n      <td>1921</td>\n      <td>0.038</td>\n      <td>101.665</td>\n    </tr>\n  </tbody>\n</table>\n</div>",
       "datasetInfos": [],
       "metadata": {},
       "removedWidgets": [],
       "textData": null,
       "type": "htmlSandbox"
      }
     },
     "output_type": "display_data"
    }
   ],
   "source": [
    "%python\n",
    "\n",
    "# Leitura do arquivo\n",
    "\n",
    "df_consulta_01.head()"
   ]
  },
  {
   "cell_type": "markdown",
   "metadata": {
    "application/vnd.databricks.v1+cell": {
     "cellMetadata": {
      "byteLimit": 2048000,
      "rowLimit": 10000
     },
     "inputWidgets": {},
     "nuid": "41c1e7ff-1ef3-4986-85da-6a9878934994",
     "showTitle": false,
     "tableResultSettingsMap": {},
     "title": ""
    }
   },
   "source": [
    "\n",
    "## Tipos das colunas"
   ]
  },
  {
   "cell_type": "code",
   "execution_count": 0,
   "metadata": {
    "application/vnd.databricks.v1+cell": {
     "cellMetadata": {
      "byteLimit": 2048000,
      "rowLimit": 10000
     },
     "inputWidgets": {},
     "nuid": "509b07fd-4551-4a17-93b3-abbd75ee333a",
     "showTitle": false,
     "tableResultSettingsMap": {},
     "title": ""
    }
   },
   "outputs": [
    {
     "output_type": "stream",
     "name": "stdout",
     "output_type": "stream",
     "text": [
      "<class 'pyspark.pandas.frame.DataFrame'>\nInt64Index: 170653 entries, 0 to 170652\nData columns (total 19 columns):\n #   Column            Non-Null Count   Dtype  \n---  ------            --------------   -----  \n 0   valence           170653 non-null  int64  \n 1   year              170653 non-null  int32  \n 2   acousticness      170653 non-null  int64  \n 3   artists           170653 non-null  object \n 4   danceability      170080 non-null  int64  \n 5   duration_ms       170454 non-null  float64\n 6   energy            170539 non-null  int64  \n 7   explicit          170606 non-null  float64\n 8   id                170653 non-null  object \n 9   instrumentalness  137328 non-null  int64  \n 10  key               170527 non-null  float64\n 11  liveness          170585 non-null  int64  \n 12  loudness          170617 non-null  int64  \n 13  mode              170641 non-null  float64\n 14  name              170653 non-null  object \n 15  popularity        169497 non-null  float64\n 16  release_date      170653 non-null  object \n 17  speechiness       170042 non-null  int64  \n 18  tempo             170404 non-null  int64  \ndtypes: float64(5), int32(1), int64(9), object(4)"
     ]
    }
   ],
   "source": [
    "%python\n",
    "\n",
    "# Tipos das colunas\n",
    "\n",
    "df_consulta_01.info()"
   ]
  },
  {
   "cell_type": "markdown",
   "metadata": {
    "application/vnd.databricks.v1+cell": {
     "cellMetadata": {
      "byteLimit": 2048000,
      "rowLimit": 10000
     },
     "inputWidgets": {},
     "nuid": "41e9a5e7-91c7-4d0b-a207-cab0a550c258",
     "showTitle": false,
     "tableResultSettingsMap": {},
     "title": ""
    }
   },
   "source": [
    "\n",
    "## Colunas do tipo (int e float)"
   ]
  },
  {
   "cell_type": "code",
   "execution_count": 0,
   "metadata": {
    "application/vnd.databricks.v1+cell": {
     "cellMetadata": {
      "byteLimit": 2048000,
      "rowLimit": 10000
     },
     "inputWidgets": {},
     "nuid": "30287c46-9938-481c-9c75-e9185ea42f96",
     "showTitle": false,
     "tableResultSettingsMap": {},
     "title": ""
    }
   },
   "outputs": [],
   "source": [
    "%python\n",
    "\n",
    "# Criação de uma lista de colunas\n",
    "\n",
    "colunas_int = ['acousticness', 'danceability', 'energy', 'instrumentalness', 'liveness', 'loudness', 'speechiness', 'tempo', 'valence']\n",
    "\n",
    "colunas_float = ['duration_ms', 'mode', 'key', 'explicit', 'popularity']"
   ]
  },
  {
   "cell_type": "markdown",
   "metadata": {
    "application/vnd.databricks.v1+cell": {
     "cellMetadata": {
      "byteLimit": 2048000,
      "rowLimit": 10000
     },
     "inputWidgets": {},
     "nuid": "2be255b8-57bd-4507-99fe-e1d1dff01a31",
     "showTitle": false,
     "tableResultSettingsMap": {},
     "title": ""
    }
   },
   "source": [
    "\n",
    "## Transformação de colunas (int e float)"
   ]
  },
  {
   "cell_type": "code",
   "execution_count": 0,
   "metadata": {
    "application/vnd.databricks.v1+cell": {
     "cellMetadata": {
      "byteLimit": 2048000,
      "rowLimit": 10000
     },
     "inputWidgets": {},
     "nuid": "7919c1b8-f6bf-4eb2-97ec-a97ed0e108fd",
     "showTitle": false,
     "tableResultSettingsMap": {},
     "title": ""
    }
   },
   "outputs": [],
   "source": [
    "%python\n",
    "\n",
    "# Transformação das colunas da lista para os data types corretos\n",
    "\n",
    "df_consulta_01[colunas_int] = df_consulta_01[colunas_int].astype(int)\n",
    "df_consulta_01[colunas_float] = df_consulta_01[colunas_float].astype(float)"
   ]
  },
  {
   "cell_type": "markdown",
   "metadata": {
    "application/vnd.databricks.v1+cell": {
     "cellMetadata": {
      "byteLimit": 2048000,
      "rowLimit": 10000
     },
     "inputWidgets": {},
     "nuid": "367b3d2d-b1bf-484d-bc5f-e790d4c8cd83",
     "showTitle": false,
     "tableResultSettingsMap": {},
     "title": ""
    }
   },
   "source": [
    "\n",
    "## Confirmar transformação de colunas"
   ]
  },
  {
   "cell_type": "code",
   "execution_count": 0,
   "metadata": {
    "application/vnd.databricks.v1+cell": {
     "cellMetadata": {
      "byteLimit": 2048000,
      "rowLimit": 10000
     },
     "inputWidgets": {},
     "nuid": "b8f2bc99-584c-4269-bbae-699fda177115",
     "showTitle": false,
     "tableResultSettingsMap": {},
     "title": ""
    }
   },
   "outputs": [
    {
     "output_type": "stream",
     "name": "stdout",
     "output_type": "stream",
     "text": [
      "<class 'pyspark.pandas.frame.DataFrame'>\nInt64Index: 170653 entries, 0 to 170652\nData columns (total 19 columns):\n #   Column            Non-Null Count   Dtype  \n---  ------            --------------   -----  \n 0   valence           170653 non-null  int64  \n 1   year              170653 non-null  int32  \n 2   acousticness      170653 non-null  int64  \n 3   artists           170653 non-null  object \n 4   danceability      170080 non-null  int64  \n 5   duration_ms       170454 non-null  float64\n 6   energy            170539 non-null  int64  \n 7   explicit          170606 non-null  float64\n 8   id                170653 non-null  object \n 9   instrumentalness  137328 non-null  int64  \n 10  key               170527 non-null  float64\n 11  liveness          170585 non-null  int64  \n 12  loudness          170617 non-null  int64  \n 13  mode              170641 non-null  float64\n 14  name              170653 non-null  object \n 15  popularity        169497 non-null  float64\n 16  release_date      170653 non-null  object \n 17  speechiness       170042 non-null  int64  \n 18  tempo             170404 non-null  int64  \ndtypes: float64(5), int32(1), int64(9), object(4)"
     ]
    }
   ],
   "source": [
    "%python\n",
    "\n",
    "# Tipos das colunas\n",
    "\n",
    "df_consulta_01.info()"
   ]
  },
  {
   "cell_type": "markdown",
   "metadata": {
    "application/vnd.databricks.v1+cell": {
     "cellMetadata": {
      "byteLimit": 2048000,
      "rowLimit": 10000
     },
     "inputWidgets": {},
     "nuid": "11eb4069-7ade-4306-92ed-3f5d11eb184d",
     "showTitle": false,
     "tableResultSettingsMap": {},
     "title": ""
    }
   },
   "source": [
    "\n",
    "## Consultar colunas no tipo (objects)"
   ]
  },
  {
   "cell_type": "code",
   "execution_count": 0,
   "metadata": {
    "application/vnd.databricks.v1+cell": {
     "cellMetadata": {
      "byteLimit": 2048000,
      "rowLimit": 10000
     },
     "inputWidgets": {},
     "nuid": "3ca50997-fd60-4900-9104-286070740530",
     "showTitle": false,
     "tableResultSettingsMap": {},
     "title": ""
    }
   },
   "outputs": [
    {
     "output_type": "display_data",
     "data": {
      "text/html": [
       "<div>\n",
       "<style scoped>\n",
       "    .dataframe tbody tr th:only-of-type {\n",
       "        vertical-align: middle;\n",
       "    }\n",
       "\n",
       "    .dataframe tbody tr th {\n",
       "        vertical-align: top;\n",
       "    }\n",
       "\n",
       "    .dataframe thead th {\n",
       "        text-align: right;\n",
       "    }\n",
       "</style>\n",
       "<table border=\"1\" class=\"dataframe\">\n",
       "  <thead>\n",
       "    <tr style=\"text-align: right;\">\n",
       "      <th></th>\n",
       "      <th>valence</th>\n",
       "      <th>year</th>\n",
       "      <th>acousticness</th>\n",
       "      <th>artists</th>\n",
       "      <th>danceability</th>\n",
       "      <th>duration_ms</th>\n",
       "      <th>energy</th>\n",
       "      <th>explicit</th>\n",
       "      <th>id</th>\n",
       "      <th>instrumentalness</th>\n",
       "      <th>key</th>\n",
       "      <th>liveness</th>\n",
       "      <th>loudness</th>\n",
       "      <th>mode</th>\n",
       "      <th>name</th>\n",
       "      <th>popularity</th>\n",
       "      <th>release_date</th>\n",
       "      <th>speechiness</th>\n",
       "      <th>tempo</th>\n",
       "    </tr>\n",
       "  </thead>\n",
       "  <tbody>\n",
       "    <tr>\n",
       "      <th>0</th>\n",
       "      <td>0</td>\n",
       "      <td>1921</td>\n",
       "      <td>0</td>\n",
       "      <td>['Sergei Rachmaninoff', 'James Levine', 'Berli...</td>\n",
       "      <td>0</td>\n",
       "      <td>831667.0</td>\n",
       "      <td>0</td>\n",
       "      <td>0.0</td>\n",
       "      <td>4BJqT0PrAfrxzMOxytFOIz</td>\n",
       "      <td>0.0</td>\n",
       "      <td>10.0</td>\n",
       "      <td>0</td>\n",
       "      <td>-20</td>\n",
       "      <td>1.0</td>\n",
       "      <td>Piano Concerto No. 3 in D Minor, Op. 30: III. ...</td>\n",
       "      <td>4.0</td>\n",
       "      <td>1921</td>\n",
       "      <td>0</td>\n",
       "      <td>80</td>\n",
       "    </tr>\n",
       "    <tr>\n",
       "      <th>1</th>\n",
       "      <td>0</td>\n",
       "      <td>1921</td>\n",
       "      <td>0</td>\n",
       "      <td>['Dennis Day']</td>\n",
       "      <td>0</td>\n",
       "      <td>180533.0</td>\n",
       "      <td>0</td>\n",
       "      <td>0.0</td>\n",
       "      <td>7xPhfUan2yNtyFG0cUWkt8</td>\n",
       "      <td>0.0</td>\n",
       "      <td>7.0</td>\n",
       "      <td>0</td>\n",
       "      <td>-12</td>\n",
       "      <td>1.0</td>\n",
       "      <td>Clancy Lowered the Boom</td>\n",
       "      <td>5.0</td>\n",
       "      <td>1921</td>\n",
       "      <td>0</td>\n",
       "      <td>60</td>\n",
       "    </tr>\n",
       "    <tr>\n",
       "      <th>2</th>\n",
       "      <td>0</td>\n",
       "      <td>1921</td>\n",
       "      <td>0</td>\n",
       "      <td>['KHP Kridhamardawa Karaton Ngayogyakarta Hadi...</td>\n",
       "      <td>0</td>\n",
       "      <td>500062.0</td>\n",
       "      <td>0</td>\n",
       "      <td>0.0</td>\n",
       "      <td>1o6I8BglA6ylDMrIELygv1</td>\n",
       "      <td>0.0</td>\n",
       "      <td>3.0</td>\n",
       "      <td>0</td>\n",
       "      <td>-14</td>\n",
       "      <td>1.0</td>\n",
       "      <td>Gati Bali</td>\n",
       "      <td>5.0</td>\n",
       "      <td>1921</td>\n",
       "      <td>0</td>\n",
       "      <td>110</td>\n",
       "    </tr>\n",
       "    <tr>\n",
       "      <th>3</th>\n",
       "      <td>0</td>\n",
       "      <td>1921</td>\n",
       "      <td>0</td>\n",
       "      <td>['Frank Parker']</td>\n",
       "      <td>0</td>\n",
       "      <td>210000.0</td>\n",
       "      <td>0</td>\n",
       "      <td>0.0</td>\n",
       "      <td>3ftBPsC5vPBKxYSee08FDH</td>\n",
       "      <td>NaN</td>\n",
       "      <td>5.0</td>\n",
       "      <td>0</td>\n",
       "      <td>-9</td>\n",
       "      <td>1.0</td>\n",
       "      <td>Danny Boy</td>\n",
       "      <td>3.0</td>\n",
       "      <td>1921</td>\n",
       "      <td>0</td>\n",
       "      <td>100</td>\n",
       "    </tr>\n",
       "    <tr>\n",
       "      <th>4</th>\n",
       "      <td>0</td>\n",
       "      <td>1921</td>\n",
       "      <td>0</td>\n",
       "      <td>['Phil Regan']</td>\n",
       "      <td>0</td>\n",
       "      <td>166693.0</td>\n",
       "      <td>0</td>\n",
       "      <td>0.0</td>\n",
       "      <td>4d6HGyGT8e121BsdKmw9v6</td>\n",
       "      <td>NaN</td>\n",
       "      <td>3.0</td>\n",
       "      <td>0</td>\n",
       "      <td>-10</td>\n",
       "      <td>1.0</td>\n",
       "      <td>When Irish Eyes Are Smiling</td>\n",
       "      <td>2.0</td>\n",
       "      <td>1921</td>\n",
       "      <td>0</td>\n",
       "      <td>101</td>\n",
       "    </tr>\n",
       "  </tbody>\n",
       "</table>\n",
       "</div>"
      ]
     },
     "metadata": {
      "application/vnd.databricks.v1+output": {
       "addedWidgets": {},
       "arguments": {},
       "data": "<div>\n<style scoped>\n    .dataframe tbody tr th:only-of-type {\n        vertical-align: middle;\n    }\n\n    .dataframe tbody tr th {\n        vertical-align: top;\n    }\n\n    .dataframe thead th {\n        text-align: right;\n    }\n</style>\n<table border=\"1\" class=\"dataframe\">\n  <thead>\n    <tr style=\"text-align: right;\">\n      <th></th>\n      <th>valence</th>\n      <th>year</th>\n      <th>acousticness</th>\n      <th>artists</th>\n      <th>danceability</th>\n      <th>duration_ms</th>\n      <th>energy</th>\n      <th>explicit</th>\n      <th>id</th>\n      <th>instrumentalness</th>\n      <th>key</th>\n      <th>liveness</th>\n      <th>loudness</th>\n      <th>mode</th>\n      <th>name</th>\n      <th>popularity</th>\n      <th>release_date</th>\n      <th>speechiness</th>\n      <th>tempo</th>\n    </tr>\n  </thead>\n  <tbody>\n    <tr>\n      <th>0</th>\n      <td>0</td>\n      <td>1921</td>\n      <td>0</td>\n      <td>['Sergei Rachmaninoff', 'James Levine', 'Berli...</td>\n      <td>0</td>\n      <td>831667.0</td>\n      <td>0</td>\n      <td>0.0</td>\n      <td>4BJqT0PrAfrxzMOxytFOIz</td>\n      <td>0.0</td>\n      <td>10.0</td>\n      <td>0</td>\n      <td>-20</td>\n      <td>1.0</td>\n      <td>Piano Concerto No. 3 in D Minor, Op. 30: III. ...</td>\n      <td>4.0</td>\n      <td>1921</td>\n      <td>0</td>\n      <td>80</td>\n    </tr>\n    <tr>\n      <th>1</th>\n      <td>0</td>\n      <td>1921</td>\n      <td>0</td>\n      <td>['Dennis Day']</td>\n      <td>0</td>\n      <td>180533.0</td>\n      <td>0</td>\n      <td>0.0</td>\n      <td>7xPhfUan2yNtyFG0cUWkt8</td>\n      <td>0.0</td>\n      <td>7.0</td>\n      <td>0</td>\n      <td>-12</td>\n      <td>1.0</td>\n      <td>Clancy Lowered the Boom</td>\n      <td>5.0</td>\n      <td>1921</td>\n      <td>0</td>\n      <td>60</td>\n    </tr>\n    <tr>\n      <th>2</th>\n      <td>0</td>\n      <td>1921</td>\n      <td>0</td>\n      <td>['KHP Kridhamardawa Karaton Ngayogyakarta Hadi...</td>\n      <td>0</td>\n      <td>500062.0</td>\n      <td>0</td>\n      <td>0.0</td>\n      <td>1o6I8BglA6ylDMrIELygv1</td>\n      <td>0.0</td>\n      <td>3.0</td>\n      <td>0</td>\n      <td>-14</td>\n      <td>1.0</td>\n      <td>Gati Bali</td>\n      <td>5.0</td>\n      <td>1921</td>\n      <td>0</td>\n      <td>110</td>\n    </tr>\n    <tr>\n      <th>3</th>\n      <td>0</td>\n      <td>1921</td>\n      <td>0</td>\n      <td>['Frank Parker']</td>\n      <td>0</td>\n      <td>210000.0</td>\n      <td>0</td>\n      <td>0.0</td>\n      <td>3ftBPsC5vPBKxYSee08FDH</td>\n      <td>NaN</td>\n      <td>5.0</td>\n      <td>0</td>\n      <td>-9</td>\n      <td>1.0</td>\n      <td>Danny Boy</td>\n      <td>3.0</td>\n      <td>1921</td>\n      <td>0</td>\n      <td>100</td>\n    </tr>\n    <tr>\n      <th>4</th>\n      <td>0</td>\n      <td>1921</td>\n      <td>0</td>\n      <td>['Phil Regan']</td>\n      <td>0</td>\n      <td>166693.0</td>\n      <td>0</td>\n      <td>0.0</td>\n      <td>4d6HGyGT8e121BsdKmw9v6</td>\n      <td>NaN</td>\n      <td>3.0</td>\n      <td>0</td>\n      <td>-10</td>\n      <td>1.0</td>\n      <td>When Irish Eyes Are Smiling</td>\n      <td>2.0</td>\n      <td>1921</td>\n      <td>0</td>\n      <td>101</td>\n    </tr>\n  </tbody>\n</table>\n</div>",
       "datasetInfos": [],
       "metadata": {},
       "removedWidgets": [],
       "textData": null,
       "type": "htmlSandbox"
      }
     },
     "output_type": "display_data"
    }
   ],
   "source": [
    "%python\n",
    "\n",
    "# Consultar dados\n",
    "# Notar que a coluna (artistas) tem diversos valores\n",
    "# Pela documentação isso quer dizer que uma música pode ter mais de um artista, ou seja, pode ser (1:N)\n",
    "\n",
    "df_consulta_01.head()"
   ]
  },
  {
   "cell_type": "markdown",
   "metadata": {
    "application/vnd.databricks.v1+cell": {
     "cellMetadata": {
      "byteLimit": 2048000,
      "rowLimit": 10000
     },
     "inputWidgets": {},
     "nuid": "6b804943-def0-4264-85a9-d716e2a593ae",
     "showTitle": false,
     "tableResultSettingsMap": {},
     "title": ""
    }
   },
   "source": [
    "\n",
    "## Tipo de uma coluna especifica"
   ]
  },
  {
   "cell_type": "code",
   "execution_count": 0,
   "metadata": {
    "application/vnd.databricks.v1+cell": {
     "cellMetadata": {
      "byteLimit": 2048000,
      "rowLimit": 10000
     },
     "inputWidgets": {},
     "nuid": "f78b6429-d403-4a78-8d0c-5ac2d8e17272",
     "showTitle": false,
     "tableResultSettingsMap": {},
     "title": ""
    }
   },
   "outputs": [
    {
     "output_type": "stream",
     "name": "stdout",
     "output_type": "stream",
     "text": [
      "Out[17]: str"
     ]
    }
   ],
   "source": [
    "%python\n",
    "\n",
    "# Verificar o tipo de uma coluna especifica\n",
    "\n",
    "type(df_consulta_01.artists.iloc[0])"
   ]
  },
  {
   "cell_type": "markdown",
   "metadata": {
    "application/vnd.databricks.v1+cell": {
     "cellMetadata": {
      "byteLimit": 2048000,
      "rowLimit": 10000
     },
     "inputWidgets": {},
     "nuid": "09d31e9a-474e-46bd-abe7-48014fd9c266",
     "showTitle": false,
     "tableResultSettingsMap": {},
     "title": ""
    }
   },
   "source": [
    "\n",
    "## Amostras de dados"
   ]
  },
  {
   "cell_type": "code",
   "execution_count": 0,
   "metadata": {
    "application/vnd.databricks.v1+cell": {
     "cellMetadata": {
      "byteLimit": 2048000,
      "rowLimit": 10000
     },
     "inputWidgets": {},
     "nuid": "5e6024d9-46ab-4cb6-a226-fad183466f24",
     "showTitle": false,
     "tableResultSettingsMap": {},
     "title": ""
    }
   },
   "outputs": [
    {
     "output_type": "display_data",
     "data": {
      "text/html": [
       "<div>\n",
       "<style scoped>\n",
       "    .dataframe tbody tr th:only-of-type {\n",
       "        vertical-align: middle;\n",
       "    }\n",
       "\n",
       "    .dataframe tbody tr th {\n",
       "        vertical-align: top;\n",
       "    }\n",
       "\n",
       "    .dataframe thead th {\n",
       "        text-align: right;\n",
       "    }\n",
       "</style>\n",
       "<table border=\"1\" class=\"dataframe\">\n",
       "  <thead>\n",
       "    <tr style=\"text-align: right;\">\n",
       "      <th></th>\n",
       "      <th>valence</th>\n",
       "      <th>year</th>\n",
       "      <th>acousticness</th>\n",
       "      <th>artists</th>\n",
       "      <th>danceability</th>\n",
       "      <th>duration_ms</th>\n",
       "      <th>energy</th>\n",
       "      <th>explicit</th>\n",
       "      <th>id</th>\n",
       "      <th>instrumentalness</th>\n",
       "      <th>key</th>\n",
       "      <th>liveness</th>\n",
       "      <th>loudness</th>\n",
       "      <th>mode</th>\n",
       "      <th>name</th>\n",
       "      <th>popularity</th>\n",
       "      <th>release_date</th>\n",
       "      <th>speechiness</th>\n",
       "      <th>tempo</th>\n",
       "    </tr>\n",
       "  </thead>\n",
       "  <tbody>\n",
       "    <tr>\n",
       "      <th>0</th>\n",
       "      <td>0</td>\n",
       "      <td>1921</td>\n",
       "      <td>0</td>\n",
       "      <td>['Sergei Rachmaninoff', 'James Levine', 'Berli...</td>\n",
       "      <td>0</td>\n",
       "      <td>831667.0</td>\n",
       "      <td>0</td>\n",
       "      <td>0.0</td>\n",
       "      <td>4BJqT0PrAfrxzMOxytFOIz</td>\n",
       "      <td>0.0</td>\n",
       "      <td>10.0</td>\n",
       "      <td>0</td>\n",
       "      <td>-20</td>\n",
       "      <td>1.0</td>\n",
       "      <td>Piano Concerto No. 3 in D Minor, Op. 30: III. ...</td>\n",
       "      <td>4.0</td>\n",
       "      <td>1921</td>\n",
       "      <td>0</td>\n",
       "      <td>80</td>\n",
       "    </tr>\n",
       "    <tr>\n",
       "      <th>1</th>\n",
       "      <td>0</td>\n",
       "      <td>1921</td>\n",
       "      <td>0</td>\n",
       "      <td>['Dennis Day']</td>\n",
       "      <td>0</td>\n",
       "      <td>180533.0</td>\n",
       "      <td>0</td>\n",
       "      <td>0.0</td>\n",
       "      <td>7xPhfUan2yNtyFG0cUWkt8</td>\n",
       "      <td>0.0</td>\n",
       "      <td>7.0</td>\n",
       "      <td>0</td>\n",
       "      <td>-12</td>\n",
       "      <td>1.0</td>\n",
       "      <td>Clancy Lowered the Boom</td>\n",
       "      <td>5.0</td>\n",
       "      <td>1921</td>\n",
       "      <td>0</td>\n",
       "      <td>60</td>\n",
       "    </tr>\n",
       "    <tr>\n",
       "      <th>2</th>\n",
       "      <td>0</td>\n",
       "      <td>1921</td>\n",
       "      <td>0</td>\n",
       "      <td>['KHP Kridhamardawa Karaton Ngayogyakarta Hadi...</td>\n",
       "      <td>0</td>\n",
       "      <td>500062.0</td>\n",
       "      <td>0</td>\n",
       "      <td>0.0</td>\n",
       "      <td>1o6I8BglA6ylDMrIELygv1</td>\n",
       "      <td>0.0</td>\n",
       "      <td>3.0</td>\n",
       "      <td>0</td>\n",
       "      <td>-14</td>\n",
       "      <td>1.0</td>\n",
       "      <td>Gati Bali</td>\n",
       "      <td>5.0</td>\n",
       "      <td>1921</td>\n",
       "      <td>0</td>\n",
       "      <td>110</td>\n",
       "    </tr>\n",
       "    <tr>\n",
       "      <th>3</th>\n",
       "      <td>0</td>\n",
       "      <td>1921</td>\n",
       "      <td>0</td>\n",
       "      <td>['Frank Parker']</td>\n",
       "      <td>0</td>\n",
       "      <td>210000.0</td>\n",
       "      <td>0</td>\n",
       "      <td>0.0</td>\n",
       "      <td>3ftBPsC5vPBKxYSee08FDH</td>\n",
       "      <td>NaN</td>\n",
       "      <td>5.0</td>\n",
       "      <td>0</td>\n",
       "      <td>-9</td>\n",
       "      <td>1.0</td>\n",
       "      <td>Danny Boy</td>\n",
       "      <td>3.0</td>\n",
       "      <td>1921</td>\n",
       "      <td>0</td>\n",
       "      <td>100</td>\n",
       "    </tr>\n",
       "    <tr>\n",
       "      <th>4</th>\n",
       "      <td>0</td>\n",
       "      <td>1921</td>\n",
       "      <td>0</td>\n",
       "      <td>['Phil Regan']</td>\n",
       "      <td>0</td>\n",
       "      <td>166693.0</td>\n",
       "      <td>0</td>\n",
       "      <td>0.0</td>\n",
       "      <td>4d6HGyGT8e121BsdKmw9v6</td>\n",
       "      <td>NaN</td>\n",
       "      <td>3.0</td>\n",
       "      <td>0</td>\n",
       "      <td>-10</td>\n",
       "      <td>1.0</td>\n",
       "      <td>When Irish Eyes Are Smiling</td>\n",
       "      <td>2.0</td>\n",
       "      <td>1921</td>\n",
       "      <td>0</td>\n",
       "      <td>101</td>\n",
       "    </tr>\n",
       "  </tbody>\n",
       "</table>\n",
       "</div>"
      ]
     },
     "metadata": {
      "application/vnd.databricks.v1+output": {
       "addedWidgets": {},
       "arguments": {},
       "data": "<div>\n<style scoped>\n    .dataframe tbody tr th:only-of-type {\n        vertical-align: middle;\n    }\n\n    .dataframe tbody tr th {\n        vertical-align: top;\n    }\n\n    .dataframe thead th {\n        text-align: right;\n    }\n</style>\n<table border=\"1\" class=\"dataframe\">\n  <thead>\n    <tr style=\"text-align: right;\">\n      <th></th>\n      <th>valence</th>\n      <th>year</th>\n      <th>acousticness</th>\n      <th>artists</th>\n      <th>danceability</th>\n      <th>duration_ms</th>\n      <th>energy</th>\n      <th>explicit</th>\n      <th>id</th>\n      <th>instrumentalness</th>\n      <th>key</th>\n      <th>liveness</th>\n      <th>loudness</th>\n      <th>mode</th>\n      <th>name</th>\n      <th>popularity</th>\n      <th>release_date</th>\n      <th>speechiness</th>\n      <th>tempo</th>\n    </tr>\n  </thead>\n  <tbody>\n    <tr>\n      <th>0</th>\n      <td>0</td>\n      <td>1921</td>\n      <td>0</td>\n      <td>['Sergei Rachmaninoff', 'James Levine', 'Berli...</td>\n      <td>0</td>\n      <td>831667.0</td>\n      <td>0</td>\n      <td>0.0</td>\n      <td>4BJqT0PrAfrxzMOxytFOIz</td>\n      <td>0.0</td>\n      <td>10.0</td>\n      <td>0</td>\n      <td>-20</td>\n      <td>1.0</td>\n      <td>Piano Concerto No. 3 in D Minor, Op. 30: III. ...</td>\n      <td>4.0</td>\n      <td>1921</td>\n      <td>0</td>\n      <td>80</td>\n    </tr>\n    <tr>\n      <th>1</th>\n      <td>0</td>\n      <td>1921</td>\n      <td>0</td>\n      <td>['Dennis Day']</td>\n      <td>0</td>\n      <td>180533.0</td>\n      <td>0</td>\n      <td>0.0</td>\n      <td>7xPhfUan2yNtyFG0cUWkt8</td>\n      <td>0.0</td>\n      <td>7.0</td>\n      <td>0</td>\n      <td>-12</td>\n      <td>1.0</td>\n      <td>Clancy Lowered the Boom</td>\n      <td>5.0</td>\n      <td>1921</td>\n      <td>0</td>\n      <td>60</td>\n    </tr>\n    <tr>\n      <th>2</th>\n      <td>0</td>\n      <td>1921</td>\n      <td>0</td>\n      <td>['KHP Kridhamardawa Karaton Ngayogyakarta Hadi...</td>\n      <td>0</td>\n      <td>500062.0</td>\n      <td>0</td>\n      <td>0.0</td>\n      <td>1o6I8BglA6ylDMrIELygv1</td>\n      <td>0.0</td>\n      <td>3.0</td>\n      <td>0</td>\n      <td>-14</td>\n      <td>1.0</td>\n      <td>Gati Bali</td>\n      <td>5.0</td>\n      <td>1921</td>\n      <td>0</td>\n      <td>110</td>\n    </tr>\n    <tr>\n      <th>3</th>\n      <td>0</td>\n      <td>1921</td>\n      <td>0</td>\n      <td>['Frank Parker']</td>\n      <td>0</td>\n      <td>210000.0</td>\n      <td>0</td>\n      <td>0.0</td>\n      <td>3ftBPsC5vPBKxYSee08FDH</td>\n      <td>NaN</td>\n      <td>5.0</td>\n      <td>0</td>\n      <td>-9</td>\n      <td>1.0</td>\n      <td>Danny Boy</td>\n      <td>3.0</td>\n      <td>1921</td>\n      <td>0</td>\n      <td>100</td>\n    </tr>\n    <tr>\n      <th>4</th>\n      <td>0</td>\n      <td>1921</td>\n      <td>0</td>\n      <td>['Phil Regan']</td>\n      <td>0</td>\n      <td>166693.0</td>\n      <td>0</td>\n      <td>0.0</td>\n      <td>4d6HGyGT8e121BsdKmw9v6</td>\n      <td>NaN</td>\n      <td>3.0</td>\n      <td>0</td>\n      <td>-10</td>\n      <td>1.0</td>\n      <td>When Irish Eyes Are Smiling</td>\n      <td>2.0</td>\n      <td>1921</td>\n      <td>0</td>\n      <td>101</td>\n    </tr>\n  </tbody>\n</table>\n</div>",
       "datasetInfos": [],
       "metadata": {},
       "removedWidgets": [],
       "textData": null,
       "type": "htmlSandbox"
      }
     },
     "output_type": "display_data"
    }
   ],
   "source": [
    "%python\n",
    "\n",
    "# Geração de uma amostra de dados\n",
    "\n",
    "x = df_consulta_01.iloc[0:5]\n",
    "x"
   ]
  },
  {
   "cell_type": "markdown",
   "metadata": {
    "application/vnd.databricks.v1+cell": {
     "cellMetadata": {},
     "inputWidgets": {},
     "nuid": "dcb8f2b1-c7c5-4612-8ac0-396125cddd6d",
     "showTitle": false,
     "tableResultSettingsMap": {},
     "title": ""
    }
   },
   "source": [
    "\n",
    "## Tratamento de coluna (amostra)"
   ]
  },
  {
   "cell_type": "code",
   "execution_count": 0,
   "metadata": {
    "application/vnd.databricks.v1+cell": {
     "cellMetadata": {
      "byteLimit": 2048000,
      "rowLimit": 10000
     },
     "inputWidgets": {},
     "nuid": "6bdf204c-2dc7-4f57-94b2-2ffae9da4b29",
     "showTitle": false,
     "tableResultSettingsMap": {},
     "title": ""
    }
   },
   "outputs": [
    {
     "output_type": "display_data",
     "data": {
      "text/html": [
       "<div>\n",
       "<style scoped>\n",
       "    .dataframe tbody tr th:only-of-type {\n",
       "        vertical-align: middle;\n",
       "    }\n",
       "\n",
       "    .dataframe tbody tr th {\n",
       "        vertical-align: top;\n",
       "    }\n",
       "\n",
       "    .dataframe thead th {\n",
       "        text-align: right;\n",
       "    }\n",
       "</style>\n",
       "<table border=\"1\" class=\"dataframe\">\n",
       "  <thead>\n",
       "    <tr style=\"text-align: right;\">\n",
       "      <th></th>\n",
       "      <th>valence</th>\n",
       "      <th>year</th>\n",
       "      <th>acousticness</th>\n",
       "      <th>artists</th>\n",
       "      <th>danceability</th>\n",
       "      <th>duration_ms</th>\n",
       "      <th>energy</th>\n",
       "      <th>explicit</th>\n",
       "      <th>id</th>\n",
       "      <th>instrumentalness</th>\n",
       "      <th>key</th>\n",
       "      <th>liveness</th>\n",
       "      <th>loudness</th>\n",
       "      <th>mode</th>\n",
       "      <th>name</th>\n",
       "      <th>popularity</th>\n",
       "      <th>release_date</th>\n",
       "      <th>speechiness</th>\n",
       "      <th>tempo</th>\n",
       "    </tr>\n",
       "  </thead>\n",
       "  <tbody>\n",
       "    <tr>\n",
       "      <th>0</th>\n",
       "      <td>0</td>\n",
       "      <td>1921</td>\n",
       "      <td>0</td>\n",
       "      <td>Sergei Rachmaninoff; James Levine; Berliner Ph...</td>\n",
       "      <td>0</td>\n",
       "      <td>831667.0</td>\n",
       "      <td>0</td>\n",
       "      <td>0.0</td>\n",
       "      <td>4BJqT0PrAfrxzMOxytFOIz</td>\n",
       "      <td>0.0</td>\n",
       "      <td>10.0</td>\n",
       "      <td>0</td>\n",
       "      <td>-20</td>\n",
       "      <td>1.0</td>\n",
       "      <td>Piano Concerto No. 3 in D Minor, Op. 30: III. ...</td>\n",
       "      <td>4.0</td>\n",
       "      <td>1921</td>\n",
       "      <td>0</td>\n",
       "      <td>80</td>\n",
       "    </tr>\n",
       "    <tr>\n",
       "      <th>1</th>\n",
       "      <td>0</td>\n",
       "      <td>1921</td>\n",
       "      <td>0</td>\n",
       "      <td>Dennis Day</td>\n",
       "      <td>0</td>\n",
       "      <td>180533.0</td>\n",
       "      <td>0</td>\n",
       "      <td>0.0</td>\n",
       "      <td>7xPhfUan2yNtyFG0cUWkt8</td>\n",
       "      <td>0.0</td>\n",
       "      <td>7.0</td>\n",
       "      <td>0</td>\n",
       "      <td>-12</td>\n",
       "      <td>1.0</td>\n",
       "      <td>Clancy Lowered the Boom</td>\n",
       "      <td>5.0</td>\n",
       "      <td>1921</td>\n",
       "      <td>0</td>\n",
       "      <td>60</td>\n",
       "    </tr>\n",
       "    <tr>\n",
       "      <th>2</th>\n",
       "      <td>0</td>\n",
       "      <td>1921</td>\n",
       "      <td>0</td>\n",
       "      <td>KHP Kridhamardawa Karaton Ngayogyakarta Hadini...</td>\n",
       "      <td>0</td>\n",
       "      <td>500062.0</td>\n",
       "      <td>0</td>\n",
       "      <td>0.0</td>\n",
       "      <td>1o6I8BglA6ylDMrIELygv1</td>\n",
       "      <td>0.0</td>\n",
       "      <td>3.0</td>\n",
       "      <td>0</td>\n",
       "      <td>-14</td>\n",
       "      <td>1.0</td>\n",
       "      <td>Gati Bali</td>\n",
       "      <td>5.0</td>\n",
       "      <td>1921</td>\n",
       "      <td>0</td>\n",
       "      <td>110</td>\n",
       "    </tr>\n",
       "    <tr>\n",
       "      <th>3</th>\n",
       "      <td>0</td>\n",
       "      <td>1921</td>\n",
       "      <td>0</td>\n",
       "      <td>Frank Parker</td>\n",
       "      <td>0</td>\n",
       "      <td>210000.0</td>\n",
       "      <td>0</td>\n",
       "      <td>0.0</td>\n",
       "      <td>3ftBPsC5vPBKxYSee08FDH</td>\n",
       "      <td>NaN</td>\n",
       "      <td>5.0</td>\n",
       "      <td>0</td>\n",
       "      <td>-9</td>\n",
       "      <td>1.0</td>\n",
       "      <td>Danny Boy</td>\n",
       "      <td>3.0</td>\n",
       "      <td>1921</td>\n",
       "      <td>0</td>\n",
       "      <td>100</td>\n",
       "    </tr>\n",
       "    <tr>\n",
       "      <th>4</th>\n",
       "      <td>0</td>\n",
       "      <td>1921</td>\n",
       "      <td>0</td>\n",
       "      <td>Phil Regan</td>\n",
       "      <td>0</td>\n",
       "      <td>166693.0</td>\n",
       "      <td>0</td>\n",
       "      <td>0.0</td>\n",
       "      <td>4d6HGyGT8e121BsdKmw9v6</td>\n",
       "      <td>NaN</td>\n",
       "      <td>3.0</td>\n",
       "      <td>0</td>\n",
       "      <td>-10</td>\n",
       "      <td>1.0</td>\n",
       "      <td>When Irish Eyes Are Smiling</td>\n",
       "      <td>2.0</td>\n",
       "      <td>1921</td>\n",
       "      <td>0</td>\n",
       "      <td>101</td>\n",
       "    </tr>\n",
       "  </tbody>\n",
       "</table>\n",
       "</div>"
      ]
     },
     "metadata": {
      "application/vnd.databricks.v1+output": {
       "addedWidgets": {},
       "arguments": {},
       "data": "<div>\n<style scoped>\n    .dataframe tbody tr th:only-of-type {\n        vertical-align: middle;\n    }\n\n    .dataframe tbody tr th {\n        vertical-align: top;\n    }\n\n    .dataframe thead th {\n        text-align: right;\n    }\n</style>\n<table border=\"1\" class=\"dataframe\">\n  <thead>\n    <tr style=\"text-align: right;\">\n      <th></th>\n      <th>valence</th>\n      <th>year</th>\n      <th>acousticness</th>\n      <th>artists</th>\n      <th>danceability</th>\n      <th>duration_ms</th>\n      <th>energy</th>\n      <th>explicit</th>\n      <th>id</th>\n      <th>instrumentalness</th>\n      <th>key</th>\n      <th>liveness</th>\n      <th>loudness</th>\n      <th>mode</th>\n      <th>name</th>\n      <th>popularity</th>\n      <th>release_date</th>\n      <th>speechiness</th>\n      <th>tempo</th>\n    </tr>\n  </thead>\n  <tbody>\n    <tr>\n      <th>0</th>\n      <td>0</td>\n      <td>1921</td>\n      <td>0</td>\n      <td>Sergei Rachmaninoff; James Levine; Berliner Ph...</td>\n      <td>0</td>\n      <td>831667.0</td>\n      <td>0</td>\n      <td>0.0</td>\n      <td>4BJqT0PrAfrxzMOxytFOIz</td>\n      <td>0.0</td>\n      <td>10.0</td>\n      <td>0</td>\n      <td>-20</td>\n      <td>1.0</td>\n      <td>Piano Concerto No. 3 in D Minor, Op. 30: III. ...</td>\n      <td>4.0</td>\n      <td>1921</td>\n      <td>0</td>\n      <td>80</td>\n    </tr>\n    <tr>\n      <th>1</th>\n      <td>0</td>\n      <td>1921</td>\n      <td>0</td>\n      <td>Dennis Day</td>\n      <td>0</td>\n      <td>180533.0</td>\n      <td>0</td>\n      <td>0.0</td>\n      <td>7xPhfUan2yNtyFG0cUWkt8</td>\n      <td>0.0</td>\n      <td>7.0</td>\n      <td>0</td>\n      <td>-12</td>\n      <td>1.0</td>\n      <td>Clancy Lowered the Boom</td>\n      <td>5.0</td>\n      <td>1921</td>\n      <td>0</td>\n      <td>60</td>\n    </tr>\n    <tr>\n      <th>2</th>\n      <td>0</td>\n      <td>1921</td>\n      <td>0</td>\n      <td>KHP Kridhamardawa Karaton Ngayogyakarta Hadini...</td>\n      <td>0</td>\n      <td>500062.0</td>\n      <td>0</td>\n      <td>0.0</td>\n      <td>1o6I8BglA6ylDMrIELygv1</td>\n      <td>0.0</td>\n      <td>3.0</td>\n      <td>0</td>\n      <td>-14</td>\n      <td>1.0</td>\n      <td>Gati Bali</td>\n      <td>5.0</td>\n      <td>1921</td>\n      <td>0</td>\n      <td>110</td>\n    </tr>\n    <tr>\n      <th>3</th>\n      <td>0</td>\n      <td>1921</td>\n      <td>0</td>\n      <td>Frank Parker</td>\n      <td>0</td>\n      <td>210000.0</td>\n      <td>0</td>\n      <td>0.0</td>\n      <td>3ftBPsC5vPBKxYSee08FDH</td>\n      <td>NaN</td>\n      <td>5.0</td>\n      <td>0</td>\n      <td>-9</td>\n      <td>1.0</td>\n      <td>Danny Boy</td>\n      <td>3.0</td>\n      <td>1921</td>\n      <td>0</td>\n      <td>100</td>\n    </tr>\n    <tr>\n      <th>4</th>\n      <td>0</td>\n      <td>1921</td>\n      <td>0</td>\n      <td>Phil Regan</td>\n      <td>0</td>\n      <td>166693.0</td>\n      <td>0</td>\n      <td>0.0</td>\n      <td>4d6HGyGT8e121BsdKmw9v6</td>\n      <td>NaN</td>\n      <td>3.0</td>\n      <td>0</td>\n      <td>-10</td>\n      <td>1.0</td>\n      <td>When Irish Eyes Are Smiling</td>\n      <td>2.0</td>\n      <td>1921</td>\n      <td>0</td>\n      <td>101</td>\n    </tr>\n  </tbody>\n</table>\n</div>",
       "datasetInfos": [],
       "metadata": {},
       "removedWidgets": [],
       "textData": null,
       "type": "htmlSandbox"
      }
     },
     "output_type": "display_data"
    }
   ],
   "source": [
    "%python\n",
    "\n",
    "# Tratamento de uma determinada coluna em uma amostra de dados do dataframe\n",
    "\n",
    "x['artists'] = x.artists.str.replace(\"\\[|\\]|\\'\", '')\n",
    "x['artists'] = x.artists.str.replace(',', ';')\n",
    "x"
   ]
  },
  {
   "cell_type": "markdown",
   "metadata": {
    "application/vnd.databricks.v1+cell": {
     "cellMetadata": {},
     "inputWidgets": {},
     "nuid": "f642a847-f7e9-48a4-a0ce-5f5f466c4366",
     "showTitle": false,
     "tableResultSettingsMap": {},
     "title": ""
    }
   },
   "source": [
    "\n",
    "## Tratamento de coluna (total)"
   ]
  },
  {
   "cell_type": "code",
   "execution_count": 0,
   "metadata": {
    "application/vnd.databricks.v1+cell": {
     "cellMetadata": {
      "byteLimit": 2048000,
      "rowLimit": 10000
     },
     "inputWidgets": {},
     "nuid": "9685a3a3-3b70-4602-875c-d521f573eca4",
     "showTitle": false,
     "tableResultSettingsMap": {},
     "title": ""
    }
   },
   "outputs": [
    {
     "output_type": "display_data",
     "data": {
      "text/html": [
       "<div>\n",
       "<style scoped>\n",
       "    .dataframe tbody tr th:only-of-type {\n",
       "        vertical-align: middle;\n",
       "    }\n",
       "\n",
       "    .dataframe tbody tr th {\n",
       "        vertical-align: top;\n",
       "    }\n",
       "\n",
       "    .dataframe thead th {\n",
       "        text-align: right;\n",
       "    }\n",
       "</style>\n",
       "<table border=\"1\" class=\"dataframe\">\n",
       "  <thead>\n",
       "    <tr style=\"text-align: right;\">\n",
       "      <th></th>\n",
       "      <th>valence</th>\n",
       "      <th>year</th>\n",
       "      <th>acousticness</th>\n",
       "      <th>artists</th>\n",
       "      <th>danceability</th>\n",
       "      <th>duration_ms</th>\n",
       "      <th>energy</th>\n",
       "      <th>explicit</th>\n",
       "      <th>id</th>\n",
       "      <th>instrumentalness</th>\n",
       "      <th>key</th>\n",
       "      <th>liveness</th>\n",
       "      <th>loudness</th>\n",
       "      <th>mode</th>\n",
       "      <th>name</th>\n",
       "      <th>popularity</th>\n",
       "      <th>release_date</th>\n",
       "      <th>speechiness</th>\n",
       "      <th>tempo</th>\n",
       "    </tr>\n",
       "  </thead>\n",
       "  <tbody>\n",
       "    <tr>\n",
       "      <th>0</th>\n",
       "      <td>0</td>\n",
       "      <td>1921</td>\n",
       "      <td>0</td>\n",
       "      <td>Sergei Rachmaninoff; James Levine; Berliner Ph...</td>\n",
       "      <td>0</td>\n",
       "      <td>831667.0</td>\n",
       "      <td>0</td>\n",
       "      <td>0.0</td>\n",
       "      <td>4BJqT0PrAfrxzMOxytFOIz</td>\n",
       "      <td>0.0</td>\n",
       "      <td>10.0</td>\n",
       "      <td>0</td>\n",
       "      <td>-20</td>\n",
       "      <td>1.0</td>\n",
       "      <td>Piano Concerto No. 3 in D Minor, Op. 30: III. ...</td>\n",
       "      <td>4.0</td>\n",
       "      <td>1921</td>\n",
       "      <td>0</td>\n",
       "      <td>80</td>\n",
       "    </tr>\n",
       "    <tr>\n",
       "      <th>1</th>\n",
       "      <td>0</td>\n",
       "      <td>1921</td>\n",
       "      <td>0</td>\n",
       "      <td>Dennis Day</td>\n",
       "      <td>0</td>\n",
       "      <td>180533.0</td>\n",
       "      <td>0</td>\n",
       "      <td>0.0</td>\n",
       "      <td>7xPhfUan2yNtyFG0cUWkt8</td>\n",
       "      <td>0.0</td>\n",
       "      <td>7.0</td>\n",
       "      <td>0</td>\n",
       "      <td>-12</td>\n",
       "      <td>1.0</td>\n",
       "      <td>Clancy Lowered the Boom</td>\n",
       "      <td>5.0</td>\n",
       "      <td>1921</td>\n",
       "      <td>0</td>\n",
       "      <td>60</td>\n",
       "    </tr>\n",
       "    <tr>\n",
       "      <th>2</th>\n",
       "      <td>0</td>\n",
       "      <td>1921</td>\n",
       "      <td>0</td>\n",
       "      <td>KHP Kridhamardawa Karaton Ngayogyakarta Hadini...</td>\n",
       "      <td>0</td>\n",
       "      <td>500062.0</td>\n",
       "      <td>0</td>\n",
       "      <td>0.0</td>\n",
       "      <td>1o6I8BglA6ylDMrIELygv1</td>\n",
       "      <td>0.0</td>\n",
       "      <td>3.0</td>\n",
       "      <td>0</td>\n",
       "      <td>-14</td>\n",
       "      <td>1.0</td>\n",
       "      <td>Gati Bali</td>\n",
       "      <td>5.0</td>\n",
       "      <td>1921</td>\n",
       "      <td>0</td>\n",
       "      <td>110</td>\n",
       "    </tr>\n",
       "    <tr>\n",
       "      <th>3</th>\n",
       "      <td>0</td>\n",
       "      <td>1921</td>\n",
       "      <td>0</td>\n",
       "      <td>Frank Parker</td>\n",
       "      <td>0</td>\n",
       "      <td>210000.0</td>\n",
       "      <td>0</td>\n",
       "      <td>0.0</td>\n",
       "      <td>3ftBPsC5vPBKxYSee08FDH</td>\n",
       "      <td>NaN</td>\n",
       "      <td>5.0</td>\n",
       "      <td>0</td>\n",
       "      <td>-9</td>\n",
       "      <td>1.0</td>\n",
       "      <td>Danny Boy</td>\n",
       "      <td>3.0</td>\n",
       "      <td>1921</td>\n",
       "      <td>0</td>\n",
       "      <td>100</td>\n",
       "    </tr>\n",
       "    <tr>\n",
       "      <th>4</th>\n",
       "      <td>0</td>\n",
       "      <td>1921</td>\n",
       "      <td>0</td>\n",
       "      <td>Phil Regan</td>\n",
       "      <td>0</td>\n",
       "      <td>166693.0</td>\n",
       "      <td>0</td>\n",
       "      <td>0.0</td>\n",
       "      <td>4d6HGyGT8e121BsdKmw9v6</td>\n",
       "      <td>NaN</td>\n",
       "      <td>3.0</td>\n",
       "      <td>0</td>\n",
       "      <td>-10</td>\n",
       "      <td>1.0</td>\n",
       "      <td>When Irish Eyes Are Smiling</td>\n",
       "      <td>2.0</td>\n",
       "      <td>1921</td>\n",
       "      <td>0</td>\n",
       "      <td>101</td>\n",
       "    </tr>\n",
       "  </tbody>\n",
       "</table>\n",
       "</div>"
      ]
     },
     "metadata": {
      "application/vnd.databricks.v1+output": {
       "addedWidgets": {},
       "arguments": {},
       "data": "<div>\n<style scoped>\n    .dataframe tbody tr th:only-of-type {\n        vertical-align: middle;\n    }\n\n    .dataframe tbody tr th {\n        vertical-align: top;\n    }\n\n    .dataframe thead th {\n        text-align: right;\n    }\n</style>\n<table border=\"1\" class=\"dataframe\">\n  <thead>\n    <tr style=\"text-align: right;\">\n      <th></th>\n      <th>valence</th>\n      <th>year</th>\n      <th>acousticness</th>\n      <th>artists</th>\n      <th>danceability</th>\n      <th>duration_ms</th>\n      <th>energy</th>\n      <th>explicit</th>\n      <th>id</th>\n      <th>instrumentalness</th>\n      <th>key</th>\n      <th>liveness</th>\n      <th>loudness</th>\n      <th>mode</th>\n      <th>name</th>\n      <th>popularity</th>\n      <th>release_date</th>\n      <th>speechiness</th>\n      <th>tempo</th>\n    </tr>\n  </thead>\n  <tbody>\n    <tr>\n      <th>0</th>\n      <td>0</td>\n      <td>1921</td>\n      <td>0</td>\n      <td>Sergei Rachmaninoff; James Levine; Berliner Ph...</td>\n      <td>0</td>\n      <td>831667.0</td>\n      <td>0</td>\n      <td>0.0</td>\n      <td>4BJqT0PrAfrxzMOxytFOIz</td>\n      <td>0.0</td>\n      <td>10.0</td>\n      <td>0</td>\n      <td>-20</td>\n      <td>1.0</td>\n      <td>Piano Concerto No. 3 in D Minor, Op. 30: III. ...</td>\n      <td>4.0</td>\n      <td>1921</td>\n      <td>0</td>\n      <td>80</td>\n    </tr>\n    <tr>\n      <th>1</th>\n      <td>0</td>\n      <td>1921</td>\n      <td>0</td>\n      <td>Dennis Day</td>\n      <td>0</td>\n      <td>180533.0</td>\n      <td>0</td>\n      <td>0.0</td>\n      <td>7xPhfUan2yNtyFG0cUWkt8</td>\n      <td>0.0</td>\n      <td>7.0</td>\n      <td>0</td>\n      <td>-12</td>\n      <td>1.0</td>\n      <td>Clancy Lowered the Boom</td>\n      <td>5.0</td>\n      <td>1921</td>\n      <td>0</td>\n      <td>60</td>\n    </tr>\n    <tr>\n      <th>2</th>\n      <td>0</td>\n      <td>1921</td>\n      <td>0</td>\n      <td>KHP Kridhamardawa Karaton Ngayogyakarta Hadini...</td>\n      <td>0</td>\n      <td>500062.0</td>\n      <td>0</td>\n      <td>0.0</td>\n      <td>1o6I8BglA6ylDMrIELygv1</td>\n      <td>0.0</td>\n      <td>3.0</td>\n      <td>0</td>\n      <td>-14</td>\n      <td>1.0</td>\n      <td>Gati Bali</td>\n      <td>5.0</td>\n      <td>1921</td>\n      <td>0</td>\n      <td>110</td>\n    </tr>\n    <tr>\n      <th>3</th>\n      <td>0</td>\n      <td>1921</td>\n      <td>0</td>\n      <td>Frank Parker</td>\n      <td>0</td>\n      <td>210000.0</td>\n      <td>0</td>\n      <td>0.0</td>\n      <td>3ftBPsC5vPBKxYSee08FDH</td>\n      <td>NaN</td>\n      <td>5.0</td>\n      <td>0</td>\n      <td>-9</td>\n      <td>1.0</td>\n      <td>Danny Boy</td>\n      <td>3.0</td>\n      <td>1921</td>\n      <td>0</td>\n      <td>100</td>\n    </tr>\n    <tr>\n      <th>4</th>\n      <td>0</td>\n      <td>1921</td>\n      <td>0</td>\n      <td>Phil Regan</td>\n      <td>0</td>\n      <td>166693.0</td>\n      <td>0</td>\n      <td>0.0</td>\n      <td>4d6HGyGT8e121BsdKmw9v6</td>\n      <td>NaN</td>\n      <td>3.0</td>\n      <td>0</td>\n      <td>-10</td>\n      <td>1.0</td>\n      <td>When Irish Eyes Are Smiling</td>\n      <td>2.0</td>\n      <td>1921</td>\n      <td>0</td>\n      <td>101</td>\n    </tr>\n  </tbody>\n</table>\n</div>",
       "datasetInfos": [],
       "metadata": {},
       "removedWidgets": [],
       "textData": null,
       "type": "htmlSandbox"
      }
     },
     "output_type": "display_data"
    }
   ],
   "source": [
    "%python\n",
    "\n",
    "# Tratamento de uma coluna em todo o dataframe\n",
    "\n",
    "df_consulta_01['artists'] = df_consulta_01.artists.str.replace(\"\\[|\\]|\\'\", '')\n",
    "df_consulta_01['artists'] = df_consulta_01.artists.str.replace(',', ';')\n",
    "df_consulta_01.head()"
   ]
  },
  {
   "cell_type": "markdown",
   "metadata": {
    "application/vnd.databricks.v1+cell": {
     "cellMetadata": {},
     "inputWidgets": {},
     "nuid": "2a545879-3f04-484f-bd6b-2f3230dce2e8",
     "showTitle": false,
     "tableResultSettingsMap": {},
     "title": ""
    }
   },
   "source": [
    "\n",
    "## Salvar dados tratados (parquet)"
   ]
  },
  {
   "cell_type": "code",
   "execution_count": 0,
   "metadata": {
    "application/vnd.databricks.v1+cell": {
     "cellMetadata": {
      "byteLimit": 2048000,
      "rowLimit": 10000
     },
     "inputWidgets": {},
     "nuid": "9a4b3055-cdf0-4296-911c-f37988630ad9",
     "showTitle": false,
     "tableResultSettingsMap": {},
     "title": ""
    }
   },
   "outputs": [
    {
     "output_type": "display_data",
     "data": {
      "text/html": [
       "<style scoped>\n",
       "  .table-result-container {\n",
       "    max-height: 300px;\n",
       "    overflow: auto;\n",
       "  }\n",
       "  table, th, td {\n",
       "    border: 1px solid black;\n",
       "    border-collapse: collapse;\n",
       "  }\n",
       "  th, td {\n",
       "    padding: 5px;\n",
       "  }\n",
       "  th {\n",
       "    text-align: left;\n",
       "  }\n",
       "</style><div class='table-result-container'><table class='table-result'><thead style='background-color: white'><tr><th>path</th><th>name</th><th>size</th><th>modificationTime</th></tr></thead><tbody><tr><td>dbfs:/FileStore/tables/musica/spotify/data-treated/data.parquet/</td><td>data.parquet/</td><td>0</td><td>0</td></tr></tbody></table></div>"
      ]
     },
     "metadata": {
      "application/vnd.databricks.v1+output": {
       "addedWidgets": {},
       "aggData": [],
       "aggError": "",
       "aggOverflow": false,
       "aggSchema": [],
       "aggSeriesLimitReached": false,
       "aggType": "",
       "arguments": {},
       "columnCustomDisplayInfos": {},
       "data": [
        [
         "dbfs:/FileStore/tables/musica/spotify/data-treated/data.parquet/",
         "data.parquet/",
         0,
         0
        ]
       ],
       "datasetInfos": [],
       "dbfsResultPath": null,
       "isJsonSchema": true,
       "metadata": {},
       "overflow": false,
       "plotOptions": {
        "customPlotOptions": {},
        "displayType": "table",
        "pivotAggregation": null,
        "pivotColumns": null,
        "xColumns": null,
        "yColumns": null
       },
       "removedWidgets": [],
       "schema": [
        {
         "metadata": "{}",
         "name": "path",
         "type": "\"string\""
        },
        {
         "metadata": "{}",
         "name": "name",
         "type": "\"string\""
        },
        {
         "metadata": "{}",
         "name": "size",
         "type": "\"long\""
        },
        {
         "metadata": "{}",
         "name": "modificationTime",
         "type": "\"long\""
        }
       ],
       "type": "table"
      }
     },
     "output_type": "display_data"
    }
   ],
   "source": [
    "%python\n",
    "\n",
    "# Salvar arquivo em formato parquet (csv > parquet)\n",
    "\n",
    "df_consulta_01.to_parquet('/FileStore/tables/musica/spotify/data-treated/data.parquet')\n",
    "\n",
    "display(dbutils.fs.ls('dbfs:/FileStore/tables/musica/spotify/data-treated/'))"
   ]
  },
  {
   "cell_type": "markdown",
   "metadata": {
    "application/vnd.databricks.v1+cell": {
     "cellMetadata": {},
     "inputWidgets": {},
     "nuid": "6520556e-efcb-410f-acb6-fb46ad1328a9",
     "showTitle": false,
     "tableResultSettingsMap": {},
     "title": ""
    }
   },
   "source": [
    "\n",
    "# Consultas (tratado-pandas)"
   ]
  },
  {
   "cell_type": "markdown",
   "metadata": {
    "application/vnd.databricks.v1+cell": {
     "cellMetadata": {},
     "inputWidgets": {},
     "nuid": "502087e9-ac49-442d-8793-a598b3d41699",
     "showTitle": false,
     "tableResultSettingsMap": {},
     "title": ""
    }
   },
   "source": [
    "\n",
    "## Caminho do arquivo"
   ]
  },
  {
   "cell_type": "code",
   "execution_count": 0,
   "metadata": {
    "application/vnd.databricks.v1+cell": {
     "cellMetadata": {
      "byteLimit": 2048000,
      "rowLimit": 10000
     },
     "inputWidgets": {},
     "nuid": "568bf529-1f0d-4416-bbf1-8e15c990a13c",
     "showTitle": false,
     "tableResultSettingsMap": {},
     "title": ""
    }
   },
   "outputs": [],
   "source": [
    "%python\n",
    "\n",
    "# Caminho do arquivo para leitura\n",
    "\n",
    "path_consulta_02 = 'dbfs:/FileStore/tables/musica/spotify/data-treated/data.parquet'"
   ]
  },
  {
   "cell_type": "markdown",
   "metadata": {
    "application/vnd.databricks.v1+cell": {
     "cellMetadata": {},
     "inputWidgets": {},
     "nuid": "c41b928c-3860-4e3f-ae1e-27029055937c",
     "showTitle": false,
     "tableResultSettingsMap": {},
     "title": ""
    }
   },
   "source": [
    "\n",
    "## Leitura do df (pandas)"
   ]
  },
  {
   "cell_type": "code",
   "execution_count": 0,
   "metadata": {
    "application/vnd.databricks.v1+cell": {
     "cellMetadata": {
      "byteLimit": 2048000,
      "rowLimit": 10000
     },
     "inputWidgets": {},
     "nuid": "303e140f-0c88-4e16-9cd2-ed2b6113531d",
     "showTitle": false,
     "tableResultSettingsMap": {},
     "title": ""
    }
   },
   "outputs": [
    {
     "output_type": "display_data",
     "data": {
      "text/html": [
       "<div>\n",
       "<style scoped>\n",
       "    .dataframe tbody tr th:only-of-type {\n",
       "        vertical-align: middle;\n",
       "    }\n",
       "\n",
       "    .dataframe tbody tr th {\n",
       "        vertical-align: top;\n",
       "    }\n",
       "\n",
       "    .dataframe thead th {\n",
       "        text-align: right;\n",
       "    }\n",
       "</style>\n",
       "<table border=\"1\" class=\"dataframe\">\n",
       "  <thead>\n",
       "    <tr style=\"text-align: right;\">\n",
       "      <th></th>\n",
       "      <th>valence</th>\n",
       "      <th>year</th>\n",
       "      <th>acousticness</th>\n",
       "      <th>artists</th>\n",
       "      <th>danceability</th>\n",
       "      <th>duration_ms</th>\n",
       "      <th>energy</th>\n",
       "      <th>explicit</th>\n",
       "      <th>id</th>\n",
       "      <th>instrumentalness</th>\n",
       "      <th>key</th>\n",
       "      <th>liveness</th>\n",
       "      <th>loudness</th>\n",
       "      <th>mode</th>\n",
       "      <th>name</th>\n",
       "      <th>popularity</th>\n",
       "      <th>release_date</th>\n",
       "      <th>speechiness</th>\n",
       "      <th>tempo</th>\n",
       "    </tr>\n",
       "  </thead>\n",
       "  <tbody>\n",
       "    <tr>\n",
       "      <th>0</th>\n",
       "      <td>0</td>\n",
       "      <td>1970</td>\n",
       "      <td>0</td>\n",
       "      <td>The Velvet Underground</td>\n",
       "      <td>0</td>\n",
       "      <td>201440.0</td>\n",
       "      <td>0</td>\n",
       "      <td>0.0</td>\n",
       "      <td>60ZyiL4lmWzZyGfqyECTqp</td>\n",
       "      <td>0.0</td>\n",
       "      <td>7.0</td>\n",
       "      <td>0</td>\n",
       "      <td>-10</td>\n",
       "      <td>1.0</td>\n",
       "      <td>Train Round the Bend - 2015 Remaster</td>\n",
       "      <td>24.0</td>\n",
       "      <td>1970</td>\n",
       "      <td>0</td>\n",
       "      <td>117</td>\n",
       "    </tr>\n",
       "    <tr>\n",
       "      <th>1</th>\n",
       "      <td>0</td>\n",
       "      <td>1970</td>\n",
       "      <td>0</td>\n",
       "      <td>Ten Years After</td>\n",
       "      <td>0</td>\n",
       "      <td>458463.0</td>\n",
       "      <td>0</td>\n",
       "      <td>0.0</td>\n",
       "      <td>6DYyyUdHzI6RdSx0swUR1i</td>\n",
       "      <td>0.0</td>\n",
       "      <td>2.0</td>\n",
       "      <td>0</td>\n",
       "      <td>-9</td>\n",
       "      <td>1.0</td>\n",
       "      <td>Love Like a Man - 2017 Remaster</td>\n",
       "      <td>34.0</td>\n",
       "      <td>1970-04-01</td>\n",
       "      <td>0</td>\n",
       "      <td>107</td>\n",
       "    </tr>\n",
       "    <tr>\n",
       "      <th>2</th>\n",
       "      <td>0</td>\n",
       "      <td>1970</td>\n",
       "      <td>0</td>\n",
       "      <td>The Mothers Of Invention</td>\n",
       "      <td>0</td>\n",
       "      <td>105587.0</td>\n",
       "      <td>0</td>\n",
       "      <td>0.0</td>\n",
       "      <td>6HJAS8XZO0ctUcN2KsbLRa</td>\n",
       "      <td>NaN</td>\n",
       "      <td>11.0</td>\n",
       "      <td>0</td>\n",
       "      <td>-8</td>\n",
       "      <td>0.0</td>\n",
       "      <td>Oh No</td>\n",
       "      <td>24.0</td>\n",
       "      <td>1970-08-10</td>\n",
       "      <td>0</td>\n",
       "      <td>124</td>\n",
       "    </tr>\n",
       "    <tr>\n",
       "      <th>3</th>\n",
       "      <td>0</td>\n",
       "      <td>1970</td>\n",
       "      <td>0</td>\n",
       "      <td>Three Dog Night</td>\n",
       "      <td>0</td>\n",
       "      <td>174707.0</td>\n",
       "      <td>0</td>\n",
       "      <td>0.0</td>\n",
       "      <td>7sZ74qmKb1nyGKUgHROJ1n</td>\n",
       "      <td>0.0</td>\n",
       "      <td>7.0</td>\n",
       "      <td>0</td>\n",
       "      <td>-11</td>\n",
       "      <td>1.0</td>\n",
       "      <td>One Man Band</td>\n",
       "      <td>19.0</td>\n",
       "      <td>1970-01-01</td>\n",
       "      <td>0</td>\n",
       "      <td>121</td>\n",
       "    </tr>\n",
       "    <tr>\n",
       "      <th>4</th>\n",
       "      <td>0</td>\n",
       "      <td>1970</td>\n",
       "      <td>0</td>\n",
       "      <td>The Rolling Stones</td>\n",
       "      <td>0</td>\n",
       "      <td>246413.0</td>\n",
       "      <td>0</td>\n",
       "      <td>0.0</td>\n",
       "      <td>095WtNlSHE8TMB2gQ1fdTx</td>\n",
       "      <td>0.0</td>\n",
       "      <td>11.0</td>\n",
       "      <td>0</td>\n",
       "      <td>-7</td>\n",
       "      <td>1.0</td>\n",
       "      <td>Street Fighting Man - Live</td>\n",
       "      <td>25.0</td>\n",
       "      <td>1970-09-04</td>\n",
       "      <td>0</td>\n",
       "      <td>134</td>\n",
       "    </tr>\n",
       "  </tbody>\n",
       "</table>\n",
       "</div>"
      ]
     },
     "metadata": {
      "application/vnd.databricks.v1+output": {
       "addedWidgets": {},
       "arguments": {},
       "data": "<div>\n<style scoped>\n    .dataframe tbody tr th:only-of-type {\n        vertical-align: middle;\n    }\n\n    .dataframe tbody tr th {\n        vertical-align: top;\n    }\n\n    .dataframe thead th {\n        text-align: right;\n    }\n</style>\n<table border=\"1\" class=\"dataframe\">\n  <thead>\n    <tr style=\"text-align: right;\">\n      <th></th>\n      <th>valence</th>\n      <th>year</th>\n      <th>acousticness</th>\n      <th>artists</th>\n      <th>danceability</th>\n      <th>duration_ms</th>\n      <th>energy</th>\n      <th>explicit</th>\n      <th>id</th>\n      <th>instrumentalness</th>\n      <th>key</th>\n      <th>liveness</th>\n      <th>loudness</th>\n      <th>mode</th>\n      <th>name</th>\n      <th>popularity</th>\n      <th>release_date</th>\n      <th>speechiness</th>\n      <th>tempo</th>\n    </tr>\n  </thead>\n  <tbody>\n    <tr>\n      <th>0</th>\n      <td>0</td>\n      <td>1970</td>\n      <td>0</td>\n      <td>The Velvet Underground</td>\n      <td>0</td>\n      <td>201440.0</td>\n      <td>0</td>\n      <td>0.0</td>\n      <td>60ZyiL4lmWzZyGfqyECTqp</td>\n      <td>0.0</td>\n      <td>7.0</td>\n      <td>0</td>\n      <td>-10</td>\n      <td>1.0</td>\n      <td>Train Round the Bend - 2015 Remaster</td>\n      <td>24.0</td>\n      <td>1970</td>\n      <td>0</td>\n      <td>117</td>\n    </tr>\n    <tr>\n      <th>1</th>\n      <td>0</td>\n      <td>1970</td>\n      <td>0</td>\n      <td>Ten Years After</td>\n      <td>0</td>\n      <td>458463.0</td>\n      <td>0</td>\n      <td>0.0</td>\n      <td>6DYyyUdHzI6RdSx0swUR1i</td>\n      <td>0.0</td>\n      <td>2.0</td>\n      <td>0</td>\n      <td>-9</td>\n      <td>1.0</td>\n      <td>Love Like a Man - 2017 Remaster</td>\n      <td>34.0</td>\n      <td>1970-04-01</td>\n      <td>0</td>\n      <td>107</td>\n    </tr>\n    <tr>\n      <th>2</th>\n      <td>0</td>\n      <td>1970</td>\n      <td>0</td>\n      <td>The Mothers Of Invention</td>\n      <td>0</td>\n      <td>105587.0</td>\n      <td>0</td>\n      <td>0.0</td>\n      <td>6HJAS8XZO0ctUcN2KsbLRa</td>\n      <td>NaN</td>\n      <td>11.0</td>\n      <td>0</td>\n      <td>-8</td>\n      <td>0.0</td>\n      <td>Oh No</td>\n      <td>24.0</td>\n      <td>1970-08-10</td>\n      <td>0</td>\n      <td>124</td>\n    </tr>\n    <tr>\n      <th>3</th>\n      <td>0</td>\n      <td>1970</td>\n      <td>0</td>\n      <td>Three Dog Night</td>\n      <td>0</td>\n      <td>174707.0</td>\n      <td>0</td>\n      <td>0.0</td>\n      <td>7sZ74qmKb1nyGKUgHROJ1n</td>\n      <td>0.0</td>\n      <td>7.0</td>\n      <td>0</td>\n      <td>-11</td>\n      <td>1.0</td>\n      <td>One Man Band</td>\n      <td>19.0</td>\n      <td>1970-01-01</td>\n      <td>0</td>\n      <td>121</td>\n    </tr>\n    <tr>\n      <th>4</th>\n      <td>0</td>\n      <td>1970</td>\n      <td>0</td>\n      <td>The Rolling Stones</td>\n      <td>0</td>\n      <td>246413.0</td>\n      <td>0</td>\n      <td>0.0</td>\n      <td>095WtNlSHE8TMB2gQ1fdTx</td>\n      <td>0.0</td>\n      <td>11.0</td>\n      <td>0</td>\n      <td>-7</td>\n      <td>1.0</td>\n      <td>Street Fighting Man - Live</td>\n      <td>25.0</td>\n      <td>1970-09-04</td>\n      <td>0</td>\n      <td>134</td>\n    </tr>\n  </tbody>\n</table>\n</div>",
       "datasetInfos": [],
       "metadata": {},
       "removedWidgets": [],
       "textData": null,
       "type": "htmlSandbox"
      }
     },
     "output_type": "display_data"
    }
   ],
   "source": [
    "%python\n",
    "\n",
    "# Leitura do arquivo\n",
    "\n",
    "import pyspark.pandas as ps\n",
    "\n",
    "df_consulta_02 = ps.read_parquet(path_consulta_02)\n",
    "\n",
    "df_consulta_02.head()"
   ]
  },
  {
   "cell_type": "markdown",
   "metadata": {
    "application/vnd.databricks.v1+cell": {
     "cellMetadata": {},
     "inputWidgets": {},
     "nuid": "7df61ac7-52b3-450e-97af-07b590382cab",
     "showTitle": false,
     "tableResultSettingsMap": {},
     "title": ""
    }
   },
   "source": [
    "\n",
    "## Data profile simples no df"
   ]
  },
  {
   "cell_type": "code",
   "execution_count": 0,
   "metadata": {
    "application/vnd.databricks.v1+cell": {
     "cellMetadata": {
      "byteLimit": 2048000,
      "rowLimit": 10000
     },
     "inputWidgets": {},
     "nuid": "3786f7d7-ca1a-4c3c-a908-9ef05fd6c653",
     "showTitle": false,
     "tableResultSettingsMap": {},
     "title": ""
    }
   },
   "outputs": [
    {
     "output_type": "display_data",
     "data": {
      "text/html": [
       "<div>\n",
       "<style scoped>\n",
       "    .dataframe tbody tr th:only-of-type {\n",
       "        vertical-align: middle;\n",
       "    }\n",
       "\n",
       "    .dataframe tbody tr th {\n",
       "        vertical-align: top;\n",
       "    }\n",
       "\n",
       "    .dataframe thead th {\n",
       "        text-align: right;\n",
       "    }\n",
       "</style>\n",
       "<table border=\"1\" class=\"dataframe\">\n",
       "  <thead>\n",
       "    <tr style=\"text-align: right;\">\n",
       "      <th></th>\n",
       "      <th>valence</th>\n",
       "      <th>year</th>\n",
       "      <th>acousticness</th>\n",
       "      <th>danceability</th>\n",
       "      <th>duration_ms</th>\n",
       "      <th>energy</th>\n",
       "      <th>explicit</th>\n",
       "      <th>instrumentalness</th>\n",
       "      <th>key</th>\n",
       "      <th>liveness</th>\n",
       "      <th>loudness</th>\n",
       "      <th>mode</th>\n",
       "      <th>popularity</th>\n",
       "      <th>speechiness</th>\n",
       "      <th>tempo</th>\n",
       "    </tr>\n",
       "  </thead>\n",
       "  <tbody>\n",
       "    <tr>\n",
       "      <th>count</th>\n",
       "      <td>170653.000000</td>\n",
       "      <td>170653.000000</td>\n",
       "      <td>170653.0</td>\n",
       "      <td>170080.0</td>\n",
       "      <td>1.704540e+05</td>\n",
       "      <td>1.705390e+05</td>\n",
       "      <td>170606.000000</td>\n",
       "      <td>137328.000000</td>\n",
       "      <td>170527.000000</td>\n",
       "      <td>170585.000000</td>\n",
       "      <td>170617.000000</td>\n",
       "      <td>170641.000000</td>\n",
       "      <td>169497.000000</td>\n",
       "      <td>170042.000000</td>\n",
       "      <td>170404.000000</td>\n",
       "    </tr>\n",
       "    <tr>\n",
       "      <th>mean</th>\n",
       "      <td>0.000023</td>\n",
       "      <td>1976.787241</td>\n",
       "      <td>0.0</td>\n",
       "      <td>0.0</td>\n",
       "      <td>2.304044e+05</td>\n",
       "      <td>5.328940e+02</td>\n",
       "      <td>161.708844</td>\n",
       "      <td>45.004580</td>\n",
       "      <td>20.301937</td>\n",
       "      <td>3.370525</td>\n",
       "      <td>-10.920031</td>\n",
       "      <td>7.381547</td>\n",
       "      <td>31.543308</td>\n",
       "      <td>4.966391</td>\n",
       "      <td>117.731485</td>\n",
       "    </tr>\n",
       "    <tr>\n",
       "      <th>std</th>\n",
       "      <td>0.004841</td>\n",
       "      <td>25.917853</td>\n",
       "      <td>0.0</td>\n",
       "      <td>0.0</td>\n",
       "      <td>1.263665e+05</td>\n",
       "      <td>1.350232e+04</td>\n",
       "      <td>6984.208812</td>\n",
       "      <td>3495.355393</td>\n",
       "      <td>2118.842871</td>\n",
       "      <td>981.414907</td>\n",
       "      <td>5.732603</td>\n",
       "      <td>1867.315969</td>\n",
       "      <td>21.803240</td>\n",
       "      <td>98.126101</td>\n",
       "      <td>67.012945</td>\n",
       "    </tr>\n",
       "    <tr>\n",
       "      <th>min</th>\n",
       "      <td>0.000000</td>\n",
       "      <td>1921.000000</td>\n",
       "      <td>0.0</td>\n",
       "      <td>0.0</td>\n",
       "      <td>6.240000e-02</td>\n",
       "      <td>0.000000e+00</td>\n",
       "      <td>0.000000</td>\n",
       "      <td>0.000000</td>\n",
       "      <td>0.000000</td>\n",
       "      <td>0.000000</td>\n",
       "      <td>-60.000000</td>\n",
       "      <td>-36.356000</td>\n",
       "      <td>-39.141000</td>\n",
       "      <td>-30.000000</td>\n",
       "      <td>-8.000000</td>\n",
       "    </tr>\n",
       "    <tr>\n",
       "      <th>25%</th>\n",
       "      <td>0.000000</td>\n",
       "      <td>1956.000000</td>\n",
       "      <td>0.0</td>\n",
       "      <td>0.0</td>\n",
       "      <td>1.695350e+05</td>\n",
       "      <td>0.000000e+00</td>\n",
       "      <td>0.000000</td>\n",
       "      <td>0.000000</td>\n",
       "      <td>2.000000</td>\n",
       "      <td>0.000000</td>\n",
       "      <td>-14.000000</td>\n",
       "      <td>0.000000</td>\n",
       "      <td>12.000000</td>\n",
       "      <td>0.000000</td>\n",
       "      <td>93.000000</td>\n",
       "    </tr>\n",
       "    <tr>\n",
       "      <th>50%</th>\n",
       "      <td>0.000000</td>\n",
       "      <td>1977.000000</td>\n",
       "      <td>0.0</td>\n",
       "      <td>0.0</td>\n",
       "      <td>2.072000e+05</td>\n",
       "      <td>0.000000e+00</td>\n",
       "      <td>0.000000</td>\n",
       "      <td>0.000000</td>\n",
       "      <td>5.000000</td>\n",
       "      <td>0.000000</td>\n",
       "      <td>-10.000000</td>\n",
       "      <td>1.000000</td>\n",
       "      <td>34.000000</td>\n",
       "      <td>0.000000</td>\n",
       "      <td>114.000000</td>\n",
       "    </tr>\n",
       "    <tr>\n",
       "      <th>75%</th>\n",
       "      <td>0.000000</td>\n",
       "      <td>1999.000000</td>\n",
       "      <td>0.0</td>\n",
       "      <td>0.0</td>\n",
       "      <td>2.621550e+05</td>\n",
       "      <td>0.000000e+00</td>\n",
       "      <td>0.000000</td>\n",
       "      <td>0.000000</td>\n",
       "      <td>8.000000</td>\n",
       "      <td>0.000000</td>\n",
       "      <td>-7.000000</td>\n",
       "      <td>1.000000</td>\n",
       "      <td>48.000000</td>\n",
       "      <td>0.000000</td>\n",
       "      <td>135.000000</td>\n",
       "    </tr>\n",
       "    <tr>\n",
       "      <th>max</th>\n",
       "      <td>1.000000</td>\n",
       "      <td>2020.000000</td>\n",
       "      <td>0.0</td>\n",
       "      <td>0.0</td>\n",
       "      <td>5.403500e+06</td>\n",
       "      <td>1.622000e+06</td>\n",
       "      <td>693933.000000</td>\n",
       "      <td>475880.000000</td>\n",
       "      <td>503320.000000</td>\n",
       "      <td>290627.000000</td>\n",
       "      <td>11.000000</td>\n",
       "      <td>701187.000000</td>\n",
       "      <td>100.000000</td>\n",
       "      <td>2009.000000</td>\n",
       "      <td>2010.000000</td>\n",
       "    </tr>\n",
       "  </tbody>\n",
       "</table>\n",
       "</div>"
      ]
     },
     "metadata": {
      "application/vnd.databricks.v1+output": {
       "addedWidgets": {},
       "arguments": {},
       "data": "<div>\n<style scoped>\n    .dataframe tbody tr th:only-of-type {\n        vertical-align: middle;\n    }\n\n    .dataframe tbody tr th {\n        vertical-align: top;\n    }\n\n    .dataframe thead th {\n        text-align: right;\n    }\n</style>\n<table border=\"1\" class=\"dataframe\">\n  <thead>\n    <tr style=\"text-align: right;\">\n      <th></th>\n      <th>valence</th>\n      <th>year</th>\n      <th>acousticness</th>\n      <th>danceability</th>\n      <th>duration_ms</th>\n      <th>energy</th>\n      <th>explicit</th>\n      <th>instrumentalness</th>\n      <th>key</th>\n      <th>liveness</th>\n      <th>loudness</th>\n      <th>mode</th>\n      <th>popularity</th>\n      <th>speechiness</th>\n      <th>tempo</th>\n    </tr>\n  </thead>\n  <tbody>\n    <tr>\n      <th>count</th>\n      <td>170653.000000</td>\n      <td>170653.000000</td>\n      <td>170653.0</td>\n      <td>170080.0</td>\n      <td>1.704540e+05</td>\n      <td>1.705390e+05</td>\n      <td>170606.000000</td>\n      <td>137328.000000</td>\n      <td>170527.000000</td>\n      <td>170585.000000</td>\n      <td>170617.000000</td>\n      <td>170641.000000</td>\n      <td>169497.000000</td>\n      <td>170042.000000</td>\n      <td>170404.000000</td>\n    </tr>\n    <tr>\n      <th>mean</th>\n      <td>0.000023</td>\n      <td>1976.787241</td>\n      <td>0.0</td>\n      <td>0.0</td>\n      <td>2.304044e+05</td>\n      <td>5.328940e+02</td>\n      <td>161.708844</td>\n      <td>45.004580</td>\n      <td>20.301937</td>\n      <td>3.370525</td>\n      <td>-10.920031</td>\n      <td>7.381547</td>\n      <td>31.543308</td>\n      <td>4.966391</td>\n      <td>117.731485</td>\n    </tr>\n    <tr>\n      <th>std</th>\n      <td>0.004841</td>\n      <td>25.917853</td>\n      <td>0.0</td>\n      <td>0.0</td>\n      <td>1.263665e+05</td>\n      <td>1.350232e+04</td>\n      <td>6984.208812</td>\n      <td>3495.355393</td>\n      <td>2118.842871</td>\n      <td>981.414907</td>\n      <td>5.732603</td>\n      <td>1867.315969</td>\n      <td>21.803240</td>\n      <td>98.126101</td>\n      <td>67.012945</td>\n    </tr>\n    <tr>\n      <th>min</th>\n      <td>0.000000</td>\n      <td>1921.000000</td>\n      <td>0.0</td>\n      <td>0.0</td>\n      <td>6.240000e-02</td>\n      <td>0.000000e+00</td>\n      <td>0.000000</td>\n      <td>0.000000</td>\n      <td>0.000000</td>\n      <td>0.000000</td>\n      <td>-60.000000</td>\n      <td>-36.356000</td>\n      <td>-39.141000</td>\n      <td>-30.000000</td>\n      <td>-8.000000</td>\n    </tr>\n    <tr>\n      <th>25%</th>\n      <td>0.000000</td>\n      <td>1956.000000</td>\n      <td>0.0</td>\n      <td>0.0</td>\n      <td>1.695350e+05</td>\n      <td>0.000000e+00</td>\n      <td>0.000000</td>\n      <td>0.000000</td>\n      <td>2.000000</td>\n      <td>0.000000</td>\n      <td>-14.000000</td>\n      <td>0.000000</td>\n      <td>12.000000</td>\n      <td>0.000000</td>\n      <td>93.000000</td>\n    </tr>\n    <tr>\n      <th>50%</th>\n      <td>0.000000</td>\n      <td>1977.000000</td>\n      <td>0.0</td>\n      <td>0.0</td>\n      <td>2.072000e+05</td>\n      <td>0.000000e+00</td>\n      <td>0.000000</td>\n      <td>0.000000</td>\n      <td>5.000000</td>\n      <td>0.000000</td>\n      <td>-10.000000</td>\n      <td>1.000000</td>\n      <td>34.000000</td>\n      <td>0.000000</td>\n      <td>114.000000</td>\n    </tr>\n    <tr>\n      <th>75%</th>\n      <td>0.000000</td>\n      <td>1999.000000</td>\n      <td>0.0</td>\n      <td>0.0</td>\n      <td>2.621550e+05</td>\n      <td>0.000000e+00</td>\n      <td>0.000000</td>\n      <td>0.000000</td>\n      <td>8.000000</td>\n      <td>0.000000</td>\n      <td>-7.000000</td>\n      <td>1.000000</td>\n      <td>48.000000</td>\n      <td>0.000000</td>\n      <td>135.000000</td>\n    </tr>\n    <tr>\n      <th>max</th>\n      <td>1.000000</td>\n      <td>2020.000000</td>\n      <td>0.0</td>\n      <td>0.0</td>\n      <td>5.403500e+06</td>\n      <td>1.622000e+06</td>\n      <td>693933.000000</td>\n      <td>475880.000000</td>\n      <td>503320.000000</td>\n      <td>290627.000000</td>\n      <td>11.000000</td>\n      <td>701187.000000</td>\n      <td>100.000000</td>\n      <td>2009.000000</td>\n      <td>2010.000000</td>\n    </tr>\n  </tbody>\n</table>\n</div>",
       "datasetInfos": [],
       "metadata": {},
       "removedWidgets": [],
       "textData": null,
       "type": "htmlSandbox"
      }
     },
     "output_type": "display_data"
    }
   ],
   "source": [
    "%python\n",
    "\n",
    "# Profile simples dos dados\n",
    "\n",
    "df_consulta_02.describe()"
   ]
  },
  {
   "cell_type": "markdown",
   "metadata": {
    "application/vnd.databricks.v1+cell": {
     "cellMetadata": {},
     "inputWidgets": {},
     "nuid": "6ef25453-8044-480a-9bd3-4f35cc432787",
     "showTitle": false,
     "tableResultSettingsMap": {},
     "title": ""
    }
   },
   "source": [
    "\n",
    "## Valores únicos em uma coluna (order by)"
   ]
  },
  {
   "cell_type": "code",
   "execution_count": 0,
   "metadata": {
    "application/vnd.databricks.v1+cell": {
     "cellMetadata": {
      "byteLimit": 2048000,
      "rowLimit": 10000
     },
     "inputWidgets": {},
     "nuid": "033f2d67-d76a-4a13-ba8e-bdb3a534f352",
     "showTitle": false,
     "tableResultSettingsMap": {},
     "title": ""
    }
   },
   "outputs": [
    {
     "output_type": "stream",
     "name": "stdout",
     "output_type": "stream",
     "text": [
      "Out[56]: 98    1921\n97    1922\n99    1923\n95    1924\n96    1925\n79    1926\n87    1927\n81    1928\n86    1929\n22    1930\n85    1931\n94    1932\n92    1933\n93    1934\n80    1935\n84    1936\n91    1937\n89    1938\n82    1939\n69    1940\n83    1941\n76    1942\n90    1943\n88    1944\n35    1945\n77    1946\n78    1947\n72    1948\n28    1949\n27    1950\n21    1951\n14    1952\n52    1953\n59    1954\n9     1955\n15    1956\n36    1957\n56    1958\n0     1959\n44    1960\n12    1961\n73    1962\n40    1963\n62    1964\n41    1965\n29    1966\n32    1967\n19    1968\n33    1969\n45    1970\n26    1971\n54    1972\n23    1973\n7     1974\n2     1975\n67    1976\n3     1977\n11    1978\n24    1979\n51    1980\n63    1981\n34    1982\n57    1983\n60    1984\n42    1985\n65    1986\n47    1987\n16    1988\n37    1989\n1     1990\n31    1991\n55    1992\n75    1993\n18    1994\n50    1995\n38    1996\n17    1997\n39    1998\n71    1999\n61    2000\n53    2001\n74    2002\n4     2003\n30    2004\n58    2005\n10    2006\n5     2007\n68    2008\n48    2009\n64    2010\n66    2011\n46    2012\n13    2013\n20    2014\n8     2015\n49    2016\n70    2017\n6     2018\n25    2019\n43    2020\nName: year, dtype: int32"
     ]
    }
   ],
   "source": [
    "%python\n",
    "\n",
    "# Valores únicos de uma determinada coluna e ordenados pelo ano\n",
    "\n",
    "df_year_order_by = df_consulta_02.year.unique()\n",
    "\n",
    "df_year_order_by.sort_values(ascending=True)"
   ]
  },
  {
   "cell_type": "markdown",
   "metadata": {
    "application/vnd.databricks.v1+cell": {
     "cellMetadata": {},
     "inputWidgets": {},
     "nuid": "d489e1d4-4071-4beb-8d69-19350ba8bd65",
     "showTitle": false,
     "tableResultSettingsMap": {},
     "title": ""
    }
   },
   "source": [
    "\n",
    "## Valores únicos em uma coluna (normal)"
   ]
  },
  {
   "cell_type": "code",
   "execution_count": 0,
   "metadata": {
    "application/vnd.databricks.v1+cell": {
     "cellMetadata": {
      "byteLimit": 2048000,
      "rowLimit": 10000
     },
     "inputWidgets": {},
     "nuid": "84ecab6c-5604-4c77-80dc-41c0d1981cb9",
     "showTitle": false,
     "tableResultSettingsMap": {},
     "title": ""
    }
   },
   "outputs": [
    {
     "output_type": "stream",
     "name": "stdout",
     "output_type": "stream",
     "text": [
      "Out[57]: 0     1959\n1     1990\n2     1975\n3     1977\n4     2003\n5     2007\n6     2018\n7     1974\n8     2015\n9     1955\n10    2006\n11    1978\n12    1961\n13    2013\n14    1952\n15    1956\n16    1988\n17    1997\n18    1994\n19    1968\n20    2014\n21    1951\n22    1930\n23    1973\n24    1979\n25    2019\n26    1971\n27    1950\n28    1949\n29    1966\n30    2004\n31    1991\n32    1967\n33    1969\n34    1982\n35    1945\n36    1957\n37    1989\n38    1996\n39    1998\n40    1963\n41    1965\n42    1985\n43    2020\n44    1960\n45    1970\n46    2012\n47    1987\n48    2009\n49    2016\n50    1995\n51    1980\n52    1953\n53    2001\n54    1972\n55    1992\n56    1958\n57    1983\n58    2005\n59    1954\n60    1984\n61    2000\n62    1964\n63    1981\n64    2010\n65    1986\n66    2011\n67    1976\n68    2008\n69    1940\n70    2017\n71    1999\n72    1948\n73    1962\n74    2002\n75    1993\n76    1942\n77    1946\n78    1947\n79    1926\n80    1935\n81    1928\n82    1939\n83    1941\n84    1936\n85    1931\n86    1929\n87    1927\n88    1944\n89    1938\n90    1943\n91    1937\n92    1933\n93    1934\n94    1932\n95    1924\n96    1925\n97    1922\n98    1921\n99    1923\nName: year, dtype: int32"
     ]
    }
   ],
   "source": [
    "%python\n",
    "\n",
    "# Valores únicos de uma determinada coluna\n",
    "\n",
    "df_consulta_02.year.unique()"
   ]
  },
  {
   "cell_type": "markdown",
   "metadata": {
    "application/vnd.databricks.v1+cell": {
     "cellMetadata": {},
     "inputWidgets": {},
     "nuid": "84d4ebe7-4966-4405-af17-96b67442912a",
     "showTitle": false,
     "tableResultSettingsMap": {},
     "title": ""
    }
   },
   "source": [
    "\n",
    "## Valores únicos em uma coluna (count)"
   ]
  },
  {
   "cell_type": "code",
   "execution_count": 0,
   "metadata": {
    "application/vnd.databricks.v1+cell": {
     "cellMetadata": {
      "byteLimit": 2048000,
      "rowLimit": 10000
     },
     "inputWidgets": {},
     "nuid": "9489e00a-044e-4ccc-b41b-8ab97cc3672c",
     "showTitle": false,
     "tableResultSettingsMap": {},
     "title": ""
    }
   },
   "outputs": [
    {
     "output_type": "stream",
     "name": "stdout",
     "output_type": "stream",
     "text": [
      "Out[58]: 100"
     ]
    }
   ],
   "source": [
    "%python\n",
    "\n",
    "# Valores únicos de uma determinada coluna com contagem dos valores em uma lista\n",
    "\n",
    "len(df_consulta_02.year.unique())"
   ]
  },
  {
   "cell_type": "markdown",
   "metadata": {
    "application/vnd.databricks.v1+cell": {
     "cellMetadata": {},
     "inputWidgets": {},
     "nuid": "3b06e08d-2945-4d93-885d-04c88ff6b1df",
     "showTitle": false,
     "tableResultSettingsMap": {},
     "title": ""
    }
   },
   "source": [
    "\n",
    "## Qtd de músicas por ano"
   ]
  },
  {
   "cell_type": "code",
   "execution_count": 0,
   "metadata": {
    "application/vnd.databricks.v1+cell": {
     "cellMetadata": {
      "byteLimit": 2048000,
      "rowLimit": 10000
     },
     "inputWidgets": {},
     "nuid": "241b6acb-c084-4294-85d4-d7db547930b2",
     "showTitle": false,
     "tableResultSettingsMap": {},
     "title": ""
    }
   },
   "outputs": [
    {
     "output_type": "stream",
     "name": "stdout",
     "output_type": "stream",
     "text": [
      "Out[60]: 2018    2103\n2020    2030\n2011    2017\n2010    2016\n2014    2005\n2001    2005\n1990    2000\n1975    2000\n1977    2000\n1974    2000\n1955    2000\n1978    2000\n1952    2000\n1956    2000\n1997    2000\n1994    2000\n1968    2000\n1951    2000\n1973    2000\n1979    2000\n1971    2000\n1950    2000\n1949    2000\n1966    2000\n1969    2000\n1982    2000\n1945    2000\n1989    2000\n1996    2000\n1998    2000\n1963    2000\n1985    2000\n1970    2000\n1995    2000\n1972    2000\n1992    2000\n1958    2000\n1983    2000\n1954    2000\n1984    2000\n1981    2000\n1986    2000\n1976    2000\n1940    2000\n2002    2000\n1993    2000\n1967    1999\n2017    1992\n2013    1976\n2015    1974\n2004    1966\n2009    1960\n2000    1956\n2008    1955\n2003    1954\n1999    1951\n1959    1950\n2007    1950\n2006    1950\n1988    1950\n1991    1950\n1957    1950\n1965    1950\n1987    1950\n1980    1950\n1953    1950\n2005    1950\n1964    1950\n2019    1949\n2012    1945\n1930    1924\n1961    1900\n1948    1900\n1962    1900\n1960    1850\n2016    1797\n1946    1724\n1942    1682\n1947    1650\n1935    1518\n1926    1378\n1928    1261\n1936    1100\n1939    1000\n1931     966\n1941     960\n1929     952\n1944     752\n1943     710\n1933     691\n1937     657\n1927     615\n1938     613\n1934     578\n1932     502\n1925     278\n1924     236\n1923     185\n1921     150\n1922      71\nName: year, dtype: int64"
     ]
    }
   ],
   "source": [
    "%python\n",
    "\n",
    "# Quantidade de músicas por ano\n",
    "\n",
    "df_consulta_02.year.value_counts()"
   ]
  },
  {
   "cell_type": "markdown",
   "metadata": {
    "application/vnd.databricks.v1+cell": {
     "cellMetadata": {},
     "inputWidgets": {},
     "nuid": "318311bc-9651-4f5f-a09f-16cb5597b18a",
     "showTitle": false,
     "tableResultSettingsMap": {},
     "title": ""
    }
   },
   "source": [
    "\n",
    "## Qtd de músicas por ano (order by)"
   ]
  },
  {
   "cell_type": "code",
   "execution_count": 0,
   "metadata": {
    "application/vnd.databricks.v1+cell": {
     "cellMetadata": {
      "byteLimit": 2048000,
      "rowLimit": 10000
     },
     "inputWidgets": {},
     "nuid": "482b842f-07f9-4d39-9900-86b3ec812620",
     "showTitle": false,
     "tableResultSettingsMap": {},
     "title": ""
    }
   },
   "outputs": [
    {
     "output_type": "stream",
     "name": "stdout",
     "output_type": "stream",
     "text": [
      "Out[61]: 1921     150\n1922      71\n1923     185\n1924     236\n1925     278\n1926    1378\n1927     615\n1928    1261\n1929     952\n1930    1924\n1931     966\n1932     502\n1933     691\n1934     578\n1935    1518\n1936    1100\n1937     657\n1938     613\n1939    1000\n1940    2000\n1941     960\n1942    1682\n1943     710\n1944     752\n1945    2000\n1946    1724\n1947    1650\n1948    1900\n1949    2000\n1950    2000\n1951    2000\n1952    2000\n1953    1950\n1954    2000\n1955    2000\n1956    2000\n1957    1950\n1958    2000\n1959    1950\n1960    1850\n1961    1900\n1962    1900\n1963    2000\n1964    1950\n1965    1950\n1966    2000\n1967    1999\n1968    2000\n1969    2000\n1970    2000\n1971    2000\n1972    2000\n1973    2000\n1974    2000\n1975    2000\n1976    2000\n1977    2000\n1978    2000\n1979    2000\n1980    1950\n1981    2000\n1982    2000\n1983    2000\n1984    2000\n1985    2000\n1986    2000\n1987    1950\n1988    1950\n1989    2000\n1990    2000\n1991    1950\n1992    2000\n1993    2000\n1994    2000\n1995    2000\n1996    2000\n1997    2000\n1998    2000\n1999    1951\n2000    1956\n2001    2005\n2002    2000\n2003    1954\n2004    1966\n2005    1950\n2006    1950\n2007    1950\n2008    1955\n2009    1960\n2010    2016\n2011    2017\n2012    1945\n2013    1976\n2014    2005\n2015    1974\n2016    1797\n2017    1992\n2018    2103\n2019    1949\n2020    2030\nName: year, dtype: int64"
     ]
    }
   ],
   "source": [
    "%python\n",
    "\n",
    "# Quantidade de músicas por ano\n",
    "\n",
    "df_consulta_02.year.value_counts().sort_index()"
   ]
  },
  {
   "cell_type": "markdown",
   "metadata": {
    "application/vnd.databricks.v1+cell": {
     "cellMetadata": {},
     "inputWidgets": {},
     "nuid": "422bc41b-a682-4380-aee3-f8a3b89afeaa",
     "showTitle": false,
     "tableResultSettingsMap": {},
     "title": ""
    }
   },
   "source": [
    "\n",
    "## Criação de gráfico de barras"
   ]
  },
  {
   "cell_type": "code",
   "execution_count": 0,
   "metadata": {
    "application/vnd.databricks.v1+cell": {
     "cellMetadata": {
      "byteLimit": 2048000,
      "rowLimit": 10000
     },
     "inputWidgets": {},
     "nuid": "8c7fad65-304b-4a6b-ba4c-a2dd47a13b1e",
     "showTitle": false,
     "tableResultSettingsMap": {},
     "title": ""
    }
   },
   "outputs": [
    {
     "output_type": "display_data",
     "data": {
      "text/html": [
       "<html>\n",
       "<head><meta charset=\"utf-8\" /></head>\n",
       "<body>\n",
       "    <div>            <script src=\"https://cdnjs.cloudflare.com/ajax/libs/mathjax/2.7.5/MathJax.js?config=TeX-AMS-MML_SVG\"></script><script type=\"text/javascript\">if (window.MathJax) {MathJax.Hub.Config({SVG: {font: \"STIX-Web\"}});}</script>                <script type=\"text/javascript\">window.PlotlyConfig = {MathJaxConfig: 'local'};</script>\n",
       "        <script src=\"https://cdn.plot.ly/plotly-2.9.0.min.js\"></script>                <div id=\"89d21837-38d9-41a1-8abd-864b3c15f162\" class=\"plotly-graph-div\" style=\"height:100%; width:100%;\"></div>            <script type=\"text/javascript\">                                    window.PLOTLYENV=window.PLOTLYENV || {};                                    if (document.getElementById(\"89d21837-38d9-41a1-8abd-864b3c15f162\")) {                    Plotly.newPlot(                        \"89d21837-38d9-41a1-8abd-864b3c15f162\",                        [{\"alignmentgroup\":\"True\",\"hovertemplate\":\"variable=year<br>index=%{x}<br>value=%{y}<extra></extra>\",\"legendgroup\":\"year\",\"marker\":{\"color\":\"#636efa\",\"pattern\":{\"shape\":\"\"}},\"name\":\"year\",\"offsetgroup\":\"year\",\"orientation\":\"v\",\"showlegend\":true,\"textposition\":\"auto\",\"x\":[1921,1922,1923,1924,1925,1926,1927,1928,1929,1930,1931,1932,1933,1934,1935,1936,1937,1938,1939,1940,1941,1942,1943,1944,1945,1946,1947,1948,1949,1950,1951,1952,1953,1954,1955,1956,1957,1958,1959,1960,1961,1962,1963,1964,1965,1966,1967,1968,1969,1970,1971,1972,1973,1974,1975,1976,1977,1978,1979,1980,1981,1982,1983,1984,1985,1986,1987,1988,1989,1990,1991,1992,1993,1994,1995,1996,1997,1998,1999,2000,2001,2002,2003,2004,2005,2006,2007,2008,2009,2010,2011,2012,2013,2014,2015,2016,2017,2018,2019,2020],\"xaxis\":\"x\",\"y\":[150,71,185,236,278,1378,615,1261,952,1924,966,502,691,578,1518,1100,657,613,1000,2000,960,1682,710,752,2000,1724,1650,1900,2000,2000,2000,2000,1950,2000,2000,2000,1950,2000,1950,1850,1900,1900,2000,1950,1950,2000,1999,2000,2000,2000,2000,2000,2000,2000,2000,2000,2000,2000,2000,1950,2000,2000,2000,2000,2000,2000,1950,1950,2000,2000,1950,2000,2000,2000,2000,2000,2000,2000,1951,1956,2005,2000,1954,1966,1950,1950,1950,1955,1960,2016,2017,1945,1976,2005,1974,1797,1992,2103,1949,2030],\"yaxis\":\"y\",\"type\":\"bar\"}],                        {\"template\":{\"data\":{\"bar\":[{\"error_x\":{\"color\":\"#2a3f5f\"},\"error_y\":{\"color\":\"#2a3f5f\"},\"marker\":{\"line\":{\"color\":\"#E5ECF6\",\"width\":0.5},\"pattern\":{\"fillmode\":\"overlay\",\"size\":10,\"solidity\":0.2}},\"type\":\"bar\"}],\"barpolar\":[{\"marker\":{\"line\":{\"color\":\"#E5ECF6\",\"width\":0.5},\"pattern\":{\"fillmode\":\"overlay\",\"size\":10,\"solidity\":0.2}},\"type\":\"barpolar\"}],\"carpet\":[{\"aaxis\":{\"endlinecolor\":\"#2a3f5f\",\"gridcolor\":\"white\",\"linecolor\":\"white\",\"minorgridcolor\":\"white\",\"startlinecolor\":\"#2a3f5f\"},\"baxis\":{\"endlinecolor\":\"#2a3f5f\",\"gridcolor\":\"white\",\"linecolor\":\"white\",\"minorgridcolor\":\"white\",\"startlinecolor\":\"#2a3f5f\"},\"type\":\"carpet\"}],\"choropleth\":[{\"colorbar\":{\"outlinewidth\":0,\"ticks\":\"\"},\"type\":\"choropleth\"}],\"contour\":[{\"colorbar\":{\"outlinewidth\":0,\"ticks\":\"\"},\"colorscale\":[[0.0,\"#0d0887\"],[0.1111111111111111,\"#46039f\"],[0.2222222222222222,\"#7201a8\"],[0.3333333333333333,\"#9c179e\"],[0.4444444444444444,\"#bd3786\"],[0.5555555555555556,\"#d8576b\"],[0.6666666666666666,\"#ed7953\"],[0.7777777777777778,\"#fb9f3a\"],[0.8888888888888888,\"#fdca26\"],[1.0,\"#f0f921\"]],\"type\":\"contour\"}],\"contourcarpet\":[{\"colorbar\":{\"outlinewidth\":0,\"ticks\":\"\"},\"type\":\"contourcarpet\"}],\"heatmap\":[{\"colorbar\":{\"outlinewidth\":0,\"ticks\":\"\"},\"colorscale\":[[0.0,\"#0d0887\"],[0.1111111111111111,\"#46039f\"],[0.2222222222222222,\"#7201a8\"],[0.3333333333333333,\"#9c179e\"],[0.4444444444444444,\"#bd3786\"],[0.5555555555555556,\"#d8576b\"],[0.6666666666666666,\"#ed7953\"],[0.7777777777777778,\"#fb9f3a\"],[0.8888888888888888,\"#fdca26\"],[1.0,\"#f0f921\"]],\"type\":\"heatmap\"}],\"heatmapgl\":[{\"colorbar\":{\"outlinewidth\":0,\"ticks\":\"\"},\"colorscale\":[[0.0,\"#0d0887\"],[0.1111111111111111,\"#46039f\"],[0.2222222222222222,\"#7201a8\"],[0.3333333333333333,\"#9c179e\"],[0.4444444444444444,\"#bd3786\"],[0.5555555555555556,\"#d8576b\"],[0.6666666666666666,\"#ed7953\"],[0.7777777777777778,\"#fb9f3a\"],[0.8888888888888888,\"#fdca26\"],[1.0,\"#f0f921\"]],\"type\":\"heatmapgl\"}],\"histogram\":[{\"marker\":{\"pattern\":{\"fillmode\":\"overlay\",\"size\":10,\"solidity\":0.2}},\"type\":\"histogram\"}],\"histogram2d\":[{\"colorbar\":{\"outlinewidth\":0,\"ticks\":\"\"},\"colorscale\":[[0.0,\"#0d0887\"],[0.1111111111111111,\"#46039f\"],[0.2222222222222222,\"#7201a8\"],[0.3333333333333333,\"#9c179e\"],[0.4444444444444444,\"#bd3786\"],[0.5555555555555556,\"#d8576b\"],[0.6666666666666666,\"#ed7953\"],[0.7777777777777778,\"#fb9f3a\"],[0.8888888888888888,\"#fdca26\"],[1.0,\"#f0f921\"]],\"type\":\"histogram2d\"}],\"histogram2dcontour\":[{\"colorbar\":{\"outlinewidth\":0,\"ticks\":\"\"},\"colorscale\":[[0.0,\"#0d0887\"],[0.1111111111111111,\"#46039f\"],[0.2222222222222222,\"#7201a8\"],[0.3333333333333333,\"#9c179e\"],[0.4444444444444444,\"#bd3786\"],[0.5555555555555556,\"#d8576b\"],[0.6666666666666666,\"#ed7953\"],[0.7777777777777778,\"#fb9f3a\"],[0.8888888888888888,\"#fdca26\"],[1.0,\"#f0f921\"]],\"type\":\"histogram2dcontour\"}],\"mesh3d\":[{\"colorbar\":{\"outlinewidth\":0,\"ticks\":\"\"},\"type\":\"mesh3d\"}],\"parcoords\":[{\"line\":{\"colorbar\":{\"outlinewidth\":0,\"ticks\":\"\"}},\"type\":\"parcoords\"}],\"pie\":[{\"automargin\":true,\"type\":\"pie\"}],\"scatter\":[{\"marker\":{\"colorbar\":{\"outlinewidth\":0,\"ticks\":\"\"}},\"type\":\"scatter\"}],\"scatter3d\":[{\"line\":{\"colorbar\":{\"outlinewidth\":0,\"ticks\":\"\"}},\"marker\":{\"colorbar\":{\"outlinewidth\":0,\"ticks\":\"\"}},\"type\":\"scatter3d\"}],\"scattercarpet\":[{\"marker\":{\"colorbar\":{\"outlinewidth\":0,\"ticks\":\"\"}},\"type\":\"scattercarpet\"}],\"scattergeo\":[{\"marker\":{\"colorbar\":{\"outlinewidth\":0,\"ticks\":\"\"}},\"type\":\"scattergeo\"}],\"scattergl\":[{\"marker\":{\"colorbar\":{\"outlinewidth\":0,\"ticks\":\"\"}},\"type\":\"scattergl\"}],\"scattermapbox\":[{\"marker\":{\"colorbar\":{\"outlinewidth\":0,\"ticks\":\"\"}},\"type\":\"scattermapbox\"}],\"scatterpolar\":[{\"marker\":{\"colorbar\":{\"outlinewidth\":0,\"ticks\":\"\"}},\"type\":\"scatterpolar\"}],\"scatterpolargl\":[{\"marker\":{\"colorbar\":{\"outlinewidth\":0,\"ticks\":\"\"}},\"type\":\"scatterpolargl\"}],\"scatterternary\":[{\"marker\":{\"colorbar\":{\"outlinewidth\":0,\"ticks\":\"\"}},\"type\":\"scatterternary\"}],\"surface\":[{\"colorbar\":{\"outlinewidth\":0,\"ticks\":\"\"},\"colorscale\":[[0.0,\"#0d0887\"],[0.1111111111111111,\"#46039f\"],[0.2222222222222222,\"#7201a8\"],[0.3333333333333333,\"#9c179e\"],[0.4444444444444444,\"#bd3786\"],[0.5555555555555556,\"#d8576b\"],[0.6666666666666666,\"#ed7953\"],[0.7777777777777778,\"#fb9f3a\"],[0.8888888888888888,\"#fdca26\"],[1.0,\"#f0f921\"]],\"type\":\"surface\"}],\"table\":[{\"cells\":{\"fill\":{\"color\":\"#EBF0F8\"},\"line\":{\"color\":\"white\"}},\"header\":{\"fill\":{\"color\":\"#C8D4E3\"},\"line\":{\"color\":\"white\"}},\"type\":\"table\"}]},\"layout\":{\"annotationdefaults\":{\"arrowcolor\":\"#2a3f5f\",\"arrowhead\":0,\"arrowwidth\":1},\"autotypenumbers\":\"strict\",\"coloraxis\":{\"colorbar\":{\"outlinewidth\":0,\"ticks\":\"\"}},\"colorscale\":{\"diverging\":[[0,\"#8e0152\"],[0.1,\"#c51b7d\"],[0.2,\"#de77ae\"],[0.3,\"#f1b6da\"],[0.4,\"#fde0ef\"],[0.5,\"#f7f7f7\"],[0.6,\"#e6f5d0\"],[0.7,\"#b8e186\"],[0.8,\"#7fbc41\"],[0.9,\"#4d9221\"],[1,\"#276419\"]],\"sequential\":[[0.0,\"#0d0887\"],[0.1111111111111111,\"#46039f\"],[0.2222222222222222,\"#7201a8\"],[0.3333333333333333,\"#9c179e\"],[0.4444444444444444,\"#bd3786\"],[0.5555555555555556,\"#d8576b\"],[0.6666666666666666,\"#ed7953\"],[0.7777777777777778,\"#fb9f3a\"],[0.8888888888888888,\"#fdca26\"],[1.0,\"#f0f921\"]],\"sequentialminus\":[[0.0,\"#0d0887\"],[0.1111111111111111,\"#46039f\"],[0.2222222222222222,\"#7201a8\"],[0.3333333333333333,\"#9c179e\"],[0.4444444444444444,\"#bd3786\"],[0.5555555555555556,\"#d8576b\"],[0.6666666666666666,\"#ed7953\"],[0.7777777777777778,\"#fb9f3a\"],[0.8888888888888888,\"#fdca26\"],[1.0,\"#f0f921\"]]},\"colorway\":[\"#636efa\",\"#EF553B\",\"#00cc96\",\"#ab63fa\",\"#FFA15A\",\"#19d3f3\",\"#FF6692\",\"#B6E880\",\"#FF97FF\",\"#FECB52\"],\"font\":{\"color\":\"#2a3f5f\"},\"geo\":{\"bgcolor\":\"white\",\"lakecolor\":\"white\",\"landcolor\":\"#E5ECF6\",\"showlakes\":true,\"showland\":true,\"subunitcolor\":\"white\"},\"hoverlabel\":{\"align\":\"left\"},\"hovermode\":\"closest\",\"mapbox\":{\"style\":\"light\"},\"paper_bgcolor\":\"white\",\"plot_bgcolor\":\"#E5ECF6\",\"polar\":{\"angularaxis\":{\"gridcolor\":\"white\",\"linecolor\":\"white\",\"ticks\":\"\"},\"bgcolor\":\"#E5ECF6\",\"radialaxis\":{\"gridcolor\":\"white\",\"linecolor\":\"white\",\"ticks\":\"\"}},\"scene\":{\"xaxis\":{\"backgroundcolor\":\"#E5ECF6\",\"gridcolor\":\"white\",\"gridwidth\":2,\"linecolor\":\"white\",\"showbackground\":true,\"ticks\":\"\",\"zerolinecolor\":\"white\"},\"yaxis\":{\"backgroundcolor\":\"#E5ECF6\",\"gridcolor\":\"white\",\"gridwidth\":2,\"linecolor\":\"white\",\"showbackground\":true,\"ticks\":\"\",\"zerolinecolor\":\"white\"},\"zaxis\":{\"backgroundcolor\":\"#E5ECF6\",\"gridcolor\":\"white\",\"gridwidth\":2,\"linecolor\":\"white\",\"showbackground\":true,\"ticks\":\"\",\"zerolinecolor\":\"white\"}},\"shapedefaults\":{\"line\":{\"color\":\"#2a3f5f\"}},\"ternary\":{\"aaxis\":{\"gridcolor\":\"white\",\"linecolor\":\"white\",\"ticks\":\"\"},\"baxis\":{\"gridcolor\":\"white\",\"linecolor\":\"white\",\"ticks\":\"\"},\"bgcolor\":\"#E5ECF6\",\"caxis\":{\"gridcolor\":\"white\",\"linecolor\":\"white\",\"ticks\":\"\"}},\"title\":{\"x\":0.05},\"xaxis\":{\"automargin\":true,\"gridcolor\":\"white\",\"linecolor\":\"white\",\"ticks\":\"\",\"title\":{\"standoff\":15},\"zerolinecolor\":\"white\",\"zerolinewidth\":2},\"yaxis\":{\"automargin\":true,\"gridcolor\":\"white\",\"linecolor\":\"white\",\"ticks\":\"\",\"title\":{\"standoff\":15},\"zerolinecolor\":\"white\",\"zerolinewidth\":2}}},\"xaxis\":{\"anchor\":\"y\",\"domain\":[0.0,1.0],\"title\":{\"text\":\"index\"}},\"yaxis\":{\"anchor\":\"x\",\"domain\":[0.0,1.0],\"title\":{\"text\":\"value\"}},\"legend\":{\"title\":{\"text\":\"variable\"},\"tracegroupgap\":0},\"margin\":{\"t\":60},\"barmode\":\"relative\"},                        {\"responsive\": true}                    )                };                            </script>        </div>\n",
       "</body>\n",
       "</html>"
      ]
     },
     "metadata": {
      "application/vnd.databricks.v1+output": {
       "addedWidgets": {},
       "arguments": {},
       "data": "<html>\n<head><meta charset=\"utf-8\" /></head>\n<body>\n    <div>            <script src=\"https://cdnjs.cloudflare.com/ajax/libs/mathjax/2.7.5/MathJax.js?config=TeX-AMS-MML_SVG\"></script><script type=\"text/javascript\">if (window.MathJax) {MathJax.Hub.Config({SVG: {font: \"STIX-Web\"}});}</script>                <script type=\"text/javascript\">window.PlotlyConfig = {MathJaxConfig: 'local'};</script>\n        <script src=\"https://cdn.plot.ly/plotly-2.9.0.min.js\"></script>                <div id=\"89d21837-38d9-41a1-8abd-864b3c15f162\" class=\"plotly-graph-div\" style=\"height:100%; width:100%;\"></div>            <script type=\"text/javascript\">                                    window.PLOTLYENV=window.PLOTLYENV || {};                                    if (document.getElementById(\"89d21837-38d9-41a1-8abd-864b3c15f162\")) {                    Plotly.newPlot(                        \"89d21837-38d9-41a1-8abd-864b3c15f162\",                        [{\"alignmentgroup\":\"True\",\"hovertemplate\":\"variable=year<br>index=%{x}<br>value=%{y}<extra></extra>\",\"legendgroup\":\"year\",\"marker\":{\"color\":\"#636efa\",\"pattern\":{\"shape\":\"\"}},\"name\":\"year\",\"offsetgroup\":\"year\",\"orientation\":\"v\",\"showlegend\":true,\"textposition\":\"auto\",\"x\":[1921,1922,1923,1924,1925,1926,1927,1928,1929,1930,1931,1932,1933,1934,1935,1936,1937,1938,1939,1940,1941,1942,1943,1944,1945,1946,1947,1948,1949,1950,1951,1952,1953,1954,1955,1956,1957,1958,1959,1960,1961,1962,1963,1964,1965,1966,1967,1968,1969,1970,1971,1972,1973,1974,1975,1976,1977,1978,1979,1980,1981,1982,1983,1984,1985,1986,1987,1988,1989,1990,1991,1992,1993,1994,1995,1996,1997,1998,1999,2000,2001,2002,2003,2004,2005,2006,2007,2008,2009,2010,2011,2012,2013,2014,2015,2016,2017,2018,2019,2020],\"xaxis\":\"x\",\"y\":[150,71,185,236,278,1378,615,1261,952,1924,966,502,691,578,1518,1100,657,613,1000,2000,960,1682,710,752,2000,1724,1650,1900,2000,2000,2000,2000,1950,2000,2000,2000,1950,2000,1950,1850,1900,1900,2000,1950,1950,2000,1999,2000,2000,2000,2000,2000,2000,2000,2000,2000,2000,2000,2000,1950,2000,2000,2000,2000,2000,2000,1950,1950,2000,2000,1950,2000,2000,2000,2000,2000,2000,2000,1951,1956,2005,2000,1954,1966,1950,1950,1950,1955,1960,2016,2017,1945,1976,2005,1974,1797,1992,2103,1949,2030],\"yaxis\":\"y\",\"type\":\"bar\"}],                        {\"template\":{\"data\":{\"bar\":[{\"error_x\":{\"color\":\"#2a3f5f\"},\"error_y\":{\"color\":\"#2a3f5f\"},\"marker\":{\"line\":{\"color\":\"#E5ECF6\",\"width\":0.5},\"pattern\":{\"fillmode\":\"overlay\",\"size\":10,\"solidity\":0.2}},\"type\":\"bar\"}],\"barpolar\":[{\"marker\":{\"line\":{\"color\":\"#E5ECF6\",\"width\":0.5},\"pattern\":{\"fillmode\":\"overlay\",\"size\":10,\"solidity\":0.2}},\"type\":\"barpolar\"}],\"carpet\":[{\"aaxis\":{\"endlinecolor\":\"#2a3f5f\",\"gridcolor\":\"white\",\"linecolor\":\"white\",\"minorgridcolor\":\"white\",\"startlinecolor\":\"#2a3f5f\"},\"baxis\":{\"endlinecolor\":\"#2a3f5f\",\"gridcolor\":\"white\",\"linecolor\":\"white\",\"minorgridcolor\":\"white\",\"startlinecolor\":\"#2a3f5f\"},\"type\":\"carpet\"}],\"choropleth\":[{\"colorbar\":{\"outlinewidth\":0,\"ticks\":\"\"},\"type\":\"choropleth\"}],\"contour\":[{\"colorbar\":{\"outlinewidth\":0,\"ticks\":\"\"},\"colorscale\":[[0.0,\"#0d0887\"],[0.1111111111111111,\"#46039f\"],[0.2222222222222222,\"#7201a8\"],[0.3333333333333333,\"#9c179e\"],[0.4444444444444444,\"#bd3786\"],[0.5555555555555556,\"#d8576b\"],[0.6666666666666666,\"#ed7953\"],[0.7777777777777778,\"#fb9f3a\"],[0.8888888888888888,\"#fdca26\"],[1.0,\"#f0f921\"]],\"type\":\"contour\"}],\"contourcarpet\":[{\"colorbar\":{\"outlinewidth\":0,\"ticks\":\"\"},\"type\":\"contourcarpet\"}],\"heatmap\":[{\"colorbar\":{\"outlinewidth\":0,\"ticks\":\"\"},\"colorscale\":[[0.0,\"#0d0887\"],[0.1111111111111111,\"#46039f\"],[0.2222222222222222,\"#7201a8\"],[0.3333333333333333,\"#9c179e\"],[0.4444444444444444,\"#bd3786\"],[0.5555555555555556,\"#d8576b\"],[0.6666666666666666,\"#ed7953\"],[0.7777777777777778,\"#fb9f3a\"],[0.8888888888888888,\"#fdca26\"],[1.0,\"#f0f921\"]],\"type\":\"heatmap\"}],\"heatmapgl\":[{\"colorbar\":{\"outlinewidth\":0,\"ticks\":\"\"},\"colorscale\":[[0.0,\"#0d0887\"],[0.1111111111111111,\"#46039f\"],[0.2222222222222222,\"#7201a8\"],[0.3333333333333333,\"#9c179e\"],[0.4444444444444444,\"#bd3786\"],[0.5555555555555556,\"#d8576b\"],[0.6666666666666666,\"#ed7953\"],[0.7777777777777778,\"#fb9f3a\"],[0.8888888888888888,\"#fdca26\"],[1.0,\"#f0f921\"]],\"type\":\"heatmapgl\"}],\"histogram\":[{\"marker\":{\"pattern\":{\"fillmode\":\"overlay\",\"size\":10,\"solidity\":0.2}},\"type\":\"histogram\"}],\"histogram2d\":[{\"colorbar\":{\"outlinewidth\":0,\"ticks\":\"\"},\"colorscale\":[[0.0,\"#0d0887\"],[0.1111111111111111,\"#46039f\"],[0.2222222222222222,\"#7201a8\"],[0.3333333333333333,\"#9c179e\"],[0.4444444444444444,\"#bd3786\"],[0.5555555555555556,\"#d8576b\"],[0.6666666666666666,\"#ed7953\"],[0.7777777777777778,\"#fb9f3a\"],[0.8888888888888888,\"#fdca26\"],[1.0,\"#f0f921\"]],\"type\":\"histogram2d\"}],\"histogram2dcontour\":[{\"colorbar\":{\"outlinewidth\":0,\"ticks\":\"\"},\"colorscale\":[[0.0,\"#0d0887\"],[0.1111111111111111,\"#46039f\"],[0.2222222222222222,\"#7201a8\"],[0.3333333333333333,\"#9c179e\"],[0.4444444444444444,\"#bd3786\"],[0.5555555555555556,\"#d8576b\"],[0.6666666666666666,\"#ed7953\"],[0.7777777777777778,\"#fb9f3a\"],[0.8888888888888888,\"#fdca26\"],[1.0,\"#f0f921\"]],\"type\":\"histogram2dcontour\"}],\"mesh3d\":[{\"colorbar\":{\"outlinewidth\":0,\"ticks\":\"\"},\"type\":\"mesh3d\"}],\"parcoords\":[{\"line\":{\"colorbar\":{\"outlinewidth\":0,\"ticks\":\"\"}},\"type\":\"parcoords\"}],\"pie\":[{\"automargin\":true,\"type\":\"pie\"}],\"scatter\":[{\"marker\":{\"colorbar\":{\"outlinewidth\":0,\"ticks\":\"\"}},\"type\":\"scatter\"}],\"scatter3d\":[{\"line\":{\"colorbar\":{\"outlinewidth\":0,\"ticks\":\"\"}},\"marker\":{\"colorbar\":{\"outlinewidth\":0,\"ticks\":\"\"}},\"type\":\"scatter3d\"}],\"scattercarpet\":[{\"marker\":{\"colorbar\":{\"outlinewidth\":0,\"ticks\":\"\"}},\"type\":\"scattercarpet\"}],\"scattergeo\":[{\"marker\":{\"colorbar\":{\"outlinewidth\":0,\"ticks\":\"\"}},\"type\":\"scattergeo\"}],\"scattergl\":[{\"marker\":{\"colorbar\":{\"outlinewidth\":0,\"ticks\":\"\"}},\"type\":\"scattergl\"}],\"scattermapbox\":[{\"marker\":{\"colorbar\":{\"outlinewidth\":0,\"ticks\":\"\"}},\"type\":\"scattermapbox\"}],\"scatterpolar\":[{\"marker\":{\"colorbar\":{\"outlinewidth\":0,\"ticks\":\"\"}},\"type\":\"scatterpolar\"}],\"scatterpolargl\":[{\"marker\":{\"colorbar\":{\"outlinewidth\":0,\"ticks\":\"\"}},\"type\":\"scatterpolargl\"}],\"scatterternary\":[{\"marker\":{\"colorbar\":{\"outlinewidth\":0,\"ticks\":\"\"}},\"type\":\"scatterternary\"}],\"surface\":[{\"colorbar\":{\"outlinewidth\":0,\"ticks\":\"\"},\"colorscale\":[[0.0,\"#0d0887\"],[0.1111111111111111,\"#46039f\"],[0.2222222222222222,\"#7201a8\"],[0.3333333333333333,\"#9c179e\"],[0.4444444444444444,\"#bd3786\"],[0.5555555555555556,\"#d8576b\"],[0.6666666666666666,\"#ed7953\"],[0.7777777777777778,\"#fb9f3a\"],[0.8888888888888888,\"#fdca26\"],[1.0,\"#f0f921\"]],\"type\":\"surface\"}],\"table\":[{\"cells\":{\"fill\":{\"color\":\"#EBF0F8\"},\"line\":{\"color\":\"white\"}},\"header\":{\"fill\":{\"color\":\"#C8D4E3\"},\"line\":{\"color\":\"white\"}},\"type\":\"table\"}]},\"layout\":{\"annotationdefaults\":{\"arrowcolor\":\"#2a3f5f\",\"arrowhead\":0,\"arrowwidth\":1},\"autotypenumbers\":\"strict\",\"coloraxis\":{\"colorbar\":{\"outlinewidth\":0,\"ticks\":\"\"}},\"colorscale\":{\"diverging\":[[0,\"#8e0152\"],[0.1,\"#c51b7d\"],[0.2,\"#de77ae\"],[0.3,\"#f1b6da\"],[0.4,\"#fde0ef\"],[0.5,\"#f7f7f7\"],[0.6,\"#e6f5d0\"],[0.7,\"#b8e186\"],[0.8,\"#7fbc41\"],[0.9,\"#4d9221\"],[1,\"#276419\"]],\"sequential\":[[0.0,\"#0d0887\"],[0.1111111111111111,\"#46039f\"],[0.2222222222222222,\"#7201a8\"],[0.3333333333333333,\"#9c179e\"],[0.4444444444444444,\"#bd3786\"],[0.5555555555555556,\"#d8576b\"],[0.6666666666666666,\"#ed7953\"],[0.7777777777777778,\"#fb9f3a\"],[0.8888888888888888,\"#fdca26\"],[1.0,\"#f0f921\"]],\"sequentialminus\":[[0.0,\"#0d0887\"],[0.1111111111111111,\"#46039f\"],[0.2222222222222222,\"#7201a8\"],[0.3333333333333333,\"#9c179e\"],[0.4444444444444444,\"#bd3786\"],[0.5555555555555556,\"#d8576b\"],[0.6666666666666666,\"#ed7953\"],[0.7777777777777778,\"#fb9f3a\"],[0.8888888888888888,\"#fdca26\"],[1.0,\"#f0f921\"]]},\"colorway\":[\"#636efa\",\"#EF553B\",\"#00cc96\",\"#ab63fa\",\"#FFA15A\",\"#19d3f3\",\"#FF6692\",\"#B6E880\",\"#FF97FF\",\"#FECB52\"],\"font\":{\"color\":\"#2a3f5f\"},\"geo\":{\"bgcolor\":\"white\",\"lakecolor\":\"white\",\"landcolor\":\"#E5ECF6\",\"showlakes\":true,\"showland\":true,\"subunitcolor\":\"white\"},\"hoverlabel\":{\"align\":\"left\"},\"hovermode\":\"closest\",\"mapbox\":{\"style\":\"light\"},\"paper_bgcolor\":\"white\",\"plot_bgcolor\":\"#E5ECF6\",\"polar\":{\"angularaxis\":{\"gridcolor\":\"white\",\"linecolor\":\"white\",\"ticks\":\"\"},\"bgcolor\":\"#E5ECF6\",\"radialaxis\":{\"gridcolor\":\"white\",\"linecolor\":\"white\",\"ticks\":\"\"}},\"scene\":{\"xaxis\":{\"backgroundcolor\":\"#E5ECF6\",\"gridcolor\":\"white\",\"gridwidth\":2,\"linecolor\":\"white\",\"showbackground\":true,\"ticks\":\"\",\"zerolinecolor\":\"white\"},\"yaxis\":{\"backgroundcolor\":\"#E5ECF6\",\"gridcolor\":\"white\",\"gridwidth\":2,\"linecolor\":\"white\",\"showbackground\":true,\"ticks\":\"\",\"zerolinecolor\":\"white\"},\"zaxis\":{\"backgroundcolor\":\"#E5ECF6\",\"gridcolor\":\"white\",\"gridwidth\":2,\"linecolor\":\"white\",\"showbackground\":true,\"ticks\":\"\",\"zerolinecolor\":\"white\"}},\"shapedefaults\":{\"line\":{\"color\":\"#2a3f5f\"}},\"ternary\":{\"aaxis\":{\"gridcolor\":\"white\",\"linecolor\":\"white\",\"ticks\":\"\"},\"baxis\":{\"gridcolor\":\"white\",\"linecolor\":\"white\",\"ticks\":\"\"},\"bgcolor\":\"#E5ECF6\",\"caxis\":{\"gridcolor\":\"white\",\"linecolor\":\"white\",\"ticks\":\"\"}},\"title\":{\"x\":0.05},\"xaxis\":{\"automargin\":true,\"gridcolor\":\"white\",\"linecolor\":\"white\",\"ticks\":\"\",\"title\":{\"standoff\":15},\"zerolinecolor\":\"white\",\"zerolinewidth\":2},\"yaxis\":{\"automargin\":true,\"gridcolor\":\"white\",\"linecolor\":\"white\",\"ticks\":\"\",\"title\":{\"standoff\":15},\"zerolinecolor\":\"white\",\"zerolinewidth\":2}}},\"xaxis\":{\"anchor\":\"y\",\"domain\":[0.0,1.0],\"title\":{\"text\":\"index\"}},\"yaxis\":{\"anchor\":\"x\",\"domain\":[0.0,1.0],\"title\":{\"text\":\"value\"}},\"legend\":{\"title\":{\"text\":\"variable\"},\"tracegroupgap\":0},\"margin\":{\"t\":60},\"barmode\":\"relative\"},                        {\"responsive\": true}                    )                };                            </script>        </div>\n</body>\n</html>",
       "datasetInfos": [],
       "metadata": {},
       "removedWidgets": [],
       "textData": null,
       "type": "htmlSandbox"
      }
     },
     "output_type": "display_data"
    }
   ],
   "source": [
    "%python\n",
    "\n",
    "# Criação de um gráfico de barras\n",
    "\n",
    "df_consulta_02.year.value_counts().sort_index().plot.bar()"
   ]
  },
  {
   "cell_type": "markdown",
   "metadata": {
    "application/vnd.databricks.v1+cell": {
     "cellMetadata": {},
     "inputWidgets": {},
     "nuid": "9ebdad39-e8dd-49b7-b171-2f6475a33f2e",
     "showTitle": false,
     "tableResultSettingsMap": {},
     "title": ""
    }
   },
   "source": [
    "\n",
    "## Qtd de músicas por décadas"
   ]
  },
  {
   "cell_type": "code",
   "execution_count": 0,
   "metadata": {
    "application/vnd.databricks.v1+cell": {
     "cellMetadata": {
      "byteLimit": 2048000,
      "rowLimit": 10000
     },
     "inputWidgets": {},
     "nuid": "fb7e8c95-580a-4d54-a73b-f5894103ea81",
     "showTitle": false,
     "tableResultSettingsMap": {},
     "title": ""
    }
   },
   "outputs": [
    {
     "output_type": "display_data",
     "data": {
      "text/html": [
       "<div>\n",
       "<style scoped>\n",
       "    .dataframe tbody tr th:only-of-type {\n",
       "        vertical-align: middle;\n",
       "    }\n",
       "\n",
       "    .dataframe tbody tr th {\n",
       "        vertical-align: top;\n",
       "    }\n",
       "\n",
       "    .dataframe thead th {\n",
       "        text-align: right;\n",
       "    }\n",
       "</style>\n",
       "<table border=\"1\" class=\"dataframe\">\n",
       "  <thead>\n",
       "    <tr style=\"text-align: right;\">\n",
       "      <th></th>\n",
       "      <th>valence</th>\n",
       "      <th>year</th>\n",
       "      <th>acousticness</th>\n",
       "      <th>artists</th>\n",
       "      <th>danceability</th>\n",
       "      <th>duration_ms</th>\n",
       "      <th>energy</th>\n",
       "      <th>explicit</th>\n",
       "      <th>id</th>\n",
       "      <th>instrumentalness</th>\n",
       "      <th>key</th>\n",
       "      <th>liveness</th>\n",
       "      <th>loudness</th>\n",
       "      <th>mode</th>\n",
       "      <th>name</th>\n",
       "      <th>popularity</th>\n",
       "      <th>release_date</th>\n",
       "      <th>speechiness</th>\n",
       "      <th>tempo</th>\n",
       "      <th>decade</th>\n",
       "    </tr>\n",
       "  </thead>\n",
       "  <tbody>\n",
       "    <tr>\n",
       "      <th>0</th>\n",
       "      <td>0</td>\n",
       "      <td>1970</td>\n",
       "      <td>0</td>\n",
       "      <td>The Velvet Underground</td>\n",
       "      <td>0</td>\n",
       "      <td>201440.0</td>\n",
       "      <td>0</td>\n",
       "      <td>0.0</td>\n",
       "      <td>60ZyiL4lmWzZyGfqyECTqp</td>\n",
       "      <td>0.0</td>\n",
       "      <td>7.0</td>\n",
       "      <td>0</td>\n",
       "      <td>-10</td>\n",
       "      <td>1.0</td>\n",
       "      <td>Train Round the Bend - 2015 Remaster</td>\n",
       "      <td>24.0</td>\n",
       "      <td>1970</td>\n",
       "      <td>0</td>\n",
       "      <td>117</td>\n",
       "      <td>1970s</td>\n",
       "    </tr>\n",
       "    <tr>\n",
       "      <th>1</th>\n",
       "      <td>0</td>\n",
       "      <td>1970</td>\n",
       "      <td>0</td>\n",
       "      <td>Ten Years After</td>\n",
       "      <td>0</td>\n",
       "      <td>458463.0</td>\n",
       "      <td>0</td>\n",
       "      <td>0.0</td>\n",
       "      <td>6DYyyUdHzI6RdSx0swUR1i</td>\n",
       "      <td>0.0</td>\n",
       "      <td>2.0</td>\n",
       "      <td>0</td>\n",
       "      <td>-9</td>\n",
       "      <td>1.0</td>\n",
       "      <td>Love Like a Man - 2017 Remaster</td>\n",
       "      <td>34.0</td>\n",
       "      <td>1970-04-01</td>\n",
       "      <td>0</td>\n",
       "      <td>107</td>\n",
       "      <td>1970s</td>\n",
       "    </tr>\n",
       "    <tr>\n",
       "      <th>2</th>\n",
       "      <td>0</td>\n",
       "      <td>1970</td>\n",
       "      <td>0</td>\n",
       "      <td>The Mothers Of Invention</td>\n",
       "      <td>0</td>\n",
       "      <td>105587.0</td>\n",
       "      <td>0</td>\n",
       "      <td>0.0</td>\n",
       "      <td>6HJAS8XZO0ctUcN2KsbLRa</td>\n",
       "      <td>NaN</td>\n",
       "      <td>11.0</td>\n",
       "      <td>0</td>\n",
       "      <td>-8</td>\n",
       "      <td>0.0</td>\n",
       "      <td>Oh No</td>\n",
       "      <td>24.0</td>\n",
       "      <td>1970-08-10</td>\n",
       "      <td>0</td>\n",
       "      <td>124</td>\n",
       "      <td>1970s</td>\n",
       "    </tr>\n",
       "    <tr>\n",
       "      <th>3</th>\n",
       "      <td>0</td>\n",
       "      <td>1970</td>\n",
       "      <td>0</td>\n",
       "      <td>Three Dog Night</td>\n",
       "      <td>0</td>\n",
       "      <td>174707.0</td>\n",
       "      <td>0</td>\n",
       "      <td>0.0</td>\n",
       "      <td>7sZ74qmKb1nyGKUgHROJ1n</td>\n",
       "      <td>0.0</td>\n",
       "      <td>7.0</td>\n",
       "      <td>0</td>\n",
       "      <td>-11</td>\n",
       "      <td>1.0</td>\n",
       "      <td>One Man Band</td>\n",
       "      <td>19.0</td>\n",
       "      <td>1970-01-01</td>\n",
       "      <td>0</td>\n",
       "      <td>121</td>\n",
       "      <td>1970s</td>\n",
       "    </tr>\n",
       "    <tr>\n",
       "      <th>4</th>\n",
       "      <td>0</td>\n",
       "      <td>1970</td>\n",
       "      <td>0</td>\n",
       "      <td>The Rolling Stones</td>\n",
       "      <td>0</td>\n",
       "      <td>246413.0</td>\n",
       "      <td>0</td>\n",
       "      <td>0.0</td>\n",
       "      <td>095WtNlSHE8TMB2gQ1fdTx</td>\n",
       "      <td>0.0</td>\n",
       "      <td>11.0</td>\n",
       "      <td>0</td>\n",
       "      <td>-7</td>\n",
       "      <td>1.0</td>\n",
       "      <td>Street Fighting Man - Live</td>\n",
       "      <td>25.0</td>\n",
       "      <td>1970-09-04</td>\n",
       "      <td>0</td>\n",
       "      <td>134</td>\n",
       "      <td>1970s</td>\n",
       "    </tr>\n",
       "  </tbody>\n",
       "</table>\n",
       "</div>"
      ]
     },
     "metadata": {
      "application/vnd.databricks.v1+output": {
       "addedWidgets": {},
       "arguments": {},
       "data": "<div>\n<style scoped>\n    .dataframe tbody tr th:only-of-type {\n        vertical-align: middle;\n    }\n\n    .dataframe tbody tr th {\n        vertical-align: top;\n    }\n\n    .dataframe thead th {\n        text-align: right;\n    }\n</style>\n<table border=\"1\" class=\"dataframe\">\n  <thead>\n    <tr style=\"text-align: right;\">\n      <th></th>\n      <th>valence</th>\n      <th>year</th>\n      <th>acousticness</th>\n      <th>artists</th>\n      <th>danceability</th>\n      <th>duration_ms</th>\n      <th>energy</th>\n      <th>explicit</th>\n      <th>id</th>\n      <th>instrumentalness</th>\n      <th>key</th>\n      <th>liveness</th>\n      <th>loudness</th>\n      <th>mode</th>\n      <th>name</th>\n      <th>popularity</th>\n      <th>release_date</th>\n      <th>speechiness</th>\n      <th>tempo</th>\n      <th>decade</th>\n    </tr>\n  </thead>\n  <tbody>\n    <tr>\n      <th>0</th>\n      <td>0</td>\n      <td>1970</td>\n      <td>0</td>\n      <td>The Velvet Underground</td>\n      <td>0</td>\n      <td>201440.0</td>\n      <td>0</td>\n      <td>0.0</td>\n      <td>60ZyiL4lmWzZyGfqyECTqp</td>\n      <td>0.0</td>\n      <td>7.0</td>\n      <td>0</td>\n      <td>-10</td>\n      <td>1.0</td>\n      <td>Train Round the Bend - 2015 Remaster</td>\n      <td>24.0</td>\n      <td>1970</td>\n      <td>0</td>\n      <td>117</td>\n      <td>1970s</td>\n    </tr>\n    <tr>\n      <th>1</th>\n      <td>0</td>\n      <td>1970</td>\n      <td>0</td>\n      <td>Ten Years After</td>\n      <td>0</td>\n      <td>458463.0</td>\n      <td>0</td>\n      <td>0.0</td>\n      <td>6DYyyUdHzI6RdSx0swUR1i</td>\n      <td>0.0</td>\n      <td>2.0</td>\n      <td>0</td>\n      <td>-9</td>\n      <td>1.0</td>\n      <td>Love Like a Man - 2017 Remaster</td>\n      <td>34.0</td>\n      <td>1970-04-01</td>\n      <td>0</td>\n      <td>107</td>\n      <td>1970s</td>\n    </tr>\n    <tr>\n      <th>2</th>\n      <td>0</td>\n      <td>1970</td>\n      <td>0</td>\n      <td>The Mothers Of Invention</td>\n      <td>0</td>\n      <td>105587.0</td>\n      <td>0</td>\n      <td>0.0</td>\n      <td>6HJAS8XZO0ctUcN2KsbLRa</td>\n      <td>NaN</td>\n      <td>11.0</td>\n      <td>0</td>\n      <td>-8</td>\n      <td>0.0</td>\n      <td>Oh No</td>\n      <td>24.0</td>\n      <td>1970-08-10</td>\n      <td>0</td>\n      <td>124</td>\n      <td>1970s</td>\n    </tr>\n    <tr>\n      <th>3</th>\n      <td>0</td>\n      <td>1970</td>\n      <td>0</td>\n      <td>Three Dog Night</td>\n      <td>0</td>\n      <td>174707.0</td>\n      <td>0</td>\n      <td>0.0</td>\n      <td>7sZ74qmKb1nyGKUgHROJ1n</td>\n      <td>0.0</td>\n      <td>7.0</td>\n      <td>0</td>\n      <td>-11</td>\n      <td>1.0</td>\n      <td>One Man Band</td>\n      <td>19.0</td>\n      <td>1970-01-01</td>\n      <td>0</td>\n      <td>121</td>\n      <td>1970s</td>\n    </tr>\n    <tr>\n      <th>4</th>\n      <td>0</td>\n      <td>1970</td>\n      <td>0</td>\n      <td>The Rolling Stones</td>\n      <td>0</td>\n      <td>246413.0</td>\n      <td>0</td>\n      <td>0.0</td>\n      <td>095WtNlSHE8TMB2gQ1fdTx</td>\n      <td>0.0</td>\n      <td>11.0</td>\n      <td>0</td>\n      <td>-7</td>\n      <td>1.0</td>\n      <td>Street Fighting Man - Live</td>\n      <td>25.0</td>\n      <td>1970-09-04</td>\n      <td>0</td>\n      <td>134</td>\n      <td>1970s</td>\n    </tr>\n  </tbody>\n</table>\n</div>",
       "datasetInfos": [],
       "metadata": {},
       "removedWidgets": [],
       "textData": null,
       "type": "htmlSandbox"
      }
     },
     "output_type": "display_data"
    }
   ],
   "source": [
    "%python\n",
    "\n",
    "# Criação da coluna (decade) para separada as músicas por décadas\n",
    "\n",
    "df_consulta_02['decade'] = df_consulta_02.year.apply(lambda year: f'{(year//10)*10}s')\n",
    "\n",
    "df_consulta_02.head()"
   ]
  },
  {
   "cell_type": "markdown",
   "metadata": {
    "application/vnd.databricks.v1+cell": {
     "cellMetadata": {},
     "inputWidgets": {},
     "nuid": "8853630a-21bc-43ae-8d7c-c0006a52a57c",
     "showTitle": false,
     "tableResultSettingsMap": {},
     "title": ""
    }
   },
   "source": [
    "\n",
    "## Criar novo df a partir do df original"
   ]
  },
  {
   "cell_type": "code",
   "execution_count": 0,
   "metadata": {
    "application/vnd.databricks.v1+cell": {
     "cellMetadata": {
      "byteLimit": 2048000,
      "rowLimit": 10000
     },
     "inputWidgets": {},
     "nuid": "2f5eae38-9ec4-47f7-8353-a91fd78f6d9c",
     "showTitle": false,
     "tableResultSettingsMap": {},
     "title": ""
    }
   },
   "outputs": [
    {
     "output_type": "stream",
     "name": "stdout",
     "output_type": "stream",
     "text": [
      "Out[65]: decade    170653\nqtd       170653\ndtype: int64"
     ]
    }
   ],
   "source": [
    "%python\n",
    "\n",
    "# Criação de um novo data frame a partir do df original\n",
    "\n",
    "df_consulta_03 = df_consulta_02[['decade']]\n",
    "df_consulta_03['qtd'] = 1\n",
    "df_consulta_03.count()"
   ]
  },
  {
   "cell_type": "markdown",
   "metadata": {
    "application/vnd.databricks.v1+cell": {
     "cellMetadata": {},
     "inputWidgets": {},
     "nuid": "6288bcd9-5206-48ed-b479-abdb7d2536bf",
     "showTitle": false,
     "tableResultSettingsMap": {},
     "title": ""
    }
   },
   "source": [
    "\n",
    "## Agrupamento das músicas por décadas"
   ]
  },
  {
   "cell_type": "code",
   "execution_count": 0,
   "metadata": {
    "application/vnd.databricks.v1+cell": {
     "cellMetadata": {
      "byteLimit": 2048000,
      "rowLimit": 10000
     },
     "inputWidgets": {},
     "nuid": "d5ab276b-4eaa-44d0-81fb-565ae55ef0c8",
     "showTitle": false,
     "tableResultSettingsMap": {},
     "title": ""
    }
   },
   "outputs": [
    {
     "output_type": "display_data",
     "data": {
      "text/html": [
       "<div>\n",
       "<style scoped>\n",
       "    .dataframe tbody tr th:only-of-type {\n",
       "        vertical-align: middle;\n",
       "    }\n",
       "\n",
       "    .dataframe tbody tr th {\n",
       "        vertical-align: top;\n",
       "    }\n",
       "\n",
       "    .dataframe thead th {\n",
       "        text-align: right;\n",
       "    }\n",
       "</style>\n",
       "<table border=\"1\" class=\"dataframe\">\n",
       "  <thead>\n",
       "    <tr style=\"text-align: right;\">\n",
       "      <th></th>\n",
       "      <th>qtd</th>\n",
       "    </tr>\n",
       "    <tr>\n",
       "      <th>decade</th>\n",
       "      <th></th>\n",
       "    </tr>\n",
       "  </thead>\n",
       "  <tbody>\n",
       "    <tr>\n",
       "      <th>1920s</th>\n",
       "      <td>5126</td>\n",
       "    </tr>\n",
       "    <tr>\n",
       "      <th>1930s</th>\n",
       "      <td>9549</td>\n",
       "    </tr>\n",
       "    <tr>\n",
       "      <th>1940s</th>\n",
       "      <td>15378</td>\n",
       "    </tr>\n",
       "    <tr>\n",
       "      <th>1950s</th>\n",
       "      <td>19850</td>\n",
       "    </tr>\n",
       "    <tr>\n",
       "      <th>1960s</th>\n",
       "      <td>19549</td>\n",
       "    </tr>\n",
       "    <tr>\n",
       "      <th>1970s</th>\n",
       "      <td>20000</td>\n",
       "    </tr>\n",
       "    <tr>\n",
       "      <th>1980s</th>\n",
       "      <td>19850</td>\n",
       "    </tr>\n",
       "    <tr>\n",
       "      <th>1990s</th>\n",
       "      <td>19901</td>\n",
       "    </tr>\n",
       "    <tr>\n",
       "      <th>2000s</th>\n",
       "      <td>19646</td>\n",
       "    </tr>\n",
       "    <tr>\n",
       "      <th>2010s</th>\n",
       "      <td>19774</td>\n",
       "    </tr>\n",
       "    <tr>\n",
       "      <th>2020s</th>\n",
       "      <td>2030</td>\n",
       "    </tr>\n",
       "  </tbody>\n",
       "</table>\n",
       "</div>"
      ]
     },
     "metadata": {
      "application/vnd.databricks.v1+output": {
       "addedWidgets": {},
       "arguments": {},
       "data": "<div>\n<style scoped>\n    .dataframe tbody tr th:only-of-type {\n        vertical-align: middle;\n    }\n\n    .dataframe tbody tr th {\n        vertical-align: top;\n    }\n\n    .dataframe thead th {\n        text-align: right;\n    }\n</style>\n<table border=\"1\" class=\"dataframe\">\n  <thead>\n    <tr style=\"text-align: right;\">\n      <th></th>\n      <th>qtd</th>\n    </tr>\n    <tr>\n      <th>decade</th>\n      <th></th>\n    </tr>\n  </thead>\n  <tbody>\n    <tr>\n      <th>1920s</th>\n      <td>5126</td>\n    </tr>\n    <tr>\n      <th>1930s</th>\n      <td>9549</td>\n    </tr>\n    <tr>\n      <th>1940s</th>\n      <td>15378</td>\n    </tr>\n    <tr>\n      <th>1950s</th>\n      <td>19850</td>\n    </tr>\n    <tr>\n      <th>1960s</th>\n      <td>19549</td>\n    </tr>\n    <tr>\n      <th>1970s</th>\n      <td>20000</td>\n    </tr>\n    <tr>\n      <th>1980s</th>\n      <td>19850</td>\n    </tr>\n    <tr>\n      <th>1990s</th>\n      <td>19901</td>\n    </tr>\n    <tr>\n      <th>2000s</th>\n      <td>19646</td>\n    </tr>\n    <tr>\n      <th>2010s</th>\n      <td>19774</td>\n    </tr>\n    <tr>\n      <th>2020s</th>\n      <td>2030</td>\n    </tr>\n  </tbody>\n</table>\n</div>",
       "datasetInfos": [],
       "metadata": {},
       "removedWidgets": [],
       "textData": null,
       "type": "htmlSandbox"
      }
     },
     "output_type": "display_data"
    }
   ],
   "source": [
    "%python\n",
    "\n",
    "# Agrupamento das músicas por décadas\n",
    "# Comentamos a parte abaixo para que não tente sobreescrever o data frame já criado e gerar um erro\n",
    "\n",
    "'''\n",
    "df_consulta_03 = df_consulta_03.groupby('decade').sum()\n",
    "'''\n",
    "df_consulta_03.sort_index()"
   ]
  },
  {
   "cell_type": "markdown",
   "metadata": {
    "application/vnd.databricks.v1+cell": {
     "cellMetadata": {},
     "inputWidgets": {},
     "nuid": "2bbc52f5-097b-4bf5-b6d2-25847249d6b3",
     "showTitle": false,
     "tableResultSettingsMap": {},
     "title": ""
    }
   },
   "source": [
    "\n",
    "## Criação de gráfico de barras"
   ]
  },
  {
   "cell_type": "code",
   "execution_count": 0,
   "metadata": {
    "application/vnd.databricks.v1+cell": {
     "cellMetadata": {
      "byteLimit": 2048000,
      "rowLimit": 10000
     },
     "inputWidgets": {},
     "nuid": "e9b6acde-4b7b-4a01-8f09-02bbb1149788",
     "showTitle": false,
     "tableResultSettingsMap": {},
     "title": ""
    }
   },
   "outputs": [
    {
     "output_type": "display_data",
     "data": {
      "text/html": [
       "<html>\n",
       "<head><meta charset=\"utf-8\" /></head>\n",
       "<body>\n",
       "    <div>            <script src=\"https://cdnjs.cloudflare.com/ajax/libs/mathjax/2.7.5/MathJax.js?config=TeX-AMS-MML_SVG\"></script><script type=\"text/javascript\">if (window.MathJax) {MathJax.Hub.Config({SVG: {font: \"STIX-Web\"}});}</script>                <script type=\"text/javascript\">window.PlotlyConfig = {MathJaxConfig: 'local'};</script>\n",
       "        <script src=\"https://cdn.plot.ly/plotly-2.9.0.min.js\"></script>                <div id=\"f64cc560-56f0-40cc-8a06-164172018741\" class=\"plotly-graph-div\" style=\"height:100%; width:100%;\"></div>            <script type=\"text/javascript\">                                    window.PLOTLYENV=window.PLOTLYENV || {};                                    if (document.getElementById(\"f64cc560-56f0-40cc-8a06-164172018741\")) {                    Plotly.newPlot(                        \"f64cc560-56f0-40cc-8a06-164172018741\",                        [{\"alignmentgroup\":\"True\",\"hovertemplate\":\"decade=%{x}<br>qtd=%{y}<extra></extra>\",\"legendgroup\":\"\",\"marker\":{\"color\":\"#636efa\",\"pattern\":{\"shape\":\"\"}},\"name\":\"\",\"offsetgroup\":\"\",\"orientation\":\"v\",\"showlegend\":false,\"textposition\":\"auto\",\"x\":[\"1920s\",\"1930s\",\"1940s\",\"1950s\",\"1960s\",\"1970s\",\"1980s\",\"1990s\",\"2000s\",\"2010s\",\"2020s\"],\"xaxis\":\"x\",\"y\":[5126,9549,15378,19850,19549,20000,19850,19901,19646,19774,2030],\"yaxis\":\"y\",\"type\":\"bar\"}],                        {\"template\":{\"data\":{\"bar\":[{\"error_x\":{\"color\":\"#2a3f5f\"},\"error_y\":{\"color\":\"#2a3f5f\"},\"marker\":{\"line\":{\"color\":\"#E5ECF6\",\"width\":0.5},\"pattern\":{\"fillmode\":\"overlay\",\"size\":10,\"solidity\":0.2}},\"type\":\"bar\"}],\"barpolar\":[{\"marker\":{\"line\":{\"color\":\"#E5ECF6\",\"width\":0.5},\"pattern\":{\"fillmode\":\"overlay\",\"size\":10,\"solidity\":0.2}},\"type\":\"barpolar\"}],\"carpet\":[{\"aaxis\":{\"endlinecolor\":\"#2a3f5f\",\"gridcolor\":\"white\",\"linecolor\":\"white\",\"minorgridcolor\":\"white\",\"startlinecolor\":\"#2a3f5f\"},\"baxis\":{\"endlinecolor\":\"#2a3f5f\",\"gridcolor\":\"white\",\"linecolor\":\"white\",\"minorgridcolor\":\"white\",\"startlinecolor\":\"#2a3f5f\"},\"type\":\"carpet\"}],\"choropleth\":[{\"colorbar\":{\"outlinewidth\":0,\"ticks\":\"\"},\"type\":\"choropleth\"}],\"contour\":[{\"colorbar\":{\"outlinewidth\":0,\"ticks\":\"\"},\"colorscale\":[[0.0,\"#0d0887\"],[0.1111111111111111,\"#46039f\"],[0.2222222222222222,\"#7201a8\"],[0.3333333333333333,\"#9c179e\"],[0.4444444444444444,\"#bd3786\"],[0.5555555555555556,\"#d8576b\"],[0.6666666666666666,\"#ed7953\"],[0.7777777777777778,\"#fb9f3a\"],[0.8888888888888888,\"#fdca26\"],[1.0,\"#f0f921\"]],\"type\":\"contour\"}],\"contourcarpet\":[{\"colorbar\":{\"outlinewidth\":0,\"ticks\":\"\"},\"type\":\"contourcarpet\"}],\"heatmap\":[{\"colorbar\":{\"outlinewidth\":0,\"ticks\":\"\"},\"colorscale\":[[0.0,\"#0d0887\"],[0.1111111111111111,\"#46039f\"],[0.2222222222222222,\"#7201a8\"],[0.3333333333333333,\"#9c179e\"],[0.4444444444444444,\"#bd3786\"],[0.5555555555555556,\"#d8576b\"],[0.6666666666666666,\"#ed7953\"],[0.7777777777777778,\"#fb9f3a\"],[0.8888888888888888,\"#fdca26\"],[1.0,\"#f0f921\"]],\"type\":\"heatmap\"}],\"heatmapgl\":[{\"colorbar\":{\"outlinewidth\":0,\"ticks\":\"\"},\"colorscale\":[[0.0,\"#0d0887\"],[0.1111111111111111,\"#46039f\"],[0.2222222222222222,\"#7201a8\"],[0.3333333333333333,\"#9c179e\"],[0.4444444444444444,\"#bd3786\"],[0.5555555555555556,\"#d8576b\"],[0.6666666666666666,\"#ed7953\"],[0.7777777777777778,\"#fb9f3a\"],[0.8888888888888888,\"#fdca26\"],[1.0,\"#f0f921\"]],\"type\":\"heatmapgl\"}],\"histogram\":[{\"marker\":{\"pattern\":{\"fillmode\":\"overlay\",\"size\":10,\"solidity\":0.2}},\"type\":\"histogram\"}],\"histogram2d\":[{\"colorbar\":{\"outlinewidth\":0,\"ticks\":\"\"},\"colorscale\":[[0.0,\"#0d0887\"],[0.1111111111111111,\"#46039f\"],[0.2222222222222222,\"#7201a8\"],[0.3333333333333333,\"#9c179e\"],[0.4444444444444444,\"#bd3786\"],[0.5555555555555556,\"#d8576b\"],[0.6666666666666666,\"#ed7953\"],[0.7777777777777778,\"#fb9f3a\"],[0.8888888888888888,\"#fdca26\"],[1.0,\"#f0f921\"]],\"type\":\"histogram2d\"}],\"histogram2dcontour\":[{\"colorbar\":{\"outlinewidth\":0,\"ticks\":\"\"},\"colorscale\":[[0.0,\"#0d0887\"],[0.1111111111111111,\"#46039f\"],[0.2222222222222222,\"#7201a8\"],[0.3333333333333333,\"#9c179e\"],[0.4444444444444444,\"#bd3786\"],[0.5555555555555556,\"#d8576b\"],[0.6666666666666666,\"#ed7953\"],[0.7777777777777778,\"#fb9f3a\"],[0.8888888888888888,\"#fdca26\"],[1.0,\"#f0f921\"]],\"type\":\"histogram2dcontour\"}],\"mesh3d\":[{\"colorbar\":{\"outlinewidth\":0,\"ticks\":\"\"},\"type\":\"mesh3d\"}],\"parcoords\":[{\"line\":{\"colorbar\":{\"outlinewidth\":0,\"ticks\":\"\"}},\"type\":\"parcoords\"}],\"pie\":[{\"automargin\":true,\"type\":\"pie\"}],\"scatter\":[{\"marker\":{\"colorbar\":{\"outlinewidth\":0,\"ticks\":\"\"}},\"type\":\"scatter\"}],\"scatter3d\":[{\"line\":{\"colorbar\":{\"outlinewidth\":0,\"ticks\":\"\"}},\"marker\":{\"colorbar\":{\"outlinewidth\":0,\"ticks\":\"\"}},\"type\":\"scatter3d\"}],\"scattercarpet\":[{\"marker\":{\"colorbar\":{\"outlinewidth\":0,\"ticks\":\"\"}},\"type\":\"scattercarpet\"}],\"scattergeo\":[{\"marker\":{\"colorbar\":{\"outlinewidth\":0,\"ticks\":\"\"}},\"type\":\"scattergeo\"}],\"scattergl\":[{\"marker\":{\"colorbar\":{\"outlinewidth\":0,\"ticks\":\"\"}},\"type\":\"scattergl\"}],\"scattermapbox\":[{\"marker\":{\"colorbar\":{\"outlinewidth\":0,\"ticks\":\"\"}},\"type\":\"scattermapbox\"}],\"scatterpolar\":[{\"marker\":{\"colorbar\":{\"outlinewidth\":0,\"ticks\":\"\"}},\"type\":\"scatterpolar\"}],\"scatterpolargl\":[{\"marker\":{\"colorbar\":{\"outlinewidth\":0,\"ticks\":\"\"}},\"type\":\"scatterpolargl\"}],\"scatterternary\":[{\"marker\":{\"colorbar\":{\"outlinewidth\":0,\"ticks\":\"\"}},\"type\":\"scatterternary\"}],\"surface\":[{\"colorbar\":{\"outlinewidth\":0,\"ticks\":\"\"},\"colorscale\":[[0.0,\"#0d0887\"],[0.1111111111111111,\"#46039f\"],[0.2222222222222222,\"#7201a8\"],[0.3333333333333333,\"#9c179e\"],[0.4444444444444444,\"#bd3786\"],[0.5555555555555556,\"#d8576b\"],[0.6666666666666666,\"#ed7953\"],[0.7777777777777778,\"#fb9f3a\"],[0.8888888888888888,\"#fdca26\"],[1.0,\"#f0f921\"]],\"type\":\"surface\"}],\"table\":[{\"cells\":{\"fill\":{\"color\":\"#EBF0F8\"},\"line\":{\"color\":\"white\"}},\"header\":{\"fill\":{\"color\":\"#C8D4E3\"},\"line\":{\"color\":\"white\"}},\"type\":\"table\"}]},\"layout\":{\"annotationdefaults\":{\"arrowcolor\":\"#2a3f5f\",\"arrowhead\":0,\"arrowwidth\":1},\"autotypenumbers\":\"strict\",\"coloraxis\":{\"colorbar\":{\"outlinewidth\":0,\"ticks\":\"\"}},\"colorscale\":{\"diverging\":[[0,\"#8e0152\"],[0.1,\"#c51b7d\"],[0.2,\"#de77ae\"],[0.3,\"#f1b6da\"],[0.4,\"#fde0ef\"],[0.5,\"#f7f7f7\"],[0.6,\"#e6f5d0\"],[0.7,\"#b8e186\"],[0.8,\"#7fbc41\"],[0.9,\"#4d9221\"],[1,\"#276419\"]],\"sequential\":[[0.0,\"#0d0887\"],[0.1111111111111111,\"#46039f\"],[0.2222222222222222,\"#7201a8\"],[0.3333333333333333,\"#9c179e\"],[0.4444444444444444,\"#bd3786\"],[0.5555555555555556,\"#d8576b\"],[0.6666666666666666,\"#ed7953\"],[0.7777777777777778,\"#fb9f3a\"],[0.8888888888888888,\"#fdca26\"],[1.0,\"#f0f921\"]],\"sequentialminus\":[[0.0,\"#0d0887\"],[0.1111111111111111,\"#46039f\"],[0.2222222222222222,\"#7201a8\"],[0.3333333333333333,\"#9c179e\"],[0.4444444444444444,\"#bd3786\"],[0.5555555555555556,\"#d8576b\"],[0.6666666666666666,\"#ed7953\"],[0.7777777777777778,\"#fb9f3a\"],[0.8888888888888888,\"#fdca26\"],[1.0,\"#f0f921\"]]},\"colorway\":[\"#636efa\",\"#EF553B\",\"#00cc96\",\"#ab63fa\",\"#FFA15A\",\"#19d3f3\",\"#FF6692\",\"#B6E880\",\"#FF97FF\",\"#FECB52\"],\"font\":{\"color\":\"#2a3f5f\"},\"geo\":{\"bgcolor\":\"white\",\"lakecolor\":\"white\",\"landcolor\":\"#E5ECF6\",\"showlakes\":true,\"showland\":true,\"subunitcolor\":\"white\"},\"hoverlabel\":{\"align\":\"left\"},\"hovermode\":\"closest\",\"mapbox\":{\"style\":\"light\"},\"paper_bgcolor\":\"white\",\"plot_bgcolor\":\"#E5ECF6\",\"polar\":{\"angularaxis\":{\"gridcolor\":\"white\",\"linecolor\":\"white\",\"ticks\":\"\"},\"bgcolor\":\"#E5ECF6\",\"radialaxis\":{\"gridcolor\":\"white\",\"linecolor\":\"white\",\"ticks\":\"\"}},\"scene\":{\"xaxis\":{\"backgroundcolor\":\"#E5ECF6\",\"gridcolor\":\"white\",\"gridwidth\":2,\"linecolor\":\"white\",\"showbackground\":true,\"ticks\":\"\",\"zerolinecolor\":\"white\"},\"yaxis\":{\"backgroundcolor\":\"#E5ECF6\",\"gridcolor\":\"white\",\"gridwidth\":2,\"linecolor\":\"white\",\"showbackground\":true,\"ticks\":\"\",\"zerolinecolor\":\"white\"},\"zaxis\":{\"backgroundcolor\":\"#E5ECF6\",\"gridcolor\":\"white\",\"gridwidth\":2,\"linecolor\":\"white\",\"showbackground\":true,\"ticks\":\"\",\"zerolinecolor\":\"white\"}},\"shapedefaults\":{\"line\":{\"color\":\"#2a3f5f\"}},\"ternary\":{\"aaxis\":{\"gridcolor\":\"white\",\"linecolor\":\"white\",\"ticks\":\"\"},\"baxis\":{\"gridcolor\":\"white\",\"linecolor\":\"white\",\"ticks\":\"\"},\"bgcolor\":\"#E5ECF6\",\"caxis\":{\"gridcolor\":\"white\",\"linecolor\":\"white\",\"ticks\":\"\"}},\"title\":{\"x\":0.05},\"xaxis\":{\"automargin\":true,\"gridcolor\":\"white\",\"linecolor\":\"white\",\"ticks\":\"\",\"title\":{\"standoff\":15},\"zerolinecolor\":\"white\",\"zerolinewidth\":2},\"yaxis\":{\"automargin\":true,\"gridcolor\":\"white\",\"linecolor\":\"white\",\"ticks\":\"\",\"title\":{\"standoff\":15},\"zerolinecolor\":\"white\",\"zerolinewidth\":2}}},\"xaxis\":{\"anchor\":\"y\",\"domain\":[0.0,1.0],\"title\":{\"text\":\"decade\"}},\"yaxis\":{\"anchor\":\"x\",\"domain\":[0.0,1.0],\"title\":{\"text\":\"qtd\"}},\"legend\":{\"tracegroupgap\":0},\"margin\":{\"t\":60},\"barmode\":\"relative\"},                        {\"responsive\": true}                    )                };                            </script>        </div>\n",
       "</body>\n",
       "</html>"
      ]
     },
     "metadata": {
      "application/vnd.databricks.v1+output": {
       "addedWidgets": {},
       "arguments": {},
       "data": "<html>\n<head><meta charset=\"utf-8\" /></head>\n<body>\n    <div>            <script src=\"https://cdnjs.cloudflare.com/ajax/libs/mathjax/2.7.5/MathJax.js?config=TeX-AMS-MML_SVG\"></script><script type=\"text/javascript\">if (window.MathJax) {MathJax.Hub.Config({SVG: {font: \"STIX-Web\"}});}</script>                <script type=\"text/javascript\">window.PlotlyConfig = {MathJaxConfig: 'local'};</script>\n        <script src=\"https://cdn.plot.ly/plotly-2.9.0.min.js\"></script>                <div id=\"f64cc560-56f0-40cc-8a06-164172018741\" class=\"plotly-graph-div\" style=\"height:100%; width:100%;\"></div>            <script type=\"text/javascript\">                                    window.PLOTLYENV=window.PLOTLYENV || {};                                    if (document.getElementById(\"f64cc560-56f0-40cc-8a06-164172018741\")) {                    Plotly.newPlot(                        \"f64cc560-56f0-40cc-8a06-164172018741\",                        [{\"alignmentgroup\":\"True\",\"hovertemplate\":\"decade=%{x}<br>qtd=%{y}<extra></extra>\",\"legendgroup\":\"\",\"marker\":{\"color\":\"#636efa\",\"pattern\":{\"shape\":\"\"}},\"name\":\"\",\"offsetgroup\":\"\",\"orientation\":\"v\",\"showlegend\":false,\"textposition\":\"auto\",\"x\":[\"1920s\",\"1930s\",\"1940s\",\"1950s\",\"1960s\",\"1970s\",\"1980s\",\"1990s\",\"2000s\",\"2010s\",\"2020s\"],\"xaxis\":\"x\",\"y\":[5126,9549,15378,19850,19549,20000,19850,19901,19646,19774,2030],\"yaxis\":\"y\",\"type\":\"bar\"}],                        {\"template\":{\"data\":{\"bar\":[{\"error_x\":{\"color\":\"#2a3f5f\"},\"error_y\":{\"color\":\"#2a3f5f\"},\"marker\":{\"line\":{\"color\":\"#E5ECF6\",\"width\":0.5},\"pattern\":{\"fillmode\":\"overlay\",\"size\":10,\"solidity\":0.2}},\"type\":\"bar\"}],\"barpolar\":[{\"marker\":{\"line\":{\"color\":\"#E5ECF6\",\"width\":0.5},\"pattern\":{\"fillmode\":\"overlay\",\"size\":10,\"solidity\":0.2}},\"type\":\"barpolar\"}],\"carpet\":[{\"aaxis\":{\"endlinecolor\":\"#2a3f5f\",\"gridcolor\":\"white\",\"linecolor\":\"white\",\"minorgridcolor\":\"white\",\"startlinecolor\":\"#2a3f5f\"},\"baxis\":{\"endlinecolor\":\"#2a3f5f\",\"gridcolor\":\"white\",\"linecolor\":\"white\",\"minorgridcolor\":\"white\",\"startlinecolor\":\"#2a3f5f\"},\"type\":\"carpet\"}],\"choropleth\":[{\"colorbar\":{\"outlinewidth\":0,\"ticks\":\"\"},\"type\":\"choropleth\"}],\"contour\":[{\"colorbar\":{\"outlinewidth\":0,\"ticks\":\"\"},\"colorscale\":[[0.0,\"#0d0887\"],[0.1111111111111111,\"#46039f\"],[0.2222222222222222,\"#7201a8\"],[0.3333333333333333,\"#9c179e\"],[0.4444444444444444,\"#bd3786\"],[0.5555555555555556,\"#d8576b\"],[0.6666666666666666,\"#ed7953\"],[0.7777777777777778,\"#fb9f3a\"],[0.8888888888888888,\"#fdca26\"],[1.0,\"#f0f921\"]],\"type\":\"contour\"}],\"contourcarpet\":[{\"colorbar\":{\"outlinewidth\":0,\"ticks\":\"\"},\"type\":\"contourcarpet\"}],\"heatmap\":[{\"colorbar\":{\"outlinewidth\":0,\"ticks\":\"\"},\"colorscale\":[[0.0,\"#0d0887\"],[0.1111111111111111,\"#46039f\"],[0.2222222222222222,\"#7201a8\"],[0.3333333333333333,\"#9c179e\"],[0.4444444444444444,\"#bd3786\"],[0.5555555555555556,\"#d8576b\"],[0.6666666666666666,\"#ed7953\"],[0.7777777777777778,\"#fb9f3a\"],[0.8888888888888888,\"#fdca26\"],[1.0,\"#f0f921\"]],\"type\":\"heatmap\"}],\"heatmapgl\":[{\"colorbar\":{\"outlinewidth\":0,\"ticks\":\"\"},\"colorscale\":[[0.0,\"#0d0887\"],[0.1111111111111111,\"#46039f\"],[0.2222222222222222,\"#7201a8\"],[0.3333333333333333,\"#9c179e\"],[0.4444444444444444,\"#bd3786\"],[0.5555555555555556,\"#d8576b\"],[0.6666666666666666,\"#ed7953\"],[0.7777777777777778,\"#fb9f3a\"],[0.8888888888888888,\"#fdca26\"],[1.0,\"#f0f921\"]],\"type\":\"heatmapgl\"}],\"histogram\":[{\"marker\":{\"pattern\":{\"fillmode\":\"overlay\",\"size\":10,\"solidity\":0.2}},\"type\":\"histogram\"}],\"histogram2d\":[{\"colorbar\":{\"outlinewidth\":0,\"ticks\":\"\"},\"colorscale\":[[0.0,\"#0d0887\"],[0.1111111111111111,\"#46039f\"],[0.2222222222222222,\"#7201a8\"],[0.3333333333333333,\"#9c179e\"],[0.4444444444444444,\"#bd3786\"],[0.5555555555555556,\"#d8576b\"],[0.6666666666666666,\"#ed7953\"],[0.7777777777777778,\"#fb9f3a\"],[0.8888888888888888,\"#fdca26\"],[1.0,\"#f0f921\"]],\"type\":\"histogram2d\"}],\"histogram2dcontour\":[{\"colorbar\":{\"outlinewidth\":0,\"ticks\":\"\"},\"colorscale\":[[0.0,\"#0d0887\"],[0.1111111111111111,\"#46039f\"],[0.2222222222222222,\"#7201a8\"],[0.3333333333333333,\"#9c179e\"],[0.4444444444444444,\"#bd3786\"],[0.5555555555555556,\"#d8576b\"],[0.6666666666666666,\"#ed7953\"],[0.7777777777777778,\"#fb9f3a\"],[0.8888888888888888,\"#fdca26\"],[1.0,\"#f0f921\"]],\"type\":\"histogram2dcontour\"}],\"mesh3d\":[{\"colorbar\":{\"outlinewidth\":0,\"ticks\":\"\"},\"type\":\"mesh3d\"}],\"parcoords\":[{\"line\":{\"colorbar\":{\"outlinewidth\":0,\"ticks\":\"\"}},\"type\":\"parcoords\"}],\"pie\":[{\"automargin\":true,\"type\":\"pie\"}],\"scatter\":[{\"marker\":{\"colorbar\":{\"outlinewidth\":0,\"ticks\":\"\"}},\"type\":\"scatter\"}],\"scatter3d\":[{\"line\":{\"colorbar\":{\"outlinewidth\":0,\"ticks\":\"\"}},\"marker\":{\"colorbar\":{\"outlinewidth\":0,\"ticks\":\"\"}},\"type\":\"scatter3d\"}],\"scattercarpet\":[{\"marker\":{\"colorbar\":{\"outlinewidth\":0,\"ticks\":\"\"}},\"type\":\"scattercarpet\"}],\"scattergeo\":[{\"marker\":{\"colorbar\":{\"outlinewidth\":0,\"ticks\":\"\"}},\"type\":\"scattergeo\"}],\"scattergl\":[{\"marker\":{\"colorbar\":{\"outlinewidth\":0,\"ticks\":\"\"}},\"type\":\"scattergl\"}],\"scattermapbox\":[{\"marker\":{\"colorbar\":{\"outlinewidth\":0,\"ticks\":\"\"}},\"type\":\"scattermapbox\"}],\"scatterpolar\":[{\"marker\":{\"colorbar\":{\"outlinewidth\":0,\"ticks\":\"\"}},\"type\":\"scatterpolar\"}],\"scatterpolargl\":[{\"marker\":{\"colorbar\":{\"outlinewidth\":0,\"ticks\":\"\"}},\"type\":\"scatterpolargl\"}],\"scatterternary\":[{\"marker\":{\"colorbar\":{\"outlinewidth\":0,\"ticks\":\"\"}},\"type\":\"scatterternary\"}],\"surface\":[{\"colorbar\":{\"outlinewidth\":0,\"ticks\":\"\"},\"colorscale\":[[0.0,\"#0d0887\"],[0.1111111111111111,\"#46039f\"],[0.2222222222222222,\"#7201a8\"],[0.3333333333333333,\"#9c179e\"],[0.4444444444444444,\"#bd3786\"],[0.5555555555555556,\"#d8576b\"],[0.6666666666666666,\"#ed7953\"],[0.7777777777777778,\"#fb9f3a\"],[0.8888888888888888,\"#fdca26\"],[1.0,\"#f0f921\"]],\"type\":\"surface\"}],\"table\":[{\"cells\":{\"fill\":{\"color\":\"#EBF0F8\"},\"line\":{\"color\":\"white\"}},\"header\":{\"fill\":{\"color\":\"#C8D4E3\"},\"line\":{\"color\":\"white\"}},\"type\":\"table\"}]},\"layout\":{\"annotationdefaults\":{\"arrowcolor\":\"#2a3f5f\",\"arrowhead\":0,\"arrowwidth\":1},\"autotypenumbers\":\"strict\",\"coloraxis\":{\"colorbar\":{\"outlinewidth\":0,\"ticks\":\"\"}},\"colorscale\":{\"diverging\":[[0,\"#8e0152\"],[0.1,\"#c51b7d\"],[0.2,\"#de77ae\"],[0.3,\"#f1b6da\"],[0.4,\"#fde0ef\"],[0.5,\"#f7f7f7\"],[0.6,\"#e6f5d0\"],[0.7,\"#b8e186\"],[0.8,\"#7fbc41\"],[0.9,\"#4d9221\"],[1,\"#276419\"]],\"sequential\":[[0.0,\"#0d0887\"],[0.1111111111111111,\"#46039f\"],[0.2222222222222222,\"#7201a8\"],[0.3333333333333333,\"#9c179e\"],[0.4444444444444444,\"#bd3786\"],[0.5555555555555556,\"#d8576b\"],[0.6666666666666666,\"#ed7953\"],[0.7777777777777778,\"#fb9f3a\"],[0.8888888888888888,\"#fdca26\"],[1.0,\"#f0f921\"]],\"sequentialminus\":[[0.0,\"#0d0887\"],[0.1111111111111111,\"#46039f\"],[0.2222222222222222,\"#7201a8\"],[0.3333333333333333,\"#9c179e\"],[0.4444444444444444,\"#bd3786\"],[0.5555555555555556,\"#d8576b\"],[0.6666666666666666,\"#ed7953\"],[0.7777777777777778,\"#fb9f3a\"],[0.8888888888888888,\"#fdca26\"],[1.0,\"#f0f921\"]]},\"colorway\":[\"#636efa\",\"#EF553B\",\"#00cc96\",\"#ab63fa\",\"#FFA15A\",\"#19d3f3\",\"#FF6692\",\"#B6E880\",\"#FF97FF\",\"#FECB52\"],\"font\":{\"color\":\"#2a3f5f\"},\"geo\":{\"bgcolor\":\"white\",\"lakecolor\":\"white\",\"landcolor\":\"#E5ECF6\",\"showlakes\":true,\"showland\":true,\"subunitcolor\":\"white\"},\"hoverlabel\":{\"align\":\"left\"},\"hovermode\":\"closest\",\"mapbox\":{\"style\":\"light\"},\"paper_bgcolor\":\"white\",\"plot_bgcolor\":\"#E5ECF6\",\"polar\":{\"angularaxis\":{\"gridcolor\":\"white\",\"linecolor\":\"white\",\"ticks\":\"\"},\"bgcolor\":\"#E5ECF6\",\"radialaxis\":{\"gridcolor\":\"white\",\"linecolor\":\"white\",\"ticks\":\"\"}},\"scene\":{\"xaxis\":{\"backgroundcolor\":\"#E5ECF6\",\"gridcolor\":\"white\",\"gridwidth\":2,\"linecolor\":\"white\",\"showbackground\":true,\"ticks\":\"\",\"zerolinecolor\":\"white\"},\"yaxis\":{\"backgroundcolor\":\"#E5ECF6\",\"gridcolor\":\"white\",\"gridwidth\":2,\"linecolor\":\"white\",\"showbackground\":true,\"ticks\":\"\",\"zerolinecolor\":\"white\"},\"zaxis\":{\"backgroundcolor\":\"#E5ECF6\",\"gridcolor\":\"white\",\"gridwidth\":2,\"linecolor\":\"white\",\"showbackground\":true,\"ticks\":\"\",\"zerolinecolor\":\"white\"}},\"shapedefaults\":{\"line\":{\"color\":\"#2a3f5f\"}},\"ternary\":{\"aaxis\":{\"gridcolor\":\"white\",\"linecolor\":\"white\",\"ticks\":\"\"},\"baxis\":{\"gridcolor\":\"white\",\"linecolor\":\"white\",\"ticks\":\"\"},\"bgcolor\":\"#E5ECF6\",\"caxis\":{\"gridcolor\":\"white\",\"linecolor\":\"white\",\"ticks\":\"\"}},\"title\":{\"x\":0.05},\"xaxis\":{\"automargin\":true,\"gridcolor\":\"white\",\"linecolor\":\"white\",\"ticks\":\"\",\"title\":{\"standoff\":15},\"zerolinecolor\":\"white\",\"zerolinewidth\":2},\"yaxis\":{\"automargin\":true,\"gridcolor\":\"white\",\"linecolor\":\"white\",\"ticks\":\"\",\"title\":{\"standoff\":15},\"zerolinecolor\":\"white\",\"zerolinewidth\":2}}},\"xaxis\":{\"anchor\":\"y\",\"domain\":[0.0,1.0],\"title\":{\"text\":\"decade\"}},\"yaxis\":{\"anchor\":\"x\",\"domain\":[0.0,1.0],\"title\":{\"text\":\"qtd\"}},\"legend\":{\"tracegroupgap\":0},\"margin\":{\"t\":60},\"barmode\":\"relative\"},                        {\"responsive\": true}                    )                };                            </script>        </div>\n</body>\n</html>",
       "datasetInfos": [],
       "metadata": {},
       "removedWidgets": [],
       "textData": null,
       "type": "htmlSandbox"
      }
     },
     "output_type": "display_data"
    }
   ],
   "source": [
    "%python\n",
    "\n",
    "# Criação de um gráfico de barras\n",
    "\n",
    "df_consulta_03.sort_index().plot.bar(y='qtd')"
   ]
  },
  {
   "cell_type": "markdown",
   "metadata": {
    "application/vnd.databricks.v1+cell": {
     "cellMetadata": {},
     "inputWidgets": {},
     "nuid": "1c8483c1-27ec-42e4-b64b-4c375d0b1397",
     "showTitle": false,
     "tableResultSettingsMap": {},
     "title": ""
    }
   },
   "source": [
    "\n",
    "# Transformar arquivos em parquet"
   ]
  },
  {
   "cell_type": "markdown",
   "metadata": {
    "application/vnd.databricks.v1+cell": {
     "cellMetadata": {},
     "inputWidgets": {},
     "nuid": "42a061a9-bd04-4f17-9643-6b670dd0029c",
     "showTitle": false,
     "tableResultSettingsMap": {},
     "title": ""
    }
   },
   "source": [
    "\n",
    "## data_by_artist"
   ]
  },
  {
   "cell_type": "code",
   "execution_count": 0,
   "metadata": {
    "application/vnd.databricks.v1+cell": {
     "cellMetadata": {
      "byteLimit": 2048000,
      "rowLimit": 10000
     },
     "inputWidgets": {},
     "nuid": "2fe02239-8d4d-4123-8050-621e16d7999c",
     "showTitle": false,
     "tableResultSettingsMap": {},
     "title": ""
    }
   },
   "outputs": [
    {
     "output_type": "display_data",
     "data": {
      "text/html": [
       "<style scoped>\n",
       "  .table-result-container {\n",
       "    max-height: 300px;\n",
       "    overflow: auto;\n",
       "  }\n",
       "  table, th, td {\n",
       "    border: 1px solid black;\n",
       "    border-collapse: collapse;\n",
       "  }\n",
       "  th, td {\n",
       "    padding: 5px;\n",
       "  }\n",
       "  th {\n",
       "    text-align: left;\n",
       "  }\n",
       "</style><div class='table-result-container'><table class='table-result'><thead style='background-color: white'><tr><th>path</th><th>name</th><th>size</th><th>modificationTime</th></tr></thead><tbody><tr><td>dbfs:/FileStore/tables/musica/spotify/data-treated/data.parquet/</td><td>data.parquet/</td><td>0</td><td>0</td></tr><tr><td>dbfs:/FileStore/tables/musica/spotify/data-treated/data_by_artist.parquet/</td><td>data_by_artist.parquet/</td><td>0</td><td>0</td></tr></tbody></table></div>"
      ]
     },
     "metadata": {
      "application/vnd.databricks.v1+output": {
       "addedWidgets": {},
       "aggData": [],
       "aggError": "",
       "aggOverflow": false,
       "aggSchema": [],
       "aggSeriesLimitReached": false,
       "aggType": "",
       "arguments": {},
       "columnCustomDisplayInfos": {},
       "data": [
        [
         "dbfs:/FileStore/tables/musica/spotify/data-treated/data.parquet/",
         "data.parquet/",
         0,
         0
        ],
        [
         "dbfs:/FileStore/tables/musica/spotify/data-treated/data_by_artist.parquet/",
         "data_by_artist.parquet/",
         0,
         0
        ]
       ],
       "datasetInfos": [],
       "dbfsResultPath": null,
       "isJsonSchema": true,
       "metadata": {},
       "overflow": false,
       "plotOptions": {
        "customPlotOptions": {},
        "displayType": "table",
        "pivotAggregation": null,
        "pivotColumns": null,
        "xColumns": null,
        "yColumns": null
       },
       "removedWidgets": [],
       "schema": [
        {
         "metadata": "{}",
         "name": "path",
         "type": "\"string\""
        },
        {
         "metadata": "{}",
         "name": "name",
         "type": "\"string\""
        },
        {
         "metadata": "{}",
         "name": "size",
         "type": "\"long\""
        },
        {
         "metadata": "{}",
         "name": "modificationTime",
         "type": "\"long\""
        }
       ],
       "type": "table"
      }
     },
     "output_type": "display_data"
    }
   ],
   "source": [
    "%python\n",
    "\n",
    "# Caminho do arquivo para leitura\n",
    "path_convert_csv_parquet_01 = 'dbfs:/FileStore/tables/musica/spotify/data-source/data_by_artist.csv'\n",
    "\n",
    "# Leitura do arquivo\n",
    "import pyspark.pandas as ps\n",
    "df_convert_csv_parquet_01 = ps.read_csv(path_convert_csv_parquet_01)\n",
    "\n",
    "# Salvar arquivo em formato parquet (csv > parquet)\n",
    "df_convert_csv_parquet_01.to_parquet('/FileStore/tables/musica/spotify/data-treated/data_by_artist.parquet')\n",
    "\n",
    "# Listar diretórios e arquivos\n",
    "display(dbutils.fs.ls('dbfs:/FileStore/tables/musica/spotify/data-treated/data_by_artist.parquet/'))"
   ]
  },
  {
   "cell_type": "markdown",
   "metadata": {
    "application/vnd.databricks.v1+cell": {
     "cellMetadata": {},
     "inputWidgets": {},
     "nuid": "6211ce48-6f5c-42f2-b1cd-7326c5b8a705",
     "showTitle": false,
     "tableResultSettingsMap": {},
     "title": ""
    }
   },
   "source": [
    "\n",
    "## data_by_genres"
   ]
  },
  {
   "cell_type": "code",
   "execution_count": 0,
   "metadata": {
    "application/vnd.databricks.v1+cell": {
     "cellMetadata": {
      "byteLimit": 2048000,
      "rowLimit": 10000
     },
     "inputWidgets": {},
     "nuid": "58b68802-2cc9-47a5-b4bc-b6734170a043",
     "showTitle": false,
     "tableResultSettingsMap": {},
     "title": ""
    }
   },
   "outputs": [
    {
     "output_type": "display_data",
     "data": {
      "text/html": [
       "<style scoped>\n",
       "  .table-result-container {\n",
       "    max-height: 300px;\n",
       "    overflow: auto;\n",
       "  }\n",
       "  table, th, td {\n",
       "    border: 1px solid black;\n",
       "    border-collapse: collapse;\n",
       "  }\n",
       "  th, td {\n",
       "    padding: 5px;\n",
       "  }\n",
       "  th {\n",
       "    text-align: left;\n",
       "  }\n",
       "</style><div class='table-result-container'><table class='table-result'><thead style='background-color: white'><tr><th>path</th><th>name</th><th>size</th><th>modificationTime</th></tr></thead><tbody><tr><td>dbfs:/FileStore/tables/musica/spotify/data-treated/data_by_genres.parquet/_SUCCESS</td><td>_SUCCESS</td><td>0</td><td>1732233266000</td></tr><tr><td>dbfs:/FileStore/tables/musica/spotify/data-treated/data_by_genres.parquet/_committed_5092012288430703697</td><td>_committed_5092012288430703697</td><td>125</td><td>1732233266000</td></tr><tr><td>dbfs:/FileStore/tables/musica/spotify/data-treated/data_by_genres.parquet/_started_5092012288430703697</td><td>_started_5092012288430703697</td><td>0</td><td>1732233266000</td></tr><tr><td>dbfs:/FileStore/tables/musica/spotify/data-treated/data_by_genres.parquet/part-00000-tid-5092012288430703697-c6799356-8911-4783-a762-c0ad1b6d488e-1121-1-c000.snappy.parquet</td><td>part-00000-tid-5092012288430703697-c6799356-8911-4783-a762-c0ad1b6d488e-1121-1-c000.snappy.parquet</td><td>277208</td><td>1732233266000</td></tr></tbody></table></div>"
      ]
     },
     "metadata": {
      "application/vnd.databricks.v1+output": {
       "addedWidgets": {},
       "aggData": [],
       "aggError": "",
       "aggOverflow": false,
       "aggSchema": [],
       "aggSeriesLimitReached": false,
       "aggType": "",
       "arguments": {},
       "columnCustomDisplayInfos": {},
       "data": [
        [
         "dbfs:/FileStore/tables/musica/spotify/data-treated/data_by_genres.parquet/_SUCCESS",
         "_SUCCESS",
         0,
         1732233266000
        ],
        [
         "dbfs:/FileStore/tables/musica/spotify/data-treated/data_by_genres.parquet/_committed_5092012288430703697",
         "_committed_5092012288430703697",
         125,
         1732233266000
        ],
        [
         "dbfs:/FileStore/tables/musica/spotify/data-treated/data_by_genres.parquet/_started_5092012288430703697",
         "_started_5092012288430703697",
         0,
         1732233266000
        ],
        [
         "dbfs:/FileStore/tables/musica/spotify/data-treated/data_by_genres.parquet/part-00000-tid-5092012288430703697-c6799356-8911-4783-a762-c0ad1b6d488e-1121-1-c000.snappy.parquet",
         "part-00000-tid-5092012288430703697-c6799356-8911-4783-a762-c0ad1b6d488e-1121-1-c000.snappy.parquet",
         277208,
         1732233266000
        ]
       ],
       "datasetInfos": [],
       "dbfsResultPath": null,
       "isJsonSchema": true,
       "metadata": {},
       "overflow": false,
       "plotOptions": {
        "customPlotOptions": {},
        "displayType": "table",
        "pivotAggregation": null,
        "pivotColumns": null,
        "xColumns": null,
        "yColumns": null
       },
       "removedWidgets": [],
       "schema": [
        {
         "metadata": "{}",
         "name": "path",
         "type": "\"string\""
        },
        {
         "metadata": "{}",
         "name": "name",
         "type": "\"string\""
        },
        {
         "metadata": "{}",
         "name": "size",
         "type": "\"long\""
        },
        {
         "metadata": "{}",
         "name": "modificationTime",
         "type": "\"long\""
        }
       ],
       "type": "table"
      }
     },
     "output_type": "display_data"
    }
   ],
   "source": [
    "%python\n",
    "\n",
    "# Caminho do arquivo para leitura\n",
    "path_convert_csv_parquet_02 = 'dbfs:/FileStore/tables/musica/spotify/data-source/data_by_genres.csv'\n",
    "\n",
    "# Leitura do arquivo\n",
    "import pyspark.pandas as ps\n",
    "df_convert_csv_parquet_02 = ps.read_csv(path_convert_csv_parquet_02)\n",
    "\n",
    "# Salvar arquivo em formato parquet (csv > parquet)\n",
    "df_convert_csv_parquet_02.to_parquet('/FileStore/tables/musica/spotify/data-treated/data_by_genres.parquet')\n",
    "\n",
    "# Listar diretórios e arquivos\n",
    "display(dbutils.fs.ls('dbfs:/FileStore/tables/musica/spotify/data-treated/data_by_genres.parquet/'))"
   ]
  },
  {
   "cell_type": "markdown",
   "metadata": {
    "application/vnd.databricks.v1+cell": {
     "cellMetadata": {},
     "inputWidgets": {},
     "nuid": "007fde4c-7c84-46ef-9995-895120a21e81",
     "showTitle": false,
     "tableResultSettingsMap": {},
     "title": ""
    }
   },
   "source": [
    "\n",
    "## data_by_year"
   ]
  },
  {
   "cell_type": "code",
   "execution_count": 0,
   "metadata": {
    "application/vnd.databricks.v1+cell": {
     "cellMetadata": {
      "byteLimit": 2048000,
      "rowLimit": 10000
     },
     "inputWidgets": {},
     "nuid": "0f461f22-296c-426f-bdae-e6153cd60d90",
     "showTitle": false,
     "tableResultSettingsMap": {},
     "title": ""
    }
   },
   "outputs": [
    {
     "output_type": "display_data",
     "data": {
      "text/html": [
       "<style scoped>\n",
       "  .table-result-container {\n",
       "    max-height: 300px;\n",
       "    overflow: auto;\n",
       "  }\n",
       "  table, th, td {\n",
       "    border: 1px solid black;\n",
       "    border-collapse: collapse;\n",
       "  }\n",
       "  th, td {\n",
       "    padding: 5px;\n",
       "  }\n",
       "  th {\n",
       "    text-align: left;\n",
       "  }\n",
       "</style><div class='table-result-container'><table class='table-result'><thead style='background-color: white'><tr><th>path</th><th>name</th><th>size</th><th>modificationTime</th></tr></thead><tbody><tr><td>dbfs:/FileStore/tables/musica/spotify/data-treated/data.parquet/</td><td>data.parquet/</td><td>0</td><td>0</td></tr><tr><td>dbfs:/FileStore/tables/musica/spotify/data-treated/data_by_artist.parquet/</td><td>data_by_artist.parquet/</td><td>0</td><td>0</td></tr><tr><td>dbfs:/FileStore/tables/musica/spotify/data-treated/data_by_genres.parquet/</td><td>data_by_genres.parquet/</td><td>0</td><td>0</td></tr><tr><td>dbfs:/FileStore/tables/musica/spotify/data-treated/data_by_year.parquet/</td><td>data_by_year.parquet/</td><td>0</td><td>0</td></tr></tbody></table></div>"
      ]
     },
     "metadata": {
      "application/vnd.databricks.v1+output": {
       "addedWidgets": {},
       "aggData": [],
       "aggError": "",
       "aggOverflow": false,
       "aggSchema": [],
       "aggSeriesLimitReached": false,
       "aggType": "",
       "arguments": {},
       "columnCustomDisplayInfos": {},
       "data": [
        [
         "dbfs:/FileStore/tables/musica/spotify/data-treated/data.parquet/",
         "data.parquet/",
         0,
         0
        ],
        [
         "dbfs:/FileStore/tables/musica/spotify/data-treated/data_by_artist.parquet/",
         "data_by_artist.parquet/",
         0,
         0
        ],
        [
         "dbfs:/FileStore/tables/musica/spotify/data-treated/data_by_genres.parquet/",
         "data_by_genres.parquet/",
         0,
         0
        ],
        [
         "dbfs:/FileStore/tables/musica/spotify/data-treated/data_by_year.parquet/",
         "data_by_year.parquet/",
         0,
         0
        ]
       ],
       "datasetInfos": [],
       "dbfsResultPath": null,
       "isJsonSchema": true,
       "metadata": {},
       "overflow": false,
       "plotOptions": {
        "customPlotOptions": {},
        "displayType": "table",
        "pivotAggregation": null,
        "pivotColumns": null,
        "xColumns": null,
        "yColumns": null
       },
       "removedWidgets": [],
       "schema": [
        {
         "metadata": "{}",
         "name": "path",
         "type": "\"string\""
        },
        {
         "metadata": "{}",
         "name": "name",
         "type": "\"string\""
        },
        {
         "metadata": "{}",
         "name": "size",
         "type": "\"long\""
        },
        {
         "metadata": "{}",
         "name": "modificationTime",
         "type": "\"long\""
        }
       ],
       "type": "table"
      }
     },
     "output_type": "display_data"
    }
   ],
   "source": [
    "%python\n",
    "\n",
    "# Caminho do arquivo para leitura\n",
    "path_convert_csv_parquet_03 = 'dbfs:/FileStore/tables/musica/spotify/data-source/data_by_year.csv'\n",
    "\n",
    "# Leitura do arquivo\n",
    "import pyspark.pandas as ps\n",
    "df_convert_csv_parquet_03 = ps.read_csv(path_convert_csv_parquet_03)\n",
    "\n",
    "# Salvar arquivo em formato parquet (csv > parquet)\n",
    "df_convert_csv_parquet_03.to_parquet('/FileStore/tables/musica/spotify/data-treated/data_by_year.parquet')\n",
    "\n",
    "# Listar diretórios e arquivos\n",
    "display(dbutils.fs.ls('dbfs:/FileStore/tables/musica/spotify/data-treated/'))"
   ]
  },
  {
   "cell_type": "markdown",
   "metadata": {
    "application/vnd.databricks.v1+cell": {
     "cellMetadata": {},
     "inputWidgets": {},
     "nuid": "5fe3bf67-0746-42d1-9300-8225401e3b59",
     "showTitle": false,
     "tableResultSettingsMap": {},
     "title": ""
    }
   },
   "source": [
    "\n",
    "## data_w_genres"
   ]
  },
  {
   "cell_type": "code",
   "execution_count": 0,
   "metadata": {
    "application/vnd.databricks.v1+cell": {
     "cellMetadata": {
      "byteLimit": 2048000,
      "rowLimit": 10000
     },
     "inputWidgets": {},
     "nuid": "56962458-ce2d-41a3-8d4e-1f4247ed2a57",
     "showTitle": false,
     "tableResultSettingsMap": {},
     "title": ""
    }
   },
   "outputs": [
    {
     "output_type": "display_data",
     "data": {
      "text/html": [
       "<style scoped>\n",
       "  .table-result-container {\n",
       "    max-height: 300px;\n",
       "    overflow: auto;\n",
       "  }\n",
       "  table, th, td {\n",
       "    border: 1px solid black;\n",
       "    border-collapse: collapse;\n",
       "  }\n",
       "  th, td {\n",
       "    padding: 5px;\n",
       "  }\n",
       "  th {\n",
       "    text-align: left;\n",
       "  }\n",
       "</style><div class='table-result-container'><table class='table-result'><thead style='background-color: white'><tr><th>path</th><th>name</th><th>size</th><th>modificationTime</th></tr></thead><tbody><tr><td>dbfs:/FileStore/tables/musica/spotify/data-treated/data.parquet/</td><td>data.parquet/</td><td>0</td><td>0</td></tr><tr><td>dbfs:/FileStore/tables/musica/spotify/data-treated/data_by_artist.parquet/</td><td>data_by_artist.parquet/</td><td>0</td><td>0</td></tr><tr><td>dbfs:/FileStore/tables/musica/spotify/data-treated/data_by_genres.parquet/</td><td>data_by_genres.parquet/</td><td>0</td><td>0</td></tr><tr><td>dbfs:/FileStore/tables/musica/spotify/data-treated/data_by_year.parquet/</td><td>data_by_year.parquet/</td><td>0</td><td>0</td></tr><tr><td>dbfs:/FileStore/tables/musica/spotify/data-treated/data_w_genres.parquet/</td><td>data_w_genres.parquet/</td><td>0</td><td>0</td></tr></tbody></table></div>"
      ]
     },
     "metadata": {
      "application/vnd.databricks.v1+output": {
       "addedWidgets": {},
       "aggData": [],
       "aggError": "",
       "aggOverflow": false,
       "aggSchema": [],
       "aggSeriesLimitReached": false,
       "aggType": "",
       "arguments": {},
       "columnCustomDisplayInfos": {},
       "data": [
        [
         "dbfs:/FileStore/tables/musica/spotify/data-treated/data.parquet/",
         "data.parquet/",
         0,
         0
        ],
        [
         "dbfs:/FileStore/tables/musica/spotify/data-treated/data_by_artist.parquet/",
         "data_by_artist.parquet/",
         0,
         0
        ],
        [
         "dbfs:/FileStore/tables/musica/spotify/data-treated/data_by_genres.parquet/",
         "data_by_genres.parquet/",
         0,
         0
        ],
        [
         "dbfs:/FileStore/tables/musica/spotify/data-treated/data_by_year.parquet/",
         "data_by_year.parquet/",
         0,
         0
        ],
        [
         "dbfs:/FileStore/tables/musica/spotify/data-treated/data_w_genres.parquet/",
         "data_w_genres.parquet/",
         0,
         0
        ]
       ],
       "datasetInfos": [],
       "dbfsResultPath": null,
       "isJsonSchema": true,
       "metadata": {},
       "overflow": false,
       "plotOptions": {
        "customPlotOptions": {},
        "displayType": "table",
        "pivotAggregation": null,
        "pivotColumns": null,
        "xColumns": null,
        "yColumns": null
       },
       "removedWidgets": [],
       "schema": [
        {
         "metadata": "{}",
         "name": "path",
         "type": "\"string\""
        },
        {
         "metadata": "{}",
         "name": "name",
         "type": "\"string\""
        },
        {
         "metadata": "{}",
         "name": "size",
         "type": "\"long\""
        },
        {
         "metadata": "{}",
         "name": "modificationTime",
         "type": "\"long\""
        }
       ],
       "type": "table"
      }
     },
     "output_type": "display_data"
    }
   ],
   "source": [
    "%python\n",
    "\n",
    "# Caminho do arquivo para leitura\n",
    "path_convert_csv_parquet_04 = 'dbfs:/FileStore/tables/musica/spotify/data-source/data_w_genres.csv'\n",
    "\n",
    "# Leitura do arquivo\n",
    "import pyspark.pandas as ps\n",
    "df_convert_csv_parquet_04 = ps.read_csv(path_convert_csv_parquet_04)\n",
    "\n",
    "# Salvar arquivo em formato parquet (csv > parquet)\n",
    "df_convert_csv_parquet_04.to_parquet('/FileStore/tables/musica/spotify/data-treated/data_w_genres.parquet')\n",
    "\n",
    "# Listar diretórios e arquivos\n",
    "display(dbutils.fs.ls('dbfs:/FileStore/tables/musica/spotify/data-treated/'))"
   ]
  },
  {
   "cell_type": "markdown",
   "metadata": {
    "application/vnd.databricks.v1+cell": {
     "cellMetadata": {},
     "inputWidgets": {},
     "nuid": "c729d044-4a6f-4bd5-83cf-54b3d79e3d8e",
     "showTitle": false,
     "tableResultSettingsMap": {},
     "title": ""
    }
   },
   "source": [
    "\n",
    "## Listando diretórios e arquivos"
   ]
  },
  {
   "cell_type": "code",
   "execution_count": 0,
   "metadata": {
    "application/vnd.databricks.v1+cell": {
     "cellMetadata": {
      "byteLimit": 2048000,
      "rowLimit": 10000
     },
     "inputWidgets": {},
     "nuid": "dd2c1685-2bd4-477e-ba7c-554f727b31e9",
     "showTitle": false,
     "tableResultSettingsMap": {},
     "title": ""
    }
   },
   "outputs": [
    {
     "output_type": "display_data",
     "data": {
      "text/html": [
       "<style scoped>\n",
       "  .table-result-container {\n",
       "    max-height: 300px;\n",
       "    overflow: auto;\n",
       "  }\n",
       "  table, th, td {\n",
       "    border: 1px solid black;\n",
       "    border-collapse: collapse;\n",
       "  }\n",
       "  th, td {\n",
       "    padding: 5px;\n",
       "  }\n",
       "  th {\n",
       "    text-align: left;\n",
       "  }\n",
       "</style><div class='table-result-container'><table class='table-result'><thead style='background-color: white'><tr><th>path</th><th>name</th><th>size</th><th>modificationTime</th></tr></thead><tbody><tr><td>dbfs:/FileStore/tables/musica/spotify/data-treated/data.parquet/</td><td>data.parquet/</td><td>0</td><td>0</td></tr><tr><td>dbfs:/FileStore/tables/musica/spotify/data-treated/data_by_artist.parquet/</td><td>data_by_artist.parquet/</td><td>0</td><td>0</td></tr><tr><td>dbfs:/FileStore/tables/musica/spotify/data-treated/data_by_genres.parquet/</td><td>data_by_genres.parquet/</td><td>0</td><td>0</td></tr><tr><td>dbfs:/FileStore/tables/musica/spotify/data-treated/data_by_year.parquet/</td><td>data_by_year.parquet/</td><td>0</td><td>0</td></tr><tr><td>dbfs:/FileStore/tables/musica/spotify/data-treated/data_w_genres.parquet/</td><td>data_w_genres.parquet/</td><td>0</td><td>0</td></tr></tbody></table></div>"
      ]
     },
     "metadata": {
      "application/vnd.databricks.v1+output": {
       "addedWidgets": {},
       "aggData": [],
       "aggError": "",
       "aggOverflow": false,
       "aggSchema": [],
       "aggSeriesLimitReached": false,
       "aggType": "",
       "arguments": {},
       "columnCustomDisplayInfos": {},
       "data": [
        [
         "dbfs:/FileStore/tables/musica/spotify/data-treated/data.parquet/",
         "data.parquet/",
         0,
         0
        ],
        [
         "dbfs:/FileStore/tables/musica/spotify/data-treated/data_by_artist.parquet/",
         "data_by_artist.parquet/",
         0,
         0
        ],
        [
         "dbfs:/FileStore/tables/musica/spotify/data-treated/data_by_genres.parquet/",
         "data_by_genres.parquet/",
         0,
         0
        ],
        [
         "dbfs:/FileStore/tables/musica/spotify/data-treated/data_by_year.parquet/",
         "data_by_year.parquet/",
         0,
         0
        ],
        [
         "dbfs:/FileStore/tables/musica/spotify/data-treated/data_w_genres.parquet/",
         "data_w_genres.parquet/",
         0,
         0
        ]
       ],
       "datasetInfos": [],
       "dbfsResultPath": null,
       "isJsonSchema": true,
       "metadata": {},
       "overflow": false,
       "plotOptions": {
        "customPlotOptions": {},
        "displayType": "table",
        "pivotAggregation": null,
        "pivotColumns": null,
        "xColumns": null,
        "yColumns": null
       },
       "removedWidgets": [],
       "schema": [
        {
         "metadata": "{}",
         "name": "path",
         "type": "\"string\""
        },
        {
         "metadata": "{}",
         "name": "name",
         "type": "\"string\""
        },
        {
         "metadata": "{}",
         "name": "size",
         "type": "\"long\""
        },
        {
         "metadata": "{}",
         "name": "modificationTime",
         "type": "\"long\""
        }
       ],
       "type": "table"
      }
     },
     "output_type": "display_data"
    }
   ],
   "source": [
    "%python\n",
    "\n",
    "# Listar diretórios e arquivos\n",
    "# Esse método lista os nomes em formato de tabela, logo, são amigáveis de visualizar\n",
    "\n",
    "display(dbutils.fs.ls('dbfs:/FileStore/tables/musica/spotify/data-treated/'))"
   ]
  },
  {
   "cell_type": "markdown",
   "metadata": {
    "application/vnd.databricks.v1+cell": {
     "cellMetadata": {},
     "inputWidgets": {},
     "nuid": "dc51f262-3386-4439-a147-cd2c5c950bdc",
     "showTitle": false,
     "tableResultSettingsMap": {},
     "title": ""
    }
   },
   "source": [
    "\n",
    "# Consultas (data_by_year)"
   ]
  },
  {
   "cell_type": "markdown",
   "metadata": {
    "application/vnd.databricks.v1+cell": {
     "cellMetadata": {},
     "inputWidgets": {},
     "nuid": "e8f88cce-ca9b-4141-ae01-28986d1b21b9",
     "showTitle": false,
     "tableResultSettingsMap": {},
     "title": ""
    }
   },
   "source": [
    "\n",
    "## Caminho do arquivo"
   ]
  },
  {
   "cell_type": "code",
   "execution_count": 0,
   "metadata": {
    "application/vnd.databricks.v1+cell": {
     "cellMetadata": {
      "byteLimit": 2048000,
      "rowLimit": 10000
     },
     "inputWidgets": {},
     "nuid": "e435fe51-5c50-4518-a822-660275cacbb4",
     "showTitle": false,
     "tableResultSettingsMap": {},
     "title": ""
    }
   },
   "outputs": [],
   "source": [
    "%python\n",
    "\n",
    "# Caminho do arquivo para leitura\n",
    "\n",
    "path_consulta_03 = 'dbfs:/FileStore/tables/musica/spotify/data-treated/data_by_year.parquet'"
   ]
  },
  {
   "cell_type": "markdown",
   "metadata": {
    "application/vnd.databricks.v1+cell": {
     "cellMetadata": {},
     "inputWidgets": {},
     "nuid": "a7d637f7-9183-47f7-9bd5-0204231b8353",
     "showTitle": false,
     "tableResultSettingsMap": {},
     "title": ""
    }
   },
   "source": [
    "\n",
    "## Leitura do df (pandas)"
   ]
  },
  {
   "cell_type": "code",
   "execution_count": 0,
   "metadata": {
    "application/vnd.databricks.v1+cell": {
     "cellMetadata": {
      "byteLimit": 2048000,
      "rowLimit": 10000
     },
     "inputWidgets": {},
     "nuid": "72dd75e7-788b-4856-afdb-8eb5a91cecd4",
     "showTitle": false,
     "tableResultSettingsMap": {},
     "title": ""
    }
   },
   "outputs": [
    {
     "output_type": "display_data",
     "data": {
      "text/html": [
       "<div>\n",
       "<style scoped>\n",
       "    .dataframe tbody tr th:only-of-type {\n",
       "        vertical-align: middle;\n",
       "    }\n",
       "\n",
       "    .dataframe tbody tr th {\n",
       "        vertical-align: top;\n",
       "    }\n",
       "\n",
       "    .dataframe thead th {\n",
       "        text-align: right;\n",
       "    }\n",
       "</style>\n",
       "<table border=\"1\" class=\"dataframe\">\n",
       "  <thead>\n",
       "    <tr style=\"text-align: right;\">\n",
       "      <th></th>\n",
       "      <th>mode</th>\n",
       "      <th>year</th>\n",
       "      <th>acousticness</th>\n",
       "      <th>danceability</th>\n",
       "      <th>duration_ms</th>\n",
       "      <th>energy</th>\n",
       "      <th>instrumentalness</th>\n",
       "      <th>liveness</th>\n",
       "      <th>loudness</th>\n",
       "      <th>speechiness</th>\n",
       "      <th>tempo</th>\n",
       "      <th>valence</th>\n",
       "      <th>popularity</th>\n",
       "      <th>key</th>\n",
       "    </tr>\n",
       "  </thead>\n",
       "  <tbody>\n",
       "    <tr>\n",
       "      <th>0</th>\n",
       "      <td>1</td>\n",
       "      <td>1921</td>\n",
       "      <td>0.886896</td>\n",
       "      <td>0.418597</td>\n",
       "      <td>260537.166667</td>\n",
       "      <td>0.231815</td>\n",
       "      <td>0.344878</td>\n",
       "      <td>0.205710</td>\n",
       "      <td>-17.048667</td>\n",
       "      <td>0.073662</td>\n",
       "      <td>101.531493</td>\n",
       "      <td>0.379327</td>\n",
       "      <td>0.653333</td>\n",
       "      <td>2</td>\n",
       "    </tr>\n",
       "    <tr>\n",
       "      <th>1</th>\n",
       "      <td>1</td>\n",
       "      <td>1922</td>\n",
       "      <td>0.938592</td>\n",
       "      <td>0.482042</td>\n",
       "      <td>165469.746479</td>\n",
       "      <td>0.237815</td>\n",
       "      <td>0.434195</td>\n",
       "      <td>0.240720</td>\n",
       "      <td>-19.275282</td>\n",
       "      <td>0.116655</td>\n",
       "      <td>100.884521</td>\n",
       "      <td>0.535549</td>\n",
       "      <td>0.140845</td>\n",
       "      <td>10</td>\n",
       "    </tr>\n",
       "    <tr>\n",
       "      <th>2</th>\n",
       "      <td>1</td>\n",
       "      <td>1923</td>\n",
       "      <td>0.957247</td>\n",
       "      <td>0.577341</td>\n",
       "      <td>177942.362162</td>\n",
       "      <td>0.262406</td>\n",
       "      <td>0.371733</td>\n",
       "      <td>0.227462</td>\n",
       "      <td>-14.129211</td>\n",
       "      <td>0.093949</td>\n",
       "      <td>114.010730</td>\n",
       "      <td>0.625492</td>\n",
       "      <td>5.389189</td>\n",
       "      <td>0</td>\n",
       "    </tr>\n",
       "    <tr>\n",
       "      <th>3</th>\n",
       "      <td>1</td>\n",
       "      <td>1924</td>\n",
       "      <td>0.940200</td>\n",
       "      <td>0.549894</td>\n",
       "      <td>191046.707627</td>\n",
       "      <td>0.344347</td>\n",
       "      <td>0.581701</td>\n",
       "      <td>0.235219</td>\n",
       "      <td>-14.231343</td>\n",
       "      <td>0.092089</td>\n",
       "      <td>120.689572</td>\n",
       "      <td>0.663725</td>\n",
       "      <td>0.661017</td>\n",
       "      <td>10</td>\n",
       "    </tr>\n",
       "    <tr>\n",
       "      <th>4</th>\n",
       "      <td>1</td>\n",
       "      <td>1925</td>\n",
       "      <td>0.962607</td>\n",
       "      <td>0.573863</td>\n",
       "      <td>184986.924460</td>\n",
       "      <td>0.278594</td>\n",
       "      <td>0.418297</td>\n",
       "      <td>0.237668</td>\n",
       "      <td>-14.146414</td>\n",
       "      <td>0.111918</td>\n",
       "      <td>115.521921</td>\n",
       "      <td>0.621929</td>\n",
       "      <td>2.604317</td>\n",
       "      <td>5</td>\n",
       "    </tr>\n",
       "  </tbody>\n",
       "</table>\n",
       "</div>"
      ]
     },
     "metadata": {
      "application/vnd.databricks.v1+output": {
       "addedWidgets": {},
       "arguments": {},
       "data": "<div>\n<style scoped>\n    .dataframe tbody tr th:only-of-type {\n        vertical-align: middle;\n    }\n\n    .dataframe tbody tr th {\n        vertical-align: top;\n    }\n\n    .dataframe thead th {\n        text-align: right;\n    }\n</style>\n<table border=\"1\" class=\"dataframe\">\n  <thead>\n    <tr style=\"text-align: right;\">\n      <th></th>\n      <th>mode</th>\n      <th>year</th>\n      <th>acousticness</th>\n      <th>danceability</th>\n      <th>duration_ms</th>\n      <th>energy</th>\n      <th>instrumentalness</th>\n      <th>liveness</th>\n      <th>loudness</th>\n      <th>speechiness</th>\n      <th>tempo</th>\n      <th>valence</th>\n      <th>popularity</th>\n      <th>key</th>\n    </tr>\n  </thead>\n  <tbody>\n    <tr>\n      <th>0</th>\n      <td>1</td>\n      <td>1921</td>\n      <td>0.886896</td>\n      <td>0.418597</td>\n      <td>260537.166667</td>\n      <td>0.231815</td>\n      <td>0.344878</td>\n      <td>0.205710</td>\n      <td>-17.048667</td>\n      <td>0.073662</td>\n      <td>101.531493</td>\n      <td>0.379327</td>\n      <td>0.653333</td>\n      <td>2</td>\n    </tr>\n    <tr>\n      <th>1</th>\n      <td>1</td>\n      <td>1922</td>\n      <td>0.938592</td>\n      <td>0.482042</td>\n      <td>165469.746479</td>\n      <td>0.237815</td>\n      <td>0.434195</td>\n      <td>0.240720</td>\n      <td>-19.275282</td>\n      <td>0.116655</td>\n      <td>100.884521</td>\n      <td>0.535549</td>\n      <td>0.140845</td>\n      <td>10</td>\n    </tr>\n    <tr>\n      <th>2</th>\n      <td>1</td>\n      <td>1923</td>\n      <td>0.957247</td>\n      <td>0.577341</td>\n      <td>177942.362162</td>\n      <td>0.262406</td>\n      <td>0.371733</td>\n      <td>0.227462</td>\n      <td>-14.129211</td>\n      <td>0.093949</td>\n      <td>114.010730</td>\n      <td>0.625492</td>\n      <td>5.389189</td>\n      <td>0</td>\n    </tr>\n    <tr>\n      <th>3</th>\n      <td>1</td>\n      <td>1924</td>\n      <td>0.940200</td>\n      <td>0.549894</td>\n      <td>191046.707627</td>\n      <td>0.344347</td>\n      <td>0.581701</td>\n      <td>0.235219</td>\n      <td>-14.231343</td>\n      <td>0.092089</td>\n      <td>120.689572</td>\n      <td>0.663725</td>\n      <td>0.661017</td>\n      <td>10</td>\n    </tr>\n    <tr>\n      <th>4</th>\n      <td>1</td>\n      <td>1925</td>\n      <td>0.962607</td>\n      <td>0.573863</td>\n      <td>184986.924460</td>\n      <td>0.278594</td>\n      <td>0.418297</td>\n      <td>0.237668</td>\n      <td>-14.146414</td>\n      <td>0.111918</td>\n      <td>115.521921</td>\n      <td>0.621929</td>\n      <td>2.604317</td>\n      <td>5</td>\n    </tr>\n  </tbody>\n</table>\n</div>",
       "datasetInfos": [],
       "metadata": {},
       "removedWidgets": [],
       "textData": null,
       "type": "htmlSandbox"
      }
     },
     "output_type": "display_data"
    }
   ],
   "source": [
    "%python\n",
    "\n",
    "# Leitura do arquivo\n",
    "\n",
    "import pyspark.pandas as ps\n",
    "\n",
    "df_consulta_04 = ps.read_parquet(path_consulta_03)\n",
    "\n",
    "df_consulta_04.head()"
   ]
  },
  {
   "cell_type": "markdown",
   "metadata": {
    "application/vnd.databricks.v1+cell": {
     "cellMetadata": {},
     "inputWidgets": {},
     "nuid": "1916ebba-5312-471c-b2fc-0e649a2d976e",
     "showTitle": false,
     "tableResultSettingsMap": {},
     "title": ""
    }
   },
   "source": [
    "\n",
    "## Valores únicos em uma coluna (count)"
   ]
  },
  {
   "cell_type": "code",
   "execution_count": 0,
   "metadata": {
    "application/vnd.databricks.v1+cell": {
     "cellMetadata": {
      "byteLimit": 2048000,
      "rowLimit": 10000
     },
     "inputWidgets": {},
     "nuid": "1935e4d5-8281-4493-8e58-a45caf5b8a6b",
     "showTitle": false,
     "tableResultSettingsMap": {},
     "title": ""
    }
   },
   "outputs": [
    {
     "output_type": "stream",
     "name": "stdout",
     "output_type": "stream",
     "text": [
      "Out[7]: 100"
     ]
    }
   ],
   "source": [
    "%python\n",
    "\n",
    "# Valores únicos de uma determinada coluna com contagem dos valores em uma lista\n",
    "\n",
    "len(df_consulta_04.year.unique())"
   ]
  },
  {
   "cell_type": "markdown",
   "metadata": {
    "application/vnd.databricks.v1+cell": {
     "cellMetadata": {
      "byteLimit": 2048000,
      "rowLimit": 10000
     },
     "inputWidgets": {},
     "nuid": "19b5a3e0-3690-4ceb-b6a9-b621d82e48c4",
     "showTitle": false,
     "tableResultSettingsMap": {},
     "title": ""
    }
   },
   "source": [
    "\n",
    "## Qtd de músicas por ano"
   ]
  },
  {
   "cell_type": "code",
   "execution_count": 0,
   "metadata": {
    "application/vnd.databricks.v1+cell": {
     "cellMetadata": {
      "byteLimit": 2048000,
      "rowLimit": 10000
     },
     "inputWidgets": {},
     "nuid": "8d229ab4-f658-4aec-8f92-e8b50d9cafc3",
     "showTitle": false,
     "tableResultSettingsMap": {},
     "title": ""
    }
   },
   "outputs": [
    {
     "output_type": "stream",
     "name": "stdout",
     "output_type": "stream",
     "text": [
      "Out[8]: 1959    1\n1990    1\n1975    1\n1977    1\n1924    1\n2003    1\n2007    1\n2018    1\n1974    1\n2015    1\n1927    1\n1955    1\n2006    1\n1978    1\n1925    1\n1961    1\n2013    1\n1942    1\n1939    1\n1944    1\n1922    1\n1952    1\n1934    1\n1956    1\n1988    1\n1997    1\n1994    1\n1968    1\n2014    1\n1951    1\n1930    1\n1938    1\n1973    1\n1979    1\n1946    1\n1947    1\n2019    1\n1971    1\n1950    1\n1949    1\n1966    1\n2004    1\n1991    1\n1967    1\n1969    1\n1982    1\n1932    1\n1945    1\n1957    1\n1943    1\n1989    1\n1996    1\n1998    1\n1963    1\n1965    1\n1985    1\n2020    1\n1960    1\n1926    1\n1921    1\n1970    1\n2012    1\n1987    1\n1923    1\n1941    1\n2009    1\n1936    1\n2016    1\n1995    1\n1931    1\n1937    1\n1980    1\n1953    1\n2001    1\n1972    1\n1958    1\n1992    1\n1983    1\n1954    1\n2005    1\n1935    1\n1984    1\n1964    1\n2000    1\n1981    1\n2010    1\n1986    1\n2011    1\n1976    1\n1940    1\n2008    1\n2017    1\n1948    1\n1999    1\n1962    1\n2002    1\n1929    1\n1928    1\n1933    1\n1993    1\nName: year, dtype: int64"
     ]
    }
   ],
   "source": [
    "%python\n",
    "\n",
    "# Quantidade de músicas por ano\n",
    "\n",
    "df_consulta_04.year.value_counts()"
   ]
  },
  {
   "cell_type": "markdown",
   "metadata": {
    "application/vnd.databricks.v1+cell": {
     "cellMetadata": {},
     "inputWidgets": {},
     "nuid": "9e3e9327-54f4-4ae4-8648-7c3d634cb24b",
     "showTitle": false,
     "tableResultSettingsMap": {},
     "title": ""
    }
   },
   "source": [
    "\n",
    "## Criação de gráfico de linhas"
   ]
  },
  {
   "cell_type": "code",
   "execution_count": 0,
   "metadata": {
    "application/vnd.databricks.v1+cell": {
     "cellMetadata": {
      "byteLimit": 2048000,
      "rowLimit": 10000
     },
     "inputWidgets": {},
     "nuid": "f8f241b0-9810-48a2-814c-531905d2fc45",
     "showTitle": false,
     "tableResultSettingsMap": {},
     "title": ""
    }
   },
   "outputs": [
    {
     "output_type": "display_data",
     "data": {
      "text/html": [
       "<html>\n",
       "<head><meta charset=\"utf-8\" /></head>\n",
       "<body>\n",
       "    <div>            <script src=\"https://cdnjs.cloudflare.com/ajax/libs/mathjax/2.7.5/MathJax.js?config=TeX-AMS-MML_SVG\"></script><script type=\"text/javascript\">if (window.MathJax) {MathJax.Hub.Config({SVG: {font: \"STIX-Web\"}});}</script>                <script type=\"text/javascript\">window.PlotlyConfig = {MathJaxConfig: 'local'};</script>\n",
       "        <script src=\"https://cdn.plot.ly/plotly-2.9.0.min.js\"></script>                <div id=\"33c85c61-9fbd-4a96-bcab-e5a9fca014a2\" class=\"plotly-graph-div\" style=\"height:100%; width:100%;\"></div>            <script type=\"text/javascript\">                                    window.PLOTLYENV=window.PLOTLYENV || {};                                    if (document.getElementById(\"33c85c61-9fbd-4a96-bcab-e5a9fca014a2\")) {                    Plotly.newPlot(                        \"33c85c61-9fbd-4a96-bcab-e5a9fca014a2\",                        [{\"hovertemplate\":\"year=%{x}<br>duration_ms=%{y}<extra></extra>\",\"legendgroup\":\"\",\"line\":{\"color\":\"#636efa\",\"dash\":\"solid\"},\"marker\":{\"symbol\":\"circle\"},\"mode\":\"lines\",\"name\":\"\",\"orientation\":\"v\",\"showlegend\":false,\"x\":[1921,1922,1923,1924,1925,1926,1927,1928,1929,1930,1931,1932,1933,1934,1935,1936,1937,1938,1939,1940,1941,1942,1943,1944,1945,1946,1947,1948,1949,1950,1951,1952,1953,1954,1955,1956,1957,1958,1959,1960,1961,1962,1963,1964,1965,1966,1967,1968,1969,1970,1971,1972,1973,1974,1975,1976,1977,1978,1979,1980,1981,1982,1983,1984,1985,1986,1987,1988,1989,1990,1991,1992,1993,1994,1995,1996,1997,1998,1999,2000,2001,2002,2003,2004,2005,2006,2007,2008,2009,2010,2011,2012,2013,2014,2015,2016,2017,2018,2019,2020],\"xaxis\":\"x\",\"y\":[260537.16666666663,165469.74647887325,177942.36216216214,191046.70762711862,184986.92446043165,156881.65747460088,184993.59837398372,214827.90642347344,168999.41281512607,195150.28534303536,171553.42546583852,195749.37250996014,196219.25759768448,189356.1262975779,220124.24703557312,220809.1863636364,223216.5585996956,249177.09951060358,221602.065,182227.9445,201904.575,222361.16825208085,240119.9098591549,245555.58643617018,196161.557,267677.82308584685,233137.38424242425,199194.87421052632,223199.3275,215073.1255,213154.641,229434.72699999998,217455.5682051282,224029.36800000002,222137.44600000003,211846.9215,241604.8241025641,214146.9005,216292.8369230769,210209.68378378375,232186.61421052628,209294.41315789477,200510.5485,195536.4117948718,196342.08615384615,216095.113,198987.5182591296,214980.984,242545.9405,242852.1515,260511.7935,245914.2285,257002.7905,252555.79100000003,254969.3715,267676.967,257121.848,249051.887,252860.2265,252835.53333333327,250904.205,248357.306,251123.6985,251845.2565,252276.258,254708.4055,247543.3230769231,257442.5897435897,254203.5935,256451.4035,245912.00615384613,246506.46,251667.9675,250992.254,246624.0915,248180.983,245749.2815,248542.6075,245177.7452588416,242724.6426380368,240307.79600997505,239503.283,244670.5752302968,237378.70803662261,237229.5882051282,234042.91435897435,241049.96256410255,240107.31560102306,238140.0132653061,242811.8045634921,236998.787307883,245807.45758354763,242267.66143724695,233728.31471321694,230029.0466058764,221396.51029493602,211115.6967871486,206001.0071326676,201024.78809645973,193728.39753694585],\"yaxis\":\"y\",\"type\":\"scatter\"}],                        {\"template\":{\"data\":{\"bar\":[{\"error_x\":{\"color\":\"#2a3f5f\"},\"error_y\":{\"color\":\"#2a3f5f\"},\"marker\":{\"line\":{\"color\":\"#E5ECF6\",\"width\":0.5},\"pattern\":{\"fillmode\":\"overlay\",\"size\":10,\"solidity\":0.2}},\"type\":\"bar\"}],\"barpolar\":[{\"marker\":{\"line\":{\"color\":\"#E5ECF6\",\"width\":0.5},\"pattern\":{\"fillmode\":\"overlay\",\"size\":10,\"solidity\":0.2}},\"type\":\"barpolar\"}],\"carpet\":[{\"aaxis\":{\"endlinecolor\":\"#2a3f5f\",\"gridcolor\":\"white\",\"linecolor\":\"white\",\"minorgridcolor\":\"white\",\"startlinecolor\":\"#2a3f5f\"},\"baxis\":{\"endlinecolor\":\"#2a3f5f\",\"gridcolor\":\"white\",\"linecolor\":\"white\",\"minorgridcolor\":\"white\",\"startlinecolor\":\"#2a3f5f\"},\"type\":\"carpet\"}],\"choropleth\":[{\"colorbar\":{\"outlinewidth\":0,\"ticks\":\"\"},\"type\":\"choropleth\"}],\"contour\":[{\"colorbar\":{\"outlinewidth\":0,\"ticks\":\"\"},\"colorscale\":[[0.0,\"#0d0887\"],[0.1111111111111111,\"#46039f\"],[0.2222222222222222,\"#7201a8\"],[0.3333333333333333,\"#9c179e\"],[0.4444444444444444,\"#bd3786\"],[0.5555555555555556,\"#d8576b\"],[0.6666666666666666,\"#ed7953\"],[0.7777777777777778,\"#fb9f3a\"],[0.8888888888888888,\"#fdca26\"],[1.0,\"#f0f921\"]],\"type\":\"contour\"}],\"contourcarpet\":[{\"colorbar\":{\"outlinewidth\":0,\"ticks\":\"\"},\"type\":\"contourcarpet\"}],\"heatmap\":[{\"colorbar\":{\"outlinewidth\":0,\"ticks\":\"\"},\"colorscale\":[[0.0,\"#0d0887\"],[0.1111111111111111,\"#46039f\"],[0.2222222222222222,\"#7201a8\"],[0.3333333333333333,\"#9c179e\"],[0.4444444444444444,\"#bd3786\"],[0.5555555555555556,\"#d8576b\"],[0.6666666666666666,\"#ed7953\"],[0.7777777777777778,\"#fb9f3a\"],[0.8888888888888888,\"#fdca26\"],[1.0,\"#f0f921\"]],\"type\":\"heatmap\"}],\"heatmapgl\":[{\"colorbar\":{\"outlinewidth\":0,\"ticks\":\"\"},\"colorscale\":[[0.0,\"#0d0887\"],[0.1111111111111111,\"#46039f\"],[0.2222222222222222,\"#7201a8\"],[0.3333333333333333,\"#9c179e\"],[0.4444444444444444,\"#bd3786\"],[0.5555555555555556,\"#d8576b\"],[0.6666666666666666,\"#ed7953\"],[0.7777777777777778,\"#fb9f3a\"],[0.8888888888888888,\"#fdca26\"],[1.0,\"#f0f921\"]],\"type\":\"heatmapgl\"}],\"histogram\":[{\"marker\":{\"pattern\":{\"fillmode\":\"overlay\",\"size\":10,\"solidity\":0.2}},\"type\":\"histogram\"}],\"histogram2d\":[{\"colorbar\":{\"outlinewidth\":0,\"ticks\":\"\"},\"colorscale\":[[0.0,\"#0d0887\"],[0.1111111111111111,\"#46039f\"],[0.2222222222222222,\"#7201a8\"],[0.3333333333333333,\"#9c179e\"],[0.4444444444444444,\"#bd3786\"],[0.5555555555555556,\"#d8576b\"],[0.6666666666666666,\"#ed7953\"],[0.7777777777777778,\"#fb9f3a\"],[0.8888888888888888,\"#fdca26\"],[1.0,\"#f0f921\"]],\"type\":\"histogram2d\"}],\"histogram2dcontour\":[{\"colorbar\":{\"outlinewidth\":0,\"ticks\":\"\"},\"colorscale\":[[0.0,\"#0d0887\"],[0.1111111111111111,\"#46039f\"],[0.2222222222222222,\"#7201a8\"],[0.3333333333333333,\"#9c179e\"],[0.4444444444444444,\"#bd3786\"],[0.5555555555555556,\"#d8576b\"],[0.6666666666666666,\"#ed7953\"],[0.7777777777777778,\"#fb9f3a\"],[0.8888888888888888,\"#fdca26\"],[1.0,\"#f0f921\"]],\"type\":\"histogram2dcontour\"}],\"mesh3d\":[{\"colorbar\":{\"outlinewidth\":0,\"ticks\":\"\"},\"type\":\"mesh3d\"}],\"parcoords\":[{\"line\":{\"colorbar\":{\"outlinewidth\":0,\"ticks\":\"\"}},\"type\":\"parcoords\"}],\"pie\":[{\"automargin\":true,\"type\":\"pie\"}],\"scatter\":[{\"marker\":{\"colorbar\":{\"outlinewidth\":0,\"ticks\":\"\"}},\"type\":\"scatter\"}],\"scatter3d\":[{\"line\":{\"colorbar\":{\"outlinewidth\":0,\"ticks\":\"\"}},\"marker\":{\"colorbar\":{\"outlinewidth\":0,\"ticks\":\"\"}},\"type\":\"scatter3d\"}],\"scattercarpet\":[{\"marker\":{\"colorbar\":{\"outlinewidth\":0,\"ticks\":\"\"}},\"type\":\"scattercarpet\"}],\"scattergeo\":[{\"marker\":{\"colorbar\":{\"outlinewidth\":0,\"ticks\":\"\"}},\"type\":\"scattergeo\"}],\"scattergl\":[{\"marker\":{\"colorbar\":{\"outlinewidth\":0,\"ticks\":\"\"}},\"type\":\"scattergl\"}],\"scattermapbox\":[{\"marker\":{\"colorbar\":{\"outlinewidth\":0,\"ticks\":\"\"}},\"type\":\"scattermapbox\"}],\"scatterpolar\":[{\"marker\":{\"colorbar\":{\"outlinewidth\":0,\"ticks\":\"\"}},\"type\":\"scatterpolar\"}],\"scatterpolargl\":[{\"marker\":{\"colorbar\":{\"outlinewidth\":0,\"ticks\":\"\"}},\"type\":\"scatterpolargl\"}],\"scatterternary\":[{\"marker\":{\"colorbar\":{\"outlinewidth\":0,\"ticks\":\"\"}},\"type\":\"scatterternary\"}],\"surface\":[{\"colorbar\":{\"outlinewidth\":0,\"ticks\":\"\"},\"colorscale\":[[0.0,\"#0d0887\"],[0.1111111111111111,\"#46039f\"],[0.2222222222222222,\"#7201a8\"],[0.3333333333333333,\"#9c179e\"],[0.4444444444444444,\"#bd3786\"],[0.5555555555555556,\"#d8576b\"],[0.6666666666666666,\"#ed7953\"],[0.7777777777777778,\"#fb9f3a\"],[0.8888888888888888,\"#fdca26\"],[1.0,\"#f0f921\"]],\"type\":\"surface\"}],\"table\":[{\"cells\":{\"fill\":{\"color\":\"#EBF0F8\"},\"line\":{\"color\":\"white\"}},\"header\":{\"fill\":{\"color\":\"#C8D4E3\"},\"line\":{\"color\":\"white\"}},\"type\":\"table\"}]},\"layout\":{\"annotationdefaults\":{\"arrowcolor\":\"#2a3f5f\",\"arrowhead\":0,\"arrowwidth\":1},\"autotypenumbers\":\"strict\",\"coloraxis\":{\"colorbar\":{\"outlinewidth\":0,\"ticks\":\"\"}},\"colorscale\":{\"diverging\":[[0,\"#8e0152\"],[0.1,\"#c51b7d\"],[0.2,\"#de77ae\"],[0.3,\"#f1b6da\"],[0.4,\"#fde0ef\"],[0.5,\"#f7f7f7\"],[0.6,\"#e6f5d0\"],[0.7,\"#b8e186\"],[0.8,\"#7fbc41\"],[0.9,\"#4d9221\"],[1,\"#276419\"]],\"sequential\":[[0.0,\"#0d0887\"],[0.1111111111111111,\"#46039f\"],[0.2222222222222222,\"#7201a8\"],[0.3333333333333333,\"#9c179e\"],[0.4444444444444444,\"#bd3786\"],[0.5555555555555556,\"#d8576b\"],[0.6666666666666666,\"#ed7953\"],[0.7777777777777778,\"#fb9f3a\"],[0.8888888888888888,\"#fdca26\"],[1.0,\"#f0f921\"]],\"sequentialminus\":[[0.0,\"#0d0887\"],[0.1111111111111111,\"#46039f\"],[0.2222222222222222,\"#7201a8\"],[0.3333333333333333,\"#9c179e\"],[0.4444444444444444,\"#bd3786\"],[0.5555555555555556,\"#d8576b\"],[0.6666666666666666,\"#ed7953\"],[0.7777777777777778,\"#fb9f3a\"],[0.8888888888888888,\"#fdca26\"],[1.0,\"#f0f921\"]]},\"colorway\":[\"#636efa\",\"#EF553B\",\"#00cc96\",\"#ab63fa\",\"#FFA15A\",\"#19d3f3\",\"#FF6692\",\"#B6E880\",\"#FF97FF\",\"#FECB52\"],\"font\":{\"color\":\"#2a3f5f\"},\"geo\":{\"bgcolor\":\"white\",\"lakecolor\":\"white\",\"landcolor\":\"#E5ECF6\",\"showlakes\":true,\"showland\":true,\"subunitcolor\":\"white\"},\"hoverlabel\":{\"align\":\"left\"},\"hovermode\":\"closest\",\"mapbox\":{\"style\":\"light\"},\"paper_bgcolor\":\"white\",\"plot_bgcolor\":\"#E5ECF6\",\"polar\":{\"angularaxis\":{\"gridcolor\":\"white\",\"linecolor\":\"white\",\"ticks\":\"\"},\"bgcolor\":\"#E5ECF6\",\"radialaxis\":{\"gridcolor\":\"white\",\"linecolor\":\"white\",\"ticks\":\"\"}},\"scene\":{\"xaxis\":{\"backgroundcolor\":\"#E5ECF6\",\"gridcolor\":\"white\",\"gridwidth\":2,\"linecolor\":\"white\",\"showbackground\":true,\"ticks\":\"\",\"zerolinecolor\":\"white\"},\"yaxis\":{\"backgroundcolor\":\"#E5ECF6\",\"gridcolor\":\"white\",\"gridwidth\":2,\"linecolor\":\"white\",\"showbackground\":true,\"ticks\":\"\",\"zerolinecolor\":\"white\"},\"zaxis\":{\"backgroundcolor\":\"#E5ECF6\",\"gridcolor\":\"white\",\"gridwidth\":2,\"linecolor\":\"white\",\"showbackground\":true,\"ticks\":\"\",\"zerolinecolor\":\"white\"}},\"shapedefaults\":{\"line\":{\"color\":\"#2a3f5f\"}},\"ternary\":{\"aaxis\":{\"gridcolor\":\"white\",\"linecolor\":\"white\",\"ticks\":\"\"},\"baxis\":{\"gridcolor\":\"white\",\"linecolor\":\"white\",\"ticks\":\"\"},\"bgcolor\":\"#E5ECF6\",\"caxis\":{\"gridcolor\":\"white\",\"linecolor\":\"white\",\"ticks\":\"\"}},\"title\":{\"x\":0.05},\"xaxis\":{\"automargin\":true,\"gridcolor\":\"white\",\"linecolor\":\"white\",\"ticks\":\"\",\"title\":{\"standoff\":15},\"zerolinecolor\":\"white\",\"zerolinewidth\":2},\"yaxis\":{\"automargin\":true,\"gridcolor\":\"white\",\"linecolor\":\"white\",\"ticks\":\"\",\"title\":{\"standoff\":15},\"zerolinecolor\":\"white\",\"zerolinewidth\":2}}},\"xaxis\":{\"anchor\":\"y\",\"domain\":[0.0,1.0],\"title\":{\"text\":\"year\"}},\"yaxis\":{\"anchor\":\"x\",\"domain\":[0.0,1.0],\"title\":{\"text\":\"duration_ms\"}},\"legend\":{\"tracegroupgap\":0},\"margin\":{\"t\":60}},                        {\"responsive\": true}                    )                };                            </script>        </div>\n",
       "</body>\n",
       "</html>"
      ]
     },
     "metadata": {
      "application/vnd.databricks.v1+output": {
       "addedWidgets": {},
       "arguments": {},
       "data": "<html>\n<head><meta charset=\"utf-8\" /></head>\n<body>\n    <div>            <script src=\"https://cdnjs.cloudflare.com/ajax/libs/mathjax/2.7.5/MathJax.js?config=TeX-AMS-MML_SVG\"></script><script type=\"text/javascript\">if (window.MathJax) {MathJax.Hub.Config({SVG: {font: \"STIX-Web\"}});}</script>                <script type=\"text/javascript\">window.PlotlyConfig = {MathJaxConfig: 'local'};</script>\n        <script src=\"https://cdn.plot.ly/plotly-2.9.0.min.js\"></script>                <div id=\"33c85c61-9fbd-4a96-bcab-e5a9fca014a2\" class=\"plotly-graph-div\" style=\"height:100%; width:100%;\"></div>            <script type=\"text/javascript\">                                    window.PLOTLYENV=window.PLOTLYENV || {};                                    if (document.getElementById(\"33c85c61-9fbd-4a96-bcab-e5a9fca014a2\")) {                    Plotly.newPlot(                        \"33c85c61-9fbd-4a96-bcab-e5a9fca014a2\",                        [{\"hovertemplate\":\"year=%{x}<br>duration_ms=%{y}<extra></extra>\",\"legendgroup\":\"\",\"line\":{\"color\":\"#636efa\",\"dash\":\"solid\"},\"marker\":{\"symbol\":\"circle\"},\"mode\":\"lines\",\"name\":\"\",\"orientation\":\"v\",\"showlegend\":false,\"x\":[1921,1922,1923,1924,1925,1926,1927,1928,1929,1930,1931,1932,1933,1934,1935,1936,1937,1938,1939,1940,1941,1942,1943,1944,1945,1946,1947,1948,1949,1950,1951,1952,1953,1954,1955,1956,1957,1958,1959,1960,1961,1962,1963,1964,1965,1966,1967,1968,1969,1970,1971,1972,1973,1974,1975,1976,1977,1978,1979,1980,1981,1982,1983,1984,1985,1986,1987,1988,1989,1990,1991,1992,1993,1994,1995,1996,1997,1998,1999,2000,2001,2002,2003,2004,2005,2006,2007,2008,2009,2010,2011,2012,2013,2014,2015,2016,2017,2018,2019,2020],\"xaxis\":\"x\",\"y\":[260537.16666666663,165469.74647887325,177942.36216216214,191046.70762711862,184986.92446043165,156881.65747460088,184993.59837398372,214827.90642347344,168999.41281512607,195150.28534303536,171553.42546583852,195749.37250996014,196219.25759768448,189356.1262975779,220124.24703557312,220809.1863636364,223216.5585996956,249177.09951060358,221602.065,182227.9445,201904.575,222361.16825208085,240119.9098591549,245555.58643617018,196161.557,267677.82308584685,233137.38424242425,199194.87421052632,223199.3275,215073.1255,213154.641,229434.72699999998,217455.5682051282,224029.36800000002,222137.44600000003,211846.9215,241604.8241025641,214146.9005,216292.8369230769,210209.68378378375,232186.61421052628,209294.41315789477,200510.5485,195536.4117948718,196342.08615384615,216095.113,198987.5182591296,214980.984,242545.9405,242852.1515,260511.7935,245914.2285,257002.7905,252555.79100000003,254969.3715,267676.967,257121.848,249051.887,252860.2265,252835.53333333327,250904.205,248357.306,251123.6985,251845.2565,252276.258,254708.4055,247543.3230769231,257442.5897435897,254203.5935,256451.4035,245912.00615384613,246506.46,251667.9675,250992.254,246624.0915,248180.983,245749.2815,248542.6075,245177.7452588416,242724.6426380368,240307.79600997505,239503.283,244670.5752302968,237378.70803662261,237229.5882051282,234042.91435897435,241049.96256410255,240107.31560102306,238140.0132653061,242811.8045634921,236998.787307883,245807.45758354763,242267.66143724695,233728.31471321694,230029.0466058764,221396.51029493602,211115.6967871486,206001.0071326676,201024.78809645973,193728.39753694585],\"yaxis\":\"y\",\"type\":\"scatter\"}],                        {\"template\":{\"data\":{\"bar\":[{\"error_x\":{\"color\":\"#2a3f5f\"},\"error_y\":{\"color\":\"#2a3f5f\"},\"marker\":{\"line\":{\"color\":\"#E5ECF6\",\"width\":0.5},\"pattern\":{\"fillmode\":\"overlay\",\"size\":10,\"solidity\":0.2}},\"type\":\"bar\"}],\"barpolar\":[{\"marker\":{\"line\":{\"color\":\"#E5ECF6\",\"width\":0.5},\"pattern\":{\"fillmode\":\"overlay\",\"size\":10,\"solidity\":0.2}},\"type\":\"barpolar\"}],\"carpet\":[{\"aaxis\":{\"endlinecolor\":\"#2a3f5f\",\"gridcolor\":\"white\",\"linecolor\":\"white\",\"minorgridcolor\":\"white\",\"startlinecolor\":\"#2a3f5f\"},\"baxis\":{\"endlinecolor\":\"#2a3f5f\",\"gridcolor\":\"white\",\"linecolor\":\"white\",\"minorgridcolor\":\"white\",\"startlinecolor\":\"#2a3f5f\"},\"type\":\"carpet\"}],\"choropleth\":[{\"colorbar\":{\"outlinewidth\":0,\"ticks\":\"\"},\"type\":\"choropleth\"}],\"contour\":[{\"colorbar\":{\"outlinewidth\":0,\"ticks\":\"\"},\"colorscale\":[[0.0,\"#0d0887\"],[0.1111111111111111,\"#46039f\"],[0.2222222222222222,\"#7201a8\"],[0.3333333333333333,\"#9c179e\"],[0.4444444444444444,\"#bd3786\"],[0.5555555555555556,\"#d8576b\"],[0.6666666666666666,\"#ed7953\"],[0.7777777777777778,\"#fb9f3a\"],[0.8888888888888888,\"#fdca26\"],[1.0,\"#f0f921\"]],\"type\":\"contour\"}],\"contourcarpet\":[{\"colorbar\":{\"outlinewidth\":0,\"ticks\":\"\"},\"type\":\"contourcarpet\"}],\"heatmap\":[{\"colorbar\":{\"outlinewidth\":0,\"ticks\":\"\"},\"colorscale\":[[0.0,\"#0d0887\"],[0.1111111111111111,\"#46039f\"],[0.2222222222222222,\"#7201a8\"],[0.3333333333333333,\"#9c179e\"],[0.4444444444444444,\"#bd3786\"],[0.5555555555555556,\"#d8576b\"],[0.6666666666666666,\"#ed7953\"],[0.7777777777777778,\"#fb9f3a\"],[0.8888888888888888,\"#fdca26\"],[1.0,\"#f0f921\"]],\"type\":\"heatmap\"}],\"heatmapgl\":[{\"colorbar\":{\"outlinewidth\":0,\"ticks\":\"\"},\"colorscale\":[[0.0,\"#0d0887\"],[0.1111111111111111,\"#46039f\"],[0.2222222222222222,\"#7201a8\"],[0.3333333333333333,\"#9c179e\"],[0.4444444444444444,\"#bd3786\"],[0.5555555555555556,\"#d8576b\"],[0.6666666666666666,\"#ed7953\"],[0.7777777777777778,\"#fb9f3a\"],[0.8888888888888888,\"#fdca26\"],[1.0,\"#f0f921\"]],\"type\":\"heatmapgl\"}],\"histogram\":[{\"marker\":{\"pattern\":{\"fillmode\":\"overlay\",\"size\":10,\"solidity\":0.2}},\"type\":\"histogram\"}],\"histogram2d\":[{\"colorbar\":{\"outlinewidth\":0,\"ticks\":\"\"},\"colorscale\":[[0.0,\"#0d0887\"],[0.1111111111111111,\"#46039f\"],[0.2222222222222222,\"#7201a8\"],[0.3333333333333333,\"#9c179e\"],[0.4444444444444444,\"#bd3786\"],[0.5555555555555556,\"#d8576b\"],[0.6666666666666666,\"#ed7953\"],[0.7777777777777778,\"#fb9f3a\"],[0.8888888888888888,\"#fdca26\"],[1.0,\"#f0f921\"]],\"type\":\"histogram2d\"}],\"histogram2dcontour\":[{\"colorbar\":{\"outlinewidth\":0,\"ticks\":\"\"},\"colorscale\":[[0.0,\"#0d0887\"],[0.1111111111111111,\"#46039f\"],[0.2222222222222222,\"#7201a8\"],[0.3333333333333333,\"#9c179e\"],[0.4444444444444444,\"#bd3786\"],[0.5555555555555556,\"#d8576b\"],[0.6666666666666666,\"#ed7953\"],[0.7777777777777778,\"#fb9f3a\"],[0.8888888888888888,\"#fdca26\"],[1.0,\"#f0f921\"]],\"type\":\"histogram2dcontour\"}],\"mesh3d\":[{\"colorbar\":{\"outlinewidth\":0,\"ticks\":\"\"},\"type\":\"mesh3d\"}],\"parcoords\":[{\"line\":{\"colorbar\":{\"outlinewidth\":0,\"ticks\":\"\"}},\"type\":\"parcoords\"}],\"pie\":[{\"automargin\":true,\"type\":\"pie\"}],\"scatter\":[{\"marker\":{\"colorbar\":{\"outlinewidth\":0,\"ticks\":\"\"}},\"type\":\"scatter\"}],\"scatter3d\":[{\"line\":{\"colorbar\":{\"outlinewidth\":0,\"ticks\":\"\"}},\"marker\":{\"colorbar\":{\"outlinewidth\":0,\"ticks\":\"\"}},\"type\":\"scatter3d\"}],\"scattercarpet\":[{\"marker\":{\"colorbar\":{\"outlinewidth\":0,\"ticks\":\"\"}},\"type\":\"scattercarpet\"}],\"scattergeo\":[{\"marker\":{\"colorbar\":{\"outlinewidth\":0,\"ticks\":\"\"}},\"type\":\"scattergeo\"}],\"scattergl\":[{\"marker\":{\"colorbar\":{\"outlinewidth\":0,\"ticks\":\"\"}},\"type\":\"scattergl\"}],\"scattermapbox\":[{\"marker\":{\"colorbar\":{\"outlinewidth\":0,\"ticks\":\"\"}},\"type\":\"scattermapbox\"}],\"scatterpolar\":[{\"marker\":{\"colorbar\":{\"outlinewidth\":0,\"ticks\":\"\"}},\"type\":\"scatterpolar\"}],\"scatterpolargl\":[{\"marker\":{\"colorbar\":{\"outlinewidth\":0,\"ticks\":\"\"}},\"type\":\"scatterpolargl\"}],\"scatterternary\":[{\"marker\":{\"colorbar\":{\"outlinewidth\":0,\"ticks\":\"\"}},\"type\":\"scatterternary\"}],\"surface\":[{\"colorbar\":{\"outlinewidth\":0,\"ticks\":\"\"},\"colorscale\":[[0.0,\"#0d0887\"],[0.1111111111111111,\"#46039f\"],[0.2222222222222222,\"#7201a8\"],[0.3333333333333333,\"#9c179e\"],[0.4444444444444444,\"#bd3786\"],[0.5555555555555556,\"#d8576b\"],[0.6666666666666666,\"#ed7953\"],[0.7777777777777778,\"#fb9f3a\"],[0.8888888888888888,\"#fdca26\"],[1.0,\"#f0f921\"]],\"type\":\"surface\"}],\"table\":[{\"cells\":{\"fill\":{\"color\":\"#EBF0F8\"},\"line\":{\"color\":\"white\"}},\"header\":{\"fill\":{\"color\":\"#C8D4E3\"},\"line\":{\"color\":\"white\"}},\"type\":\"table\"}]},\"layout\":{\"annotationdefaults\":{\"arrowcolor\":\"#2a3f5f\",\"arrowhead\":0,\"arrowwidth\":1},\"autotypenumbers\":\"strict\",\"coloraxis\":{\"colorbar\":{\"outlinewidth\":0,\"ticks\":\"\"}},\"colorscale\":{\"diverging\":[[0,\"#8e0152\"],[0.1,\"#c51b7d\"],[0.2,\"#de77ae\"],[0.3,\"#f1b6da\"],[0.4,\"#fde0ef\"],[0.5,\"#f7f7f7\"],[0.6,\"#e6f5d0\"],[0.7,\"#b8e186\"],[0.8,\"#7fbc41\"],[0.9,\"#4d9221\"],[1,\"#276419\"]],\"sequential\":[[0.0,\"#0d0887\"],[0.1111111111111111,\"#46039f\"],[0.2222222222222222,\"#7201a8\"],[0.3333333333333333,\"#9c179e\"],[0.4444444444444444,\"#bd3786\"],[0.5555555555555556,\"#d8576b\"],[0.6666666666666666,\"#ed7953\"],[0.7777777777777778,\"#fb9f3a\"],[0.8888888888888888,\"#fdca26\"],[1.0,\"#f0f921\"]],\"sequentialminus\":[[0.0,\"#0d0887\"],[0.1111111111111111,\"#46039f\"],[0.2222222222222222,\"#7201a8\"],[0.3333333333333333,\"#9c179e\"],[0.4444444444444444,\"#bd3786\"],[0.5555555555555556,\"#d8576b\"],[0.6666666666666666,\"#ed7953\"],[0.7777777777777778,\"#fb9f3a\"],[0.8888888888888888,\"#fdca26\"],[1.0,\"#f0f921\"]]},\"colorway\":[\"#636efa\",\"#EF553B\",\"#00cc96\",\"#ab63fa\",\"#FFA15A\",\"#19d3f3\",\"#FF6692\",\"#B6E880\",\"#FF97FF\",\"#FECB52\"],\"font\":{\"color\":\"#2a3f5f\"},\"geo\":{\"bgcolor\":\"white\",\"lakecolor\":\"white\",\"landcolor\":\"#E5ECF6\",\"showlakes\":true,\"showland\":true,\"subunitcolor\":\"white\"},\"hoverlabel\":{\"align\":\"left\"},\"hovermode\":\"closest\",\"mapbox\":{\"style\":\"light\"},\"paper_bgcolor\":\"white\",\"plot_bgcolor\":\"#E5ECF6\",\"polar\":{\"angularaxis\":{\"gridcolor\":\"white\",\"linecolor\":\"white\",\"ticks\":\"\"},\"bgcolor\":\"#E5ECF6\",\"radialaxis\":{\"gridcolor\":\"white\",\"linecolor\":\"white\",\"ticks\":\"\"}},\"scene\":{\"xaxis\":{\"backgroundcolor\":\"#E5ECF6\",\"gridcolor\":\"white\",\"gridwidth\":2,\"linecolor\":\"white\",\"showbackground\":true,\"ticks\":\"\",\"zerolinecolor\":\"white\"},\"yaxis\":{\"backgroundcolor\":\"#E5ECF6\",\"gridcolor\":\"white\",\"gridwidth\":2,\"linecolor\":\"white\",\"showbackground\":true,\"ticks\":\"\",\"zerolinecolor\":\"white\"},\"zaxis\":{\"backgroundcolor\":\"#E5ECF6\",\"gridcolor\":\"white\",\"gridwidth\":2,\"linecolor\":\"white\",\"showbackground\":true,\"ticks\":\"\",\"zerolinecolor\":\"white\"}},\"shapedefaults\":{\"line\":{\"color\":\"#2a3f5f\"}},\"ternary\":{\"aaxis\":{\"gridcolor\":\"white\",\"linecolor\":\"white\",\"ticks\":\"\"},\"baxis\":{\"gridcolor\":\"white\",\"linecolor\":\"white\",\"ticks\":\"\"},\"bgcolor\":\"#E5ECF6\",\"caxis\":{\"gridcolor\":\"white\",\"linecolor\":\"white\",\"ticks\":\"\"}},\"title\":{\"x\":0.05},\"xaxis\":{\"automargin\":true,\"gridcolor\":\"white\",\"linecolor\":\"white\",\"ticks\":\"\",\"title\":{\"standoff\":15},\"zerolinecolor\":\"white\",\"zerolinewidth\":2},\"yaxis\":{\"automargin\":true,\"gridcolor\":\"white\",\"linecolor\":\"white\",\"ticks\":\"\",\"title\":{\"standoff\":15},\"zerolinecolor\":\"white\",\"zerolinewidth\":2}}},\"xaxis\":{\"anchor\":\"y\",\"domain\":[0.0,1.0],\"title\":{\"text\":\"year\"}},\"yaxis\":{\"anchor\":\"x\",\"domain\":[0.0,1.0],\"title\":{\"text\":\"duration_ms\"}},\"legend\":{\"tracegroupgap\":0},\"margin\":{\"t\":60}},                        {\"responsive\": true}                    )                };                            </script>        </div>\n</body>\n</html>",
       "datasetInfos": [],
       "metadata": {},
       "removedWidgets": [],
       "textData": null,
       "type": "htmlSandbox"
      }
     },
     "output_type": "display_data"
    }
   ],
   "source": [
    "%python\n",
    "\n",
    "# Criação de um gráfico de linhas\n",
    "\n",
    "df_consulta_04.plot.line(x='year', y='duration_ms')"
   ]
  },
  {
   "cell_type": "markdown",
   "metadata": {
    "application/vnd.databricks.v1+cell": {
     "cellMetadata": {},
     "inputWidgets": {},
     "nuid": "6ac1f3ac-ab26-47d5-bc85-eac3f7f905e6",
     "showTitle": false,
     "tableResultSettingsMap": {},
     "title": ""
    }
   },
   "source": [
    "\n",
    "## Criação de gráfico de linhas (diversas)"
   ]
  },
  {
   "cell_type": "code",
   "execution_count": 0,
   "metadata": {
    "application/vnd.databricks.v1+cell": {
     "cellMetadata": {
      "byteLimit": 2048000,
      "rowLimit": 10000
     },
     "inputWidgets": {},
     "nuid": "c1396ea2-38b8-410d-b4dd-cd32016926e2",
     "showTitle": false,
     "tableResultSettingsMap": {},
     "title": ""
    }
   },
   "outputs": [
    {
     "output_type": "display_data",
     "data": {
      "text/html": [
       "<html>\n",
       "<head><meta charset=\"utf-8\" /></head>\n",
       "<body>\n",
       "    <div>            <script src=\"https://cdnjs.cloudflare.com/ajax/libs/mathjax/2.7.5/MathJax.js?config=TeX-AMS-MML_SVG\"></script><script type=\"text/javascript\">if (window.MathJax) {MathJax.Hub.Config({SVG: {font: \"STIX-Web\"}});}</script>                <script type=\"text/javascript\">window.PlotlyConfig = {MathJaxConfig: 'local'};</script>\n",
       "        <script src=\"https://cdn.plot.ly/plotly-2.9.0.min.js\"></script>                <div id=\"a3f87ee6-2efe-415e-9e4c-89ad3aab5521\" class=\"plotly-graph-div\" style=\"height:100%; width:100%;\"></div>            <script type=\"text/javascript\">                                    window.PLOTLYENV=window.PLOTLYENV || {};                                    if (document.getElementById(\"a3f87ee6-2efe-415e-9e4c-89ad3aab5521\")) {                    Plotly.newPlot(                        \"a3f87ee6-2efe-415e-9e4c-89ad3aab5521\",                        [{\"hovertemplate\":\"variable=acousticness<br>year=%{x}<br>value=%{y}<extra></extra>\",\"legendgroup\":\"acousticness\",\"line\":{\"color\":\"#636efa\",\"dash\":\"solid\"},\"marker\":{\"symbol\":\"circle\"},\"mode\":\"lines\",\"name\":\"acousticness\",\"orientation\":\"v\",\"showlegend\":true,\"x\":[1921,1922,1923,1924,1925,1926,1927,1928,1929,1930,1931,1932,1933,1934,1935,1936,1937,1938,1939,1940,1941,1942,1943,1944,1945,1946,1947,1948,1949,1950,1951,1952,1953,1954,1955,1956,1957,1958,1959,1960,1961,1962,1963,1964,1965,1966,1967,1968,1969,1970,1971,1972,1973,1974,1975,1976,1977,1978,1979,1980,1981,1982,1983,1984,1985,1986,1987,1988,1989,1990,1991,1992,1993,1994,1995,1996,1997,1998,1999,2000,2001,2002,2003,2004,2005,2006,2007,2008,2009,2010,2011,2012,2013,2014,2015,2016,2017,2018,2019,2020],\"xaxis\":\"x\",\"y\":[0.8868960000000005,0.9385915492957748,0.9572467913513516,0.940199860169493,0.9626070503597138,0.660817216981134,0.9361794552845558,0.9386165035685952,0.6014265861344558,0.936714937370057,0.8330399585921336,0.9357705179282878,0.899897909117222,0.8911487501730107,0.7783855599472987,0.7723120800000008,0.8654357853881286,0.9192803908646014,0.9087381000000004,0.8476440499999951,0.8957376562500025,0.8529343703923857,0.9027523185915528,0.9076531914893636,0.7096568630000005,0.9199445823665852,0.9139650224242392,0.9221549999999956,0.9075328949999956,0.8539413005999965,0.9022971956499974,0.8743009244999965,0.8909223502564074,0.8650197272999992,0.8405510069999986,0.8230569899999975,0.7928023589743608,0.7796118650000005,0.7793927897435907,0.7671814843243259,0.7519038684210535,0.720607806842106,0.7227048300000004,0.6941005307692291,0.6099113295384619,0.5248094599699997,0.5296103243521767,0.4937702403500001,0.4488463039999994,0.4600571139500007,0.4583362981000009,0.4600428051999994,0.4165241889999992,0.4472074226000001,0.4337738871950005,0.36147063210999936,0.3393025333750004,0.32896857344999936,0.29593224063,0.28495539763589706,0.3012042267400006,0.2895800382050001,0.2947778916300001,0.2877095803450008,0.2965709032099995,0.28508065642499997,0.3116640663948722,0.32200994651282105,0.3133512518150009,0.3328699505850001,0.33276529163076995,0.3208087638250009,0.3090685537400004,0.3062343630899999,0.30251180612000045,0.30102687980000065,0.3067156934549995,0.29148946157000016,0.2715901110661201,0.28932270051635994,0.2868424748428934,0.28262428988500105,0.25647051817297833,0.2805589466225845,0.2557635068666665,0.2799863520256408,0.2540809575538463,0.2491917627212275,0.26192861909693904,0.2426866435515872,0.27318266251859197,0.24995304438046245,0.2574880859564779,0.24931264588029906,0.2539522577102332,0.28417102995548144,0.2860990665261043,0.2676329907750836,0.2782985863365824,0.2199308880935964],\"yaxis\":\"y\",\"type\":\"scatter\"},{\"hovertemplate\":\"variable=danceability<br>year=%{x}<br>value=%{y}<extra></extra>\",\"legendgroup\":\"danceability\",\"line\":{\"color\":\"#EF553B\",\"dash\":\"solid\"},\"marker\":{\"symbol\":\"circle\"},\"mode\":\"lines\",\"name\":\"danceability\",\"orientation\":\"v\",\"showlegend\":true,\"x\":[1921,1922,1923,1924,1925,1926,1927,1928,1929,1930,1931,1932,1933,1934,1935,1936,1937,1938,1939,1940,1941,1942,1943,1944,1945,1946,1947,1948,1949,1950,1951,1952,1953,1954,1955,1956,1957,1958,1959,1960,1961,1962,1963,1964,1965,1966,1967,1968,1969,1970,1971,1972,1973,1974,1975,1976,1977,1978,1979,1980,1981,1982,1983,1984,1985,1986,1987,1988,1989,1990,1991,1992,1993,1994,1995,1996,1997,1998,1999,2000,2001,2002,2003,2004,2005,2006,2007,2008,2009,2010,2011,2012,2013,2014,2015,2016,2017,2018,2019,2020],\"xaxis\":\"x\",\"y\":[0.4185973333333336,0.4820422535211267,0.5773405405405401,0.5498940677966102,0.5738633093525181,0.5998802612481859,0.6482682926829262,0.5342878667724027,0.6476698529411761,0.5181758835758836,0.5952217391304357,0.5577976095617526,0.57029030390738,0.528705882352941,0.5558691699604746,0.5580055454545453,0.5421572298325723,0.47997797716150103,0.5126828,0.52189235,0.4804813541666676,0.4646338882282997,0.4551456338028168,0.5001744680851068,0.5191431500000011,0.4144450116009276,0.4713208484848491,0.4633694736842109,0.4421993999999996,0.5042531000000008,0.4624800999999999,0.4570322000000001,0.4374260512820513,0.4656388999999994,0.4881312,0.4878145000000007,0.5034812307692305,0.4800213999999995,0.4821143076923083,0.4860292432432435,0.4891655789473678,0.4931643684210523,0.48162135,0.5041769743589742,0.5034505641025638,0.5070204999999981,0.4926885942971483,0.5010080999999997,0.4880977999999999,0.5063075000000004,0.5042738499999999,0.5209994499999997,0.5154494500000005,0.51533975,0.5209980000000007,0.5297624999999999,0.5333237000000017,0.5407746000000005,0.5620453000000001,0.5561523589743594,0.5421846999999999,0.5642594000000005,0.5456292999999998,0.5303089499999987,0.5556424000000012,0.5409334000000001,0.5410193333333342,0.5404594358974372,0.5472274499999988,0.5352986500000001,0.5558243589743591,0.5550648499999989,0.5698781500000001,0.5528299500000016,0.5590457500000001,0.5878306000000001,0.5768138499999994,0.5862116499999998,0.5821579190158892,0.590918047034764,0.5833178553615969,0.5761602999999997,0.5757633060388944,0.5676803662258397,0.5722805641025652,0.5682301538461539,0.5634143589743592,0.5791928388746803,0.5641903571428577,0.5724883432539687,0.5528669806643526,0.5708818508997433,0.5711480263157896,0.5899476807980057,0.5937740628166152,0.6002023928770179,0.6122170180722886,0.6635004755111744,0.6448141097998967,0.6929043349753701],\"yaxis\":\"y\",\"type\":\"scatter\"},{\"hovertemplate\":\"variable=energy<br>year=%{x}<br>value=%{y}<extra></extra>\",\"legendgroup\":\"energy\",\"line\":{\"color\":\"#00cc96\",\"dash\":\"solid\"},\"marker\":{\"symbol\":\"circle\"},\"mode\":\"lines\",\"name\":\"energy\",\"orientation\":\"v\",\"showlegend\":true,\"x\":[1921,1922,1923,1924,1925,1926,1927,1928,1929,1930,1931,1932,1933,1934,1935,1936,1937,1938,1939,1940,1941,1942,1943,1944,1945,1946,1947,1948,1949,1950,1951,1952,1953,1954,1955,1956,1957,1958,1959,1960,1961,1962,1963,1964,1965,1966,1967,1968,1969,1970,1971,1972,1973,1974,1975,1976,1977,1978,1979,1980,1981,1982,1983,1984,1985,1986,1987,1988,1989,1990,1991,1992,1993,1994,1995,1996,1997,1998,1999,2000,2001,2002,2003,2004,2005,2006,2007,2008,2009,2010,2011,2012,2013,2014,2015,2016,2017,2018,2019,2020],\"xaxis\":\"x\",\"y\":[0.23181513333333334,0.23781535211267596,0.2624064864864865,0.3443466101694912,0.2785935251798561,0.2114670907111756,0.2643213008130081,0.20794779540047573,0.2418007352941172,0.3335239189189189,0.2344967732919257,0.3020677290836656,0.2798994211287988,0.2621313148788928,0.2463669762845848,0.3083886092727274,0.31104829528158273,0.2809812398042416,0.2826715000000002,0.3108928949999999,0.2656431979166666,0.2560794708680144,0.27999004225352114,0.2534414494680852,0.2260444155,0.22217230858468667,0.2635512000000002,0.242464841052632,0.24611461499999965,0.3140711950000003,0.25466565500000005,0.25362601000000023,0.2661968307692306,0.264347385,0.2950963400000001,0.30476112000000016,0.2952791333333324,0.3087957550000006,0.3109944051282049,0.3411423783783781,0.3395318673684203,0.3710257,0.3653538849999999,0.394438825641026,0.4490272461538461,0.482208465,0.44682383191595854,0.4569696500000004,0.4876251299999994,0.495633050000001,0.4963612550000003,0.5045261799999999,0.5361382499999989,0.5147236550000011,0.5232085050000003,0.5538432500000001,0.560287959000001,0.5614288650000007,0.5910127149999996,0.5977773948717964,0.5993827249999998,0.5909193894999996,0.6014252350000012,0.5910916750000013,0.6015154800000013,0.6149545999999998,0.5798395538461533,0.5856792461538458,0.584046375000001,0.5715913950000007,0.5594023641025635,0.5828642050000001,0.5625599100000002,0.578772685000001,0.5785795100000009,0.5860684750000011,0.5986987151000001,0.6051975050000015,0.6375226022552535,0.6254128323108387,0.6269855221945144,0.6412697960000012,0.6601652610030712,0.6488679450661226,0.653208511282051,0.6503262820512825,0.6683047743589737,0.6714608207672623,0.6707487551020408,0.6817778026289684,0.6483008934060499,0.6565714601542408,0.6455968914473688,0.6487954437905223,0.6270642715298895,0.5928552316082347,0.5904210208835337,0.6024346220161672,0.5932240360184717,0.6312316354679793],\"yaxis\":\"y\",\"type\":\"scatter\"},{\"hovertemplate\":\"variable=instrumentalness<br>year=%{x}<br>value=%{y}<extra></extra>\",\"legendgroup\":\"instrumentalness\",\"line\":{\"color\":\"#ab63fa\",\"dash\":\"solid\"},\"marker\":{\"symbol\":\"circle\"},\"mode\":\"lines\",\"name\":\"instrumentalness\",\"orientation\":\"v\",\"showlegend\":true,\"x\":[1921,1922,1923,1924,1925,1926,1927,1928,1929,1930,1931,1932,1933,1934,1935,1936,1937,1938,1939,1940,1941,1942,1943,1944,1945,1946,1947,1948,1949,1950,1951,1952,1953,1954,1955,1956,1957,1958,1959,1960,1961,1962,1963,1964,1965,1966,1967,1968,1969,1970,1971,1972,1973,1974,1975,1976,1977,1978,1979,1980,1981,1982,1983,1984,1985,1986,1987,1988,1989,1990,1991,1992,1993,1994,1995,1996,1997,1998,1999,2000,2001,2002,2003,2004,2005,2006,2007,2008,2009,2010,2011,2012,2013,2014,2015,2016,2017,2018,2019,2020],\"xaxis\":\"x\",\"y\":[0.34487805886666656,0.4341948697183099,0.37173272502702703,0.5817009136440677,0.4182973612230215,0.3330931111175616,0.3913284986504065,0.4948354801348136,0.21520403106092464,0.35220592816528057,0.22141964161490724,0.22635657916334675,0.1839489396816208,0.276382266643599,0.2258732980895915,0.2571099957181816,0.3270876216438359,0.3784246349265906,0.2776824694100001,0.31684869986499986,0.4449516393124999,0.39288204787158104,0.4098969234647892,0.4492919654122334,0.2758942570149996,0.4861264096461711,0.3475934179090908,0.3554848223842104,0.2977615361899994,0.245000820015,0.3084378555850002,0.2884126469300002,0.3183223943230766,0.2974400082799999,0.21660442169000027,0.23876341778000015,0.1945206161692309,0.18124111005999985,0.18814819406153835,0.1765021594216216,0.26462325314210544,0.17147155094210545,0.18543231468,0.1595978017794872,0.1183659460923078,0.11512595556499995,0.1189468546723362,0.11277694928500002,0.15945270816500012,0.12756700308499988,0.12501788923,0.11488033375999974,0.09968022322999996,0.11636098351000007,0.11132203374499992,0.12162904398000007,0.12772103194499998,0.10038121450999994,0.11575137201500015,0.1287510612717948,0.14683794661999985,0.10001638300000004,0.14541052329000045,0.14517303973500045,0.11373855807499987,0.10994085436499992,0.10197451746666662,0.11719038022051302,0.11318254461499995,0.12582626809499972,0.11509233979999993,0.1006900830649998,0.11529396538000007,0.11188575994999997,0.12326879606999998,0.09505281203500013,0.10469017861999998,0.1113257503499999,0.09406814106611992,0.10116776879345596,0.10721401899251867,0.08804835031499995,0.08304927466734914,0.07793403490844357,0.09019436118461543,0.07770147187692314,0.07295726805128197,0.0636620903171356,0.07587207368367352,0.08298056821924611,0.10377233216658402,0.08520552067866319,0.09836505391700387,0.07656955483790515,0.1067868780547114,0.09398438711741793,0.09709060906626496,0.05421712166904419,0.07764024697280643,0.016375524305418724],\"yaxis\":\"y\",\"type\":\"scatter\"},{\"hovertemplate\":\"variable=liveness<br>year=%{x}<br>value=%{y}<extra></extra>\",\"legendgroup\":\"liveness\",\"line\":{\"color\":\"#FFA15A\",\"dash\":\"solid\"},\"marker\":{\"symbol\":\"circle\"},\"mode\":\"lines\",\"name\":\"liveness\",\"orientation\":\"v\",\"showlegend\":true,\"x\":[1921,1922,1923,1924,1925,1926,1927,1928,1929,1930,1931,1932,1933,1934,1935,1936,1937,1938,1939,1940,1941,1942,1943,1944,1945,1946,1947,1948,1949,1950,1951,1952,1953,1954,1955,1956,1957,1958,1959,1960,1961,1962,1963,1964,1965,1966,1967,1968,1969,1970,1971,1972,1973,1974,1975,1976,1977,1978,1979,1980,1981,1982,1983,1984,1985,1986,1987,1988,1989,1990,1991,1992,1993,1994,1995,1996,1997,1998,1999,2000,2001,2002,2003,2004,2005,2006,2007,2008,2009,2010,2011,2012,2013,2014,2015,2016,2017,2018,2019,2020],\"xaxis\":\"x\",\"y\":[0.20571,0.2407197183098592,0.2274621621621621,0.2352190677966101,0.2376679856115108,0.2323695936139332,0.16845024390243893,0.17528937351308488,0.2360002100840333,0.22131086278586296,0.22742795031055896,0.23249621513944224,0.2090719247467437,0.21345259515570927,0.2292998682476943,0.2214382727272726,0.2259677321156773,0.237111092985318,0.2391015999999999,0.26433510000000043,0.20183989583333312,0.2128784185493456,0.23921070422535246,0.2387719414893616,0.2030099500000001,0.2108183294663576,0.22382939393939366,0.21969357894736785,0.2088585500000004,0.2169584000000004,0.21777739999999995,0.2329722999999998,0.22173405128205104,0.2178411499999996,0.2214353500000001,0.18225715000000026,0.1827485641025636,0.2058408500000003,0.1918429230769232,0.20786372972972986,0.20891257894736812,0.20189573684210546,0.20374530000000027,0.2172323589743596,0.21383912820512846,0.21809309999999996,0.19091765882941508,0.2173509500000005,0.20696589999999992,0.21226880000000026,0.21491455000000012,0.20695495000000014,0.20137474999999974,0.20934634999999968,0.21544135000000025,0.24903219999999995,0.2232140500000004,0.21807094999999949,0.21344310000000027,0.20375410256410267,0.2250998999999999,0.20100675,0.1989224500000002,0.19770620000000003,0.19920644999999984,0.21187945000000014,0.20201810256410305,0.20770753846153808,0.19908020000000007,0.19096090000000004,0.18862892307692355,0.20024550000000071,0.1949322500000003,0.1921651000000001,0.2013737000000004,0.1986863000000002,0.1984788000000003,0.1937308999999996,0.20630804715530507,0.1976860429447853,0.18702563591022486,0.1939111999999998,0.19697630501535301,0.2021994404883014,0.19008162564102585,0.1882892820512821,0.19612656410256424,0.19843140664961625,0.2052522959183674,0.19970064484126995,0.20330882498760566,0.1897330077120824,0.19963081983805714,0.1918215960099752,0.18885643363728474,0.18116989426822505,0.1917126004016064,0.17632553495007114,0.17261641867624464,0.1785354187192117],\"yaxis\":\"y\",\"type\":\"scatter\"},{\"hovertemplate\":\"variable=speechiness<br>year=%{x}<br>value=%{y}<extra></extra>\",\"legendgroup\":\"speechiness\",\"line\":{\"color\":\"#19d3f3\",\"dash\":\"solid\"},\"marker\":{\"symbol\":\"circle\"},\"mode\":\"lines\",\"name\":\"speechiness\",\"orientation\":\"v\",\"showlegend\":true,\"x\":[1921,1922,1923,1924,1925,1926,1927,1928,1929,1930,1931,1932,1933,1934,1935,1936,1937,1938,1939,1940,1941,1942,1943,1944,1945,1946,1947,1948,1949,1950,1951,1952,1953,1954,1955,1956,1957,1958,1959,1960,1961,1962,1963,1964,1965,1966,1967,1968,1969,1970,1971,1972,1973,1974,1975,1976,1977,1978,1979,1980,1981,1982,1983,1984,1985,1986,1987,1988,1989,1990,1991,1992,1993,1994,1995,1996,1997,1998,1999,2000,2001,2002,2003,2004,2005,2006,2007,2008,2009,2010,2011,2012,2013,2014,2015,2016,2017,2018,2019,2020],\"xaxis\":\"x\",\"y\":[0.073662,0.1166549295774648,0.0939486486486487,0.09208940677966099,0.11191798561151084,0.4837036284470243,0.11360959349593502,0.15991149881046796,0.4900007352941176,0.11990966735966745,0.4536189440993791,0.1390073705179282,0.09112315484804634,0.10245692041522483,0.3539123847167326,0.27902936363636377,0.08567884322678843,0.095957259380098,0.1284626999999999,0.2429576500000001,0.09136520833333356,0.08367835909631392,0.10571957746478874,0.17328324468085093,0.3050972999999997,0.08800591647331797,0.10056381818181824,0.1643593157894739,0.10299210000000003,0.1534527499999999,0.10850664999999993,0.1373617999999998,0.09008825641025647,0.10481329999999993,0.0895582,0.062312349999999926,0.06435312820512826,0.05699929999999995,0.06787430769230775,0.0657835135135136,0.0594759473684209,0.057739842105263124,0.05203614999999992,0.06659446153846146,0.05755646153846147,0.055964050000000085,0.04909839919959968,0.0589884999999999,0.05497499999999995,0.051681499999999936,0.05942240000000008,0.05487124999999998,0.057825750000000085,0.0573193499999999,0.06109845,0.06274994999999996,0.060854549999999966,0.06275740000000009,0.06905859999999991,0.05924861538461545,0.057915999999999926,0.06585305000000008,0.06688600000000006,0.059264800000000166,0.05846480000000006,0.06481609999999999,0.05778964102564103,0.06609989743589745,0.06393924999999995,0.06434529999999995,0.07110158974358982,0.07306230000000008,0.07635054999999992,0.07604935000000011,0.08375444999999987,0.08607765000000005,0.08850605000000017,0.09173105000000006,0.09440717580727807,0.08920541922290394,0.08918229426433916,0.08430759999999995,0.09392574206755384,0.09423880976602242,0.09333369230769203,0.08584676923076921,0.08434733333333336,0.07735636828644507,0.08545780612244899,0.08103149801587313,0.08747927615270201,0.08174246786632405,0.09384888663967614,0.08406054862842896,0.09677922998986847,0.10431329994435183,0.1105364959839356,0.12717555872563022,0.12104335556695732,0.14138369458128058],\"yaxis\":\"y\",\"type\":\"scatter\"},{\"hovertemplate\":\"variable=valence<br>year=%{x}<br>value=%{y}<extra></extra>\",\"legendgroup\":\"valence\",\"line\":{\"color\":\"#FF6692\",\"dash\":\"solid\"},\"marker\":{\"symbol\":\"circle\"},\"mode\":\"lines\",\"name\":\"valence\",\"orientation\":\"v\",\"showlegend\":true,\"x\":[1921,1922,1923,1924,1925,1926,1927,1928,1929,1930,1931,1932,1933,1934,1935,1936,1937,1938,1939,1940,1941,1942,1943,1944,1945,1946,1947,1948,1949,1950,1951,1952,1953,1954,1955,1956,1957,1958,1959,1960,1961,1962,1963,1964,1965,1966,1967,1968,1969,1970,1971,1972,1973,1974,1975,1976,1977,1978,1979,1980,1981,1982,1983,1984,1985,1986,1987,1988,1989,1990,1991,1992,1993,1994,1995,1996,1997,1998,1999,2000,2001,2002,2003,2004,2005,2006,2007,2008,2009,2010,2011,2012,2013,2014,2015,2016,2017,2018,2019,2020],\"xaxis\":\"x\",\"y\":[0.37932666666666665,0.5355492957746479,0.6254924324324328,0.6637254237288139,0.6219287769784171,0.4369104571843251,0.6597004878048782,0.4957126883425853,0.6365298319327733,0.6162376299376306,0.5131170807453418,0.5881599601593626,0.5994099855282197,0.5588046712802772,0.5455777997364957,0.5640635454545455,0.5857894977168944,0.5149111092985317,0.5599248999999992,0.6167094700000009,0.4794560416666661,0.4774088585017848,0.4954545070422531,0.5406954787234041,0.4913613500000002,0.3982538283062647,0.5082125454545455,0.4621423684210526,0.4304195000000001,0.5516497000000001,0.44134755,0.44313496204999947,0.42914205128205135,0.4523410500000002,0.4724154999999997,0.5084230500000003,0.5110101538461542,0.4976614999999994,0.4784156410256422,0.5239316756756759,0.5128512105263155,0.5477920526315792,0.5415274500000008,0.55726042051282,0.5809506666666668,0.5801445499999996,0.5507916958479243,0.5659936500000002,0.5547452849999999,0.5720753999999992,0.5749132500000002,0.5956881500000009,0.5921162000000004,0.5812744000000009,0.5694151500000002,0.5807332499999998,0.58524655,0.5895352500000014,0.6099818000000005,0.5980580512820513,0.5829518500000006,0.5864384500000001,0.5721198999999989,0.5516387100000003,0.5655964500000001,0.5509485500000019,0.5414511794871785,0.5464853897435901,0.5483329000000007,0.5265268499999999,0.5486552307692295,0.5590983000000014,0.5555684500000001,0.5266491500000006,0.5302466999999994,0.5608732500000001,0.5485525000000002,0.5377209,0.5564528446950284,0.5594754601226991,0.541479107231919,0.5423971500000008,0.5305042476970324,0.5244885554425227,0.5325309230769236,0.5200283076923078,0.5167938461538473,0.5275418925831203,0.5071696617346935,0.5208951587301589,0.4724536787307882,0.4627090128534706,0.4547411943319834,0.4630487780548628,0.4320983687943254,0.4315320589872012,0.4164763112449793,0.4479212743699474,0.4588176295536167,0.5010478078817729],\"yaxis\":\"y\",\"type\":\"scatter\"}],                        {\"template\":{\"data\":{\"bar\":[{\"error_x\":{\"color\":\"#2a3f5f\"},\"error_y\":{\"color\":\"#2a3f5f\"},\"marker\":{\"line\":{\"color\":\"#E5ECF6\",\"width\":0.5},\"pattern\":{\"fillmode\":\"overlay\",\"size\":10,\"solidity\":0.2}},\"type\":\"bar\"}],\"barpolar\":[{\"marker\":{\"line\":{\"color\":\"#E5ECF6\",\"width\":0.5},\"pattern\":{\"fillmode\":\"overlay\",\"size\":10,\"solidity\":0.2}},\"type\":\"barpolar\"}],\"carpet\":[{\"aaxis\":{\"endlinecolor\":\"#2a3f5f\",\"gridcolor\":\"white\",\"linecolor\":\"white\",\"minorgridcolor\":\"white\",\"startlinecolor\":\"#2a3f5f\"},\"baxis\":{\"endlinecolor\":\"#2a3f5f\",\"gridcolor\":\"white\",\"linecolor\":\"white\",\"minorgridcolor\":\"white\",\"startlinecolor\":\"#2a3f5f\"},\"type\":\"carpet\"}],\"choropleth\":[{\"colorbar\":{\"outlinewidth\":0,\"ticks\":\"\"},\"type\":\"choropleth\"}],\"contour\":[{\"colorbar\":{\"outlinewidth\":0,\"ticks\":\"\"},\"colorscale\":[[0.0,\"#0d0887\"],[0.1111111111111111,\"#46039f\"],[0.2222222222222222,\"#7201a8\"],[0.3333333333333333,\"#9c179e\"],[0.4444444444444444,\"#bd3786\"],[0.5555555555555556,\"#d8576b\"],[0.6666666666666666,\"#ed7953\"],[0.7777777777777778,\"#fb9f3a\"],[0.8888888888888888,\"#fdca26\"],[1.0,\"#f0f921\"]],\"type\":\"contour\"}],\"contourcarpet\":[{\"colorbar\":{\"outlinewidth\":0,\"ticks\":\"\"},\"type\":\"contourcarpet\"}],\"heatmap\":[{\"colorbar\":{\"outlinewidth\":0,\"ticks\":\"\"},\"colorscale\":[[0.0,\"#0d0887\"],[0.1111111111111111,\"#46039f\"],[0.2222222222222222,\"#7201a8\"],[0.3333333333333333,\"#9c179e\"],[0.4444444444444444,\"#bd3786\"],[0.5555555555555556,\"#d8576b\"],[0.6666666666666666,\"#ed7953\"],[0.7777777777777778,\"#fb9f3a\"],[0.8888888888888888,\"#fdca26\"],[1.0,\"#f0f921\"]],\"type\":\"heatmap\"}],\"heatmapgl\":[{\"colorbar\":{\"outlinewidth\":0,\"ticks\":\"\"},\"colorscale\":[[0.0,\"#0d0887\"],[0.1111111111111111,\"#46039f\"],[0.2222222222222222,\"#7201a8\"],[0.3333333333333333,\"#9c179e\"],[0.4444444444444444,\"#bd3786\"],[0.5555555555555556,\"#d8576b\"],[0.6666666666666666,\"#ed7953\"],[0.7777777777777778,\"#fb9f3a\"],[0.8888888888888888,\"#fdca26\"],[1.0,\"#f0f921\"]],\"type\":\"heatmapgl\"}],\"histogram\":[{\"marker\":{\"pattern\":{\"fillmode\":\"overlay\",\"size\":10,\"solidity\":0.2}},\"type\":\"histogram\"}],\"histogram2d\":[{\"colorbar\":{\"outlinewidth\":0,\"ticks\":\"\"},\"colorscale\":[[0.0,\"#0d0887\"],[0.1111111111111111,\"#46039f\"],[0.2222222222222222,\"#7201a8\"],[0.3333333333333333,\"#9c179e\"],[0.4444444444444444,\"#bd3786\"],[0.5555555555555556,\"#d8576b\"],[0.6666666666666666,\"#ed7953\"],[0.7777777777777778,\"#fb9f3a\"],[0.8888888888888888,\"#fdca26\"],[1.0,\"#f0f921\"]],\"type\":\"histogram2d\"}],\"histogram2dcontour\":[{\"colorbar\":{\"outlinewidth\":0,\"ticks\":\"\"},\"colorscale\":[[0.0,\"#0d0887\"],[0.1111111111111111,\"#46039f\"],[0.2222222222222222,\"#7201a8\"],[0.3333333333333333,\"#9c179e\"],[0.4444444444444444,\"#bd3786\"],[0.5555555555555556,\"#d8576b\"],[0.6666666666666666,\"#ed7953\"],[0.7777777777777778,\"#fb9f3a\"],[0.8888888888888888,\"#fdca26\"],[1.0,\"#f0f921\"]],\"type\":\"histogram2dcontour\"}],\"mesh3d\":[{\"colorbar\":{\"outlinewidth\":0,\"ticks\":\"\"},\"type\":\"mesh3d\"}],\"parcoords\":[{\"line\":{\"colorbar\":{\"outlinewidth\":0,\"ticks\":\"\"}},\"type\":\"parcoords\"}],\"pie\":[{\"automargin\":true,\"type\":\"pie\"}],\"scatter\":[{\"marker\":{\"colorbar\":{\"outlinewidth\":0,\"ticks\":\"\"}},\"type\":\"scatter\"}],\"scatter3d\":[{\"line\":{\"colorbar\":{\"outlinewidth\":0,\"ticks\":\"\"}},\"marker\":{\"colorbar\":{\"outlinewidth\":0,\"ticks\":\"\"}},\"type\":\"scatter3d\"}],\"scattercarpet\":[{\"marker\":{\"colorbar\":{\"outlinewidth\":0,\"ticks\":\"\"}},\"type\":\"scattercarpet\"}],\"scattergeo\":[{\"marker\":{\"colorbar\":{\"outlinewidth\":0,\"ticks\":\"\"}},\"type\":\"scattergeo\"}],\"scattergl\":[{\"marker\":{\"colorbar\":{\"outlinewidth\":0,\"ticks\":\"\"}},\"type\":\"scattergl\"}],\"scattermapbox\":[{\"marker\":{\"colorbar\":{\"outlinewidth\":0,\"ticks\":\"\"}},\"type\":\"scattermapbox\"}],\"scatterpolar\":[{\"marker\":{\"colorbar\":{\"outlinewidth\":0,\"ticks\":\"\"}},\"type\":\"scatterpolar\"}],\"scatterpolargl\":[{\"marker\":{\"colorbar\":{\"outlinewidth\":0,\"ticks\":\"\"}},\"type\":\"scatterpolargl\"}],\"scatterternary\":[{\"marker\":{\"colorbar\":{\"outlinewidth\":0,\"ticks\":\"\"}},\"type\":\"scatterternary\"}],\"surface\":[{\"colorbar\":{\"outlinewidth\":0,\"ticks\":\"\"},\"colorscale\":[[0.0,\"#0d0887\"],[0.1111111111111111,\"#46039f\"],[0.2222222222222222,\"#7201a8\"],[0.3333333333333333,\"#9c179e\"],[0.4444444444444444,\"#bd3786\"],[0.5555555555555556,\"#d8576b\"],[0.6666666666666666,\"#ed7953\"],[0.7777777777777778,\"#fb9f3a\"],[0.8888888888888888,\"#fdca26\"],[1.0,\"#f0f921\"]],\"type\":\"surface\"}],\"table\":[{\"cells\":{\"fill\":{\"color\":\"#EBF0F8\"},\"line\":{\"color\":\"white\"}},\"header\":{\"fill\":{\"color\":\"#C8D4E3\"},\"line\":{\"color\":\"white\"}},\"type\":\"table\"}]},\"layout\":{\"annotationdefaults\":{\"arrowcolor\":\"#2a3f5f\",\"arrowhead\":0,\"arrowwidth\":1},\"autotypenumbers\":\"strict\",\"coloraxis\":{\"colorbar\":{\"outlinewidth\":0,\"ticks\":\"\"}},\"colorscale\":{\"diverging\":[[0,\"#8e0152\"],[0.1,\"#c51b7d\"],[0.2,\"#de77ae\"],[0.3,\"#f1b6da\"],[0.4,\"#fde0ef\"],[0.5,\"#f7f7f7\"],[0.6,\"#e6f5d0\"],[0.7,\"#b8e186\"],[0.8,\"#7fbc41\"],[0.9,\"#4d9221\"],[1,\"#276419\"]],\"sequential\":[[0.0,\"#0d0887\"],[0.1111111111111111,\"#46039f\"],[0.2222222222222222,\"#7201a8\"],[0.3333333333333333,\"#9c179e\"],[0.4444444444444444,\"#bd3786\"],[0.5555555555555556,\"#d8576b\"],[0.6666666666666666,\"#ed7953\"],[0.7777777777777778,\"#fb9f3a\"],[0.8888888888888888,\"#fdca26\"],[1.0,\"#f0f921\"]],\"sequentialminus\":[[0.0,\"#0d0887\"],[0.1111111111111111,\"#46039f\"],[0.2222222222222222,\"#7201a8\"],[0.3333333333333333,\"#9c179e\"],[0.4444444444444444,\"#bd3786\"],[0.5555555555555556,\"#d8576b\"],[0.6666666666666666,\"#ed7953\"],[0.7777777777777778,\"#fb9f3a\"],[0.8888888888888888,\"#fdca26\"],[1.0,\"#f0f921\"]]},\"colorway\":[\"#636efa\",\"#EF553B\",\"#00cc96\",\"#ab63fa\",\"#FFA15A\",\"#19d3f3\",\"#FF6692\",\"#B6E880\",\"#FF97FF\",\"#FECB52\"],\"font\":{\"color\":\"#2a3f5f\"},\"geo\":{\"bgcolor\":\"white\",\"lakecolor\":\"white\",\"landcolor\":\"#E5ECF6\",\"showlakes\":true,\"showland\":true,\"subunitcolor\":\"white\"},\"hoverlabel\":{\"align\":\"left\"},\"hovermode\":\"closest\",\"mapbox\":{\"style\":\"light\"},\"paper_bgcolor\":\"white\",\"plot_bgcolor\":\"#E5ECF6\",\"polar\":{\"angularaxis\":{\"gridcolor\":\"white\",\"linecolor\":\"white\",\"ticks\":\"\"},\"bgcolor\":\"#E5ECF6\",\"radialaxis\":{\"gridcolor\":\"white\",\"linecolor\":\"white\",\"ticks\":\"\"}},\"scene\":{\"xaxis\":{\"backgroundcolor\":\"#E5ECF6\",\"gridcolor\":\"white\",\"gridwidth\":2,\"linecolor\":\"white\",\"showbackground\":true,\"ticks\":\"\",\"zerolinecolor\":\"white\"},\"yaxis\":{\"backgroundcolor\":\"#E5ECF6\",\"gridcolor\":\"white\",\"gridwidth\":2,\"linecolor\":\"white\",\"showbackground\":true,\"ticks\":\"\",\"zerolinecolor\":\"white\"},\"zaxis\":{\"backgroundcolor\":\"#E5ECF6\",\"gridcolor\":\"white\",\"gridwidth\":2,\"linecolor\":\"white\",\"showbackground\":true,\"ticks\":\"\",\"zerolinecolor\":\"white\"}},\"shapedefaults\":{\"line\":{\"color\":\"#2a3f5f\"}},\"ternary\":{\"aaxis\":{\"gridcolor\":\"white\",\"linecolor\":\"white\",\"ticks\":\"\"},\"baxis\":{\"gridcolor\":\"white\",\"linecolor\":\"white\",\"ticks\":\"\"},\"bgcolor\":\"#E5ECF6\",\"caxis\":{\"gridcolor\":\"white\",\"linecolor\":\"white\",\"ticks\":\"\"}},\"title\":{\"x\":0.05},\"xaxis\":{\"automargin\":true,\"gridcolor\":\"white\",\"linecolor\":\"white\",\"ticks\":\"\",\"title\":{\"standoff\":15},\"zerolinecolor\":\"white\",\"zerolinewidth\":2},\"yaxis\":{\"automargin\":true,\"gridcolor\":\"white\",\"linecolor\":\"white\",\"ticks\":\"\",\"title\":{\"standoff\":15},\"zerolinecolor\":\"white\",\"zerolinewidth\":2}}},\"xaxis\":{\"anchor\":\"y\",\"domain\":[0.0,1.0],\"title\":{\"text\":\"year\"}},\"yaxis\":{\"anchor\":\"x\",\"domain\":[0.0,1.0],\"title\":{\"text\":\"value\"}},\"legend\":{\"title\":{\"text\":\"variable\"},\"tracegroupgap\":0},\"margin\":{\"t\":60}},                        {\"responsive\": true}                    )                };                            </script>        </div>\n",
       "</body>\n",
       "</html>"
      ]
     },
     "metadata": {
      "application/vnd.databricks.v1+output": {
       "addedWidgets": {},
       "arguments": {},
       "data": "<html>\n<head><meta charset=\"utf-8\" /></head>\n<body>\n    <div>            <script src=\"https://cdnjs.cloudflare.com/ajax/libs/mathjax/2.7.5/MathJax.js?config=TeX-AMS-MML_SVG\"></script><script type=\"text/javascript\">if (window.MathJax) {MathJax.Hub.Config({SVG: {font: \"STIX-Web\"}});}</script>                <script type=\"text/javascript\">window.PlotlyConfig = {MathJaxConfig: 'local'};</script>\n        <script src=\"https://cdn.plot.ly/plotly-2.9.0.min.js\"></script>                <div id=\"a3f87ee6-2efe-415e-9e4c-89ad3aab5521\" class=\"plotly-graph-div\" style=\"height:100%; width:100%;\"></div>            <script type=\"text/javascript\">                                    window.PLOTLYENV=window.PLOTLYENV || {};                                    if (document.getElementById(\"a3f87ee6-2efe-415e-9e4c-89ad3aab5521\")) {                    Plotly.newPlot(                        \"a3f87ee6-2efe-415e-9e4c-89ad3aab5521\",                        [{\"hovertemplate\":\"variable=acousticness<br>year=%{x}<br>value=%{y}<extra></extra>\",\"legendgroup\":\"acousticness\",\"line\":{\"color\":\"#636efa\",\"dash\":\"solid\"},\"marker\":{\"symbol\":\"circle\"},\"mode\":\"lines\",\"name\":\"acousticness\",\"orientation\":\"v\",\"showlegend\":true,\"x\":[1921,1922,1923,1924,1925,1926,1927,1928,1929,1930,1931,1932,1933,1934,1935,1936,1937,1938,1939,1940,1941,1942,1943,1944,1945,1946,1947,1948,1949,1950,1951,1952,1953,1954,1955,1956,1957,1958,1959,1960,1961,1962,1963,1964,1965,1966,1967,1968,1969,1970,1971,1972,1973,1974,1975,1976,1977,1978,1979,1980,1981,1982,1983,1984,1985,1986,1987,1988,1989,1990,1991,1992,1993,1994,1995,1996,1997,1998,1999,2000,2001,2002,2003,2004,2005,2006,2007,2008,2009,2010,2011,2012,2013,2014,2015,2016,2017,2018,2019,2020],\"xaxis\":\"x\",\"y\":[0.8868960000000005,0.9385915492957748,0.9572467913513516,0.940199860169493,0.9626070503597138,0.660817216981134,0.9361794552845558,0.9386165035685952,0.6014265861344558,0.936714937370057,0.8330399585921336,0.9357705179282878,0.899897909117222,0.8911487501730107,0.7783855599472987,0.7723120800000008,0.8654357853881286,0.9192803908646014,0.9087381000000004,0.8476440499999951,0.8957376562500025,0.8529343703923857,0.9027523185915528,0.9076531914893636,0.7096568630000005,0.9199445823665852,0.9139650224242392,0.9221549999999956,0.9075328949999956,0.8539413005999965,0.9022971956499974,0.8743009244999965,0.8909223502564074,0.8650197272999992,0.8405510069999986,0.8230569899999975,0.7928023589743608,0.7796118650000005,0.7793927897435907,0.7671814843243259,0.7519038684210535,0.720607806842106,0.7227048300000004,0.6941005307692291,0.6099113295384619,0.5248094599699997,0.5296103243521767,0.4937702403500001,0.4488463039999994,0.4600571139500007,0.4583362981000009,0.4600428051999994,0.4165241889999992,0.4472074226000001,0.4337738871950005,0.36147063210999936,0.3393025333750004,0.32896857344999936,0.29593224063,0.28495539763589706,0.3012042267400006,0.2895800382050001,0.2947778916300001,0.2877095803450008,0.2965709032099995,0.28508065642499997,0.3116640663948722,0.32200994651282105,0.3133512518150009,0.3328699505850001,0.33276529163076995,0.3208087638250009,0.3090685537400004,0.3062343630899999,0.30251180612000045,0.30102687980000065,0.3067156934549995,0.29148946157000016,0.2715901110661201,0.28932270051635994,0.2868424748428934,0.28262428988500105,0.25647051817297833,0.2805589466225845,0.2557635068666665,0.2799863520256408,0.2540809575538463,0.2491917627212275,0.26192861909693904,0.2426866435515872,0.27318266251859197,0.24995304438046245,0.2574880859564779,0.24931264588029906,0.2539522577102332,0.28417102995548144,0.2860990665261043,0.2676329907750836,0.2782985863365824,0.2199308880935964],\"yaxis\":\"y\",\"type\":\"scatter\"},{\"hovertemplate\":\"variable=danceability<br>year=%{x}<br>value=%{y}<extra></extra>\",\"legendgroup\":\"danceability\",\"line\":{\"color\":\"#EF553B\",\"dash\":\"solid\"},\"marker\":{\"symbol\":\"circle\"},\"mode\":\"lines\",\"name\":\"danceability\",\"orientation\":\"v\",\"showlegend\":true,\"x\":[1921,1922,1923,1924,1925,1926,1927,1928,1929,1930,1931,1932,1933,1934,1935,1936,1937,1938,1939,1940,1941,1942,1943,1944,1945,1946,1947,1948,1949,1950,1951,1952,1953,1954,1955,1956,1957,1958,1959,1960,1961,1962,1963,1964,1965,1966,1967,1968,1969,1970,1971,1972,1973,1974,1975,1976,1977,1978,1979,1980,1981,1982,1983,1984,1985,1986,1987,1988,1989,1990,1991,1992,1993,1994,1995,1996,1997,1998,1999,2000,2001,2002,2003,2004,2005,2006,2007,2008,2009,2010,2011,2012,2013,2014,2015,2016,2017,2018,2019,2020],\"xaxis\":\"x\",\"y\":[0.4185973333333336,0.4820422535211267,0.5773405405405401,0.5498940677966102,0.5738633093525181,0.5998802612481859,0.6482682926829262,0.5342878667724027,0.6476698529411761,0.5181758835758836,0.5952217391304357,0.5577976095617526,0.57029030390738,0.528705882352941,0.5558691699604746,0.5580055454545453,0.5421572298325723,0.47997797716150103,0.5126828,0.52189235,0.4804813541666676,0.4646338882282997,0.4551456338028168,0.5001744680851068,0.5191431500000011,0.4144450116009276,0.4713208484848491,0.4633694736842109,0.4421993999999996,0.5042531000000008,0.4624800999999999,0.4570322000000001,0.4374260512820513,0.4656388999999994,0.4881312,0.4878145000000007,0.5034812307692305,0.4800213999999995,0.4821143076923083,0.4860292432432435,0.4891655789473678,0.4931643684210523,0.48162135,0.5041769743589742,0.5034505641025638,0.5070204999999981,0.4926885942971483,0.5010080999999997,0.4880977999999999,0.5063075000000004,0.5042738499999999,0.5209994499999997,0.5154494500000005,0.51533975,0.5209980000000007,0.5297624999999999,0.5333237000000017,0.5407746000000005,0.5620453000000001,0.5561523589743594,0.5421846999999999,0.5642594000000005,0.5456292999999998,0.5303089499999987,0.5556424000000012,0.5409334000000001,0.5410193333333342,0.5404594358974372,0.5472274499999988,0.5352986500000001,0.5558243589743591,0.5550648499999989,0.5698781500000001,0.5528299500000016,0.5590457500000001,0.5878306000000001,0.5768138499999994,0.5862116499999998,0.5821579190158892,0.590918047034764,0.5833178553615969,0.5761602999999997,0.5757633060388944,0.5676803662258397,0.5722805641025652,0.5682301538461539,0.5634143589743592,0.5791928388746803,0.5641903571428577,0.5724883432539687,0.5528669806643526,0.5708818508997433,0.5711480263157896,0.5899476807980057,0.5937740628166152,0.6002023928770179,0.6122170180722886,0.6635004755111744,0.6448141097998967,0.6929043349753701],\"yaxis\":\"y\",\"type\":\"scatter\"},{\"hovertemplate\":\"variable=energy<br>year=%{x}<br>value=%{y}<extra></extra>\",\"legendgroup\":\"energy\",\"line\":{\"color\":\"#00cc96\",\"dash\":\"solid\"},\"marker\":{\"symbol\":\"circle\"},\"mode\":\"lines\",\"name\":\"energy\",\"orientation\":\"v\",\"showlegend\":true,\"x\":[1921,1922,1923,1924,1925,1926,1927,1928,1929,1930,1931,1932,1933,1934,1935,1936,1937,1938,1939,1940,1941,1942,1943,1944,1945,1946,1947,1948,1949,1950,1951,1952,1953,1954,1955,1956,1957,1958,1959,1960,1961,1962,1963,1964,1965,1966,1967,1968,1969,1970,1971,1972,1973,1974,1975,1976,1977,1978,1979,1980,1981,1982,1983,1984,1985,1986,1987,1988,1989,1990,1991,1992,1993,1994,1995,1996,1997,1998,1999,2000,2001,2002,2003,2004,2005,2006,2007,2008,2009,2010,2011,2012,2013,2014,2015,2016,2017,2018,2019,2020],\"xaxis\":\"x\",\"y\":[0.23181513333333334,0.23781535211267596,0.2624064864864865,0.3443466101694912,0.2785935251798561,0.2114670907111756,0.2643213008130081,0.20794779540047573,0.2418007352941172,0.3335239189189189,0.2344967732919257,0.3020677290836656,0.2798994211287988,0.2621313148788928,0.2463669762845848,0.3083886092727274,0.31104829528158273,0.2809812398042416,0.2826715000000002,0.3108928949999999,0.2656431979166666,0.2560794708680144,0.27999004225352114,0.2534414494680852,0.2260444155,0.22217230858468667,0.2635512000000002,0.242464841052632,0.24611461499999965,0.3140711950000003,0.25466565500000005,0.25362601000000023,0.2661968307692306,0.264347385,0.2950963400000001,0.30476112000000016,0.2952791333333324,0.3087957550000006,0.3109944051282049,0.3411423783783781,0.3395318673684203,0.3710257,0.3653538849999999,0.394438825641026,0.4490272461538461,0.482208465,0.44682383191595854,0.4569696500000004,0.4876251299999994,0.495633050000001,0.4963612550000003,0.5045261799999999,0.5361382499999989,0.5147236550000011,0.5232085050000003,0.5538432500000001,0.560287959000001,0.5614288650000007,0.5910127149999996,0.5977773948717964,0.5993827249999998,0.5909193894999996,0.6014252350000012,0.5910916750000013,0.6015154800000013,0.6149545999999998,0.5798395538461533,0.5856792461538458,0.584046375000001,0.5715913950000007,0.5594023641025635,0.5828642050000001,0.5625599100000002,0.578772685000001,0.5785795100000009,0.5860684750000011,0.5986987151000001,0.6051975050000015,0.6375226022552535,0.6254128323108387,0.6269855221945144,0.6412697960000012,0.6601652610030712,0.6488679450661226,0.653208511282051,0.6503262820512825,0.6683047743589737,0.6714608207672623,0.6707487551020408,0.6817778026289684,0.6483008934060499,0.6565714601542408,0.6455968914473688,0.6487954437905223,0.6270642715298895,0.5928552316082347,0.5904210208835337,0.6024346220161672,0.5932240360184717,0.6312316354679793],\"yaxis\":\"y\",\"type\":\"scatter\"},{\"hovertemplate\":\"variable=instrumentalness<br>year=%{x}<br>value=%{y}<extra></extra>\",\"legendgroup\":\"instrumentalness\",\"line\":{\"color\":\"#ab63fa\",\"dash\":\"solid\"},\"marker\":{\"symbol\":\"circle\"},\"mode\":\"lines\",\"name\":\"instrumentalness\",\"orientation\":\"v\",\"showlegend\":true,\"x\":[1921,1922,1923,1924,1925,1926,1927,1928,1929,1930,1931,1932,1933,1934,1935,1936,1937,1938,1939,1940,1941,1942,1943,1944,1945,1946,1947,1948,1949,1950,1951,1952,1953,1954,1955,1956,1957,1958,1959,1960,1961,1962,1963,1964,1965,1966,1967,1968,1969,1970,1971,1972,1973,1974,1975,1976,1977,1978,1979,1980,1981,1982,1983,1984,1985,1986,1987,1988,1989,1990,1991,1992,1993,1994,1995,1996,1997,1998,1999,2000,2001,2002,2003,2004,2005,2006,2007,2008,2009,2010,2011,2012,2013,2014,2015,2016,2017,2018,2019,2020],\"xaxis\":\"x\",\"y\":[0.34487805886666656,0.4341948697183099,0.37173272502702703,0.5817009136440677,0.4182973612230215,0.3330931111175616,0.3913284986504065,0.4948354801348136,0.21520403106092464,0.35220592816528057,0.22141964161490724,0.22635657916334675,0.1839489396816208,0.276382266643599,0.2258732980895915,0.2571099957181816,0.3270876216438359,0.3784246349265906,0.2776824694100001,0.31684869986499986,0.4449516393124999,0.39288204787158104,0.4098969234647892,0.4492919654122334,0.2758942570149996,0.4861264096461711,0.3475934179090908,0.3554848223842104,0.2977615361899994,0.245000820015,0.3084378555850002,0.2884126469300002,0.3183223943230766,0.2974400082799999,0.21660442169000027,0.23876341778000015,0.1945206161692309,0.18124111005999985,0.18814819406153835,0.1765021594216216,0.26462325314210544,0.17147155094210545,0.18543231468,0.1595978017794872,0.1183659460923078,0.11512595556499995,0.1189468546723362,0.11277694928500002,0.15945270816500012,0.12756700308499988,0.12501788923,0.11488033375999974,0.09968022322999996,0.11636098351000007,0.11132203374499992,0.12162904398000007,0.12772103194499998,0.10038121450999994,0.11575137201500015,0.1287510612717948,0.14683794661999985,0.10001638300000004,0.14541052329000045,0.14517303973500045,0.11373855807499987,0.10994085436499992,0.10197451746666662,0.11719038022051302,0.11318254461499995,0.12582626809499972,0.11509233979999993,0.1006900830649998,0.11529396538000007,0.11188575994999997,0.12326879606999998,0.09505281203500013,0.10469017861999998,0.1113257503499999,0.09406814106611992,0.10116776879345596,0.10721401899251867,0.08804835031499995,0.08304927466734914,0.07793403490844357,0.09019436118461543,0.07770147187692314,0.07295726805128197,0.0636620903171356,0.07587207368367352,0.08298056821924611,0.10377233216658402,0.08520552067866319,0.09836505391700387,0.07656955483790515,0.1067868780547114,0.09398438711741793,0.09709060906626496,0.05421712166904419,0.07764024697280643,0.016375524305418724],\"yaxis\":\"y\",\"type\":\"scatter\"},{\"hovertemplate\":\"variable=liveness<br>year=%{x}<br>value=%{y}<extra></extra>\",\"legendgroup\":\"liveness\",\"line\":{\"color\":\"#FFA15A\",\"dash\":\"solid\"},\"marker\":{\"symbol\":\"circle\"},\"mode\":\"lines\",\"name\":\"liveness\",\"orientation\":\"v\",\"showlegend\":true,\"x\":[1921,1922,1923,1924,1925,1926,1927,1928,1929,1930,1931,1932,1933,1934,1935,1936,1937,1938,1939,1940,1941,1942,1943,1944,1945,1946,1947,1948,1949,1950,1951,1952,1953,1954,1955,1956,1957,1958,1959,1960,1961,1962,1963,1964,1965,1966,1967,1968,1969,1970,1971,1972,1973,1974,1975,1976,1977,1978,1979,1980,1981,1982,1983,1984,1985,1986,1987,1988,1989,1990,1991,1992,1993,1994,1995,1996,1997,1998,1999,2000,2001,2002,2003,2004,2005,2006,2007,2008,2009,2010,2011,2012,2013,2014,2015,2016,2017,2018,2019,2020],\"xaxis\":\"x\",\"y\":[0.20571,0.2407197183098592,0.2274621621621621,0.2352190677966101,0.2376679856115108,0.2323695936139332,0.16845024390243893,0.17528937351308488,0.2360002100840333,0.22131086278586296,0.22742795031055896,0.23249621513944224,0.2090719247467437,0.21345259515570927,0.2292998682476943,0.2214382727272726,0.2259677321156773,0.237111092985318,0.2391015999999999,0.26433510000000043,0.20183989583333312,0.2128784185493456,0.23921070422535246,0.2387719414893616,0.2030099500000001,0.2108183294663576,0.22382939393939366,0.21969357894736785,0.2088585500000004,0.2169584000000004,0.21777739999999995,0.2329722999999998,0.22173405128205104,0.2178411499999996,0.2214353500000001,0.18225715000000026,0.1827485641025636,0.2058408500000003,0.1918429230769232,0.20786372972972986,0.20891257894736812,0.20189573684210546,0.20374530000000027,0.2172323589743596,0.21383912820512846,0.21809309999999996,0.19091765882941508,0.2173509500000005,0.20696589999999992,0.21226880000000026,0.21491455000000012,0.20695495000000014,0.20137474999999974,0.20934634999999968,0.21544135000000025,0.24903219999999995,0.2232140500000004,0.21807094999999949,0.21344310000000027,0.20375410256410267,0.2250998999999999,0.20100675,0.1989224500000002,0.19770620000000003,0.19920644999999984,0.21187945000000014,0.20201810256410305,0.20770753846153808,0.19908020000000007,0.19096090000000004,0.18862892307692355,0.20024550000000071,0.1949322500000003,0.1921651000000001,0.2013737000000004,0.1986863000000002,0.1984788000000003,0.1937308999999996,0.20630804715530507,0.1976860429447853,0.18702563591022486,0.1939111999999998,0.19697630501535301,0.2021994404883014,0.19008162564102585,0.1882892820512821,0.19612656410256424,0.19843140664961625,0.2052522959183674,0.19970064484126995,0.20330882498760566,0.1897330077120824,0.19963081983805714,0.1918215960099752,0.18885643363728474,0.18116989426822505,0.1917126004016064,0.17632553495007114,0.17261641867624464,0.1785354187192117],\"yaxis\":\"y\",\"type\":\"scatter\"},{\"hovertemplate\":\"variable=speechiness<br>year=%{x}<br>value=%{y}<extra></extra>\",\"legendgroup\":\"speechiness\",\"line\":{\"color\":\"#19d3f3\",\"dash\":\"solid\"},\"marker\":{\"symbol\":\"circle\"},\"mode\":\"lines\",\"name\":\"speechiness\",\"orientation\":\"v\",\"showlegend\":true,\"x\":[1921,1922,1923,1924,1925,1926,1927,1928,1929,1930,1931,1932,1933,1934,1935,1936,1937,1938,1939,1940,1941,1942,1943,1944,1945,1946,1947,1948,1949,1950,1951,1952,1953,1954,1955,1956,1957,1958,1959,1960,1961,1962,1963,1964,1965,1966,1967,1968,1969,1970,1971,1972,1973,1974,1975,1976,1977,1978,1979,1980,1981,1982,1983,1984,1985,1986,1987,1988,1989,1990,1991,1992,1993,1994,1995,1996,1997,1998,1999,2000,2001,2002,2003,2004,2005,2006,2007,2008,2009,2010,2011,2012,2013,2014,2015,2016,2017,2018,2019,2020],\"xaxis\":\"x\",\"y\":[0.073662,0.1166549295774648,0.0939486486486487,0.09208940677966099,0.11191798561151084,0.4837036284470243,0.11360959349593502,0.15991149881046796,0.4900007352941176,0.11990966735966745,0.4536189440993791,0.1390073705179282,0.09112315484804634,0.10245692041522483,0.3539123847167326,0.27902936363636377,0.08567884322678843,0.095957259380098,0.1284626999999999,0.2429576500000001,0.09136520833333356,0.08367835909631392,0.10571957746478874,0.17328324468085093,0.3050972999999997,0.08800591647331797,0.10056381818181824,0.1643593157894739,0.10299210000000003,0.1534527499999999,0.10850664999999993,0.1373617999999998,0.09008825641025647,0.10481329999999993,0.0895582,0.062312349999999926,0.06435312820512826,0.05699929999999995,0.06787430769230775,0.0657835135135136,0.0594759473684209,0.057739842105263124,0.05203614999999992,0.06659446153846146,0.05755646153846147,0.055964050000000085,0.04909839919959968,0.0589884999999999,0.05497499999999995,0.051681499999999936,0.05942240000000008,0.05487124999999998,0.057825750000000085,0.0573193499999999,0.06109845,0.06274994999999996,0.060854549999999966,0.06275740000000009,0.06905859999999991,0.05924861538461545,0.057915999999999926,0.06585305000000008,0.06688600000000006,0.059264800000000166,0.05846480000000006,0.06481609999999999,0.05778964102564103,0.06609989743589745,0.06393924999999995,0.06434529999999995,0.07110158974358982,0.07306230000000008,0.07635054999999992,0.07604935000000011,0.08375444999999987,0.08607765000000005,0.08850605000000017,0.09173105000000006,0.09440717580727807,0.08920541922290394,0.08918229426433916,0.08430759999999995,0.09392574206755384,0.09423880976602242,0.09333369230769203,0.08584676923076921,0.08434733333333336,0.07735636828644507,0.08545780612244899,0.08103149801587313,0.08747927615270201,0.08174246786632405,0.09384888663967614,0.08406054862842896,0.09677922998986847,0.10431329994435183,0.1105364959839356,0.12717555872563022,0.12104335556695732,0.14138369458128058],\"yaxis\":\"y\",\"type\":\"scatter\"},{\"hovertemplate\":\"variable=valence<br>year=%{x}<br>value=%{y}<extra></extra>\",\"legendgroup\":\"valence\",\"line\":{\"color\":\"#FF6692\",\"dash\":\"solid\"},\"marker\":{\"symbol\":\"circle\"},\"mode\":\"lines\",\"name\":\"valence\",\"orientation\":\"v\",\"showlegend\":true,\"x\":[1921,1922,1923,1924,1925,1926,1927,1928,1929,1930,1931,1932,1933,1934,1935,1936,1937,1938,1939,1940,1941,1942,1943,1944,1945,1946,1947,1948,1949,1950,1951,1952,1953,1954,1955,1956,1957,1958,1959,1960,1961,1962,1963,1964,1965,1966,1967,1968,1969,1970,1971,1972,1973,1974,1975,1976,1977,1978,1979,1980,1981,1982,1983,1984,1985,1986,1987,1988,1989,1990,1991,1992,1993,1994,1995,1996,1997,1998,1999,2000,2001,2002,2003,2004,2005,2006,2007,2008,2009,2010,2011,2012,2013,2014,2015,2016,2017,2018,2019,2020],\"xaxis\":\"x\",\"y\":[0.37932666666666665,0.5355492957746479,0.6254924324324328,0.6637254237288139,0.6219287769784171,0.4369104571843251,0.6597004878048782,0.4957126883425853,0.6365298319327733,0.6162376299376306,0.5131170807453418,0.5881599601593626,0.5994099855282197,0.5588046712802772,0.5455777997364957,0.5640635454545455,0.5857894977168944,0.5149111092985317,0.5599248999999992,0.6167094700000009,0.4794560416666661,0.4774088585017848,0.4954545070422531,0.5406954787234041,0.4913613500000002,0.3982538283062647,0.5082125454545455,0.4621423684210526,0.4304195000000001,0.5516497000000001,0.44134755,0.44313496204999947,0.42914205128205135,0.4523410500000002,0.4724154999999997,0.5084230500000003,0.5110101538461542,0.4976614999999994,0.4784156410256422,0.5239316756756759,0.5128512105263155,0.5477920526315792,0.5415274500000008,0.55726042051282,0.5809506666666668,0.5801445499999996,0.5507916958479243,0.5659936500000002,0.5547452849999999,0.5720753999999992,0.5749132500000002,0.5956881500000009,0.5921162000000004,0.5812744000000009,0.5694151500000002,0.5807332499999998,0.58524655,0.5895352500000014,0.6099818000000005,0.5980580512820513,0.5829518500000006,0.5864384500000001,0.5721198999999989,0.5516387100000003,0.5655964500000001,0.5509485500000019,0.5414511794871785,0.5464853897435901,0.5483329000000007,0.5265268499999999,0.5486552307692295,0.5590983000000014,0.5555684500000001,0.5266491500000006,0.5302466999999994,0.5608732500000001,0.5485525000000002,0.5377209,0.5564528446950284,0.5594754601226991,0.541479107231919,0.5423971500000008,0.5305042476970324,0.5244885554425227,0.5325309230769236,0.5200283076923078,0.5167938461538473,0.5275418925831203,0.5071696617346935,0.5208951587301589,0.4724536787307882,0.4627090128534706,0.4547411943319834,0.4630487780548628,0.4320983687943254,0.4315320589872012,0.4164763112449793,0.4479212743699474,0.4588176295536167,0.5010478078817729],\"yaxis\":\"y\",\"type\":\"scatter\"}],                        {\"template\":{\"data\":{\"bar\":[{\"error_x\":{\"color\":\"#2a3f5f\"},\"error_y\":{\"color\":\"#2a3f5f\"},\"marker\":{\"line\":{\"color\":\"#E5ECF6\",\"width\":0.5},\"pattern\":{\"fillmode\":\"overlay\",\"size\":10,\"solidity\":0.2}},\"type\":\"bar\"}],\"barpolar\":[{\"marker\":{\"line\":{\"color\":\"#E5ECF6\",\"width\":0.5},\"pattern\":{\"fillmode\":\"overlay\",\"size\":10,\"solidity\":0.2}},\"type\":\"barpolar\"}],\"carpet\":[{\"aaxis\":{\"endlinecolor\":\"#2a3f5f\",\"gridcolor\":\"white\",\"linecolor\":\"white\",\"minorgridcolor\":\"white\",\"startlinecolor\":\"#2a3f5f\"},\"baxis\":{\"endlinecolor\":\"#2a3f5f\",\"gridcolor\":\"white\",\"linecolor\":\"white\",\"minorgridcolor\":\"white\",\"startlinecolor\":\"#2a3f5f\"},\"type\":\"carpet\"}],\"choropleth\":[{\"colorbar\":{\"outlinewidth\":0,\"ticks\":\"\"},\"type\":\"choropleth\"}],\"contour\":[{\"colorbar\":{\"outlinewidth\":0,\"ticks\":\"\"},\"colorscale\":[[0.0,\"#0d0887\"],[0.1111111111111111,\"#46039f\"],[0.2222222222222222,\"#7201a8\"],[0.3333333333333333,\"#9c179e\"],[0.4444444444444444,\"#bd3786\"],[0.5555555555555556,\"#d8576b\"],[0.6666666666666666,\"#ed7953\"],[0.7777777777777778,\"#fb9f3a\"],[0.8888888888888888,\"#fdca26\"],[1.0,\"#f0f921\"]],\"type\":\"contour\"}],\"contourcarpet\":[{\"colorbar\":{\"outlinewidth\":0,\"ticks\":\"\"},\"type\":\"contourcarpet\"}],\"heatmap\":[{\"colorbar\":{\"outlinewidth\":0,\"ticks\":\"\"},\"colorscale\":[[0.0,\"#0d0887\"],[0.1111111111111111,\"#46039f\"],[0.2222222222222222,\"#7201a8\"],[0.3333333333333333,\"#9c179e\"],[0.4444444444444444,\"#bd3786\"],[0.5555555555555556,\"#d8576b\"],[0.6666666666666666,\"#ed7953\"],[0.7777777777777778,\"#fb9f3a\"],[0.8888888888888888,\"#fdca26\"],[1.0,\"#f0f921\"]],\"type\":\"heatmap\"}],\"heatmapgl\":[{\"colorbar\":{\"outlinewidth\":0,\"ticks\":\"\"},\"colorscale\":[[0.0,\"#0d0887\"],[0.1111111111111111,\"#46039f\"],[0.2222222222222222,\"#7201a8\"],[0.3333333333333333,\"#9c179e\"],[0.4444444444444444,\"#bd3786\"],[0.5555555555555556,\"#d8576b\"],[0.6666666666666666,\"#ed7953\"],[0.7777777777777778,\"#fb9f3a\"],[0.8888888888888888,\"#fdca26\"],[1.0,\"#f0f921\"]],\"type\":\"heatmapgl\"}],\"histogram\":[{\"marker\":{\"pattern\":{\"fillmode\":\"overlay\",\"size\":10,\"solidity\":0.2}},\"type\":\"histogram\"}],\"histogram2d\":[{\"colorbar\":{\"outlinewidth\":0,\"ticks\":\"\"},\"colorscale\":[[0.0,\"#0d0887\"],[0.1111111111111111,\"#46039f\"],[0.2222222222222222,\"#7201a8\"],[0.3333333333333333,\"#9c179e\"],[0.4444444444444444,\"#bd3786\"],[0.5555555555555556,\"#d8576b\"],[0.6666666666666666,\"#ed7953\"],[0.7777777777777778,\"#fb9f3a\"],[0.8888888888888888,\"#fdca26\"],[1.0,\"#f0f921\"]],\"type\":\"histogram2d\"}],\"histogram2dcontour\":[{\"colorbar\":{\"outlinewidth\":0,\"ticks\":\"\"},\"colorscale\":[[0.0,\"#0d0887\"],[0.1111111111111111,\"#46039f\"],[0.2222222222222222,\"#7201a8\"],[0.3333333333333333,\"#9c179e\"],[0.4444444444444444,\"#bd3786\"],[0.5555555555555556,\"#d8576b\"],[0.6666666666666666,\"#ed7953\"],[0.7777777777777778,\"#fb9f3a\"],[0.8888888888888888,\"#fdca26\"],[1.0,\"#f0f921\"]],\"type\":\"histogram2dcontour\"}],\"mesh3d\":[{\"colorbar\":{\"outlinewidth\":0,\"ticks\":\"\"},\"type\":\"mesh3d\"}],\"parcoords\":[{\"line\":{\"colorbar\":{\"outlinewidth\":0,\"ticks\":\"\"}},\"type\":\"parcoords\"}],\"pie\":[{\"automargin\":true,\"type\":\"pie\"}],\"scatter\":[{\"marker\":{\"colorbar\":{\"outlinewidth\":0,\"ticks\":\"\"}},\"type\":\"scatter\"}],\"scatter3d\":[{\"line\":{\"colorbar\":{\"outlinewidth\":0,\"ticks\":\"\"}},\"marker\":{\"colorbar\":{\"outlinewidth\":0,\"ticks\":\"\"}},\"type\":\"scatter3d\"}],\"scattercarpet\":[{\"marker\":{\"colorbar\":{\"outlinewidth\":0,\"ticks\":\"\"}},\"type\":\"scattercarpet\"}],\"scattergeo\":[{\"marker\":{\"colorbar\":{\"outlinewidth\":0,\"ticks\":\"\"}},\"type\":\"scattergeo\"}],\"scattergl\":[{\"marker\":{\"colorbar\":{\"outlinewidth\":0,\"ticks\":\"\"}},\"type\":\"scattergl\"}],\"scattermapbox\":[{\"marker\":{\"colorbar\":{\"outlinewidth\":0,\"ticks\":\"\"}},\"type\":\"scattermapbox\"}],\"scatterpolar\":[{\"marker\":{\"colorbar\":{\"outlinewidth\":0,\"ticks\":\"\"}},\"type\":\"scatterpolar\"}],\"scatterpolargl\":[{\"marker\":{\"colorbar\":{\"outlinewidth\":0,\"ticks\":\"\"}},\"type\":\"scatterpolargl\"}],\"scatterternary\":[{\"marker\":{\"colorbar\":{\"outlinewidth\":0,\"ticks\":\"\"}},\"type\":\"scatterternary\"}],\"surface\":[{\"colorbar\":{\"outlinewidth\":0,\"ticks\":\"\"},\"colorscale\":[[0.0,\"#0d0887\"],[0.1111111111111111,\"#46039f\"],[0.2222222222222222,\"#7201a8\"],[0.3333333333333333,\"#9c179e\"],[0.4444444444444444,\"#bd3786\"],[0.5555555555555556,\"#d8576b\"],[0.6666666666666666,\"#ed7953\"],[0.7777777777777778,\"#fb9f3a\"],[0.8888888888888888,\"#fdca26\"],[1.0,\"#f0f921\"]],\"type\":\"surface\"}],\"table\":[{\"cells\":{\"fill\":{\"color\":\"#EBF0F8\"},\"line\":{\"color\":\"white\"}},\"header\":{\"fill\":{\"color\":\"#C8D4E3\"},\"line\":{\"color\":\"white\"}},\"type\":\"table\"}]},\"layout\":{\"annotationdefaults\":{\"arrowcolor\":\"#2a3f5f\",\"arrowhead\":0,\"arrowwidth\":1},\"autotypenumbers\":\"strict\",\"coloraxis\":{\"colorbar\":{\"outlinewidth\":0,\"ticks\":\"\"}},\"colorscale\":{\"diverging\":[[0,\"#8e0152\"],[0.1,\"#c51b7d\"],[0.2,\"#de77ae\"],[0.3,\"#f1b6da\"],[0.4,\"#fde0ef\"],[0.5,\"#f7f7f7\"],[0.6,\"#e6f5d0\"],[0.7,\"#b8e186\"],[0.8,\"#7fbc41\"],[0.9,\"#4d9221\"],[1,\"#276419\"]],\"sequential\":[[0.0,\"#0d0887\"],[0.1111111111111111,\"#46039f\"],[0.2222222222222222,\"#7201a8\"],[0.3333333333333333,\"#9c179e\"],[0.4444444444444444,\"#bd3786\"],[0.5555555555555556,\"#d8576b\"],[0.6666666666666666,\"#ed7953\"],[0.7777777777777778,\"#fb9f3a\"],[0.8888888888888888,\"#fdca26\"],[1.0,\"#f0f921\"]],\"sequentialminus\":[[0.0,\"#0d0887\"],[0.1111111111111111,\"#46039f\"],[0.2222222222222222,\"#7201a8\"],[0.3333333333333333,\"#9c179e\"],[0.4444444444444444,\"#bd3786\"],[0.5555555555555556,\"#d8576b\"],[0.6666666666666666,\"#ed7953\"],[0.7777777777777778,\"#fb9f3a\"],[0.8888888888888888,\"#fdca26\"],[1.0,\"#f0f921\"]]},\"colorway\":[\"#636efa\",\"#EF553B\",\"#00cc96\",\"#ab63fa\",\"#FFA15A\",\"#19d3f3\",\"#FF6692\",\"#B6E880\",\"#FF97FF\",\"#FECB52\"],\"font\":{\"color\":\"#2a3f5f\"},\"geo\":{\"bgcolor\":\"white\",\"lakecolor\":\"white\",\"landcolor\":\"#E5ECF6\",\"showlakes\":true,\"showland\":true,\"subunitcolor\":\"white\"},\"hoverlabel\":{\"align\":\"left\"},\"hovermode\":\"closest\",\"mapbox\":{\"style\":\"light\"},\"paper_bgcolor\":\"white\",\"plot_bgcolor\":\"#E5ECF6\",\"polar\":{\"angularaxis\":{\"gridcolor\":\"white\",\"linecolor\":\"white\",\"ticks\":\"\"},\"bgcolor\":\"#E5ECF6\",\"radialaxis\":{\"gridcolor\":\"white\",\"linecolor\":\"white\",\"ticks\":\"\"}},\"scene\":{\"xaxis\":{\"backgroundcolor\":\"#E5ECF6\",\"gridcolor\":\"white\",\"gridwidth\":2,\"linecolor\":\"white\",\"showbackground\":true,\"ticks\":\"\",\"zerolinecolor\":\"white\"},\"yaxis\":{\"backgroundcolor\":\"#E5ECF6\",\"gridcolor\":\"white\",\"gridwidth\":2,\"linecolor\":\"white\",\"showbackground\":true,\"ticks\":\"\",\"zerolinecolor\":\"white\"},\"zaxis\":{\"backgroundcolor\":\"#E5ECF6\",\"gridcolor\":\"white\",\"gridwidth\":2,\"linecolor\":\"white\",\"showbackground\":true,\"ticks\":\"\",\"zerolinecolor\":\"white\"}},\"shapedefaults\":{\"line\":{\"color\":\"#2a3f5f\"}},\"ternary\":{\"aaxis\":{\"gridcolor\":\"white\",\"linecolor\":\"white\",\"ticks\":\"\"},\"baxis\":{\"gridcolor\":\"white\",\"linecolor\":\"white\",\"ticks\":\"\"},\"bgcolor\":\"#E5ECF6\",\"caxis\":{\"gridcolor\":\"white\",\"linecolor\":\"white\",\"ticks\":\"\"}},\"title\":{\"x\":0.05},\"xaxis\":{\"automargin\":true,\"gridcolor\":\"white\",\"linecolor\":\"white\",\"ticks\":\"\",\"title\":{\"standoff\":15},\"zerolinecolor\":\"white\",\"zerolinewidth\":2},\"yaxis\":{\"automargin\":true,\"gridcolor\":\"white\",\"linecolor\":\"white\",\"ticks\":\"\",\"title\":{\"standoff\":15},\"zerolinecolor\":\"white\",\"zerolinewidth\":2}}},\"xaxis\":{\"anchor\":\"y\",\"domain\":[0.0,1.0],\"title\":{\"text\":\"year\"}},\"yaxis\":{\"anchor\":\"x\",\"domain\":[0.0,1.0],\"title\":{\"text\":\"value\"}},\"legend\":{\"title\":{\"text\":\"variable\"},\"tracegroupgap\":0},\"margin\":{\"t\":60}},                        {\"responsive\": true}                    )                };                            </script>        </div>\n</body>\n</html>",
       "datasetInfos": [],
       "metadata": {},
       "removedWidgets": [],
       "textData": null,
       "type": "htmlSandbox"
      }
     },
     "output_type": "display_data"
    }
   ],
   "source": [
    "%python\n",
    "\n",
    "# Criação de um gráfico de linhas\n",
    "\n",
    "df_consulta_04.plot.line(x='year', y=['acousticness', 'danceability', 'energy', 'instrumentalness', 'liveness', 'speechiness', 'valence'])"
   ]
  },
  {
   "cell_type": "markdown",
   "metadata": {
    "application/vnd.databricks.v1+cell": {
     "cellMetadata": {},
     "inputWidgets": {},
     "nuid": "831fee16-aa4f-4022-b41f-e078c247e61e",
     "showTitle": false,
     "tableResultSettingsMap": {},
     "title": ""
    }
   },
   "source": [
    "\n",
    "## Qtd de músicas por décadas"
   ]
  },
  {
   "cell_type": "code",
   "execution_count": 0,
   "metadata": {
    "application/vnd.databricks.v1+cell": {
     "cellMetadata": {
      "byteLimit": 2048000,
      "rowLimit": 10000
     },
     "inputWidgets": {},
     "nuid": "8f8ac24d-1d03-43c4-9888-497b705630fb",
     "showTitle": false,
     "tableResultSettingsMap": {},
     "title": ""
    }
   },
   "outputs": [
    {
     "output_type": "display_data",
     "data": {
      "text/html": [
       "<div>\n",
       "<style scoped>\n",
       "    .dataframe tbody tr th:only-of-type {\n",
       "        vertical-align: middle;\n",
       "    }\n",
       "\n",
       "    .dataframe tbody tr th {\n",
       "        vertical-align: top;\n",
       "    }\n",
       "\n",
       "    .dataframe thead th {\n",
       "        text-align: right;\n",
       "    }\n",
       "</style>\n",
       "<table border=\"1\" class=\"dataframe\">\n",
       "  <thead>\n",
       "    <tr style=\"text-align: right;\">\n",
       "      <th></th>\n",
       "      <th>mode</th>\n",
       "      <th>year</th>\n",
       "      <th>acousticness</th>\n",
       "      <th>danceability</th>\n",
       "      <th>duration_ms</th>\n",
       "      <th>energy</th>\n",
       "      <th>instrumentalness</th>\n",
       "      <th>liveness</th>\n",
       "      <th>loudness</th>\n",
       "      <th>speechiness</th>\n",
       "      <th>tempo</th>\n",
       "      <th>valence</th>\n",
       "      <th>popularity</th>\n",
       "      <th>key</th>\n",
       "      <th>decade</th>\n",
       "      <th>qtd</th>\n",
       "    </tr>\n",
       "  </thead>\n",
       "  <tbody>\n",
       "    <tr>\n",
       "      <th>0</th>\n",
       "      <td>1</td>\n",
       "      <td>1921</td>\n",
       "      <td>0.886896</td>\n",
       "      <td>0.418597</td>\n",
       "      <td>260537.166667</td>\n",
       "      <td>0.231815</td>\n",
       "      <td>0.344878</td>\n",
       "      <td>0.205710</td>\n",
       "      <td>-17.048667</td>\n",
       "      <td>0.073662</td>\n",
       "      <td>101.531493</td>\n",
       "      <td>0.379327</td>\n",
       "      <td>0.653333</td>\n",
       "      <td>2</td>\n",
       "      <td>1920s</td>\n",
       "      <td>1</td>\n",
       "    </tr>\n",
       "    <tr>\n",
       "      <th>1</th>\n",
       "      <td>1</td>\n",
       "      <td>1922</td>\n",
       "      <td>0.938592</td>\n",
       "      <td>0.482042</td>\n",
       "      <td>165469.746479</td>\n",
       "      <td>0.237815</td>\n",
       "      <td>0.434195</td>\n",
       "      <td>0.240720</td>\n",
       "      <td>-19.275282</td>\n",
       "      <td>0.116655</td>\n",
       "      <td>100.884521</td>\n",
       "      <td>0.535549</td>\n",
       "      <td>0.140845</td>\n",
       "      <td>10</td>\n",
       "      <td>1920s</td>\n",
       "      <td>1</td>\n",
       "    </tr>\n",
       "    <tr>\n",
       "      <th>2</th>\n",
       "      <td>1</td>\n",
       "      <td>1923</td>\n",
       "      <td>0.957247</td>\n",
       "      <td>0.577341</td>\n",
       "      <td>177942.362162</td>\n",
       "      <td>0.262406</td>\n",
       "      <td>0.371733</td>\n",
       "      <td>0.227462</td>\n",
       "      <td>-14.129211</td>\n",
       "      <td>0.093949</td>\n",
       "      <td>114.010730</td>\n",
       "      <td>0.625492</td>\n",
       "      <td>5.389189</td>\n",
       "      <td>0</td>\n",
       "      <td>1920s</td>\n",
       "      <td>1</td>\n",
       "    </tr>\n",
       "    <tr>\n",
       "      <th>3</th>\n",
       "      <td>1</td>\n",
       "      <td>1924</td>\n",
       "      <td>0.940200</td>\n",
       "      <td>0.549894</td>\n",
       "      <td>191046.707627</td>\n",
       "      <td>0.344347</td>\n",
       "      <td>0.581701</td>\n",
       "      <td>0.235219</td>\n",
       "      <td>-14.231343</td>\n",
       "      <td>0.092089</td>\n",
       "      <td>120.689572</td>\n",
       "      <td>0.663725</td>\n",
       "      <td>0.661017</td>\n",
       "      <td>10</td>\n",
       "      <td>1920s</td>\n",
       "      <td>1</td>\n",
       "    </tr>\n",
       "    <tr>\n",
       "      <th>4</th>\n",
       "      <td>1</td>\n",
       "      <td>1925</td>\n",
       "      <td>0.962607</td>\n",
       "      <td>0.573863</td>\n",
       "      <td>184986.924460</td>\n",
       "      <td>0.278594</td>\n",
       "      <td>0.418297</td>\n",
       "      <td>0.237668</td>\n",
       "      <td>-14.146414</td>\n",
       "      <td>0.111918</td>\n",
       "      <td>115.521921</td>\n",
       "      <td>0.621929</td>\n",
       "      <td>2.604317</td>\n",
       "      <td>5</td>\n",
       "      <td>1920s</td>\n",
       "      <td>1</td>\n",
       "    </tr>\n",
       "  </tbody>\n",
       "</table>\n",
       "</div>"
      ]
     },
     "metadata": {
      "application/vnd.databricks.v1+output": {
       "addedWidgets": {},
       "arguments": {},
       "data": "<div>\n<style scoped>\n    .dataframe tbody tr th:only-of-type {\n        vertical-align: middle;\n    }\n\n    .dataframe tbody tr th {\n        vertical-align: top;\n    }\n\n    .dataframe thead th {\n        text-align: right;\n    }\n</style>\n<table border=\"1\" class=\"dataframe\">\n  <thead>\n    <tr style=\"text-align: right;\">\n      <th></th>\n      <th>mode</th>\n      <th>year</th>\n      <th>acousticness</th>\n      <th>danceability</th>\n      <th>duration_ms</th>\n      <th>energy</th>\n      <th>instrumentalness</th>\n      <th>liveness</th>\n      <th>loudness</th>\n      <th>speechiness</th>\n      <th>tempo</th>\n      <th>valence</th>\n      <th>popularity</th>\n      <th>key</th>\n      <th>decade</th>\n      <th>qtd</th>\n    </tr>\n  </thead>\n  <tbody>\n    <tr>\n      <th>0</th>\n      <td>1</td>\n      <td>1921</td>\n      <td>0.886896</td>\n      <td>0.418597</td>\n      <td>260537.166667</td>\n      <td>0.231815</td>\n      <td>0.344878</td>\n      <td>0.205710</td>\n      <td>-17.048667</td>\n      <td>0.073662</td>\n      <td>101.531493</td>\n      <td>0.379327</td>\n      <td>0.653333</td>\n      <td>2</td>\n      <td>1920s</td>\n      <td>1</td>\n    </tr>\n    <tr>\n      <th>1</th>\n      <td>1</td>\n      <td>1922</td>\n      <td>0.938592</td>\n      <td>0.482042</td>\n      <td>165469.746479</td>\n      <td>0.237815</td>\n      <td>0.434195</td>\n      <td>0.240720</td>\n      <td>-19.275282</td>\n      <td>0.116655</td>\n      <td>100.884521</td>\n      <td>0.535549</td>\n      <td>0.140845</td>\n      <td>10</td>\n      <td>1920s</td>\n      <td>1</td>\n    </tr>\n    <tr>\n      <th>2</th>\n      <td>1</td>\n      <td>1923</td>\n      <td>0.957247</td>\n      <td>0.577341</td>\n      <td>177942.362162</td>\n      <td>0.262406</td>\n      <td>0.371733</td>\n      <td>0.227462</td>\n      <td>-14.129211</td>\n      <td>0.093949</td>\n      <td>114.010730</td>\n      <td>0.625492</td>\n      <td>5.389189</td>\n      <td>0</td>\n      <td>1920s</td>\n      <td>1</td>\n    </tr>\n    <tr>\n      <th>3</th>\n      <td>1</td>\n      <td>1924</td>\n      <td>0.940200</td>\n      <td>0.549894</td>\n      <td>191046.707627</td>\n      <td>0.344347</td>\n      <td>0.581701</td>\n      <td>0.235219</td>\n      <td>-14.231343</td>\n      <td>0.092089</td>\n      <td>120.689572</td>\n      <td>0.663725</td>\n      <td>0.661017</td>\n      <td>10</td>\n      <td>1920s</td>\n      <td>1</td>\n    </tr>\n    <tr>\n      <th>4</th>\n      <td>1</td>\n      <td>1925</td>\n      <td>0.962607</td>\n      <td>0.573863</td>\n      <td>184986.924460</td>\n      <td>0.278594</td>\n      <td>0.418297</td>\n      <td>0.237668</td>\n      <td>-14.146414</td>\n      <td>0.111918</td>\n      <td>115.521921</td>\n      <td>0.621929</td>\n      <td>2.604317</td>\n      <td>5</td>\n      <td>1920s</td>\n      <td>1</td>\n    </tr>\n  </tbody>\n</table>\n</div>",
       "datasetInfos": [],
       "metadata": {},
       "removedWidgets": [],
       "textData": null,
       "type": "htmlSandbox"
      }
     },
     "output_type": "display_data"
    }
   ],
   "source": [
    "%python\n",
    "\n",
    "# Criação da coluna (decade) para separada as músicas por décadas\n",
    "\n",
    "df_consulta_04['decade'] = df_consulta_04.year.apply(lambda year: f'{(year//10)*10}s')\n",
    "df_consulta_04['qtd'] = 1\n",
    "df_consulta_04.head()"
   ]
  },
  {
   "cell_type": "markdown",
   "metadata": {
    "application/vnd.databricks.v1+cell": {
     "cellMetadata": {},
     "inputWidgets": {},
     "nuid": "de3efebc-052e-4b49-af1a-027265ac9efd",
     "showTitle": false,
     "tableResultSettingsMap": {},
     "title": ""
    }
   },
   "source": [
    "\n",
    "## Agrupamento de diversos valores"
   ]
  },
  {
   "cell_type": "code",
   "execution_count": 0,
   "metadata": {
    "application/vnd.databricks.v1+cell": {
     "cellMetadata": {
      "byteLimit": 2048000,
      "rowLimit": 10000
     },
     "inputWidgets": {},
     "nuid": "5974618b-df93-40d5-b5a1-a19f7cf83e5d",
     "showTitle": false,
     "tableResultSettingsMap": {},
     "title": ""
    }
   },
   "outputs": [
    {
     "output_type": "display_data",
     "data": {
      "text/html": [
       "<div>\n",
       "<style scoped>\n",
       "    .dataframe tbody tr th:only-of-type {\n",
       "        vertical-align: middle;\n",
       "    }\n",
       "\n",
       "    .dataframe tbody tr th {\n",
       "        vertical-align: top;\n",
       "    }\n",
       "\n",
       "    .dataframe thead th {\n",
       "        text-align: right;\n",
       "    }\n",
       "</style>\n",
       "<table border=\"1\" class=\"dataframe\">\n",
       "  <thead>\n",
       "    <tr style=\"text-align: right;\">\n",
       "      <th></th>\n",
       "      <th>decade</th>\n",
       "      <th>acousticness</th>\n",
       "      <th>danceability</th>\n",
       "      <th>duration_ms</th>\n",
       "      <th>energy</th>\n",
       "      <th>instrumentalness</th>\n",
       "      <th>liveness</th>\n",
       "      <th>loudness</th>\n",
       "      <th>speechiness</th>\n",
       "      <th>tempo</th>\n",
       "      <th>valence</th>\n",
       "      <th>popularity</th>\n",
       "      <th>qtd</th>\n",
       "    </tr>\n",
       "  </thead>\n",
       "  <tbody>\n",
       "    <tr>\n",
       "      <th>0</th>\n",
       "      <td>1920s</td>\n",
       "      <td>0.869176</td>\n",
       "      <td>0.559094</td>\n",
       "      <td>189520.609165</td>\n",
       "      <td>0.253390</td>\n",
       "      <td>0.398363</td>\n",
       "      <td>0.217654</td>\n",
       "      <td>-16.163132</td>\n",
       "      <td>0.192833</td>\n",
       "      <td>110.539268</td>\n",
       "      <td>0.561653</td>\n",
       "      <td>1.504310</td>\n",
       "      <td>9</td>\n",
       "    </tr>\n",
       "    <tr>\n",
       "      <th>1</th>\n",
       "      <td>1930s</td>\n",
       "      <td>0.874072</td>\n",
       "      <td>0.541888</td>\n",
       "      <td>208295.762372</td>\n",
       "      <td>0.284158</td>\n",
       "      <td>0.272649</td>\n",
       "      <td>0.225668</td>\n",
       "      <td>-14.190930</td>\n",
       "      <td>0.184916</td>\n",
       "      <td>112.254898</td>\n",
       "      <td>0.564600</td>\n",
       "      <td>2.777264</td>\n",
       "      <td>10</td>\n",
       "    </tr>\n",
       "    <tr>\n",
       "      <th>2</th>\n",
       "      <td>1940s</td>\n",
       "      <td>0.877998</td>\n",
       "      <td>0.473281</td>\n",
       "      <td>221154.015009</td>\n",
       "      <td>0.256639</td>\n",
       "      <td>0.377673</td>\n",
       "      <td>0.222325</td>\n",
       "      <td>-15.196490</td>\n",
       "      <td>0.145802</td>\n",
       "      <td>107.194472</td>\n",
       "      <td>0.490011</td>\n",
       "      <td>1.865367</td>\n",
       "      <td>10</td>\n",
       "    </tr>\n",
       "    <tr>\n",
       "      <th>3</th>\n",
       "      <td>1950s</td>\n",
       "      <td>0.840190</td>\n",
       "      <td>0.476839</td>\n",
       "      <td>220517.635873</td>\n",
       "      <td>0.286783</td>\n",
       "      <td>0.247689</td>\n",
       "      <td>0.209141</td>\n",
       "      <td>-14.730952</td>\n",
       "      <td>0.093532</td>\n",
       "      <td>110.976998</td>\n",
       "      <td>0.478554</td>\n",
       "      <td>10.722800</td>\n",
       "      <td>10</td>\n",
       "    </tr>\n",
       "    <tr>\n",
       "      <th>4</th>\n",
       "      <td>1960s</td>\n",
       "      <td>0.626345</td>\n",
       "      <td>0.494642</td>\n",
       "      <td>211668.931336</td>\n",
       "      <td>0.413415</td>\n",
       "      <td>0.158230</td>\n",
       "      <td>0.208682</td>\n",
       "      <td>-12.694151</td>\n",
       "      <td>0.057821</td>\n",
       "      <td>115.132553</td>\n",
       "      <td>0.551599</td>\n",
       "      <td>26.446169</td>\n",
       "      <td>10</td>\n",
       "    </tr>\n",
       "  </tbody>\n",
       "</table>\n",
       "</div>"
      ]
     },
     "metadata": {
      "application/vnd.databricks.v1+output": {
       "addedWidgets": {},
       "arguments": {},
       "data": "<div>\n<style scoped>\n    .dataframe tbody tr th:only-of-type {\n        vertical-align: middle;\n    }\n\n    .dataframe tbody tr th {\n        vertical-align: top;\n    }\n\n    .dataframe thead th {\n        text-align: right;\n    }\n</style>\n<table border=\"1\" class=\"dataframe\">\n  <thead>\n    <tr style=\"text-align: right;\">\n      <th></th>\n      <th>decade</th>\n      <th>acousticness</th>\n      <th>danceability</th>\n      <th>duration_ms</th>\n      <th>energy</th>\n      <th>instrumentalness</th>\n      <th>liveness</th>\n      <th>loudness</th>\n      <th>speechiness</th>\n      <th>tempo</th>\n      <th>valence</th>\n      <th>popularity</th>\n      <th>qtd</th>\n    </tr>\n  </thead>\n  <tbody>\n    <tr>\n      <th>0</th>\n      <td>1920s</td>\n      <td>0.869176</td>\n      <td>0.559094</td>\n      <td>189520.609165</td>\n      <td>0.253390</td>\n      <td>0.398363</td>\n      <td>0.217654</td>\n      <td>-16.163132</td>\n      <td>0.192833</td>\n      <td>110.539268</td>\n      <td>0.561653</td>\n      <td>1.504310</td>\n      <td>9</td>\n    </tr>\n    <tr>\n      <th>1</th>\n      <td>1930s</td>\n      <td>0.874072</td>\n      <td>0.541888</td>\n      <td>208295.762372</td>\n      <td>0.284158</td>\n      <td>0.272649</td>\n      <td>0.225668</td>\n      <td>-14.190930</td>\n      <td>0.184916</td>\n      <td>112.254898</td>\n      <td>0.564600</td>\n      <td>2.777264</td>\n      <td>10</td>\n    </tr>\n    <tr>\n      <th>2</th>\n      <td>1940s</td>\n      <td>0.877998</td>\n      <td>0.473281</td>\n      <td>221154.015009</td>\n      <td>0.256639</td>\n      <td>0.377673</td>\n      <td>0.222325</td>\n      <td>-15.196490</td>\n      <td>0.145802</td>\n      <td>107.194472</td>\n      <td>0.490011</td>\n      <td>1.865367</td>\n      <td>10</td>\n    </tr>\n    <tr>\n      <th>3</th>\n      <td>1950s</td>\n      <td>0.840190</td>\n      <td>0.476839</td>\n      <td>220517.635873</td>\n      <td>0.286783</td>\n      <td>0.247689</td>\n      <td>0.209141</td>\n      <td>-14.730952</td>\n      <td>0.093532</td>\n      <td>110.976998</td>\n      <td>0.478554</td>\n      <td>10.722800</td>\n      <td>10</td>\n    </tr>\n    <tr>\n      <th>4</th>\n      <td>1960s</td>\n      <td>0.626345</td>\n      <td>0.494642</td>\n      <td>211668.931336</td>\n      <td>0.413415</td>\n      <td>0.158230</td>\n      <td>0.208682</td>\n      <td>-12.694151</td>\n      <td>0.057821</td>\n      <td>115.132553</td>\n      <td>0.551599</td>\n      <td>26.446169</td>\n      <td>10</td>\n    </tr>\n  </tbody>\n</table>\n</div>",
       "datasetInfos": [],
       "metadata": {},
       "removedWidgets": [],
       "textData": null,
       "type": "htmlSandbox"
      }
     },
     "output_type": "display_data"
    }
   ],
   "source": [
    "%python\n",
    "\n",
    "# Agrupamento das músicas por décadas\n",
    "\n",
    "df_consulta_05 = df_consulta_04.groupby('decade').agg({\n",
    "    'acousticness': 'mean',\n",
    "    'danceability': 'mean',\n",
    "    'duration_ms': 'mean',\n",
    "    'energy': 'mean',\n",
    "    'instrumentalness': 'mean',\n",
    "    'liveness': 'mean',\n",
    "    'loudness': 'mean',\n",
    "    'speechiness': 'mean', \n",
    "    'tempo': 'mean',\n",
    "    'valence': 'mean', \n",
    "    'popularity': 'mean',\n",
    "    'qtd': 'sum' }).sort_index().reset_index()\n",
    "\n",
    "df_consulta_05.head()"
   ]
  },
  {
   "cell_type": "markdown",
   "metadata": {
    "application/vnd.databricks.v1+cell": {
     "cellMetadata": {},
     "inputWidgets": {},
     "nuid": "1b5ba7cc-6853-43d4-9a22-72fe05d37dff",
     "showTitle": false,
     "tableResultSettingsMap": {},
     "title": ""
    }
   },
   "source": [
    "\n",
    "## Criação de gráfico de linhas (diversas)"
   ]
  },
  {
   "cell_type": "code",
   "execution_count": 0,
   "metadata": {
    "application/vnd.databricks.v1+cell": {
     "cellMetadata": {
      "byteLimit": 2048000,
      "rowLimit": 10000
     },
     "inputWidgets": {},
     "nuid": "4e9e4dd0-fe9b-4a6a-93ac-464d01aa3a61",
     "showTitle": false,
     "tableResultSettingsMap": {},
     "title": ""
    }
   },
   "outputs": [
    {
     "output_type": "display_data",
     "data": {
      "text/html": [
       "<html>\n",
       "<head><meta charset=\"utf-8\" /></head>\n",
       "<body>\n",
       "    <div>            <script src=\"https://cdnjs.cloudflare.com/ajax/libs/mathjax/2.7.5/MathJax.js?config=TeX-AMS-MML_SVG\"></script><script type=\"text/javascript\">if (window.MathJax) {MathJax.Hub.Config({SVG: {font: \"STIX-Web\"}});}</script>                <script type=\"text/javascript\">window.PlotlyConfig = {MathJaxConfig: 'local'};</script>\n",
       "        <script src=\"https://cdn.plot.ly/plotly-2.9.0.min.js\"></script>                <div id=\"7f347466-ec2e-469d-8eec-22afd6c46efe\" class=\"plotly-graph-div\" style=\"height:100%; width:100%;\"></div>            <script type=\"text/javascript\">                                    window.PLOTLYENV=window.PLOTLYENV || {};                                    if (document.getElementById(\"7f347466-ec2e-469d-8eec-22afd6c46efe\")) {                    Plotly.newPlot(                        \"7f347466-ec2e-469d-8eec-22afd6c46efe\",                        [{\"hovertemplate\":\"variable=acousticness<br>decade=%{x}<br>value=%{y}<extra></extra>\",\"legendgroup\":\"acousticness\",\"line\":{\"color\":\"#636efa\",\"dash\":\"solid\"},\"marker\":{\"symbol\":\"circle\"},\"mode\":\"lines\",\"name\":\"acousticness\",\"orientation\":\"v\",\"showlegend\":true,\"x\":[\"1920s\",\"1930s\",\"1940s\",\"1950s\",\"1960s\",\"1970s\",\"1980s\",\"1990s\",\"2000s\",\"2010s\",\"2020s\"],\"xaxis\":\"x\",\"y\":[0.8691756681272306,0.874072398938074,0.8779975949514116,0.8401896509024345,0.6263446178567353,0.400161569561,0.29869039589135926,0.30750808748818925,0.26967701283041373,0.26427770135909034,0.2199308880935964],\"yaxis\":\"y\",\"type\":\"scatter\"},{\"hovertemplate\":\"variable=danceability<br>decade=%{x}<br>value=%{y}<extra></extra>\",\"legendgroup\":\"danceability\",\"line\":{\"color\":\"#EF553B\",\"dash\":\"solid\"},\"marker\":{\"symbol\":\"circle\"},\"mode\":\"lines\",\"name\":\"danceability\",\"orientation\":\"v\",\"showlegend\":true,\"x\":[\"1920s\",\"1930s\",\"1940s\",\"1950s\",\"1960s\",\"1970s\",\"1980s\",\"1990s\",\"2000s\",\"2010s\",\"2020s\"],\"xaxis\":\"x\",\"y\":[0.5590937531320911,0.5418884140937485,0.47328055780528794,0.47683929897435895,0.49464230733703474,0.5249274100000003,0.546381672820513,0.5660955727990249,0.5741148147601711,0.5971840941008854,0.6929043349753701],\"yaxis\":\"y\",\"type\":\"scatter\"},{\"hovertemplate\":\"variable=energy<br>decade=%{x}<br>value=%{y}<extra></extra>\",\"legendgroup\":\"energy\",\"line\":{\"color\":\"#00cc96\",\"dash\":\"solid\"},\"marker\":{\"symbol\":\"circle\"},\"mode\":\"lines\",\"name\":\"energy\",\"orientation\":\"v\",\"showlegend\":true,\"x\":[\"1920s\",\"1930s\",\"1940s\",\"1950s\",\"1960s\",\"1970s\",\"1980s\",\"1990s\",\"2000s\",\"2010s\",\"2020s\"],\"xaxis\":\"x\",\"y\":[0.253390447722291,0.2841575777945339,0.25663944356436064,0.2867833829230769,0.4134146979457628,0.5337163684000003,0.59466316743718,0.5861257366457823,0.6516750500136158,0.6287041673483448,0.6312316354679793],\"yaxis\":\"y\",\"type\":\"scatter\"},{\"hovertemplate\":\"variable=instrumentalness<br>decade=%{x}<br>value=%{y}<extra></extra>\",\"legendgroup\":\"instrumentalness\",\"line\":{\"color\":\"#ab63fa\",\"dash\":\"solid\"},\"marker\":{\"symbol\":\"circle\"},\"mode\":\"lines\",\"name\":\"instrumentalness\",\"orientation\":\"v\",\"showlegend\":true,\"x\":[\"1920s\",\"1930s\",\"1940s\",\"1950s\",\"1960s\",\"1970s\",\"1980s\",\"1990s\",\"2000s\",\"2010s\",\"2020s\"],\"xaxis\":\"x\",\"y\":[0.3983627832714221,0.27264913750569547,0.37767317190705746,0.24768914848938467,0.15822954937449638,0.11603111290099996,0.12222158086589749,0.10971940944311194,0.0837800712790397,0.08766122726996474,0.016375524305418724],\"yaxis\":\"y\",\"type\":\"scatter\"},{\"hovertemplate\":\"variable=liveness<br>decade=%{x}<br>value=%{y}<extra></extra>\",\"legendgroup\":\"liveness\",\"line\":{\"color\":\"#FFA15A\",\"dash\":\"solid\"},\"marker\":{\"symbol\":\"circle\"},\"mode\":\"lines\",\"name\":\"liveness\",\"orientation\":\"v\",\"showlegend\":true,\"x\":[\"1920s\",\"1930s\",\"1940s\",\"1950s\",\"1960s\",\"1970s\",\"1980s\",\"1990s\",\"2000s\",\"2010s\",\"2020s\"],\"xaxis\":\"x\",\"y\":[0.21765426166595916,0.2256678114214279,0.22232458624505128,0.20914081384615382,0.2086816441528107,0.21640610500000004,0.2046381143589744,0.196551042023223,0.19559797987215202,0.1894875775322422,0.1785354187192117],\"yaxis\":\"y\",\"type\":\"scatter\"},{\"hovertemplate\":\"variable=speechiness<br>decade=%{x}<br>value=%{y}<extra></extra>\",\"legendgroup\":\"speechiness\",\"line\":{\"color\":\"#19d3f3\",\"dash\":\"solid\"},\"marker\":{\"symbol\":\"circle\"},\"mode\":\"lines\",\"name\":\"speechiness\",\"orientation\":\"v\",\"showlegend\":true,\"x\":[\"1920s\",\"1930s\",\"1940s\",\"1950s\",\"1960s\",\"1970s\",\"1980s\",\"1990s\",\"2000s\",\"2010s\",\"2020s\"],\"xaxis\":\"x\",\"y\":[0.19283315851831448,0.18491566082002286,0.1458022490019897,0.0935320042307692,0.05782123252637202,0.05976391999999999,0.062027815384615416,0.08053854655508681,0.0877201834601508,0.09880106175137476,0.14138369458128058],\"yaxis\":\"y\",\"type\":\"scatter\"},{\"hovertemplate\":\"variable=valence<br>decade=%{x}<br>value=%{y}<extra></extra>\",\"legendgroup\":\"valence\",\"line\":{\"color\":\"#FF6692\",\"dash\":\"solid\"},\"marker\":{\"symbol\":\"circle\"},\"mode\":\"lines\",\"name\":\"valence\",\"orientation\":\"v\",\"showlegend\":true,\"x\":[\"1920s\",\"1930s\",\"1940s\",\"1950s\",\"1960s\",\"1970s\",\"1980s\",\"1990s\",\"2000s\",\"2010s\",\"2020s\"],\"xaxis\":\"x\",\"y\":[0.5616528956495046,0.5645996179857298,0.4900113948115973,0.47855411582038465,0.5515988656860983,0.5850979400000005,0.5644021430512822,0.545034417546426,0.5302409151735066,0.4560693465651335,0.5010478078817729],\"yaxis\":\"y\",\"type\":\"scatter\"}],                        {\"template\":{\"data\":{\"bar\":[{\"error_x\":{\"color\":\"#2a3f5f\"},\"error_y\":{\"color\":\"#2a3f5f\"},\"marker\":{\"line\":{\"color\":\"#E5ECF6\",\"width\":0.5},\"pattern\":{\"fillmode\":\"overlay\",\"size\":10,\"solidity\":0.2}},\"type\":\"bar\"}],\"barpolar\":[{\"marker\":{\"line\":{\"color\":\"#E5ECF6\",\"width\":0.5},\"pattern\":{\"fillmode\":\"overlay\",\"size\":10,\"solidity\":0.2}},\"type\":\"barpolar\"}],\"carpet\":[{\"aaxis\":{\"endlinecolor\":\"#2a3f5f\",\"gridcolor\":\"white\",\"linecolor\":\"white\",\"minorgridcolor\":\"white\",\"startlinecolor\":\"#2a3f5f\"},\"baxis\":{\"endlinecolor\":\"#2a3f5f\",\"gridcolor\":\"white\",\"linecolor\":\"white\",\"minorgridcolor\":\"white\",\"startlinecolor\":\"#2a3f5f\"},\"type\":\"carpet\"}],\"choropleth\":[{\"colorbar\":{\"outlinewidth\":0,\"ticks\":\"\"},\"type\":\"choropleth\"}],\"contour\":[{\"colorbar\":{\"outlinewidth\":0,\"ticks\":\"\"},\"colorscale\":[[0.0,\"#0d0887\"],[0.1111111111111111,\"#46039f\"],[0.2222222222222222,\"#7201a8\"],[0.3333333333333333,\"#9c179e\"],[0.4444444444444444,\"#bd3786\"],[0.5555555555555556,\"#d8576b\"],[0.6666666666666666,\"#ed7953\"],[0.7777777777777778,\"#fb9f3a\"],[0.8888888888888888,\"#fdca26\"],[1.0,\"#f0f921\"]],\"type\":\"contour\"}],\"contourcarpet\":[{\"colorbar\":{\"outlinewidth\":0,\"ticks\":\"\"},\"type\":\"contourcarpet\"}],\"heatmap\":[{\"colorbar\":{\"outlinewidth\":0,\"ticks\":\"\"},\"colorscale\":[[0.0,\"#0d0887\"],[0.1111111111111111,\"#46039f\"],[0.2222222222222222,\"#7201a8\"],[0.3333333333333333,\"#9c179e\"],[0.4444444444444444,\"#bd3786\"],[0.5555555555555556,\"#d8576b\"],[0.6666666666666666,\"#ed7953\"],[0.7777777777777778,\"#fb9f3a\"],[0.8888888888888888,\"#fdca26\"],[1.0,\"#f0f921\"]],\"type\":\"heatmap\"}],\"heatmapgl\":[{\"colorbar\":{\"outlinewidth\":0,\"ticks\":\"\"},\"colorscale\":[[0.0,\"#0d0887\"],[0.1111111111111111,\"#46039f\"],[0.2222222222222222,\"#7201a8\"],[0.3333333333333333,\"#9c179e\"],[0.4444444444444444,\"#bd3786\"],[0.5555555555555556,\"#d8576b\"],[0.6666666666666666,\"#ed7953\"],[0.7777777777777778,\"#fb9f3a\"],[0.8888888888888888,\"#fdca26\"],[1.0,\"#f0f921\"]],\"type\":\"heatmapgl\"}],\"histogram\":[{\"marker\":{\"pattern\":{\"fillmode\":\"overlay\",\"size\":10,\"solidity\":0.2}},\"type\":\"histogram\"}],\"histogram2d\":[{\"colorbar\":{\"outlinewidth\":0,\"ticks\":\"\"},\"colorscale\":[[0.0,\"#0d0887\"],[0.1111111111111111,\"#46039f\"],[0.2222222222222222,\"#7201a8\"],[0.3333333333333333,\"#9c179e\"],[0.4444444444444444,\"#bd3786\"],[0.5555555555555556,\"#d8576b\"],[0.6666666666666666,\"#ed7953\"],[0.7777777777777778,\"#fb9f3a\"],[0.8888888888888888,\"#fdca26\"],[1.0,\"#f0f921\"]],\"type\":\"histogram2d\"}],\"histogram2dcontour\":[{\"colorbar\":{\"outlinewidth\":0,\"ticks\":\"\"},\"colorscale\":[[0.0,\"#0d0887\"],[0.1111111111111111,\"#46039f\"],[0.2222222222222222,\"#7201a8\"],[0.3333333333333333,\"#9c179e\"],[0.4444444444444444,\"#bd3786\"],[0.5555555555555556,\"#d8576b\"],[0.6666666666666666,\"#ed7953\"],[0.7777777777777778,\"#fb9f3a\"],[0.8888888888888888,\"#fdca26\"],[1.0,\"#f0f921\"]],\"type\":\"histogram2dcontour\"}],\"mesh3d\":[{\"colorbar\":{\"outlinewidth\":0,\"ticks\":\"\"},\"type\":\"mesh3d\"}],\"parcoords\":[{\"line\":{\"colorbar\":{\"outlinewidth\":0,\"ticks\":\"\"}},\"type\":\"parcoords\"}],\"pie\":[{\"automargin\":true,\"type\":\"pie\"}],\"scatter\":[{\"marker\":{\"colorbar\":{\"outlinewidth\":0,\"ticks\":\"\"}},\"type\":\"scatter\"}],\"scatter3d\":[{\"line\":{\"colorbar\":{\"outlinewidth\":0,\"ticks\":\"\"}},\"marker\":{\"colorbar\":{\"outlinewidth\":0,\"ticks\":\"\"}},\"type\":\"scatter3d\"}],\"scattercarpet\":[{\"marker\":{\"colorbar\":{\"outlinewidth\":0,\"ticks\":\"\"}},\"type\":\"scattercarpet\"}],\"scattergeo\":[{\"marker\":{\"colorbar\":{\"outlinewidth\":0,\"ticks\":\"\"}},\"type\":\"scattergeo\"}],\"scattergl\":[{\"marker\":{\"colorbar\":{\"outlinewidth\":0,\"ticks\":\"\"}},\"type\":\"scattergl\"}],\"scattermapbox\":[{\"marker\":{\"colorbar\":{\"outlinewidth\":0,\"ticks\":\"\"}},\"type\":\"scattermapbox\"}],\"scatterpolar\":[{\"marker\":{\"colorbar\":{\"outlinewidth\":0,\"ticks\":\"\"}},\"type\":\"scatterpolar\"}],\"scatterpolargl\":[{\"marker\":{\"colorbar\":{\"outlinewidth\":0,\"ticks\":\"\"}},\"type\":\"scatterpolargl\"}],\"scatterternary\":[{\"marker\":{\"colorbar\":{\"outlinewidth\":0,\"ticks\":\"\"}},\"type\":\"scatterternary\"}],\"surface\":[{\"colorbar\":{\"outlinewidth\":0,\"ticks\":\"\"},\"colorscale\":[[0.0,\"#0d0887\"],[0.1111111111111111,\"#46039f\"],[0.2222222222222222,\"#7201a8\"],[0.3333333333333333,\"#9c179e\"],[0.4444444444444444,\"#bd3786\"],[0.5555555555555556,\"#d8576b\"],[0.6666666666666666,\"#ed7953\"],[0.7777777777777778,\"#fb9f3a\"],[0.8888888888888888,\"#fdca26\"],[1.0,\"#f0f921\"]],\"type\":\"surface\"}],\"table\":[{\"cells\":{\"fill\":{\"color\":\"#EBF0F8\"},\"line\":{\"color\":\"white\"}},\"header\":{\"fill\":{\"color\":\"#C8D4E3\"},\"line\":{\"color\":\"white\"}},\"type\":\"table\"}]},\"layout\":{\"annotationdefaults\":{\"arrowcolor\":\"#2a3f5f\",\"arrowhead\":0,\"arrowwidth\":1},\"autotypenumbers\":\"strict\",\"coloraxis\":{\"colorbar\":{\"outlinewidth\":0,\"ticks\":\"\"}},\"colorscale\":{\"diverging\":[[0,\"#8e0152\"],[0.1,\"#c51b7d\"],[0.2,\"#de77ae\"],[0.3,\"#f1b6da\"],[0.4,\"#fde0ef\"],[0.5,\"#f7f7f7\"],[0.6,\"#e6f5d0\"],[0.7,\"#b8e186\"],[0.8,\"#7fbc41\"],[0.9,\"#4d9221\"],[1,\"#276419\"]],\"sequential\":[[0.0,\"#0d0887\"],[0.1111111111111111,\"#46039f\"],[0.2222222222222222,\"#7201a8\"],[0.3333333333333333,\"#9c179e\"],[0.4444444444444444,\"#bd3786\"],[0.5555555555555556,\"#d8576b\"],[0.6666666666666666,\"#ed7953\"],[0.7777777777777778,\"#fb9f3a\"],[0.8888888888888888,\"#fdca26\"],[1.0,\"#f0f921\"]],\"sequentialminus\":[[0.0,\"#0d0887\"],[0.1111111111111111,\"#46039f\"],[0.2222222222222222,\"#7201a8\"],[0.3333333333333333,\"#9c179e\"],[0.4444444444444444,\"#bd3786\"],[0.5555555555555556,\"#d8576b\"],[0.6666666666666666,\"#ed7953\"],[0.7777777777777778,\"#fb9f3a\"],[0.8888888888888888,\"#fdca26\"],[1.0,\"#f0f921\"]]},\"colorway\":[\"#636efa\",\"#EF553B\",\"#00cc96\",\"#ab63fa\",\"#FFA15A\",\"#19d3f3\",\"#FF6692\",\"#B6E880\",\"#FF97FF\",\"#FECB52\"],\"font\":{\"color\":\"#2a3f5f\"},\"geo\":{\"bgcolor\":\"white\",\"lakecolor\":\"white\",\"landcolor\":\"#E5ECF6\",\"showlakes\":true,\"showland\":true,\"subunitcolor\":\"white\"},\"hoverlabel\":{\"align\":\"left\"},\"hovermode\":\"closest\",\"mapbox\":{\"style\":\"light\"},\"paper_bgcolor\":\"white\",\"plot_bgcolor\":\"#E5ECF6\",\"polar\":{\"angularaxis\":{\"gridcolor\":\"white\",\"linecolor\":\"white\",\"ticks\":\"\"},\"bgcolor\":\"#E5ECF6\",\"radialaxis\":{\"gridcolor\":\"white\",\"linecolor\":\"white\",\"ticks\":\"\"}},\"scene\":{\"xaxis\":{\"backgroundcolor\":\"#E5ECF6\",\"gridcolor\":\"white\",\"gridwidth\":2,\"linecolor\":\"white\",\"showbackground\":true,\"ticks\":\"\",\"zerolinecolor\":\"white\"},\"yaxis\":{\"backgroundcolor\":\"#E5ECF6\",\"gridcolor\":\"white\",\"gridwidth\":2,\"linecolor\":\"white\",\"showbackground\":true,\"ticks\":\"\",\"zerolinecolor\":\"white\"},\"zaxis\":{\"backgroundcolor\":\"#E5ECF6\",\"gridcolor\":\"white\",\"gridwidth\":2,\"linecolor\":\"white\",\"showbackground\":true,\"ticks\":\"\",\"zerolinecolor\":\"white\"}},\"shapedefaults\":{\"line\":{\"color\":\"#2a3f5f\"}},\"ternary\":{\"aaxis\":{\"gridcolor\":\"white\",\"linecolor\":\"white\",\"ticks\":\"\"},\"baxis\":{\"gridcolor\":\"white\",\"linecolor\":\"white\",\"ticks\":\"\"},\"bgcolor\":\"#E5ECF6\",\"caxis\":{\"gridcolor\":\"white\",\"linecolor\":\"white\",\"ticks\":\"\"}},\"title\":{\"x\":0.05},\"xaxis\":{\"automargin\":true,\"gridcolor\":\"white\",\"linecolor\":\"white\",\"ticks\":\"\",\"title\":{\"standoff\":15},\"zerolinecolor\":\"white\",\"zerolinewidth\":2},\"yaxis\":{\"automargin\":true,\"gridcolor\":\"white\",\"linecolor\":\"white\",\"ticks\":\"\",\"title\":{\"standoff\":15},\"zerolinecolor\":\"white\",\"zerolinewidth\":2}}},\"xaxis\":{\"anchor\":\"y\",\"domain\":[0.0,1.0],\"title\":{\"text\":\"decade\"}},\"yaxis\":{\"anchor\":\"x\",\"domain\":[0.0,1.0],\"title\":{\"text\":\"value\"}},\"legend\":{\"title\":{\"text\":\"variable\"},\"tracegroupgap\":0},\"margin\":{\"t\":60}},                        {\"responsive\": true}                    )                };                            </script>        </div>\n",
       "</body>\n",
       "</html>"
      ]
     },
     "metadata": {
      "application/vnd.databricks.v1+output": {
       "addedWidgets": {},
       "arguments": {},
       "data": "<html>\n<head><meta charset=\"utf-8\" /></head>\n<body>\n    <div>            <script src=\"https://cdnjs.cloudflare.com/ajax/libs/mathjax/2.7.5/MathJax.js?config=TeX-AMS-MML_SVG\"></script><script type=\"text/javascript\">if (window.MathJax) {MathJax.Hub.Config({SVG: {font: \"STIX-Web\"}});}</script>                <script type=\"text/javascript\">window.PlotlyConfig = {MathJaxConfig: 'local'};</script>\n        <script src=\"https://cdn.plot.ly/plotly-2.9.0.min.js\"></script>                <div id=\"7f347466-ec2e-469d-8eec-22afd6c46efe\" class=\"plotly-graph-div\" style=\"height:100%; width:100%;\"></div>            <script type=\"text/javascript\">                                    window.PLOTLYENV=window.PLOTLYENV || {};                                    if (document.getElementById(\"7f347466-ec2e-469d-8eec-22afd6c46efe\")) {                    Plotly.newPlot(                        \"7f347466-ec2e-469d-8eec-22afd6c46efe\",                        [{\"hovertemplate\":\"variable=acousticness<br>decade=%{x}<br>value=%{y}<extra></extra>\",\"legendgroup\":\"acousticness\",\"line\":{\"color\":\"#636efa\",\"dash\":\"solid\"},\"marker\":{\"symbol\":\"circle\"},\"mode\":\"lines\",\"name\":\"acousticness\",\"orientation\":\"v\",\"showlegend\":true,\"x\":[\"1920s\",\"1930s\",\"1940s\",\"1950s\",\"1960s\",\"1970s\",\"1980s\",\"1990s\",\"2000s\",\"2010s\",\"2020s\"],\"xaxis\":\"x\",\"y\":[0.8691756681272306,0.874072398938074,0.8779975949514116,0.8401896509024345,0.6263446178567353,0.400161569561,0.29869039589135926,0.30750808748818925,0.26967701283041373,0.26427770135909034,0.2199308880935964],\"yaxis\":\"y\",\"type\":\"scatter\"},{\"hovertemplate\":\"variable=danceability<br>decade=%{x}<br>value=%{y}<extra></extra>\",\"legendgroup\":\"danceability\",\"line\":{\"color\":\"#EF553B\",\"dash\":\"solid\"},\"marker\":{\"symbol\":\"circle\"},\"mode\":\"lines\",\"name\":\"danceability\",\"orientation\":\"v\",\"showlegend\":true,\"x\":[\"1920s\",\"1930s\",\"1940s\",\"1950s\",\"1960s\",\"1970s\",\"1980s\",\"1990s\",\"2000s\",\"2010s\",\"2020s\"],\"xaxis\":\"x\",\"y\":[0.5590937531320911,0.5418884140937485,0.47328055780528794,0.47683929897435895,0.49464230733703474,0.5249274100000003,0.546381672820513,0.5660955727990249,0.5741148147601711,0.5971840941008854,0.6929043349753701],\"yaxis\":\"y\",\"type\":\"scatter\"},{\"hovertemplate\":\"variable=energy<br>decade=%{x}<br>value=%{y}<extra></extra>\",\"legendgroup\":\"energy\",\"line\":{\"color\":\"#00cc96\",\"dash\":\"solid\"},\"marker\":{\"symbol\":\"circle\"},\"mode\":\"lines\",\"name\":\"energy\",\"orientation\":\"v\",\"showlegend\":true,\"x\":[\"1920s\",\"1930s\",\"1940s\",\"1950s\",\"1960s\",\"1970s\",\"1980s\",\"1990s\",\"2000s\",\"2010s\",\"2020s\"],\"xaxis\":\"x\",\"y\":[0.253390447722291,0.2841575777945339,0.25663944356436064,0.2867833829230769,0.4134146979457628,0.5337163684000003,0.59466316743718,0.5861257366457823,0.6516750500136158,0.6287041673483448,0.6312316354679793],\"yaxis\":\"y\",\"type\":\"scatter\"},{\"hovertemplate\":\"variable=instrumentalness<br>decade=%{x}<br>value=%{y}<extra></extra>\",\"legendgroup\":\"instrumentalness\",\"line\":{\"color\":\"#ab63fa\",\"dash\":\"solid\"},\"marker\":{\"symbol\":\"circle\"},\"mode\":\"lines\",\"name\":\"instrumentalness\",\"orientation\":\"v\",\"showlegend\":true,\"x\":[\"1920s\",\"1930s\",\"1940s\",\"1950s\",\"1960s\",\"1970s\",\"1980s\",\"1990s\",\"2000s\",\"2010s\",\"2020s\"],\"xaxis\":\"x\",\"y\":[0.3983627832714221,0.27264913750569547,0.37767317190705746,0.24768914848938467,0.15822954937449638,0.11603111290099996,0.12222158086589749,0.10971940944311194,0.0837800712790397,0.08766122726996474,0.016375524305418724],\"yaxis\":\"y\",\"type\":\"scatter\"},{\"hovertemplate\":\"variable=liveness<br>decade=%{x}<br>value=%{y}<extra></extra>\",\"legendgroup\":\"liveness\",\"line\":{\"color\":\"#FFA15A\",\"dash\":\"solid\"},\"marker\":{\"symbol\":\"circle\"},\"mode\":\"lines\",\"name\":\"liveness\",\"orientation\":\"v\",\"showlegend\":true,\"x\":[\"1920s\",\"1930s\",\"1940s\",\"1950s\",\"1960s\",\"1970s\",\"1980s\",\"1990s\",\"2000s\",\"2010s\",\"2020s\"],\"xaxis\":\"x\",\"y\":[0.21765426166595916,0.2256678114214279,0.22232458624505128,0.20914081384615382,0.2086816441528107,0.21640610500000004,0.2046381143589744,0.196551042023223,0.19559797987215202,0.1894875775322422,0.1785354187192117],\"yaxis\":\"y\",\"type\":\"scatter\"},{\"hovertemplate\":\"variable=speechiness<br>decade=%{x}<br>value=%{y}<extra></extra>\",\"legendgroup\":\"speechiness\",\"line\":{\"color\":\"#19d3f3\",\"dash\":\"solid\"},\"marker\":{\"symbol\":\"circle\"},\"mode\":\"lines\",\"name\":\"speechiness\",\"orientation\":\"v\",\"showlegend\":true,\"x\":[\"1920s\",\"1930s\",\"1940s\",\"1950s\",\"1960s\",\"1970s\",\"1980s\",\"1990s\",\"2000s\",\"2010s\",\"2020s\"],\"xaxis\":\"x\",\"y\":[0.19283315851831448,0.18491566082002286,0.1458022490019897,0.0935320042307692,0.05782123252637202,0.05976391999999999,0.062027815384615416,0.08053854655508681,0.0877201834601508,0.09880106175137476,0.14138369458128058],\"yaxis\":\"y\",\"type\":\"scatter\"},{\"hovertemplate\":\"variable=valence<br>decade=%{x}<br>value=%{y}<extra></extra>\",\"legendgroup\":\"valence\",\"line\":{\"color\":\"#FF6692\",\"dash\":\"solid\"},\"marker\":{\"symbol\":\"circle\"},\"mode\":\"lines\",\"name\":\"valence\",\"orientation\":\"v\",\"showlegend\":true,\"x\":[\"1920s\",\"1930s\",\"1940s\",\"1950s\",\"1960s\",\"1970s\",\"1980s\",\"1990s\",\"2000s\",\"2010s\",\"2020s\"],\"xaxis\":\"x\",\"y\":[0.5616528956495046,0.5645996179857298,0.4900113948115973,0.47855411582038465,0.5515988656860983,0.5850979400000005,0.5644021430512822,0.545034417546426,0.5302409151735066,0.4560693465651335,0.5010478078817729],\"yaxis\":\"y\",\"type\":\"scatter\"}],                        {\"template\":{\"data\":{\"bar\":[{\"error_x\":{\"color\":\"#2a3f5f\"},\"error_y\":{\"color\":\"#2a3f5f\"},\"marker\":{\"line\":{\"color\":\"#E5ECF6\",\"width\":0.5},\"pattern\":{\"fillmode\":\"overlay\",\"size\":10,\"solidity\":0.2}},\"type\":\"bar\"}],\"barpolar\":[{\"marker\":{\"line\":{\"color\":\"#E5ECF6\",\"width\":0.5},\"pattern\":{\"fillmode\":\"overlay\",\"size\":10,\"solidity\":0.2}},\"type\":\"barpolar\"}],\"carpet\":[{\"aaxis\":{\"endlinecolor\":\"#2a3f5f\",\"gridcolor\":\"white\",\"linecolor\":\"white\",\"minorgridcolor\":\"white\",\"startlinecolor\":\"#2a3f5f\"},\"baxis\":{\"endlinecolor\":\"#2a3f5f\",\"gridcolor\":\"white\",\"linecolor\":\"white\",\"minorgridcolor\":\"white\",\"startlinecolor\":\"#2a3f5f\"},\"type\":\"carpet\"}],\"choropleth\":[{\"colorbar\":{\"outlinewidth\":0,\"ticks\":\"\"},\"type\":\"choropleth\"}],\"contour\":[{\"colorbar\":{\"outlinewidth\":0,\"ticks\":\"\"},\"colorscale\":[[0.0,\"#0d0887\"],[0.1111111111111111,\"#46039f\"],[0.2222222222222222,\"#7201a8\"],[0.3333333333333333,\"#9c179e\"],[0.4444444444444444,\"#bd3786\"],[0.5555555555555556,\"#d8576b\"],[0.6666666666666666,\"#ed7953\"],[0.7777777777777778,\"#fb9f3a\"],[0.8888888888888888,\"#fdca26\"],[1.0,\"#f0f921\"]],\"type\":\"contour\"}],\"contourcarpet\":[{\"colorbar\":{\"outlinewidth\":0,\"ticks\":\"\"},\"type\":\"contourcarpet\"}],\"heatmap\":[{\"colorbar\":{\"outlinewidth\":0,\"ticks\":\"\"},\"colorscale\":[[0.0,\"#0d0887\"],[0.1111111111111111,\"#46039f\"],[0.2222222222222222,\"#7201a8\"],[0.3333333333333333,\"#9c179e\"],[0.4444444444444444,\"#bd3786\"],[0.5555555555555556,\"#d8576b\"],[0.6666666666666666,\"#ed7953\"],[0.7777777777777778,\"#fb9f3a\"],[0.8888888888888888,\"#fdca26\"],[1.0,\"#f0f921\"]],\"type\":\"heatmap\"}],\"heatmapgl\":[{\"colorbar\":{\"outlinewidth\":0,\"ticks\":\"\"},\"colorscale\":[[0.0,\"#0d0887\"],[0.1111111111111111,\"#46039f\"],[0.2222222222222222,\"#7201a8\"],[0.3333333333333333,\"#9c179e\"],[0.4444444444444444,\"#bd3786\"],[0.5555555555555556,\"#d8576b\"],[0.6666666666666666,\"#ed7953\"],[0.7777777777777778,\"#fb9f3a\"],[0.8888888888888888,\"#fdca26\"],[1.0,\"#f0f921\"]],\"type\":\"heatmapgl\"}],\"histogram\":[{\"marker\":{\"pattern\":{\"fillmode\":\"overlay\",\"size\":10,\"solidity\":0.2}},\"type\":\"histogram\"}],\"histogram2d\":[{\"colorbar\":{\"outlinewidth\":0,\"ticks\":\"\"},\"colorscale\":[[0.0,\"#0d0887\"],[0.1111111111111111,\"#46039f\"],[0.2222222222222222,\"#7201a8\"],[0.3333333333333333,\"#9c179e\"],[0.4444444444444444,\"#bd3786\"],[0.5555555555555556,\"#d8576b\"],[0.6666666666666666,\"#ed7953\"],[0.7777777777777778,\"#fb9f3a\"],[0.8888888888888888,\"#fdca26\"],[1.0,\"#f0f921\"]],\"type\":\"histogram2d\"}],\"histogram2dcontour\":[{\"colorbar\":{\"outlinewidth\":0,\"ticks\":\"\"},\"colorscale\":[[0.0,\"#0d0887\"],[0.1111111111111111,\"#46039f\"],[0.2222222222222222,\"#7201a8\"],[0.3333333333333333,\"#9c179e\"],[0.4444444444444444,\"#bd3786\"],[0.5555555555555556,\"#d8576b\"],[0.6666666666666666,\"#ed7953\"],[0.7777777777777778,\"#fb9f3a\"],[0.8888888888888888,\"#fdca26\"],[1.0,\"#f0f921\"]],\"type\":\"histogram2dcontour\"}],\"mesh3d\":[{\"colorbar\":{\"outlinewidth\":0,\"ticks\":\"\"},\"type\":\"mesh3d\"}],\"parcoords\":[{\"line\":{\"colorbar\":{\"outlinewidth\":0,\"ticks\":\"\"}},\"type\":\"parcoords\"}],\"pie\":[{\"automargin\":true,\"type\":\"pie\"}],\"scatter\":[{\"marker\":{\"colorbar\":{\"outlinewidth\":0,\"ticks\":\"\"}},\"type\":\"scatter\"}],\"scatter3d\":[{\"line\":{\"colorbar\":{\"outlinewidth\":0,\"ticks\":\"\"}},\"marker\":{\"colorbar\":{\"outlinewidth\":0,\"ticks\":\"\"}},\"type\":\"scatter3d\"}],\"scattercarpet\":[{\"marker\":{\"colorbar\":{\"outlinewidth\":0,\"ticks\":\"\"}},\"type\":\"scattercarpet\"}],\"scattergeo\":[{\"marker\":{\"colorbar\":{\"outlinewidth\":0,\"ticks\":\"\"}},\"type\":\"scattergeo\"}],\"scattergl\":[{\"marker\":{\"colorbar\":{\"outlinewidth\":0,\"ticks\":\"\"}},\"type\":\"scattergl\"}],\"scattermapbox\":[{\"marker\":{\"colorbar\":{\"outlinewidth\":0,\"ticks\":\"\"}},\"type\":\"scattermapbox\"}],\"scatterpolar\":[{\"marker\":{\"colorbar\":{\"outlinewidth\":0,\"ticks\":\"\"}},\"type\":\"scatterpolar\"}],\"scatterpolargl\":[{\"marker\":{\"colorbar\":{\"outlinewidth\":0,\"ticks\":\"\"}},\"type\":\"scatterpolargl\"}],\"scatterternary\":[{\"marker\":{\"colorbar\":{\"outlinewidth\":0,\"ticks\":\"\"}},\"type\":\"scatterternary\"}],\"surface\":[{\"colorbar\":{\"outlinewidth\":0,\"ticks\":\"\"},\"colorscale\":[[0.0,\"#0d0887\"],[0.1111111111111111,\"#46039f\"],[0.2222222222222222,\"#7201a8\"],[0.3333333333333333,\"#9c179e\"],[0.4444444444444444,\"#bd3786\"],[0.5555555555555556,\"#d8576b\"],[0.6666666666666666,\"#ed7953\"],[0.7777777777777778,\"#fb9f3a\"],[0.8888888888888888,\"#fdca26\"],[1.0,\"#f0f921\"]],\"type\":\"surface\"}],\"table\":[{\"cells\":{\"fill\":{\"color\":\"#EBF0F8\"},\"line\":{\"color\":\"white\"}},\"header\":{\"fill\":{\"color\":\"#C8D4E3\"},\"line\":{\"color\":\"white\"}},\"type\":\"table\"}]},\"layout\":{\"annotationdefaults\":{\"arrowcolor\":\"#2a3f5f\",\"arrowhead\":0,\"arrowwidth\":1},\"autotypenumbers\":\"strict\",\"coloraxis\":{\"colorbar\":{\"outlinewidth\":0,\"ticks\":\"\"}},\"colorscale\":{\"diverging\":[[0,\"#8e0152\"],[0.1,\"#c51b7d\"],[0.2,\"#de77ae\"],[0.3,\"#f1b6da\"],[0.4,\"#fde0ef\"],[0.5,\"#f7f7f7\"],[0.6,\"#e6f5d0\"],[0.7,\"#b8e186\"],[0.8,\"#7fbc41\"],[0.9,\"#4d9221\"],[1,\"#276419\"]],\"sequential\":[[0.0,\"#0d0887\"],[0.1111111111111111,\"#46039f\"],[0.2222222222222222,\"#7201a8\"],[0.3333333333333333,\"#9c179e\"],[0.4444444444444444,\"#bd3786\"],[0.5555555555555556,\"#d8576b\"],[0.6666666666666666,\"#ed7953\"],[0.7777777777777778,\"#fb9f3a\"],[0.8888888888888888,\"#fdca26\"],[1.0,\"#f0f921\"]],\"sequentialminus\":[[0.0,\"#0d0887\"],[0.1111111111111111,\"#46039f\"],[0.2222222222222222,\"#7201a8\"],[0.3333333333333333,\"#9c179e\"],[0.4444444444444444,\"#bd3786\"],[0.5555555555555556,\"#d8576b\"],[0.6666666666666666,\"#ed7953\"],[0.7777777777777778,\"#fb9f3a\"],[0.8888888888888888,\"#fdca26\"],[1.0,\"#f0f921\"]]},\"colorway\":[\"#636efa\",\"#EF553B\",\"#00cc96\",\"#ab63fa\",\"#FFA15A\",\"#19d3f3\",\"#FF6692\",\"#B6E880\",\"#FF97FF\",\"#FECB52\"],\"font\":{\"color\":\"#2a3f5f\"},\"geo\":{\"bgcolor\":\"white\",\"lakecolor\":\"white\",\"landcolor\":\"#E5ECF6\",\"showlakes\":true,\"showland\":true,\"subunitcolor\":\"white\"},\"hoverlabel\":{\"align\":\"left\"},\"hovermode\":\"closest\",\"mapbox\":{\"style\":\"light\"},\"paper_bgcolor\":\"white\",\"plot_bgcolor\":\"#E5ECF6\",\"polar\":{\"angularaxis\":{\"gridcolor\":\"white\",\"linecolor\":\"white\",\"ticks\":\"\"},\"bgcolor\":\"#E5ECF6\",\"radialaxis\":{\"gridcolor\":\"white\",\"linecolor\":\"white\",\"ticks\":\"\"}},\"scene\":{\"xaxis\":{\"backgroundcolor\":\"#E5ECF6\",\"gridcolor\":\"white\",\"gridwidth\":2,\"linecolor\":\"white\",\"showbackground\":true,\"ticks\":\"\",\"zerolinecolor\":\"white\"},\"yaxis\":{\"backgroundcolor\":\"#E5ECF6\",\"gridcolor\":\"white\",\"gridwidth\":2,\"linecolor\":\"white\",\"showbackground\":true,\"ticks\":\"\",\"zerolinecolor\":\"white\"},\"zaxis\":{\"backgroundcolor\":\"#E5ECF6\",\"gridcolor\":\"white\",\"gridwidth\":2,\"linecolor\":\"white\",\"showbackground\":true,\"ticks\":\"\",\"zerolinecolor\":\"white\"}},\"shapedefaults\":{\"line\":{\"color\":\"#2a3f5f\"}},\"ternary\":{\"aaxis\":{\"gridcolor\":\"white\",\"linecolor\":\"white\",\"ticks\":\"\"},\"baxis\":{\"gridcolor\":\"white\",\"linecolor\":\"white\",\"ticks\":\"\"},\"bgcolor\":\"#E5ECF6\",\"caxis\":{\"gridcolor\":\"white\",\"linecolor\":\"white\",\"ticks\":\"\"}},\"title\":{\"x\":0.05},\"xaxis\":{\"automargin\":true,\"gridcolor\":\"white\",\"linecolor\":\"white\",\"ticks\":\"\",\"title\":{\"standoff\":15},\"zerolinecolor\":\"white\",\"zerolinewidth\":2},\"yaxis\":{\"automargin\":true,\"gridcolor\":\"white\",\"linecolor\":\"white\",\"ticks\":\"\",\"title\":{\"standoff\":15},\"zerolinecolor\":\"white\",\"zerolinewidth\":2}}},\"xaxis\":{\"anchor\":\"y\",\"domain\":[0.0,1.0],\"title\":{\"text\":\"decade\"}},\"yaxis\":{\"anchor\":\"x\",\"domain\":[0.0,1.0],\"title\":{\"text\":\"value\"}},\"legend\":{\"title\":{\"text\":\"variable\"},\"tracegroupgap\":0},\"margin\":{\"t\":60}},                        {\"responsive\": true}                    )                };                            </script>        </div>\n</body>\n</html>",
       "datasetInfos": [],
       "metadata": {},
       "removedWidgets": [],
       "textData": null,
       "type": "htmlSandbox"
      }
     },
     "output_type": "display_data"
    }
   ],
   "source": [
    "%python\n",
    "\n",
    "# Criação de um gráfico de linhas\n",
    "\n",
    "df_consulta_05.plot.line(x='decade', y=['acousticness', 'danceability', 'energy',\n",
    "       'instrumentalness', 'liveness', 'speechiness', 'valence'])"
   ]
  },
  {
   "cell_type": "markdown",
   "metadata": {
    "application/vnd.databricks.v1+cell": {
     "cellMetadata": {},
     "inputWidgets": {},
     "nuid": "a3cba22e-99e7-4734-83ea-0b39f67c9fc1",
     "showTitle": false,
     "tableResultSettingsMap": {},
     "title": ""
    }
   },
   "source": [
    "\n",
    "# Consultas (data_by_artist)"
   ]
  },
  {
   "cell_type": "markdown",
   "metadata": {
    "application/vnd.databricks.v1+cell": {
     "cellMetadata": {},
     "inputWidgets": {},
     "nuid": "539a9781-d64c-4c67-809c-3abc1cf428ce",
     "showTitle": false,
     "tableResultSettingsMap": {},
     "title": ""
    }
   },
   "source": [
    "\n",
    "## Caminho do arquivo"
   ]
  },
  {
   "cell_type": "code",
   "execution_count": 0,
   "metadata": {
    "application/vnd.databricks.v1+cell": {
     "cellMetadata": {
      "byteLimit": 2048000,
      "rowLimit": 10000
     },
     "inputWidgets": {},
     "nuid": "d048e590-95ae-48e3-a3c5-fb5aa53ee2a5",
     "showTitle": false,
     "tableResultSettingsMap": {},
     "title": ""
    }
   },
   "outputs": [],
   "source": [
    "%python\n",
    "\n",
    "# Caminho do arquivo para leitura\n",
    "\n",
    "path_consulta_artists = 'dbfs:/FileStore/tables/musica/spotify/data-treated/data_by_artist.parquet'"
   ]
  },
  {
   "cell_type": "markdown",
   "metadata": {
    "application/vnd.databricks.v1+cell": {
     "cellMetadata": {},
     "inputWidgets": {},
     "nuid": "b77b12b2-f6d2-4641-befa-5748135c172b",
     "showTitle": false,
     "tableResultSettingsMap": {},
     "title": ""
    }
   },
   "source": [
    "\n",
    "## Leitura do df (pandas)"
   ]
  },
  {
   "cell_type": "code",
   "execution_count": 0,
   "metadata": {
    "application/vnd.databricks.v1+cell": {
     "cellMetadata": {
      "byteLimit": 2048000,
      "rowLimit": 10000
     },
     "inputWidgets": {},
     "nuid": "54876ab2-69ff-493e-b058-8c3e9c24016c",
     "showTitle": false,
     "tableResultSettingsMap": {},
     "title": ""
    }
   },
   "outputs": [
    {
     "output_type": "display_data",
     "data": {
      "text/html": [
       "<div>\n",
       "<style scoped>\n",
       "    .dataframe tbody tr th:only-of-type {\n",
       "        vertical-align: middle;\n",
       "    }\n",
       "\n",
       "    .dataframe tbody tr th {\n",
       "        vertical-align: top;\n",
       "    }\n",
       "\n",
       "    .dataframe thead th {\n",
       "        text-align: right;\n",
       "    }\n",
       "</style>\n",
       "<table border=\"1\" class=\"dataframe\">\n",
       "  <thead>\n",
       "    <tr style=\"text-align: right;\">\n",
       "      <th></th>\n",
       "      <th>mode</th>\n",
       "      <th>count</th>\n",
       "      <th>acousticness</th>\n",
       "      <th>artists</th>\n",
       "      <th>danceability</th>\n",
       "      <th>duration_ms</th>\n",
       "      <th>energy</th>\n",
       "      <th>instrumentalness</th>\n",
       "      <th>liveness</th>\n",
       "      <th>loudness</th>\n",
       "      <th>speechiness</th>\n",
       "      <th>tempo</th>\n",
       "      <th>valence</th>\n",
       "      <th>popularity</th>\n",
       "      <th>key</th>\n",
       "    </tr>\n",
       "  </thead>\n",
       "  <tbody>\n",
       "    <tr>\n",
       "      <th>0</th>\n",
       "      <td>1</td>\n",
       "      <td>9</td>\n",
       "      <td>0.590111</td>\n",
       "      <td>\"\"\"Cats\"\" 1981 Original London Cast\"</td>\n",
       "      <td>0.467222</td>\n",
       "      <td>250318.555556</td>\n",
       "      <td>0.394003</td>\n",
       "      <td>0.011400</td>\n",
       "      <td>0.290833</td>\n",
       "      <td>-14.448000</td>\n",
       "      <td>0.210389</td>\n",
       "      <td>117.518111</td>\n",
       "      <td>0.389500</td>\n",
       "      <td>38.333333</td>\n",
       "      <td>5</td>\n",
       "    </tr>\n",
       "    <tr>\n",
       "      <th>1</th>\n",
       "      <td>1</td>\n",
       "      <td>26</td>\n",
       "      <td>0.862538</td>\n",
       "      <td>\"\"\"Cats\"\" 1983 Broadway Cast\"</td>\n",
       "      <td>0.441731</td>\n",
       "      <td>287280.000000</td>\n",
       "      <td>0.406808</td>\n",
       "      <td>0.081158</td>\n",
       "      <td>0.315215</td>\n",
       "      <td>-10.690000</td>\n",
       "      <td>0.176212</td>\n",
       "      <td>103.044154</td>\n",
       "      <td>0.268865</td>\n",
       "      <td>30.576923</td>\n",
       "      <td>5</td>\n",
       "    </tr>\n",
       "    <tr>\n",
       "      <th>2</th>\n",
       "      <td>1</td>\n",
       "      <td>7</td>\n",
       "      <td>0.856571</td>\n",
       "      <td>\"\"\"Fiddler On The Roof” Motion Picture Chorus\"</td>\n",
       "      <td>0.348286</td>\n",
       "      <td>328920.000000</td>\n",
       "      <td>0.286571</td>\n",
       "      <td>0.024593</td>\n",
       "      <td>0.325786</td>\n",
       "      <td>-15.230714</td>\n",
       "      <td>0.118514</td>\n",
       "      <td>77.375857</td>\n",
       "      <td>0.354857</td>\n",
       "      <td>34.857143</td>\n",
       "      <td>0</td>\n",
       "    </tr>\n",
       "    <tr>\n",
       "      <th>3</th>\n",
       "      <td>1</td>\n",
       "      <td>27</td>\n",
       "      <td>0.884926</td>\n",
       "      <td>\"\"\"Fiddler On The Roof” Motion Picture Orchestra\"</td>\n",
       "      <td>0.425074</td>\n",
       "      <td>262890.962963</td>\n",
       "      <td>0.245770</td>\n",
       "      <td>0.073587</td>\n",
       "      <td>0.275481</td>\n",
       "      <td>-15.639370</td>\n",
       "      <td>0.123200</td>\n",
       "      <td>88.667630</td>\n",
       "      <td>0.372030</td>\n",
       "      <td>34.851852</td>\n",
       "      <td>0</td>\n",
       "    </tr>\n",
       "    <tr>\n",
       "      <th>4</th>\n",
       "      <td>1</td>\n",
       "      <td>7</td>\n",
       "      <td>0.510714</td>\n",
       "      <td>\"\"\"Joseph And The Amazing Technicolor Dreamcoa...</td>\n",
       "      <td>0.467143</td>\n",
       "      <td>270436.142857</td>\n",
       "      <td>0.488286</td>\n",
       "      <td>0.009400</td>\n",
       "      <td>0.195000</td>\n",
       "      <td>-10.236714</td>\n",
       "      <td>0.098543</td>\n",
       "      <td>122.835857</td>\n",
       "      <td>0.482286</td>\n",
       "      <td>43.000000</td>\n",
       "      <td>5</td>\n",
       "    </tr>\n",
       "  </tbody>\n",
       "</table>\n",
       "</div>"
      ]
     },
     "metadata": {
      "application/vnd.databricks.v1+output": {
       "addedWidgets": {},
       "arguments": {},
       "data": "<div>\n<style scoped>\n    .dataframe tbody tr th:only-of-type {\n        vertical-align: middle;\n    }\n\n    .dataframe tbody tr th {\n        vertical-align: top;\n    }\n\n    .dataframe thead th {\n        text-align: right;\n    }\n</style>\n<table border=\"1\" class=\"dataframe\">\n  <thead>\n    <tr style=\"text-align: right;\">\n      <th></th>\n      <th>mode</th>\n      <th>count</th>\n      <th>acousticness</th>\n      <th>artists</th>\n      <th>danceability</th>\n      <th>duration_ms</th>\n      <th>energy</th>\n      <th>instrumentalness</th>\n      <th>liveness</th>\n      <th>loudness</th>\n      <th>speechiness</th>\n      <th>tempo</th>\n      <th>valence</th>\n      <th>popularity</th>\n      <th>key</th>\n    </tr>\n  </thead>\n  <tbody>\n    <tr>\n      <th>0</th>\n      <td>1</td>\n      <td>9</td>\n      <td>0.590111</td>\n      <td>\"\"\"Cats\"\" 1981 Original London Cast\"</td>\n      <td>0.467222</td>\n      <td>250318.555556</td>\n      <td>0.394003</td>\n      <td>0.011400</td>\n      <td>0.290833</td>\n      <td>-14.448000</td>\n      <td>0.210389</td>\n      <td>117.518111</td>\n      <td>0.389500</td>\n      <td>38.333333</td>\n      <td>5</td>\n    </tr>\n    <tr>\n      <th>1</th>\n      <td>1</td>\n      <td>26</td>\n      <td>0.862538</td>\n      <td>\"\"\"Cats\"\" 1983 Broadway Cast\"</td>\n      <td>0.441731</td>\n      <td>287280.000000</td>\n      <td>0.406808</td>\n      <td>0.081158</td>\n      <td>0.315215</td>\n      <td>-10.690000</td>\n      <td>0.176212</td>\n      <td>103.044154</td>\n      <td>0.268865</td>\n      <td>30.576923</td>\n      <td>5</td>\n    </tr>\n    <tr>\n      <th>2</th>\n      <td>1</td>\n      <td>7</td>\n      <td>0.856571</td>\n      <td>\"\"\"Fiddler On The Roof” Motion Picture Chorus\"</td>\n      <td>0.348286</td>\n      <td>328920.000000</td>\n      <td>0.286571</td>\n      <td>0.024593</td>\n      <td>0.325786</td>\n      <td>-15.230714</td>\n      <td>0.118514</td>\n      <td>77.375857</td>\n      <td>0.354857</td>\n      <td>34.857143</td>\n      <td>0</td>\n    </tr>\n    <tr>\n      <th>3</th>\n      <td>1</td>\n      <td>27</td>\n      <td>0.884926</td>\n      <td>\"\"\"Fiddler On The Roof” Motion Picture Orchestra\"</td>\n      <td>0.425074</td>\n      <td>262890.962963</td>\n      <td>0.245770</td>\n      <td>0.073587</td>\n      <td>0.275481</td>\n      <td>-15.639370</td>\n      <td>0.123200</td>\n      <td>88.667630</td>\n      <td>0.372030</td>\n      <td>34.851852</td>\n      <td>0</td>\n    </tr>\n    <tr>\n      <th>4</th>\n      <td>1</td>\n      <td>7</td>\n      <td>0.510714</td>\n      <td>\"\"\"Joseph And The Amazing Technicolor Dreamcoa...</td>\n      <td>0.467143</td>\n      <td>270436.142857</td>\n      <td>0.488286</td>\n      <td>0.009400</td>\n      <td>0.195000</td>\n      <td>-10.236714</td>\n      <td>0.098543</td>\n      <td>122.835857</td>\n      <td>0.482286</td>\n      <td>43.000000</td>\n      <td>5</td>\n    </tr>\n  </tbody>\n</table>\n</div>",
       "datasetInfos": [],
       "metadata": {},
       "removedWidgets": [],
       "textData": null,
       "type": "htmlSandbox"
      }
     },
     "output_type": "display_data"
    }
   ],
   "source": [
    "%python\n",
    "\n",
    "# Leitura do arquivo\n",
    "\n",
    "import pyspark.pandas as ps\n",
    "\n",
    "df_consulta_artists = ps.read_parquet(path_consulta_artists)\n",
    "\n",
    "df_consulta_artists.head()"
   ]
  },
  {
   "cell_type": "markdown",
   "metadata": {
    "application/vnd.databricks.v1+cell": {
     "cellMetadata": {},
     "inputWidgets": {},
     "nuid": "bf43811a-765e-48f7-9350-ca6bb7016b98",
     "showTitle": false,
     "tableResultSettingsMap": {},
     "title": ""
    }
   },
   "source": [
    "\n",
    "## Ordenar artistas"
   ]
  },
  {
   "cell_type": "code",
   "execution_count": 0,
   "metadata": {
    "application/vnd.databricks.v1+cell": {
     "cellMetadata": {
      "byteLimit": 2048000,
      "rowLimit": 10000
     },
     "inputWidgets": {},
     "nuid": "b50b1c53-7cc1-47c4-81c2-2f1dc220aee3",
     "showTitle": false,
     "tableResultSettingsMap": {},
     "title": ""
    }
   },
   "outputs": [
    {
     "output_type": "display_data",
     "data": {
      "text/html": [
       "<div>\n",
       "<style scoped>\n",
       "    .dataframe tbody tr th:only-of-type {\n",
       "        vertical-align: middle;\n",
       "    }\n",
       "\n",
       "    .dataframe tbody tr th {\n",
       "        vertical-align: top;\n",
       "    }\n",
       "\n",
       "    .dataframe thead th {\n",
       "        text-align: right;\n",
       "    }\n",
       "</style>\n",
       "<table border=\"1\" class=\"dataframe\">\n",
       "  <thead>\n",
       "    <tr style=\"text-align: right;\">\n",
       "      <th></th>\n",
       "      <th>mode</th>\n",
       "      <th>count</th>\n",
       "      <th>acousticness</th>\n",
       "      <th>artists</th>\n",
       "      <th>danceability</th>\n",
       "      <th>duration_ms</th>\n",
       "      <th>energy</th>\n",
       "      <th>instrumentalness</th>\n",
       "      <th>liveness</th>\n",
       "      <th>loudness</th>\n",
       "      <th>speechiness</th>\n",
       "      <th>tempo</th>\n",
       "      <th>valence</th>\n",
       "      <th>popularity</th>\n",
       "      <th>key</th>\n",
       "    </tr>\n",
       "  </thead>\n",
       "  <tbody>\n",
       "    <tr>\n",
       "      <th>8367</th>\n",
       "      <td>1</td>\n",
       "      <td>3169</td>\n",
       "      <td>0.984282</td>\n",
       "      <td>Francisco Canaro</td>\n",
       "      <td>0.659676</td>\n",
       "      <td>176986.345850</td>\n",
       "      <td>0.287555</td>\n",
       "      <td>0.537988</td>\n",
       "      <td>0.199492</td>\n",
       "      <td>-12.043738</td>\n",
       "      <td>0.110533</td>\n",
       "      <td>122.743169</td>\n",
       "      <td>0.745212</td>\n",
       "      <td>0.061849</td>\n",
       "      <td>2</td>\n",
       "    </tr>\n",
       "    <tr>\n",
       "      <th>28561</th>\n",
       "      <td>1</td>\n",
       "      <td>2422</td>\n",
       "      <td>0.353916</td>\n",
       "      <td>Эрнест Хемингуэй</td>\n",
       "      <td>0.696773</td>\n",
       "      <td>115936.962015</td>\n",
       "      <td>0.188971</td>\n",
       "      <td>0.000027</td>\n",
       "      <td>0.373329</td>\n",
       "      <td>-18.237630</td>\n",
       "      <td>0.926229</td>\n",
       "      <td>111.847911</td>\n",
       "      <td>0.583885</td>\n",
       "      <td>0.066061</td>\n",
       "      <td>11</td>\n",
       "    </tr>\n",
       "    <tr>\n",
       "      <th>28560</th>\n",
       "      <td>1</td>\n",
       "      <td>2136</td>\n",
       "      <td>0.297365</td>\n",
       "      <td>Эрих Мария Ремарк</td>\n",
       "      <td>0.693738</td>\n",
       "      <td>121013.185393</td>\n",
       "      <td>0.200289</td>\n",
       "      <td>0.000230</td>\n",
       "      <td>0.195630</td>\n",
       "      <td>-19.259112</td>\n",
       "      <td>0.921277</td>\n",
       "      <td>110.717091</td>\n",
       "      <td>0.536381</td>\n",
       "      <td>0.000000</td>\n",
       "      <td>0</td>\n",
       "    </tr>\n",
       "    <tr>\n",
       "      <th>8434</th>\n",
       "      <td>1</td>\n",
       "      <td>1459</td>\n",
       "      <td>0.738865</td>\n",
       "      <td>Frank Sinatra</td>\n",
       "      <td>0.385232</td>\n",
       "      <td>189282.134339</td>\n",
       "      <td>0.236152</td>\n",
       "      <td>0.021148</td>\n",
       "      <td>0.230828</td>\n",
       "      <td>-14.335969</td>\n",
       "      <td>0.049029</td>\n",
       "      <td>109.394801</td>\n",
       "      <td>0.364991</td>\n",
       "      <td>28.658670</td>\n",
       "      <td>5</td>\n",
       "    </tr>\n",
       "    <tr>\n",
       "      <th>10714</th>\n",
       "      <td>1</td>\n",
       "      <td>1256</td>\n",
       "      <td>0.985169</td>\n",
       "      <td>Ignacio Corsini</td>\n",
       "      <td>0.545475</td>\n",
       "      <td>154560.711783</td>\n",
       "      <td>0.187842</td>\n",
       "      <td>0.425159</td>\n",
       "      <td>0.182707</td>\n",
       "      <td>-20.862591</td>\n",
       "      <td>0.121051</td>\n",
       "      <td>106.514583</td>\n",
       "      <td>0.638670</td>\n",
       "      <td>0.031847</td>\n",
       "      <td>5</td>\n",
       "    </tr>\n",
       "  </tbody>\n",
       "</table>\n",
       "</div>"
      ]
     },
     "metadata": {
      "application/vnd.databricks.v1+output": {
       "addedWidgets": {},
       "arguments": {},
       "data": "<div>\n<style scoped>\n    .dataframe tbody tr th:only-of-type {\n        vertical-align: middle;\n    }\n\n    .dataframe tbody tr th {\n        vertical-align: top;\n    }\n\n    .dataframe thead th {\n        text-align: right;\n    }\n</style>\n<table border=\"1\" class=\"dataframe\">\n  <thead>\n    <tr style=\"text-align: right;\">\n      <th></th>\n      <th>mode</th>\n      <th>count</th>\n      <th>acousticness</th>\n      <th>artists</th>\n      <th>danceability</th>\n      <th>duration_ms</th>\n      <th>energy</th>\n      <th>instrumentalness</th>\n      <th>liveness</th>\n      <th>loudness</th>\n      <th>speechiness</th>\n      <th>tempo</th>\n      <th>valence</th>\n      <th>popularity</th>\n      <th>key</th>\n    </tr>\n  </thead>\n  <tbody>\n    <tr>\n      <th>8367</th>\n      <td>1</td>\n      <td>3169</td>\n      <td>0.984282</td>\n      <td>Francisco Canaro</td>\n      <td>0.659676</td>\n      <td>176986.345850</td>\n      <td>0.287555</td>\n      <td>0.537988</td>\n      <td>0.199492</td>\n      <td>-12.043738</td>\n      <td>0.110533</td>\n      <td>122.743169</td>\n      <td>0.745212</td>\n      <td>0.061849</td>\n      <td>2</td>\n    </tr>\n    <tr>\n      <th>28561</th>\n      <td>1</td>\n      <td>2422</td>\n      <td>0.353916</td>\n      <td>Эрнест Хемингуэй</td>\n      <td>0.696773</td>\n      <td>115936.962015</td>\n      <td>0.188971</td>\n      <td>0.000027</td>\n      <td>0.373329</td>\n      <td>-18.237630</td>\n      <td>0.926229</td>\n      <td>111.847911</td>\n      <td>0.583885</td>\n      <td>0.066061</td>\n      <td>11</td>\n    </tr>\n    <tr>\n      <th>28560</th>\n      <td>1</td>\n      <td>2136</td>\n      <td>0.297365</td>\n      <td>Эрих Мария Ремарк</td>\n      <td>0.693738</td>\n      <td>121013.185393</td>\n      <td>0.200289</td>\n      <td>0.000230</td>\n      <td>0.195630</td>\n      <td>-19.259112</td>\n      <td>0.921277</td>\n      <td>110.717091</td>\n      <td>0.536381</td>\n      <td>0.000000</td>\n      <td>0</td>\n    </tr>\n    <tr>\n      <th>8434</th>\n      <td>1</td>\n      <td>1459</td>\n      <td>0.738865</td>\n      <td>Frank Sinatra</td>\n      <td>0.385232</td>\n      <td>189282.134339</td>\n      <td>0.236152</td>\n      <td>0.021148</td>\n      <td>0.230828</td>\n      <td>-14.335969</td>\n      <td>0.049029</td>\n      <td>109.394801</td>\n      <td>0.364991</td>\n      <td>28.658670</td>\n      <td>5</td>\n    </tr>\n    <tr>\n      <th>10714</th>\n      <td>1</td>\n      <td>1256</td>\n      <td>0.985169</td>\n      <td>Ignacio Corsini</td>\n      <td>0.545475</td>\n      <td>154560.711783</td>\n      <td>0.187842</td>\n      <td>0.425159</td>\n      <td>0.182707</td>\n      <td>-20.862591</td>\n      <td>0.121051</td>\n      <td>106.514583</td>\n      <td>0.638670</td>\n      <td>0.031847</td>\n      <td>5</td>\n    </tr>\n  </tbody>\n</table>\n</div>",
       "datasetInfos": [],
       "metadata": {},
       "removedWidgets": [],
       "textData": null,
       "type": "htmlSandbox"
      }
     },
     "output_type": "display_data"
    }
   ],
   "source": [
    "%python\n",
    "\n",
    "# Ordenar artistas\n",
    "\n",
    "artistas_ordenado = df_consulta_artists.sort_values(by='count', ascending=False)\n",
    "artistas_ordenado.head()"
   ]
  },
  {
   "cell_type": "markdown",
   "metadata": {
    "application/vnd.databricks.v1+cell": {
     "cellMetadata": {},
     "inputWidgets": {},
     "nuid": "95f74879-670e-46ba-accd-47141afd699d",
     "showTitle": false,
     "tableResultSettingsMap": {},
     "title": ""
    }
   },
   "source": [
    "\n",
    "## Top 10 artistas"
   ]
  },
  {
   "cell_type": "code",
   "execution_count": 0,
   "metadata": {
    "application/vnd.databricks.v1+cell": {
     "cellMetadata": {
      "byteLimit": 2048000,
      "rowLimit": 10000
     },
     "inputWidgets": {},
     "nuid": "fabefc6d-f507-4fb5-8c4c-0db407223517",
     "showTitle": false,
     "tableResultSettingsMap": {},
     "title": ""
    }
   },
   "outputs": [
    {
     "output_type": "display_data",
     "data": {
      "text/html": [
       "<div>\n",
       "<style scoped>\n",
       "    .dataframe tbody tr th:only-of-type {\n",
       "        vertical-align: middle;\n",
       "    }\n",
       "\n",
       "    .dataframe tbody tr th {\n",
       "        vertical-align: top;\n",
       "    }\n",
       "\n",
       "    .dataframe thead th {\n",
       "        text-align: right;\n",
       "    }\n",
       "</style>\n",
       "<table border=\"1\" class=\"dataframe\">\n",
       "  <thead>\n",
       "    <tr style=\"text-align: right;\">\n",
       "      <th></th>\n",
       "      <th>mode</th>\n",
       "      <th>count</th>\n",
       "      <th>acousticness</th>\n",
       "      <th>artists</th>\n",
       "      <th>danceability</th>\n",
       "      <th>duration_ms</th>\n",
       "      <th>energy</th>\n",
       "      <th>instrumentalness</th>\n",
       "      <th>liveness</th>\n",
       "      <th>loudness</th>\n",
       "      <th>speechiness</th>\n",
       "      <th>tempo</th>\n",
       "      <th>valence</th>\n",
       "      <th>popularity</th>\n",
       "      <th>key</th>\n",
       "    </tr>\n",
       "  </thead>\n",
       "  <tbody>\n",
       "    <tr>\n",
       "      <th>8367</th>\n",
       "      <td>1</td>\n",
       "      <td>3169</td>\n",
       "      <td>0.984282</td>\n",
       "      <td>Francisco Canaro</td>\n",
       "      <td>0.659676</td>\n",
       "      <td>176986.345850</td>\n",
       "      <td>0.287555</td>\n",
       "      <td>0.537988</td>\n",
       "      <td>0.199492</td>\n",
       "      <td>-12.043738</td>\n",
       "      <td>0.110533</td>\n",
       "      <td>122.743169</td>\n",
       "      <td>0.745212</td>\n",
       "      <td>0.061849</td>\n",
       "      <td>2</td>\n",
       "    </tr>\n",
       "    <tr>\n",
       "      <th>28561</th>\n",
       "      <td>1</td>\n",
       "      <td>2422</td>\n",
       "      <td>0.353916</td>\n",
       "      <td>Эрнест Хемингуэй</td>\n",
       "      <td>0.696773</td>\n",
       "      <td>115936.962015</td>\n",
       "      <td>0.188971</td>\n",
       "      <td>0.000027</td>\n",
       "      <td>0.373329</td>\n",
       "      <td>-18.237630</td>\n",
       "      <td>0.926229</td>\n",
       "      <td>111.847911</td>\n",
       "      <td>0.583885</td>\n",
       "      <td>0.066061</td>\n",
       "      <td>11</td>\n",
       "    </tr>\n",
       "    <tr>\n",
       "      <th>28560</th>\n",
       "      <td>1</td>\n",
       "      <td>2136</td>\n",
       "      <td>0.297365</td>\n",
       "      <td>Эрих Мария Ремарк</td>\n",
       "      <td>0.693738</td>\n",
       "      <td>121013.185393</td>\n",
       "      <td>0.200289</td>\n",
       "      <td>0.000230</td>\n",
       "      <td>0.195630</td>\n",
       "      <td>-19.259112</td>\n",
       "      <td>0.921277</td>\n",
       "      <td>110.717091</td>\n",
       "      <td>0.536381</td>\n",
       "      <td>0.000000</td>\n",
       "      <td>0</td>\n",
       "    </tr>\n",
       "    <tr>\n",
       "      <th>8434</th>\n",
       "      <td>1</td>\n",
       "      <td>1459</td>\n",
       "      <td>0.738865</td>\n",
       "      <td>Frank Sinatra</td>\n",
       "      <td>0.385232</td>\n",
       "      <td>189282.134339</td>\n",
       "      <td>0.236152</td>\n",
       "      <td>0.021148</td>\n",
       "      <td>0.230828</td>\n",
       "      <td>-14.335969</td>\n",
       "      <td>0.049029</td>\n",
       "      <td>109.394801</td>\n",
       "      <td>0.364991</td>\n",
       "      <td>28.658670</td>\n",
       "      <td>5</td>\n",
       "    </tr>\n",
       "    <tr>\n",
       "      <th>10714</th>\n",
       "      <td>1</td>\n",
       "      <td>1256</td>\n",
       "      <td>0.985169</td>\n",
       "      <td>Ignacio Corsini</td>\n",
       "      <td>0.545475</td>\n",
       "      <td>154560.711783</td>\n",
       "      <td>0.187842</td>\n",
       "      <td>0.425159</td>\n",
       "      <td>0.182707</td>\n",
       "      <td>-20.862591</td>\n",
       "      <td>0.121051</td>\n",
       "      <td>106.514583</td>\n",
       "      <td>0.638670</td>\n",
       "      <td>0.031847</td>\n",
       "      <td>5</td>\n",
       "    </tr>\n",
       "    <tr>\n",
       "      <th>27109</th>\n",
       "      <td>1</td>\n",
       "      <td>1200</td>\n",
       "      <td>0.990092</td>\n",
       "      <td>Vladimir Horowitz</td>\n",
       "      <td>0.343624</td>\n",
       "      <td>266650.370833</td>\n",
       "      <td>0.118341</td>\n",
       "      <td>0.879898</td>\n",
       "      <td>0.182788</td>\n",
       "      <td>-23.190868</td>\n",
       "      <td>0.043228</td>\n",
       "      <td>94.845258</td>\n",
       "      <td>0.224994</td>\n",
       "      <td>3.694167</td>\n",
       "      <td>1</td>\n",
       "    </tr>\n",
       "    <tr>\n",
       "      <th>1682</th>\n",
       "      <td>1</td>\n",
       "      <td>1146</td>\n",
       "      <td>0.917843</td>\n",
       "      <td>Arturo Toscanini</td>\n",
       "      <td>0.315980</td>\n",
       "      <td>309308.737347</td>\n",
       "      <td>0.203463</td>\n",
       "      <td>0.474637</td>\n",
       "      <td>0.280793</td>\n",
       "      <td>-17.185234</td>\n",
       "      <td>0.058348</td>\n",
       "      <td>102.235789</td>\n",
       "      <td>0.283423</td>\n",
       "      <td>0.240838</td>\n",
       "      <td>0</td>\n",
       "    </tr>\n",
       "    <tr>\n",
       "      <th>2707</th>\n",
       "      <td>1</td>\n",
       "      <td>1103</td>\n",
       "      <td>0.908776</td>\n",
       "      <td>Billie Holiday</td>\n",
       "      <td>0.571550</td>\n",
       "      <td>185677.068903</td>\n",
       "      <td>0.202251</td>\n",
       "      <td>0.013111</td>\n",
       "      <td>0.217323</td>\n",
       "      <td>-13.221339</td>\n",
       "      <td>0.062274</td>\n",
       "      <td>109.883821</td>\n",
       "      <td>0.498693</td>\n",
       "      <td>16.780598</td>\n",
       "      <td>5</td>\n",
       "    </tr>\n",
       "    <tr>\n",
       "      <th>12378</th>\n",
       "      <td>1</td>\n",
       "      <td>1061</td>\n",
       "      <td>0.688296</td>\n",
       "      <td>Johnny Cash</td>\n",
       "      <td>0.620759</td>\n",
       "      <td>164491.506126</td>\n",
       "      <td>0.443462</td>\n",
       "      <td>0.017630</td>\n",
       "      <td>0.239843</td>\n",
       "      <td>-11.663137</td>\n",
       "      <td>0.095992</td>\n",
       "      <td>114.508436</td>\n",
       "      <td>0.672277</td>\n",
       "      <td>26.914232</td>\n",
       "      <td>10</td>\n",
       "    </tr>\n",
       "    <tr>\n",
       "      <th>7426</th>\n",
       "      <td>1</td>\n",
       "      <td>1023</td>\n",
       "      <td>0.738890</td>\n",
       "      <td>Elvis Presley</td>\n",
       "      <td>0.493966</td>\n",
       "      <td>157592.318671</td>\n",
       "      <td>0.424834</td>\n",
       "      <td>0.053483</td>\n",
       "      <td>0.245853</td>\n",
       "      <td>-12.921860</td>\n",
       "      <td>0.057361</td>\n",
       "      <td>112.397270</td>\n",
       "      <td>0.617856</td>\n",
       "      <td>34.019550</td>\n",
       "      <td>0</td>\n",
       "    </tr>\n",
       "  </tbody>\n",
       "</table>\n",
       "</div>"
      ]
     },
     "metadata": {
      "application/vnd.databricks.v1+output": {
       "addedWidgets": {},
       "arguments": {},
       "data": "<div>\n<style scoped>\n    .dataframe tbody tr th:only-of-type {\n        vertical-align: middle;\n    }\n\n    .dataframe tbody tr th {\n        vertical-align: top;\n    }\n\n    .dataframe thead th {\n        text-align: right;\n    }\n</style>\n<table border=\"1\" class=\"dataframe\">\n  <thead>\n    <tr style=\"text-align: right;\">\n      <th></th>\n      <th>mode</th>\n      <th>count</th>\n      <th>acousticness</th>\n      <th>artists</th>\n      <th>danceability</th>\n      <th>duration_ms</th>\n      <th>energy</th>\n      <th>instrumentalness</th>\n      <th>liveness</th>\n      <th>loudness</th>\n      <th>speechiness</th>\n      <th>tempo</th>\n      <th>valence</th>\n      <th>popularity</th>\n      <th>key</th>\n    </tr>\n  </thead>\n  <tbody>\n    <tr>\n      <th>8367</th>\n      <td>1</td>\n      <td>3169</td>\n      <td>0.984282</td>\n      <td>Francisco Canaro</td>\n      <td>0.659676</td>\n      <td>176986.345850</td>\n      <td>0.287555</td>\n      <td>0.537988</td>\n      <td>0.199492</td>\n      <td>-12.043738</td>\n      <td>0.110533</td>\n      <td>122.743169</td>\n      <td>0.745212</td>\n      <td>0.061849</td>\n      <td>2</td>\n    </tr>\n    <tr>\n      <th>28561</th>\n      <td>1</td>\n      <td>2422</td>\n      <td>0.353916</td>\n      <td>Эрнест Хемингуэй</td>\n      <td>0.696773</td>\n      <td>115936.962015</td>\n      <td>0.188971</td>\n      <td>0.000027</td>\n      <td>0.373329</td>\n      <td>-18.237630</td>\n      <td>0.926229</td>\n      <td>111.847911</td>\n      <td>0.583885</td>\n      <td>0.066061</td>\n      <td>11</td>\n    </tr>\n    <tr>\n      <th>28560</th>\n      <td>1</td>\n      <td>2136</td>\n      <td>0.297365</td>\n      <td>Эрих Мария Ремарк</td>\n      <td>0.693738</td>\n      <td>121013.185393</td>\n      <td>0.200289</td>\n      <td>0.000230</td>\n      <td>0.195630</td>\n      <td>-19.259112</td>\n      <td>0.921277</td>\n      <td>110.717091</td>\n      <td>0.536381</td>\n      <td>0.000000</td>\n      <td>0</td>\n    </tr>\n    <tr>\n      <th>8434</th>\n      <td>1</td>\n      <td>1459</td>\n      <td>0.738865</td>\n      <td>Frank Sinatra</td>\n      <td>0.385232</td>\n      <td>189282.134339</td>\n      <td>0.236152</td>\n      <td>0.021148</td>\n      <td>0.230828</td>\n      <td>-14.335969</td>\n      <td>0.049029</td>\n      <td>109.394801</td>\n      <td>0.364991</td>\n      <td>28.658670</td>\n      <td>5</td>\n    </tr>\n    <tr>\n      <th>10714</th>\n      <td>1</td>\n      <td>1256</td>\n      <td>0.985169</td>\n      <td>Ignacio Corsini</td>\n      <td>0.545475</td>\n      <td>154560.711783</td>\n      <td>0.187842</td>\n      <td>0.425159</td>\n      <td>0.182707</td>\n      <td>-20.862591</td>\n      <td>0.121051</td>\n      <td>106.514583</td>\n      <td>0.638670</td>\n      <td>0.031847</td>\n      <td>5</td>\n    </tr>\n    <tr>\n      <th>27109</th>\n      <td>1</td>\n      <td>1200</td>\n      <td>0.990092</td>\n      <td>Vladimir Horowitz</td>\n      <td>0.343624</td>\n      <td>266650.370833</td>\n      <td>0.118341</td>\n      <td>0.879898</td>\n      <td>0.182788</td>\n      <td>-23.190868</td>\n      <td>0.043228</td>\n      <td>94.845258</td>\n      <td>0.224994</td>\n      <td>3.694167</td>\n      <td>1</td>\n    </tr>\n    <tr>\n      <th>1682</th>\n      <td>1</td>\n      <td>1146</td>\n      <td>0.917843</td>\n      <td>Arturo Toscanini</td>\n      <td>0.315980</td>\n      <td>309308.737347</td>\n      <td>0.203463</td>\n      <td>0.474637</td>\n      <td>0.280793</td>\n      <td>-17.185234</td>\n      <td>0.058348</td>\n      <td>102.235789</td>\n      <td>0.283423</td>\n      <td>0.240838</td>\n      <td>0</td>\n    </tr>\n    <tr>\n      <th>2707</th>\n      <td>1</td>\n      <td>1103</td>\n      <td>0.908776</td>\n      <td>Billie Holiday</td>\n      <td>0.571550</td>\n      <td>185677.068903</td>\n      <td>0.202251</td>\n      <td>0.013111</td>\n      <td>0.217323</td>\n      <td>-13.221339</td>\n      <td>0.062274</td>\n      <td>109.883821</td>\n      <td>0.498693</td>\n      <td>16.780598</td>\n      <td>5</td>\n    </tr>\n    <tr>\n      <th>12378</th>\n      <td>1</td>\n      <td>1061</td>\n      <td>0.688296</td>\n      <td>Johnny Cash</td>\n      <td>0.620759</td>\n      <td>164491.506126</td>\n      <td>0.443462</td>\n      <td>0.017630</td>\n      <td>0.239843</td>\n      <td>-11.663137</td>\n      <td>0.095992</td>\n      <td>114.508436</td>\n      <td>0.672277</td>\n      <td>26.914232</td>\n      <td>10</td>\n    </tr>\n    <tr>\n      <th>7426</th>\n      <td>1</td>\n      <td>1023</td>\n      <td>0.738890</td>\n      <td>Elvis Presley</td>\n      <td>0.493966</td>\n      <td>157592.318671</td>\n      <td>0.424834</td>\n      <td>0.053483</td>\n      <td>0.245853</td>\n      <td>-12.921860</td>\n      <td>0.057361</td>\n      <td>112.397270</td>\n      <td>0.617856</td>\n      <td>34.019550</td>\n      <td>0</td>\n    </tr>\n  </tbody>\n</table>\n</div>",
       "datasetInfos": [],
       "metadata": {},
       "removedWidgets": [],
       "textData": null,
       "type": "htmlSandbox"
      }
     },
     "output_type": "display_data"
    }
   ],
   "source": [
    "%python\n",
    "\n",
    "# Top 10 artistas\n",
    "\n",
    "top_10_artistas = artistas_ordenado.iloc[0:10]\n",
    "top_10_artistas"
   ]
  },
  {
   "cell_type": "markdown",
   "metadata": {
    "application/vnd.databricks.v1+cell": {
     "cellMetadata": {},
     "inputWidgets": {},
     "nuid": "702c1461-a820-405b-835c-64d40db4ec8d",
     "showTitle": false,
     "tableResultSettingsMap": {},
     "title": ""
    }
   },
   "source": [
    "\n",
    "## Criação de gráfico de barras"
   ]
  },
  {
   "cell_type": "code",
   "execution_count": 0,
   "metadata": {
    "application/vnd.databricks.v1+cell": {
     "cellMetadata": {
      "byteLimit": 2048000,
      "rowLimit": 10000
     },
     "inputWidgets": {},
     "nuid": "451ff0fa-35b3-4339-b1cd-4efa0bb097b9",
     "showTitle": false,
     "tableResultSettingsMap": {},
     "title": ""
    }
   },
   "outputs": [
    {
     "output_type": "display_data",
     "data": {
      "text/html": [
       "<html>\n",
       "<head><meta charset=\"utf-8\" /></head>\n",
       "<body>\n",
       "    <div>            <script src=\"https://cdnjs.cloudflare.com/ajax/libs/mathjax/2.7.5/MathJax.js?config=TeX-AMS-MML_SVG\"></script><script type=\"text/javascript\">if (window.MathJax) {MathJax.Hub.Config({SVG: {font: \"STIX-Web\"}});}</script>                <script type=\"text/javascript\">window.PlotlyConfig = {MathJaxConfig: 'local'};</script>\n",
       "        <script src=\"https://cdn.plot.ly/plotly-2.9.0.min.js\"></script>                <div id=\"a4899bb2-86c2-41cd-97f1-34e23deec3d8\" class=\"plotly-graph-div\" style=\"height:100%; width:100%;\"></div>            <script type=\"text/javascript\">                                    window.PLOTLYENV=window.PLOTLYENV || {};                                    if (document.getElementById(\"a4899bb2-86c2-41cd-97f1-34e23deec3d8\")) {                    Plotly.newPlot(                        \"a4899bb2-86c2-41cd-97f1-34e23deec3d8\",                        [{\"alignmentgroup\":\"True\",\"hovertemplate\":\"count=%{x}<br>artists=%{y}<extra></extra>\",\"legendgroup\":\"\",\"marker\":{\"color\":\"#636efa\",\"pattern\":{\"shape\":\"\"}},\"name\":\"\",\"offsetgroup\":\"\",\"orientation\":\"h\",\"showlegend\":false,\"textposition\":\"auto\",\"x\":[3169,2422,2136,1459,1256,1200,1146,1103,1061,1023],\"xaxis\":\"x\",\"y\":[\"Francisco Canaro\",\"\\u042d\\u0440\\u043d\\u0435\\u0441\\u0442 \\u0425\\u0435\\u043c\\u0438\\u043d\\u0433\\u0443\\u044d\\u0439\",\"\\u042d\\u0440\\u0438\\u0445 \\u041c\\u0430\\u0440\\u0438\\u044f \\u0420\\u0435\\u043c\\u0430\\u0440\\u043a\",\"Frank Sinatra\",\"Ignacio Corsini\",\"Vladimir Horowitz\",\"Arturo Toscanini\",\"Billie Holiday\",\"Johnny Cash\",\"Elvis Presley\"],\"yaxis\":\"y\",\"type\":\"bar\"}],                        {\"template\":{\"data\":{\"bar\":[{\"error_x\":{\"color\":\"#2a3f5f\"},\"error_y\":{\"color\":\"#2a3f5f\"},\"marker\":{\"line\":{\"color\":\"#E5ECF6\",\"width\":0.5},\"pattern\":{\"fillmode\":\"overlay\",\"size\":10,\"solidity\":0.2}},\"type\":\"bar\"}],\"barpolar\":[{\"marker\":{\"line\":{\"color\":\"#E5ECF6\",\"width\":0.5},\"pattern\":{\"fillmode\":\"overlay\",\"size\":10,\"solidity\":0.2}},\"type\":\"barpolar\"}],\"carpet\":[{\"aaxis\":{\"endlinecolor\":\"#2a3f5f\",\"gridcolor\":\"white\",\"linecolor\":\"white\",\"minorgridcolor\":\"white\",\"startlinecolor\":\"#2a3f5f\"},\"baxis\":{\"endlinecolor\":\"#2a3f5f\",\"gridcolor\":\"white\",\"linecolor\":\"white\",\"minorgridcolor\":\"white\",\"startlinecolor\":\"#2a3f5f\"},\"type\":\"carpet\"}],\"choropleth\":[{\"colorbar\":{\"outlinewidth\":0,\"ticks\":\"\"},\"type\":\"choropleth\"}],\"contour\":[{\"colorbar\":{\"outlinewidth\":0,\"ticks\":\"\"},\"colorscale\":[[0.0,\"#0d0887\"],[0.1111111111111111,\"#46039f\"],[0.2222222222222222,\"#7201a8\"],[0.3333333333333333,\"#9c179e\"],[0.4444444444444444,\"#bd3786\"],[0.5555555555555556,\"#d8576b\"],[0.6666666666666666,\"#ed7953\"],[0.7777777777777778,\"#fb9f3a\"],[0.8888888888888888,\"#fdca26\"],[1.0,\"#f0f921\"]],\"type\":\"contour\"}],\"contourcarpet\":[{\"colorbar\":{\"outlinewidth\":0,\"ticks\":\"\"},\"type\":\"contourcarpet\"}],\"heatmap\":[{\"colorbar\":{\"outlinewidth\":0,\"ticks\":\"\"},\"colorscale\":[[0.0,\"#0d0887\"],[0.1111111111111111,\"#46039f\"],[0.2222222222222222,\"#7201a8\"],[0.3333333333333333,\"#9c179e\"],[0.4444444444444444,\"#bd3786\"],[0.5555555555555556,\"#d8576b\"],[0.6666666666666666,\"#ed7953\"],[0.7777777777777778,\"#fb9f3a\"],[0.8888888888888888,\"#fdca26\"],[1.0,\"#f0f921\"]],\"type\":\"heatmap\"}],\"heatmapgl\":[{\"colorbar\":{\"outlinewidth\":0,\"ticks\":\"\"},\"colorscale\":[[0.0,\"#0d0887\"],[0.1111111111111111,\"#46039f\"],[0.2222222222222222,\"#7201a8\"],[0.3333333333333333,\"#9c179e\"],[0.4444444444444444,\"#bd3786\"],[0.5555555555555556,\"#d8576b\"],[0.6666666666666666,\"#ed7953\"],[0.7777777777777778,\"#fb9f3a\"],[0.8888888888888888,\"#fdca26\"],[1.0,\"#f0f921\"]],\"type\":\"heatmapgl\"}],\"histogram\":[{\"marker\":{\"pattern\":{\"fillmode\":\"overlay\",\"size\":10,\"solidity\":0.2}},\"type\":\"histogram\"}],\"histogram2d\":[{\"colorbar\":{\"outlinewidth\":0,\"ticks\":\"\"},\"colorscale\":[[0.0,\"#0d0887\"],[0.1111111111111111,\"#46039f\"],[0.2222222222222222,\"#7201a8\"],[0.3333333333333333,\"#9c179e\"],[0.4444444444444444,\"#bd3786\"],[0.5555555555555556,\"#d8576b\"],[0.6666666666666666,\"#ed7953\"],[0.7777777777777778,\"#fb9f3a\"],[0.8888888888888888,\"#fdca26\"],[1.0,\"#f0f921\"]],\"type\":\"histogram2d\"}],\"histogram2dcontour\":[{\"colorbar\":{\"outlinewidth\":0,\"ticks\":\"\"},\"colorscale\":[[0.0,\"#0d0887\"],[0.1111111111111111,\"#46039f\"],[0.2222222222222222,\"#7201a8\"],[0.3333333333333333,\"#9c179e\"],[0.4444444444444444,\"#bd3786\"],[0.5555555555555556,\"#d8576b\"],[0.6666666666666666,\"#ed7953\"],[0.7777777777777778,\"#fb9f3a\"],[0.8888888888888888,\"#fdca26\"],[1.0,\"#f0f921\"]],\"type\":\"histogram2dcontour\"}],\"mesh3d\":[{\"colorbar\":{\"outlinewidth\":0,\"ticks\":\"\"},\"type\":\"mesh3d\"}],\"parcoords\":[{\"line\":{\"colorbar\":{\"outlinewidth\":0,\"ticks\":\"\"}},\"type\":\"parcoords\"}],\"pie\":[{\"automargin\":true,\"type\":\"pie\"}],\"scatter\":[{\"marker\":{\"colorbar\":{\"outlinewidth\":0,\"ticks\":\"\"}},\"type\":\"scatter\"}],\"scatter3d\":[{\"line\":{\"colorbar\":{\"outlinewidth\":0,\"ticks\":\"\"}},\"marker\":{\"colorbar\":{\"outlinewidth\":0,\"ticks\":\"\"}},\"type\":\"scatter3d\"}],\"scattercarpet\":[{\"marker\":{\"colorbar\":{\"outlinewidth\":0,\"ticks\":\"\"}},\"type\":\"scattercarpet\"}],\"scattergeo\":[{\"marker\":{\"colorbar\":{\"outlinewidth\":0,\"ticks\":\"\"}},\"type\":\"scattergeo\"}],\"scattergl\":[{\"marker\":{\"colorbar\":{\"outlinewidth\":0,\"ticks\":\"\"}},\"type\":\"scattergl\"}],\"scattermapbox\":[{\"marker\":{\"colorbar\":{\"outlinewidth\":0,\"ticks\":\"\"}},\"type\":\"scattermapbox\"}],\"scatterpolar\":[{\"marker\":{\"colorbar\":{\"outlinewidth\":0,\"ticks\":\"\"}},\"type\":\"scatterpolar\"}],\"scatterpolargl\":[{\"marker\":{\"colorbar\":{\"outlinewidth\":0,\"ticks\":\"\"}},\"type\":\"scatterpolargl\"}],\"scatterternary\":[{\"marker\":{\"colorbar\":{\"outlinewidth\":0,\"ticks\":\"\"}},\"type\":\"scatterternary\"}],\"surface\":[{\"colorbar\":{\"outlinewidth\":0,\"ticks\":\"\"},\"colorscale\":[[0.0,\"#0d0887\"],[0.1111111111111111,\"#46039f\"],[0.2222222222222222,\"#7201a8\"],[0.3333333333333333,\"#9c179e\"],[0.4444444444444444,\"#bd3786\"],[0.5555555555555556,\"#d8576b\"],[0.6666666666666666,\"#ed7953\"],[0.7777777777777778,\"#fb9f3a\"],[0.8888888888888888,\"#fdca26\"],[1.0,\"#f0f921\"]],\"type\":\"surface\"}],\"table\":[{\"cells\":{\"fill\":{\"color\":\"#EBF0F8\"},\"line\":{\"color\":\"white\"}},\"header\":{\"fill\":{\"color\":\"#C8D4E3\"},\"line\":{\"color\":\"white\"}},\"type\":\"table\"}]},\"layout\":{\"annotationdefaults\":{\"arrowcolor\":\"#2a3f5f\",\"arrowhead\":0,\"arrowwidth\":1},\"autotypenumbers\":\"strict\",\"coloraxis\":{\"colorbar\":{\"outlinewidth\":0,\"ticks\":\"\"}},\"colorscale\":{\"diverging\":[[0,\"#8e0152\"],[0.1,\"#c51b7d\"],[0.2,\"#de77ae\"],[0.3,\"#f1b6da\"],[0.4,\"#fde0ef\"],[0.5,\"#f7f7f7\"],[0.6,\"#e6f5d0\"],[0.7,\"#b8e186\"],[0.8,\"#7fbc41\"],[0.9,\"#4d9221\"],[1,\"#276419\"]],\"sequential\":[[0.0,\"#0d0887\"],[0.1111111111111111,\"#46039f\"],[0.2222222222222222,\"#7201a8\"],[0.3333333333333333,\"#9c179e\"],[0.4444444444444444,\"#bd3786\"],[0.5555555555555556,\"#d8576b\"],[0.6666666666666666,\"#ed7953\"],[0.7777777777777778,\"#fb9f3a\"],[0.8888888888888888,\"#fdca26\"],[1.0,\"#f0f921\"]],\"sequentialminus\":[[0.0,\"#0d0887\"],[0.1111111111111111,\"#46039f\"],[0.2222222222222222,\"#7201a8\"],[0.3333333333333333,\"#9c179e\"],[0.4444444444444444,\"#bd3786\"],[0.5555555555555556,\"#d8576b\"],[0.6666666666666666,\"#ed7953\"],[0.7777777777777778,\"#fb9f3a\"],[0.8888888888888888,\"#fdca26\"],[1.0,\"#f0f921\"]]},\"colorway\":[\"#636efa\",\"#EF553B\",\"#00cc96\",\"#ab63fa\",\"#FFA15A\",\"#19d3f3\",\"#FF6692\",\"#B6E880\",\"#FF97FF\",\"#FECB52\"],\"font\":{\"color\":\"#2a3f5f\"},\"geo\":{\"bgcolor\":\"white\",\"lakecolor\":\"white\",\"landcolor\":\"#E5ECF6\",\"showlakes\":true,\"showland\":true,\"subunitcolor\":\"white\"},\"hoverlabel\":{\"align\":\"left\"},\"hovermode\":\"closest\",\"mapbox\":{\"style\":\"light\"},\"paper_bgcolor\":\"white\",\"plot_bgcolor\":\"#E5ECF6\",\"polar\":{\"angularaxis\":{\"gridcolor\":\"white\",\"linecolor\":\"white\",\"ticks\":\"\"},\"bgcolor\":\"#E5ECF6\",\"radialaxis\":{\"gridcolor\":\"white\",\"linecolor\":\"white\",\"ticks\":\"\"}},\"scene\":{\"xaxis\":{\"backgroundcolor\":\"#E5ECF6\",\"gridcolor\":\"white\",\"gridwidth\":2,\"linecolor\":\"white\",\"showbackground\":true,\"ticks\":\"\",\"zerolinecolor\":\"white\"},\"yaxis\":{\"backgroundcolor\":\"#E5ECF6\",\"gridcolor\":\"white\",\"gridwidth\":2,\"linecolor\":\"white\",\"showbackground\":true,\"ticks\":\"\",\"zerolinecolor\":\"white\"},\"zaxis\":{\"backgroundcolor\":\"#E5ECF6\",\"gridcolor\":\"white\",\"gridwidth\":2,\"linecolor\":\"white\",\"showbackground\":true,\"ticks\":\"\",\"zerolinecolor\":\"white\"}},\"shapedefaults\":{\"line\":{\"color\":\"#2a3f5f\"}},\"ternary\":{\"aaxis\":{\"gridcolor\":\"white\",\"linecolor\":\"white\",\"ticks\":\"\"},\"baxis\":{\"gridcolor\":\"white\",\"linecolor\":\"white\",\"ticks\":\"\"},\"bgcolor\":\"#E5ECF6\",\"caxis\":{\"gridcolor\":\"white\",\"linecolor\":\"white\",\"ticks\":\"\"}},\"title\":{\"x\":0.05},\"xaxis\":{\"automargin\":true,\"gridcolor\":\"white\",\"linecolor\":\"white\",\"ticks\":\"\",\"title\":{\"standoff\":15},\"zerolinecolor\":\"white\",\"zerolinewidth\":2},\"yaxis\":{\"automargin\":true,\"gridcolor\":\"white\",\"linecolor\":\"white\",\"ticks\":\"\",\"title\":{\"standoff\":15},\"zerolinecolor\":\"white\",\"zerolinewidth\":2}}},\"xaxis\":{\"anchor\":\"y\",\"domain\":[0.0,1.0],\"title\":{\"text\":\"count\"}},\"yaxis\":{\"anchor\":\"x\",\"domain\":[0.0,1.0],\"title\":{\"text\":\"artists\"}},\"legend\":{\"tracegroupgap\":0},\"title\":{\"text\":\"Top 10 - Artistas\"},\"barmode\":\"relative\"},                        {\"responsive\": true}                    )                };                            </script>        </div>\n",
       "</body>\n",
       "</html>"
      ]
     },
     "metadata": {
      "application/vnd.databricks.v1+output": {
       "addedWidgets": {},
       "arguments": {},
       "data": "<html>\n<head><meta charset=\"utf-8\" /></head>\n<body>\n    <div>            <script src=\"https://cdnjs.cloudflare.com/ajax/libs/mathjax/2.7.5/MathJax.js?config=TeX-AMS-MML_SVG\"></script><script type=\"text/javascript\">if (window.MathJax) {MathJax.Hub.Config({SVG: {font: \"STIX-Web\"}});}</script>                <script type=\"text/javascript\">window.PlotlyConfig = {MathJaxConfig: 'local'};</script>\n        <script src=\"https://cdn.plot.ly/plotly-2.9.0.min.js\"></script>                <div id=\"a4899bb2-86c2-41cd-97f1-34e23deec3d8\" class=\"plotly-graph-div\" style=\"height:100%; width:100%;\"></div>            <script type=\"text/javascript\">                                    window.PLOTLYENV=window.PLOTLYENV || {};                                    if (document.getElementById(\"a4899bb2-86c2-41cd-97f1-34e23deec3d8\")) {                    Plotly.newPlot(                        \"a4899bb2-86c2-41cd-97f1-34e23deec3d8\",                        [{\"alignmentgroup\":\"True\",\"hovertemplate\":\"count=%{x}<br>artists=%{y}<extra></extra>\",\"legendgroup\":\"\",\"marker\":{\"color\":\"#636efa\",\"pattern\":{\"shape\":\"\"}},\"name\":\"\",\"offsetgroup\":\"\",\"orientation\":\"h\",\"showlegend\":false,\"textposition\":\"auto\",\"x\":[3169,2422,2136,1459,1256,1200,1146,1103,1061,1023],\"xaxis\":\"x\",\"y\":[\"Francisco Canaro\",\"\\u042d\\u0440\\u043d\\u0435\\u0441\\u0442 \\u0425\\u0435\\u043c\\u0438\\u043d\\u0433\\u0443\\u044d\\u0439\",\"\\u042d\\u0440\\u0438\\u0445 \\u041c\\u0430\\u0440\\u0438\\u044f \\u0420\\u0435\\u043c\\u0430\\u0440\\u043a\",\"Frank Sinatra\",\"Ignacio Corsini\",\"Vladimir Horowitz\",\"Arturo Toscanini\",\"Billie Holiday\",\"Johnny Cash\",\"Elvis Presley\"],\"yaxis\":\"y\",\"type\":\"bar\"}],                        {\"template\":{\"data\":{\"bar\":[{\"error_x\":{\"color\":\"#2a3f5f\"},\"error_y\":{\"color\":\"#2a3f5f\"},\"marker\":{\"line\":{\"color\":\"#E5ECF6\",\"width\":0.5},\"pattern\":{\"fillmode\":\"overlay\",\"size\":10,\"solidity\":0.2}},\"type\":\"bar\"}],\"barpolar\":[{\"marker\":{\"line\":{\"color\":\"#E5ECF6\",\"width\":0.5},\"pattern\":{\"fillmode\":\"overlay\",\"size\":10,\"solidity\":0.2}},\"type\":\"barpolar\"}],\"carpet\":[{\"aaxis\":{\"endlinecolor\":\"#2a3f5f\",\"gridcolor\":\"white\",\"linecolor\":\"white\",\"minorgridcolor\":\"white\",\"startlinecolor\":\"#2a3f5f\"},\"baxis\":{\"endlinecolor\":\"#2a3f5f\",\"gridcolor\":\"white\",\"linecolor\":\"white\",\"minorgridcolor\":\"white\",\"startlinecolor\":\"#2a3f5f\"},\"type\":\"carpet\"}],\"choropleth\":[{\"colorbar\":{\"outlinewidth\":0,\"ticks\":\"\"},\"type\":\"choropleth\"}],\"contour\":[{\"colorbar\":{\"outlinewidth\":0,\"ticks\":\"\"},\"colorscale\":[[0.0,\"#0d0887\"],[0.1111111111111111,\"#46039f\"],[0.2222222222222222,\"#7201a8\"],[0.3333333333333333,\"#9c179e\"],[0.4444444444444444,\"#bd3786\"],[0.5555555555555556,\"#d8576b\"],[0.6666666666666666,\"#ed7953\"],[0.7777777777777778,\"#fb9f3a\"],[0.8888888888888888,\"#fdca26\"],[1.0,\"#f0f921\"]],\"type\":\"contour\"}],\"contourcarpet\":[{\"colorbar\":{\"outlinewidth\":0,\"ticks\":\"\"},\"type\":\"contourcarpet\"}],\"heatmap\":[{\"colorbar\":{\"outlinewidth\":0,\"ticks\":\"\"},\"colorscale\":[[0.0,\"#0d0887\"],[0.1111111111111111,\"#46039f\"],[0.2222222222222222,\"#7201a8\"],[0.3333333333333333,\"#9c179e\"],[0.4444444444444444,\"#bd3786\"],[0.5555555555555556,\"#d8576b\"],[0.6666666666666666,\"#ed7953\"],[0.7777777777777778,\"#fb9f3a\"],[0.8888888888888888,\"#fdca26\"],[1.0,\"#f0f921\"]],\"type\":\"heatmap\"}],\"heatmapgl\":[{\"colorbar\":{\"outlinewidth\":0,\"ticks\":\"\"},\"colorscale\":[[0.0,\"#0d0887\"],[0.1111111111111111,\"#46039f\"],[0.2222222222222222,\"#7201a8\"],[0.3333333333333333,\"#9c179e\"],[0.4444444444444444,\"#bd3786\"],[0.5555555555555556,\"#d8576b\"],[0.6666666666666666,\"#ed7953\"],[0.7777777777777778,\"#fb9f3a\"],[0.8888888888888888,\"#fdca26\"],[1.0,\"#f0f921\"]],\"type\":\"heatmapgl\"}],\"histogram\":[{\"marker\":{\"pattern\":{\"fillmode\":\"overlay\",\"size\":10,\"solidity\":0.2}},\"type\":\"histogram\"}],\"histogram2d\":[{\"colorbar\":{\"outlinewidth\":0,\"ticks\":\"\"},\"colorscale\":[[0.0,\"#0d0887\"],[0.1111111111111111,\"#46039f\"],[0.2222222222222222,\"#7201a8\"],[0.3333333333333333,\"#9c179e\"],[0.4444444444444444,\"#bd3786\"],[0.5555555555555556,\"#d8576b\"],[0.6666666666666666,\"#ed7953\"],[0.7777777777777778,\"#fb9f3a\"],[0.8888888888888888,\"#fdca26\"],[1.0,\"#f0f921\"]],\"type\":\"histogram2d\"}],\"histogram2dcontour\":[{\"colorbar\":{\"outlinewidth\":0,\"ticks\":\"\"},\"colorscale\":[[0.0,\"#0d0887\"],[0.1111111111111111,\"#46039f\"],[0.2222222222222222,\"#7201a8\"],[0.3333333333333333,\"#9c179e\"],[0.4444444444444444,\"#bd3786\"],[0.5555555555555556,\"#d8576b\"],[0.6666666666666666,\"#ed7953\"],[0.7777777777777778,\"#fb9f3a\"],[0.8888888888888888,\"#fdca26\"],[1.0,\"#f0f921\"]],\"type\":\"histogram2dcontour\"}],\"mesh3d\":[{\"colorbar\":{\"outlinewidth\":0,\"ticks\":\"\"},\"type\":\"mesh3d\"}],\"parcoords\":[{\"line\":{\"colorbar\":{\"outlinewidth\":0,\"ticks\":\"\"}},\"type\":\"parcoords\"}],\"pie\":[{\"automargin\":true,\"type\":\"pie\"}],\"scatter\":[{\"marker\":{\"colorbar\":{\"outlinewidth\":0,\"ticks\":\"\"}},\"type\":\"scatter\"}],\"scatter3d\":[{\"line\":{\"colorbar\":{\"outlinewidth\":0,\"ticks\":\"\"}},\"marker\":{\"colorbar\":{\"outlinewidth\":0,\"ticks\":\"\"}},\"type\":\"scatter3d\"}],\"scattercarpet\":[{\"marker\":{\"colorbar\":{\"outlinewidth\":0,\"ticks\":\"\"}},\"type\":\"scattercarpet\"}],\"scattergeo\":[{\"marker\":{\"colorbar\":{\"outlinewidth\":0,\"ticks\":\"\"}},\"type\":\"scattergeo\"}],\"scattergl\":[{\"marker\":{\"colorbar\":{\"outlinewidth\":0,\"ticks\":\"\"}},\"type\":\"scattergl\"}],\"scattermapbox\":[{\"marker\":{\"colorbar\":{\"outlinewidth\":0,\"ticks\":\"\"}},\"type\":\"scattermapbox\"}],\"scatterpolar\":[{\"marker\":{\"colorbar\":{\"outlinewidth\":0,\"ticks\":\"\"}},\"type\":\"scatterpolar\"}],\"scatterpolargl\":[{\"marker\":{\"colorbar\":{\"outlinewidth\":0,\"ticks\":\"\"}},\"type\":\"scatterpolargl\"}],\"scatterternary\":[{\"marker\":{\"colorbar\":{\"outlinewidth\":0,\"ticks\":\"\"}},\"type\":\"scatterternary\"}],\"surface\":[{\"colorbar\":{\"outlinewidth\":0,\"ticks\":\"\"},\"colorscale\":[[0.0,\"#0d0887\"],[0.1111111111111111,\"#46039f\"],[0.2222222222222222,\"#7201a8\"],[0.3333333333333333,\"#9c179e\"],[0.4444444444444444,\"#bd3786\"],[0.5555555555555556,\"#d8576b\"],[0.6666666666666666,\"#ed7953\"],[0.7777777777777778,\"#fb9f3a\"],[0.8888888888888888,\"#fdca26\"],[1.0,\"#f0f921\"]],\"type\":\"surface\"}],\"table\":[{\"cells\":{\"fill\":{\"color\":\"#EBF0F8\"},\"line\":{\"color\":\"white\"}},\"header\":{\"fill\":{\"color\":\"#C8D4E3\"},\"line\":{\"color\":\"white\"}},\"type\":\"table\"}]},\"layout\":{\"annotationdefaults\":{\"arrowcolor\":\"#2a3f5f\",\"arrowhead\":0,\"arrowwidth\":1},\"autotypenumbers\":\"strict\",\"coloraxis\":{\"colorbar\":{\"outlinewidth\":0,\"ticks\":\"\"}},\"colorscale\":{\"diverging\":[[0,\"#8e0152\"],[0.1,\"#c51b7d\"],[0.2,\"#de77ae\"],[0.3,\"#f1b6da\"],[0.4,\"#fde0ef\"],[0.5,\"#f7f7f7\"],[0.6,\"#e6f5d0\"],[0.7,\"#b8e186\"],[0.8,\"#7fbc41\"],[0.9,\"#4d9221\"],[1,\"#276419\"]],\"sequential\":[[0.0,\"#0d0887\"],[0.1111111111111111,\"#46039f\"],[0.2222222222222222,\"#7201a8\"],[0.3333333333333333,\"#9c179e\"],[0.4444444444444444,\"#bd3786\"],[0.5555555555555556,\"#d8576b\"],[0.6666666666666666,\"#ed7953\"],[0.7777777777777778,\"#fb9f3a\"],[0.8888888888888888,\"#fdca26\"],[1.0,\"#f0f921\"]],\"sequentialminus\":[[0.0,\"#0d0887\"],[0.1111111111111111,\"#46039f\"],[0.2222222222222222,\"#7201a8\"],[0.3333333333333333,\"#9c179e\"],[0.4444444444444444,\"#bd3786\"],[0.5555555555555556,\"#d8576b\"],[0.6666666666666666,\"#ed7953\"],[0.7777777777777778,\"#fb9f3a\"],[0.8888888888888888,\"#fdca26\"],[1.0,\"#f0f921\"]]},\"colorway\":[\"#636efa\",\"#EF553B\",\"#00cc96\",\"#ab63fa\",\"#FFA15A\",\"#19d3f3\",\"#FF6692\",\"#B6E880\",\"#FF97FF\",\"#FECB52\"],\"font\":{\"color\":\"#2a3f5f\"},\"geo\":{\"bgcolor\":\"white\",\"lakecolor\":\"white\",\"landcolor\":\"#E5ECF6\",\"showlakes\":true,\"showland\":true,\"subunitcolor\":\"white\"},\"hoverlabel\":{\"align\":\"left\"},\"hovermode\":\"closest\",\"mapbox\":{\"style\":\"light\"},\"paper_bgcolor\":\"white\",\"plot_bgcolor\":\"#E5ECF6\",\"polar\":{\"angularaxis\":{\"gridcolor\":\"white\",\"linecolor\":\"white\",\"ticks\":\"\"},\"bgcolor\":\"#E5ECF6\",\"radialaxis\":{\"gridcolor\":\"white\",\"linecolor\":\"white\",\"ticks\":\"\"}},\"scene\":{\"xaxis\":{\"backgroundcolor\":\"#E5ECF6\",\"gridcolor\":\"white\",\"gridwidth\":2,\"linecolor\":\"white\",\"showbackground\":true,\"ticks\":\"\",\"zerolinecolor\":\"white\"},\"yaxis\":{\"backgroundcolor\":\"#E5ECF6\",\"gridcolor\":\"white\",\"gridwidth\":2,\"linecolor\":\"white\",\"showbackground\":true,\"ticks\":\"\",\"zerolinecolor\":\"white\"},\"zaxis\":{\"backgroundcolor\":\"#E5ECF6\",\"gridcolor\":\"white\",\"gridwidth\":2,\"linecolor\":\"white\",\"showbackground\":true,\"ticks\":\"\",\"zerolinecolor\":\"white\"}},\"shapedefaults\":{\"line\":{\"color\":\"#2a3f5f\"}},\"ternary\":{\"aaxis\":{\"gridcolor\":\"white\",\"linecolor\":\"white\",\"ticks\":\"\"},\"baxis\":{\"gridcolor\":\"white\",\"linecolor\":\"white\",\"ticks\":\"\"},\"bgcolor\":\"#E5ECF6\",\"caxis\":{\"gridcolor\":\"white\",\"linecolor\":\"white\",\"ticks\":\"\"}},\"title\":{\"x\":0.05},\"xaxis\":{\"automargin\":true,\"gridcolor\":\"white\",\"linecolor\":\"white\",\"ticks\":\"\",\"title\":{\"standoff\":15},\"zerolinecolor\":\"white\",\"zerolinewidth\":2},\"yaxis\":{\"automargin\":true,\"gridcolor\":\"white\",\"linecolor\":\"white\",\"ticks\":\"\",\"title\":{\"standoff\":15},\"zerolinecolor\":\"white\",\"zerolinewidth\":2}}},\"xaxis\":{\"anchor\":\"y\",\"domain\":[0.0,1.0],\"title\":{\"text\":\"count\"}},\"yaxis\":{\"anchor\":\"x\",\"domain\":[0.0,1.0],\"title\":{\"text\":\"artists\"}},\"legend\":{\"tracegroupgap\":0},\"title\":{\"text\":\"Top 10 - Artistas\"},\"barmode\":\"relative\"},                        {\"responsive\": true}                    )                };                            </script>        </div>\n</body>\n</html>",
       "datasetInfos": [],
       "metadata": {},
       "removedWidgets": [],
       "textData": null,
       "type": "htmlSandbox"
      }
     },
     "output_type": "display_data"
    }
   ],
   "source": [
    "%python\n",
    "\n",
    "# Criação de gráfico de barras\n",
    "\n",
    "plot_title = 'Top 10 - Artistas'\n",
    "top_10_artistas.plot.bar(x='count', y='artists', title=plot_title)"
   ]
  },
  {
   "cell_type": "markdown",
   "metadata": {
    "application/vnd.databricks.v1+cell": {
     "cellMetadata": {},
     "inputWidgets": {},
     "nuid": "14d5fad8-7592-412c-acab-d6b1cdca8451",
     "showTitle": false,
     "tableResultSettingsMap": {},
     "title": ""
    }
   },
   "source": [
    "\n",
    "## Genêro musical top 10 artistas"
   ]
  },
  {
   "cell_type": "code",
   "execution_count": 0,
   "metadata": {
    "application/vnd.databricks.v1+cell": {
     "cellMetadata": {
      "byteLimit": 2048000,
      "rowLimit": 10000
     },
     "inputWidgets": {},
     "nuid": "c9e4fc03-06fd-4139-853c-64f073f73ca3",
     "showTitle": false,
     "tableResultSettingsMap": {},
     "title": ""
    }
   },
   "outputs": [
    {
     "output_type": "stream",
     "name": "stdout",
     "output_type": "stream",
     "text": [
      "Out[32]: ['Francisco Canaro',\n 'Эрнест Хемингуэй',\n 'Эрих Мария Ремарк',\n 'Frank Sinatra',\n 'Ignacio Corsini',\n 'Vladimir Horowitz',\n 'Arturo Toscanini',\n 'Billie Holiday',\n 'Johnny Cash',\n 'Elvis Presley']"
     ]
    }
   ],
   "source": [
    "%python\n",
    "\n",
    "# Genêro musical top 10 artistas\n",
    "\n",
    "lista_artistas = top_10_artistas.artists.unique().to_list()\n",
    "lista_artistas"
   ]
  },
  {
   "cell_type": "code",
   "execution_count": 0,
   "metadata": {
    "application/vnd.databricks.v1+cell": {
     "cellMetadata": {
      "byteLimit": 2048000,
      "rowLimit": 10000
     },
     "inputWidgets": {},
     "nuid": "d24c19a4-4426-48af-b067-9cdde9ee29ef",
     "showTitle": false,
     "tableResultSettingsMap": {},
     "title": ""
    }
   },
   "outputs": [
    {
     "output_type": "display_data",
     "data": {
      "text/html": [
       "<style scoped>\n",
       "  .table-result-container {\n",
       "    max-height: 300px;\n",
       "    overflow: auto;\n",
       "  }\n",
       "  table, th, td {\n",
       "    border: 1px solid black;\n",
       "    border-collapse: collapse;\n",
       "  }\n",
       "  th, td {\n",
       "    padding: 5px;\n",
       "  }\n",
       "  th {\n",
       "    text-align: left;\n",
       "  }\n",
       "</style><div class='table-result-container'><table class='table-result'><thead style='background-color: white'><tr><th>genres</th><th>artists</th></tr></thead><tbody><tr><td>['classical performance', 'historic orchestral performance', 'orchestral performance']</td><td>Arturo Toscanini</td></tr><tr><td>['adult standards', 'harlem renaissance', 'jazz blues', 'lounge', 'soul', 'torch song', 'vocal jazz']</td><td>Billie Holiday</td></tr><tr><td>['rock-and-roll', 'rockabilly']</td><td>Elvis Presley</td></tr><tr><td>['tango', 'vintage tango']</td><td>Francisco Canaro</td></tr><tr><td>['adult standards', 'easy listening', 'lounge']</td><td>Frank Sinatra</td></tr><tr><td>['tango', 'vintage tango']</td><td>Ignacio Corsini</td></tr><tr><td>['arkansas country', 'outlaw country']</td><td>Johnny Cash</td></tr><tr><td>['classical', 'classical performance', 'classical piano', 'russian classical piano']</td><td>Vladimir Horowitz</td></tr><tr><td>[]</td><td>Эрих Мария Ремарк</td></tr><tr><td>[]</td><td>Эрнест Хемингуэй</td></tr></tbody></table></div>"
      ]
     },
     "metadata": {
      "application/vnd.databricks.v1+output": {
       "addedWidgets": {},
       "aggData": [],
       "aggError": "",
       "aggOverflow": false,
       "aggSchema": [],
       "aggSeriesLimitReached": false,
       "aggType": "",
       "arguments": {},
       "columnCustomDisplayInfos": {},
       "data": [
        [
         "['classical performance', 'historic orchestral performance', 'orchestral performance']",
         "Arturo Toscanini"
        ],
        [
         "['adult standards', 'harlem renaissance', 'jazz blues', 'lounge', 'soul', 'torch song', 'vocal jazz']",
         "Billie Holiday"
        ],
        [
         "['rock-and-roll', 'rockabilly']",
         "Elvis Presley"
        ],
        [
         "['tango', 'vintage tango']",
         "Francisco Canaro"
        ],
        [
         "['adult standards', 'easy listening', 'lounge']",
         "Frank Sinatra"
        ],
        [
         "['tango', 'vintage tango']",
         "Ignacio Corsini"
        ],
        [
         "['arkansas country', 'outlaw country']",
         "Johnny Cash"
        ],
        [
         "['classical', 'classical performance', 'classical piano', 'russian classical piano']",
         "Vladimir Horowitz"
        ],
        [
         "[]",
         "Эрих Мария Ремарк"
        ],
        [
         "[]",
         "Эрнест Хемингуэй"
        ]
       ],
       "datasetInfos": [],
       "dbfsResultPath": null,
       "isJsonSchema": true,
       "metadata": {},
       "overflow": false,
       "plotOptions": {
        "customPlotOptions": {},
        "displayType": "table",
        "pivotAggregation": null,
        "pivotColumns": null,
        "xColumns": null,
        "yColumns": null
       },
       "removedWidgets": [],
       "schema": [
        {
         "metadata": "{}",
         "name": "genres",
         "type": "\"string\""
        },
        {
         "metadata": "{}",
         "name": "artists",
         "type": "\"string\""
        }
       ],
       "type": "table"
      }
     },
     "output_type": "display_data"
    }
   ],
   "source": [
    "%python\n",
    "\n",
    "# Genêro musical top 10 artistas\n",
    "# Precisa executar primeiramente os notebooks abaixo do tópico (Consultas (data_w_genres))\n",
    "\n",
    "artista_genero = df_consulta_w_genres.loc[df_consulta_w_genres['artists'].isin(lista_artistas)]\n",
    "artista_genero = artista_genero[['genres', 'artists']]\n",
    "display(artista_genero)"
   ]
  },
  {
   "cell_type": "markdown",
   "metadata": {
    "application/vnd.databricks.v1+cell": {
     "cellMetadata": {},
     "inputWidgets": {},
     "nuid": "080f455c-000e-45cd-8692-50c1e36108fa",
     "showTitle": false,
     "tableResultSettingsMap": {},
     "title": ""
    }
   },
   "source": [
    "\n",
    "# Consultas (data_by_genres)"
   ]
  },
  {
   "cell_type": "markdown",
   "metadata": {
    "application/vnd.databricks.v1+cell": {
     "cellMetadata": {},
     "inputWidgets": {},
     "nuid": "f428a008-d002-4d5a-b560-f131c30263c2",
     "showTitle": false,
     "tableResultSettingsMap": {},
     "title": ""
    }
   },
   "source": [
    "\n",
    "## Caminho do arquivo"
   ]
  },
  {
   "cell_type": "code",
   "execution_count": 0,
   "metadata": {
    "application/vnd.databricks.v1+cell": {
     "cellMetadata": {
      "byteLimit": 2048000,
      "rowLimit": 10000
     },
     "inputWidgets": {},
     "nuid": "71f5727a-e33d-4115-b121-6acd3c204f91",
     "showTitle": false,
     "tableResultSettingsMap": {},
     "title": ""
    }
   },
   "outputs": [],
   "source": [
    "%python\n",
    "\n",
    "# Caminho do arquivo para leitura\n",
    "\n",
    "path_consulta_by_genres = 'dbfs:/FileStore/tables/musica/spotify/data-treated/data_by_genres.parquet'"
   ]
  },
  {
   "cell_type": "markdown",
   "metadata": {
    "application/vnd.databricks.v1+cell": {
     "cellMetadata": {},
     "inputWidgets": {},
     "nuid": "0d7c8330-65ab-4ef2-a8eb-c6005021e126",
     "showTitle": false,
     "tableResultSettingsMap": {},
     "title": ""
    }
   },
   "source": [
    "\n",
    "## Leitura do df (pandas)"
   ]
  },
  {
   "cell_type": "code",
   "execution_count": 0,
   "metadata": {
    "application/vnd.databricks.v1+cell": {
     "cellMetadata": {},
     "inputWidgets": {},
     "nuid": "b756eb0d-dfff-413a-a153-7a9a07e2b508",
     "showTitle": false,
     "tableResultSettingsMap": {},
     "title": ""
    }
   },
   "outputs": [],
   "source": [
    "%python\n",
    "\n",
    "# Leitura do arquivo\n",
    "\n",
    "import pyspark.pandas as ps\n",
    "\n",
    "df_consulta_by_genres = ps.read_parquet(path_consulta_by_genres)\n",
    "\n",
    "df_consulta_by_genres.head()"
   ]
  },
  {
   "cell_type": "markdown",
   "metadata": {
    "application/vnd.databricks.v1+cell": {
     "cellMetadata": {},
     "inputWidgets": {},
     "nuid": "24382746-6065-4496-ba03-77f24d30b0cc",
     "showTitle": false,
     "tableResultSettingsMap": {},
     "title": ""
    }
   },
   "source": [
    "\n",
    "# Consultas (data_w_genres)"
   ]
  },
  {
   "cell_type": "markdown",
   "metadata": {
    "application/vnd.databricks.v1+cell": {
     "cellMetadata": {},
     "inputWidgets": {},
     "nuid": "b55ad4af-6eee-4491-a404-6fdd1616213f",
     "showTitle": false,
     "tableResultSettingsMap": {},
     "title": ""
    }
   },
   "source": [
    "\n",
    "## Caminho do arquivo"
   ]
  },
  {
   "cell_type": "code",
   "execution_count": 0,
   "metadata": {
    "application/vnd.databricks.v1+cell": {
     "cellMetadata": {
      "byteLimit": 2048000,
      "rowLimit": 10000
     },
     "inputWidgets": {},
     "nuid": "e67de3a6-19d6-4c24-97ae-8f9dc37a0963",
     "showTitle": false,
     "tableResultSettingsMap": {},
     "title": ""
    }
   },
   "outputs": [],
   "source": [
    "%python\n",
    "\n",
    "# Caminho do arquivo para leitura\n",
    "\n",
    "path_consulta_w_genres = 'dbfs:/FileStore/tables/musica/spotify/data-treated/data_w_genres.parquet'"
   ]
  },
  {
   "cell_type": "markdown",
   "metadata": {
    "application/vnd.databricks.v1+cell": {
     "cellMetadata": {},
     "inputWidgets": {},
     "nuid": "8b79a770-4ab1-4e8d-9804-9003b9e1eb33",
     "showTitle": false,
     "tableResultSettingsMap": {},
     "title": ""
    }
   },
   "source": [
    "\n",
    "## Leitura do df (pandas)"
   ]
  },
  {
   "cell_type": "code",
   "execution_count": 0,
   "metadata": {
    "application/vnd.databricks.v1+cell": {
     "cellMetadata": {
      "byteLimit": 2048000,
      "rowLimit": 10000
     },
     "inputWidgets": {},
     "nuid": "16df4970-e83c-47ed-86fe-ece7d384fb0f",
     "showTitle": false,
     "tableResultSettingsMap": {},
     "title": ""
    }
   },
   "outputs": [
    {
     "output_type": "display_data",
     "data": {
      "text/html": [
       "<div>\n",
       "<style scoped>\n",
       "    .dataframe tbody tr th:only-of-type {\n",
       "        vertical-align: middle;\n",
       "    }\n",
       "\n",
       "    .dataframe tbody tr th {\n",
       "        vertical-align: top;\n",
       "    }\n",
       "\n",
       "    .dataframe thead th {\n",
       "        text-align: right;\n",
       "    }\n",
       "</style>\n",
       "<table border=\"1\" class=\"dataframe\">\n",
       "  <thead>\n",
       "    <tr style=\"text-align: right;\">\n",
       "      <th></th>\n",
       "      <th>genres</th>\n",
       "      <th>artists</th>\n",
       "      <th>acousticness</th>\n",
       "      <th>danceability</th>\n",
       "      <th>duration_ms</th>\n",
       "      <th>energy</th>\n",
       "      <th>instrumentalness</th>\n",
       "      <th>liveness</th>\n",
       "      <th>loudness</th>\n",
       "      <th>speechiness</th>\n",
       "      <th>tempo</th>\n",
       "      <th>valence</th>\n",
       "      <th>popularity</th>\n",
       "      <th>key</th>\n",
       "      <th>mode</th>\n",
       "      <th>count</th>\n",
       "    </tr>\n",
       "  </thead>\n",
       "  <tbody>\n",
       "    <tr>\n",
       "      <th>0</th>\n",
       "      <td>['show tunes']</td>\n",
       "      <td>\"\"\"Cats\"\" 1981 Original London Cast\"</td>\n",
       "      <td>0.5901111111111111</td>\n",
       "      <td>0.4672222222222222</td>\n",
       "      <td>250318.5555555556</td>\n",
       "      <td>0.3940033333333333</td>\n",
       "      <td>0.011399851111111107</td>\n",
       "      <td>0.2908333333333333</td>\n",
       "      <td>-14.448000</td>\n",
       "      <td>0.210389</td>\n",
       "      <td>117.518111</td>\n",
       "      <td>0.389500</td>\n",
       "      <td>38.333333</td>\n",
       "      <td>5.0</td>\n",
       "      <td>1.0</td>\n",
       "      <td>9.0</td>\n",
       "    </tr>\n",
       "    <tr>\n",
       "      <th>1</th>\n",
       "      <td>[]</td>\n",
       "      <td>\"\"\"Cats\"\" 1983 Broadway Cast\"</td>\n",
       "      <td>0.8625384615384617</td>\n",
       "      <td>0.4417307692307693</td>\n",
       "      <td>287280.0</td>\n",
       "      <td>0.4068076923076923</td>\n",
       "      <td>0.08115826423076923</td>\n",
       "      <td>0.3152153846153846</td>\n",
       "      <td>-10.690000</td>\n",
       "      <td>0.176212</td>\n",
       "      <td>103.044154</td>\n",
       "      <td>0.268865</td>\n",
       "      <td>30.576923</td>\n",
       "      <td>5.0</td>\n",
       "      <td>1.0</td>\n",
       "      <td>26.0</td>\n",
       "    </tr>\n",
       "    <tr>\n",
       "      <th>2</th>\n",
       "      <td>[]</td>\n",
       "      <td>\"\"\"Fiddler On The Roof” Motion Picture Chorus\"</td>\n",
       "      <td>0.8565714285714285</td>\n",
       "      <td>0.34828571428571425</td>\n",
       "      <td>328920.0</td>\n",
       "      <td>0.2865714285714285</td>\n",
       "      <td>0.024592948571428568</td>\n",
       "      <td>0.3257857142857143</td>\n",
       "      <td>-15.230714</td>\n",
       "      <td>0.118514</td>\n",
       "      <td>77.375857</td>\n",
       "      <td>0.354857</td>\n",
       "      <td>34.857143</td>\n",
       "      <td>0.0</td>\n",
       "      <td>1.0</td>\n",
       "      <td>7.0</td>\n",
       "    </tr>\n",
       "    <tr>\n",
       "      <th>3</th>\n",
       "      <td>[]</td>\n",
       "      <td>\"\"\"Fiddler On The Roof” Motion Picture Orchestra\"</td>\n",
       "      <td>0.884925925925926</td>\n",
       "      <td>0.4250740740740739</td>\n",
       "      <td>262890.96296296304</td>\n",
       "      <td>0.2457703703703704</td>\n",
       "      <td>0.07358727925925927</td>\n",
       "      <td>0.2754814814814815</td>\n",
       "      <td>-15.639370</td>\n",
       "      <td>0.123200</td>\n",
       "      <td>88.667630</td>\n",
       "      <td>0.372030</td>\n",
       "      <td>34.851852</td>\n",
       "      <td>0.0</td>\n",
       "      <td>1.0</td>\n",
       "      <td>27.0</td>\n",
       "    </tr>\n",
       "    <tr>\n",
       "      <th>4</th>\n",
       "      <td>[]</td>\n",
       "      <td>\"\"\"Joseph And The Amazing Technicolor Dreamcoa...</td>\n",
       "      <td>0.5107142857142857</td>\n",
       "      <td>0.4671428571428572</td>\n",
       "      <td>270436.14285714284</td>\n",
       "      <td>0.4882857142857143</td>\n",
       "      <td>0.00940029142857143</td>\n",
       "      <td>0.195</td>\n",
       "      <td>-10.236714</td>\n",
       "      <td>0.098543</td>\n",
       "      <td>122.835857</td>\n",
       "      <td>0.482286</td>\n",
       "      <td>43.000000</td>\n",
       "      <td>5.0</td>\n",
       "      <td>1.0</td>\n",
       "      <td>7.0</td>\n",
       "    </tr>\n",
       "  </tbody>\n",
       "</table>\n",
       "</div>"
      ]
     },
     "metadata": {
      "application/vnd.databricks.v1+output": {
       "addedWidgets": {},
       "arguments": {},
       "data": "<div>\n<style scoped>\n    .dataframe tbody tr th:only-of-type {\n        vertical-align: middle;\n    }\n\n    .dataframe tbody tr th {\n        vertical-align: top;\n    }\n\n    .dataframe thead th {\n        text-align: right;\n    }\n</style>\n<table border=\"1\" class=\"dataframe\">\n  <thead>\n    <tr style=\"text-align: right;\">\n      <th></th>\n      <th>genres</th>\n      <th>artists</th>\n      <th>acousticness</th>\n      <th>danceability</th>\n      <th>duration_ms</th>\n      <th>energy</th>\n      <th>instrumentalness</th>\n      <th>liveness</th>\n      <th>loudness</th>\n      <th>speechiness</th>\n      <th>tempo</th>\n      <th>valence</th>\n      <th>popularity</th>\n      <th>key</th>\n      <th>mode</th>\n      <th>count</th>\n    </tr>\n  </thead>\n  <tbody>\n    <tr>\n      <th>0</th>\n      <td>['show tunes']</td>\n      <td>\"\"\"Cats\"\" 1981 Original London Cast\"</td>\n      <td>0.5901111111111111</td>\n      <td>0.4672222222222222</td>\n      <td>250318.5555555556</td>\n      <td>0.3940033333333333</td>\n      <td>0.011399851111111107</td>\n      <td>0.2908333333333333</td>\n      <td>-14.448000</td>\n      <td>0.210389</td>\n      <td>117.518111</td>\n      <td>0.389500</td>\n      <td>38.333333</td>\n      <td>5.0</td>\n      <td>1.0</td>\n      <td>9.0</td>\n    </tr>\n    <tr>\n      <th>1</th>\n      <td>[]</td>\n      <td>\"\"\"Cats\"\" 1983 Broadway Cast\"</td>\n      <td>0.8625384615384617</td>\n      <td>0.4417307692307693</td>\n      <td>287280.0</td>\n      <td>0.4068076923076923</td>\n      <td>0.08115826423076923</td>\n      <td>0.3152153846153846</td>\n      <td>-10.690000</td>\n      <td>0.176212</td>\n      <td>103.044154</td>\n      <td>0.268865</td>\n      <td>30.576923</td>\n      <td>5.0</td>\n      <td>1.0</td>\n      <td>26.0</td>\n    </tr>\n    <tr>\n      <th>2</th>\n      <td>[]</td>\n      <td>\"\"\"Fiddler On The Roof” Motion Picture Chorus\"</td>\n      <td>0.8565714285714285</td>\n      <td>0.34828571428571425</td>\n      <td>328920.0</td>\n      <td>0.2865714285714285</td>\n      <td>0.024592948571428568</td>\n      <td>0.3257857142857143</td>\n      <td>-15.230714</td>\n      <td>0.118514</td>\n      <td>77.375857</td>\n      <td>0.354857</td>\n      <td>34.857143</td>\n      <td>0.0</td>\n      <td>1.0</td>\n      <td>7.0</td>\n    </tr>\n    <tr>\n      <th>3</th>\n      <td>[]</td>\n      <td>\"\"\"Fiddler On The Roof” Motion Picture Orchestra\"</td>\n      <td>0.884925925925926</td>\n      <td>0.4250740740740739</td>\n      <td>262890.96296296304</td>\n      <td>0.2457703703703704</td>\n      <td>0.07358727925925927</td>\n      <td>0.2754814814814815</td>\n      <td>-15.639370</td>\n      <td>0.123200</td>\n      <td>88.667630</td>\n      <td>0.372030</td>\n      <td>34.851852</td>\n      <td>0.0</td>\n      <td>1.0</td>\n      <td>27.0</td>\n    </tr>\n    <tr>\n      <th>4</th>\n      <td>[]</td>\n      <td>\"\"\"Joseph And The Amazing Technicolor Dreamcoa...</td>\n      <td>0.5107142857142857</td>\n      <td>0.4671428571428572</td>\n      <td>270436.14285714284</td>\n      <td>0.4882857142857143</td>\n      <td>0.00940029142857143</td>\n      <td>0.195</td>\n      <td>-10.236714</td>\n      <td>0.098543</td>\n      <td>122.835857</td>\n      <td>0.482286</td>\n      <td>43.000000</td>\n      <td>5.0</td>\n      <td>1.0</td>\n      <td>7.0</td>\n    </tr>\n  </tbody>\n</table>\n</div>",
       "datasetInfos": [],
       "metadata": {},
       "removedWidgets": [],
       "textData": null,
       "type": "htmlSandbox"
      }
     },
     "output_type": "display_data"
    }
   ],
   "source": [
    "%python\n",
    "\n",
    "# Leitura do arquivo\n",
    "\n",
    "import pyspark.pandas as ps\n",
    "\n",
    "df_consulta_w_genres = ps.read_parquet(path_consulta_w_genres)\n",
    "\n",
    "df_consulta_w_genres.head()"
   ]
  },
  {
   "cell_type": "markdown",
   "metadata": {
    "application/vnd.databricks.v1+cell": {
     "cellMetadata": {},
     "inputWidgets": {},
     "nuid": "3769e22d-ddbf-4bea-be35-8c2bad764690",
     "showTitle": false,
     "tableResultSettingsMap": {},
     "title": ""
    }
   },
   "source": [
    "\n",
    "## Genêro musical top 10 artistas"
   ]
  },
  {
   "cell_type": "code",
   "execution_count": 0,
   "metadata": {
    "application/vnd.databricks.v1+cell": {
     "cellMetadata": {
      "byteLimit": 2048000,
      "rowLimit": 10000
     },
     "inputWidgets": {},
     "nuid": "5db26fac-d748-4492-b865-82341b3d9476",
     "showTitle": false,
     "tableResultSettingsMap": {},
     "title": ""
    }
   },
   "outputs": [
    {
     "output_type": "display_data",
     "data": {
      "text/html": [
       "<style scoped>\n",
       "  .table-result-container {\n",
       "    max-height: 300px;\n",
       "    overflow: auto;\n",
       "  }\n",
       "  table, th, td {\n",
       "    border: 1px solid black;\n",
       "    border-collapse: collapse;\n",
       "  }\n",
       "  th, td {\n",
       "    padding: 5px;\n",
       "  }\n",
       "  th {\n",
       "    text-align: left;\n",
       "  }\n",
       "</style><div class='table-result-container'><table class='table-result'><thead style='background-color: white'><tr><th>genres</th><th>artists</th></tr></thead><tbody><tr><td>['classical performance', 'historic orchestral performance', 'orchestral performance']</td><td>Arturo Toscanini</td></tr><tr><td>['adult standards', 'harlem renaissance', 'jazz blues', 'lounge', 'soul', 'torch song', 'vocal jazz']</td><td>Billie Holiday</td></tr><tr><td>['rock-and-roll', 'rockabilly']</td><td>Elvis Presley</td></tr><tr><td>['tango', 'vintage tango']</td><td>Francisco Canaro</td></tr><tr><td>['adult standards', 'easy listening', 'lounge']</td><td>Frank Sinatra</td></tr><tr><td>['tango', 'vintage tango']</td><td>Ignacio Corsini</td></tr><tr><td>['arkansas country', 'outlaw country']</td><td>Johnny Cash</td></tr><tr><td>['classical', 'classical performance', 'classical piano', 'russian classical piano']</td><td>Vladimir Horowitz</td></tr><tr><td>[]</td><td>Эрих Мария Ремарк</td></tr><tr><td>[]</td><td>Эрнест Хемингуэй</td></tr></tbody></table></div>"
      ]
     },
     "metadata": {
      "application/vnd.databricks.v1+output": {
       "addedWidgets": {},
       "aggData": [],
       "aggError": "",
       "aggOverflow": false,
       "aggSchema": [],
       "aggSeriesLimitReached": false,
       "aggType": "",
       "arguments": {},
       "columnCustomDisplayInfos": {},
       "data": [
        [
         "['classical performance', 'historic orchestral performance', 'orchestral performance']",
         "Arturo Toscanini"
        ],
        [
         "['adult standards', 'harlem renaissance', 'jazz blues', 'lounge', 'soul', 'torch song', 'vocal jazz']",
         "Billie Holiday"
        ],
        [
         "['rock-and-roll', 'rockabilly']",
         "Elvis Presley"
        ],
        [
         "['tango', 'vintage tango']",
         "Francisco Canaro"
        ],
        [
         "['adult standards', 'easy listening', 'lounge']",
         "Frank Sinatra"
        ],
        [
         "['tango', 'vintage tango']",
         "Ignacio Corsini"
        ],
        [
         "['arkansas country', 'outlaw country']",
         "Johnny Cash"
        ],
        [
         "['classical', 'classical performance', 'classical piano', 'russian classical piano']",
         "Vladimir Horowitz"
        ],
        [
         "[]",
         "Эрих Мария Ремарк"
        ],
        [
         "[]",
         "Эрнест Хемингуэй"
        ]
       ],
       "datasetInfos": [],
       "dbfsResultPath": null,
       "isJsonSchema": true,
       "metadata": {},
       "overflow": false,
       "plotOptions": {
        "customPlotOptions": {},
        "displayType": "table",
        "pivotAggregation": null,
        "pivotColumns": null,
        "xColumns": null,
        "yColumns": null
       },
       "removedWidgets": [],
       "schema": [
        {
         "metadata": "{}",
         "name": "genres",
         "type": "\"string\""
        },
        {
         "metadata": "{}",
         "name": "artists",
         "type": "\"string\""
        }
       ],
       "type": "table"
      }
     },
     "output_type": "display_data"
    }
   ],
   "source": [
    "%python\n",
    "\n",
    "# Genêro musical top 10 artistas\n",
    "\n",
    "artista_genero = df_consulta_w_genres.loc[df_consulta_w_genres['artists'].isin(lista_artistas)]\n",
    "artista_genero = artista_genero[['genres', 'artists']]\n",
    "display(artista_genero)"
   ]
  },
  {
   "cell_type": "markdown",
   "metadata": {
    "application/vnd.databricks.v1+cell": {
     "cellMetadata": {},
     "inputWidgets": {},
     "nuid": "9374648e-0224-4965-ac70-5a640a3fe8f9",
     "showTitle": false,
     "tableResultSettingsMap": {},
     "title": ""
    }
   },
   "source": [
    "\n",
    "## 10 principais genêros musicais"
   ]
  },
  {
   "cell_type": "code",
   "execution_count": 0,
   "metadata": {
    "application/vnd.databricks.v1+cell": {
     "cellMetadata": {
      "byteLimit": 2048000,
      "rowLimit": 10000
     },
     "inputWidgets": {},
     "nuid": "1a767bf5-dffd-43d4-b7cc-48d574fc2b9a",
     "showTitle": false,
     "tableResultSettingsMap": {},
     "title": ""
    }
   },
   "outputs": [
    {
     "output_type": "display_data",
     "data": {
      "text/html": [
       "<html>\n",
       "<head><meta charset=\"utf-8\" /></head>\n",
       "<body>\n",
       "    <div>            <script src=\"https://cdnjs.cloudflare.com/ajax/libs/mathjax/2.7.5/MathJax.js?config=TeX-AMS-MML_SVG\"></script><script type=\"text/javascript\">if (window.MathJax) {MathJax.Hub.Config({SVG: {font: \"STIX-Web\"}});}</script>                <script type=\"text/javascript\">window.PlotlyConfig = {MathJaxConfig: 'local'};</script>\n",
       "        <script src=\"https://cdn.plot.ly/plotly-2.9.0.min.js\"></script>                <div id=\"e49d381a-872f-49fd-b50a-b10fe99a4904\" class=\"plotly-graph-div\" style=\"height:100%; width:100%;\"></div>            <script type=\"text/javascript\">                                    window.PLOTLYENV=window.PLOTLYENV || {};                                    if (document.getElementById(\"e49d381a-872f-49fd-b50a-b10fe99a4904\")) {                    Plotly.newPlot(                        \"e49d381a-872f-49fd-b50a-b10fe99a4904\",                        [{\"alignmentgroup\":\"True\",\"hovertemplate\":\"qtd=%{x}<br>genres=%{y}<extra></extra>\",\"legendgroup\":\"\",\"marker\":{\"color\":\"#636efa\",\"pattern\":{\"shape\":\"\"}},\"name\":\"\",\"offsetgroup\":\"\",\"orientation\":\"h\",\"showlegend\":false,\"textposition\":\"auto\",\"x\":[69,63,56,50,48,45,42,41,41,40,39],\"xaxis\":\"x\",\"y\":[\"['movie tunes']\",\"['show tunes']\",\"['hollywood']\",\"['orchestral performance']\",\"['broadway', 'hollywood', 'show tunes']\",\"['disney', 'movie tunes']\",\"['sleep']\",\"['gospel']\",\"['contemporary country', 'country', 'country road', 'modern country rock']\",\"['classical soprano']\",\"['latin', 'latin hip hop', 'reggaeton', 'reggaeton flow', 'trap latino', 'tropical']\"],\"yaxis\":\"y\",\"type\":\"bar\"}],                        {\"template\":{\"data\":{\"bar\":[{\"error_x\":{\"color\":\"#2a3f5f\"},\"error_y\":{\"color\":\"#2a3f5f\"},\"marker\":{\"line\":{\"color\":\"#E5ECF6\",\"width\":0.5},\"pattern\":{\"fillmode\":\"overlay\",\"size\":10,\"solidity\":0.2}},\"type\":\"bar\"}],\"barpolar\":[{\"marker\":{\"line\":{\"color\":\"#E5ECF6\",\"width\":0.5},\"pattern\":{\"fillmode\":\"overlay\",\"size\":10,\"solidity\":0.2}},\"type\":\"barpolar\"}],\"carpet\":[{\"aaxis\":{\"endlinecolor\":\"#2a3f5f\",\"gridcolor\":\"white\",\"linecolor\":\"white\",\"minorgridcolor\":\"white\",\"startlinecolor\":\"#2a3f5f\"},\"baxis\":{\"endlinecolor\":\"#2a3f5f\",\"gridcolor\":\"white\",\"linecolor\":\"white\",\"minorgridcolor\":\"white\",\"startlinecolor\":\"#2a3f5f\"},\"type\":\"carpet\"}],\"choropleth\":[{\"colorbar\":{\"outlinewidth\":0,\"ticks\":\"\"},\"type\":\"choropleth\"}],\"contour\":[{\"colorbar\":{\"outlinewidth\":0,\"ticks\":\"\"},\"colorscale\":[[0.0,\"#0d0887\"],[0.1111111111111111,\"#46039f\"],[0.2222222222222222,\"#7201a8\"],[0.3333333333333333,\"#9c179e\"],[0.4444444444444444,\"#bd3786\"],[0.5555555555555556,\"#d8576b\"],[0.6666666666666666,\"#ed7953\"],[0.7777777777777778,\"#fb9f3a\"],[0.8888888888888888,\"#fdca26\"],[1.0,\"#f0f921\"]],\"type\":\"contour\"}],\"contourcarpet\":[{\"colorbar\":{\"outlinewidth\":0,\"ticks\":\"\"},\"type\":\"contourcarpet\"}],\"heatmap\":[{\"colorbar\":{\"outlinewidth\":0,\"ticks\":\"\"},\"colorscale\":[[0.0,\"#0d0887\"],[0.1111111111111111,\"#46039f\"],[0.2222222222222222,\"#7201a8\"],[0.3333333333333333,\"#9c179e\"],[0.4444444444444444,\"#bd3786\"],[0.5555555555555556,\"#d8576b\"],[0.6666666666666666,\"#ed7953\"],[0.7777777777777778,\"#fb9f3a\"],[0.8888888888888888,\"#fdca26\"],[1.0,\"#f0f921\"]],\"type\":\"heatmap\"}],\"heatmapgl\":[{\"colorbar\":{\"outlinewidth\":0,\"ticks\":\"\"},\"colorscale\":[[0.0,\"#0d0887\"],[0.1111111111111111,\"#46039f\"],[0.2222222222222222,\"#7201a8\"],[0.3333333333333333,\"#9c179e\"],[0.4444444444444444,\"#bd3786\"],[0.5555555555555556,\"#d8576b\"],[0.6666666666666666,\"#ed7953\"],[0.7777777777777778,\"#fb9f3a\"],[0.8888888888888888,\"#fdca26\"],[1.0,\"#f0f921\"]],\"type\":\"heatmapgl\"}],\"histogram\":[{\"marker\":{\"pattern\":{\"fillmode\":\"overlay\",\"size\":10,\"solidity\":0.2}},\"type\":\"histogram\"}],\"histogram2d\":[{\"colorbar\":{\"outlinewidth\":0,\"ticks\":\"\"},\"colorscale\":[[0.0,\"#0d0887\"],[0.1111111111111111,\"#46039f\"],[0.2222222222222222,\"#7201a8\"],[0.3333333333333333,\"#9c179e\"],[0.4444444444444444,\"#bd3786\"],[0.5555555555555556,\"#d8576b\"],[0.6666666666666666,\"#ed7953\"],[0.7777777777777778,\"#fb9f3a\"],[0.8888888888888888,\"#fdca26\"],[1.0,\"#f0f921\"]],\"type\":\"histogram2d\"}],\"histogram2dcontour\":[{\"colorbar\":{\"outlinewidth\":0,\"ticks\":\"\"},\"colorscale\":[[0.0,\"#0d0887\"],[0.1111111111111111,\"#46039f\"],[0.2222222222222222,\"#7201a8\"],[0.3333333333333333,\"#9c179e\"],[0.4444444444444444,\"#bd3786\"],[0.5555555555555556,\"#d8576b\"],[0.6666666666666666,\"#ed7953\"],[0.7777777777777778,\"#fb9f3a\"],[0.8888888888888888,\"#fdca26\"],[1.0,\"#f0f921\"]],\"type\":\"histogram2dcontour\"}],\"mesh3d\":[{\"colorbar\":{\"outlinewidth\":0,\"ticks\":\"\"},\"type\":\"mesh3d\"}],\"parcoords\":[{\"line\":{\"colorbar\":{\"outlinewidth\":0,\"ticks\":\"\"}},\"type\":\"parcoords\"}],\"pie\":[{\"automargin\":true,\"type\":\"pie\"}],\"scatter\":[{\"marker\":{\"colorbar\":{\"outlinewidth\":0,\"ticks\":\"\"}},\"type\":\"scatter\"}],\"scatter3d\":[{\"line\":{\"colorbar\":{\"outlinewidth\":0,\"ticks\":\"\"}},\"marker\":{\"colorbar\":{\"outlinewidth\":0,\"ticks\":\"\"}},\"type\":\"scatter3d\"}],\"scattercarpet\":[{\"marker\":{\"colorbar\":{\"outlinewidth\":0,\"ticks\":\"\"}},\"type\":\"scattercarpet\"}],\"scattergeo\":[{\"marker\":{\"colorbar\":{\"outlinewidth\":0,\"ticks\":\"\"}},\"type\":\"scattergeo\"}],\"scattergl\":[{\"marker\":{\"colorbar\":{\"outlinewidth\":0,\"ticks\":\"\"}},\"type\":\"scattergl\"}],\"scattermapbox\":[{\"marker\":{\"colorbar\":{\"outlinewidth\":0,\"ticks\":\"\"}},\"type\":\"scattermapbox\"}],\"scatterpolar\":[{\"marker\":{\"colorbar\":{\"outlinewidth\":0,\"ticks\":\"\"}},\"type\":\"scatterpolar\"}],\"scatterpolargl\":[{\"marker\":{\"colorbar\":{\"outlinewidth\":0,\"ticks\":\"\"}},\"type\":\"scatterpolargl\"}],\"scatterternary\":[{\"marker\":{\"colorbar\":{\"outlinewidth\":0,\"ticks\":\"\"}},\"type\":\"scatterternary\"}],\"surface\":[{\"colorbar\":{\"outlinewidth\":0,\"ticks\":\"\"},\"colorscale\":[[0.0,\"#0d0887\"],[0.1111111111111111,\"#46039f\"],[0.2222222222222222,\"#7201a8\"],[0.3333333333333333,\"#9c179e\"],[0.4444444444444444,\"#bd3786\"],[0.5555555555555556,\"#d8576b\"],[0.6666666666666666,\"#ed7953\"],[0.7777777777777778,\"#fb9f3a\"],[0.8888888888888888,\"#fdca26\"],[1.0,\"#f0f921\"]],\"type\":\"surface\"}],\"table\":[{\"cells\":{\"fill\":{\"color\":\"#EBF0F8\"},\"line\":{\"color\":\"white\"}},\"header\":{\"fill\":{\"color\":\"#C8D4E3\"},\"line\":{\"color\":\"white\"}},\"type\":\"table\"}]},\"layout\":{\"annotationdefaults\":{\"arrowcolor\":\"#2a3f5f\",\"arrowhead\":0,\"arrowwidth\":1},\"autotypenumbers\":\"strict\",\"coloraxis\":{\"colorbar\":{\"outlinewidth\":0,\"ticks\":\"\"}},\"colorscale\":{\"diverging\":[[0,\"#8e0152\"],[0.1,\"#c51b7d\"],[0.2,\"#de77ae\"],[0.3,\"#f1b6da\"],[0.4,\"#fde0ef\"],[0.5,\"#f7f7f7\"],[0.6,\"#e6f5d0\"],[0.7,\"#b8e186\"],[0.8,\"#7fbc41\"],[0.9,\"#4d9221\"],[1,\"#276419\"]],\"sequential\":[[0.0,\"#0d0887\"],[0.1111111111111111,\"#46039f\"],[0.2222222222222222,\"#7201a8\"],[0.3333333333333333,\"#9c179e\"],[0.4444444444444444,\"#bd3786\"],[0.5555555555555556,\"#d8576b\"],[0.6666666666666666,\"#ed7953\"],[0.7777777777777778,\"#fb9f3a\"],[0.8888888888888888,\"#fdca26\"],[1.0,\"#f0f921\"]],\"sequentialminus\":[[0.0,\"#0d0887\"],[0.1111111111111111,\"#46039f\"],[0.2222222222222222,\"#7201a8\"],[0.3333333333333333,\"#9c179e\"],[0.4444444444444444,\"#bd3786\"],[0.5555555555555556,\"#d8576b\"],[0.6666666666666666,\"#ed7953\"],[0.7777777777777778,\"#fb9f3a\"],[0.8888888888888888,\"#fdca26\"],[1.0,\"#f0f921\"]]},\"colorway\":[\"#636efa\",\"#EF553B\",\"#00cc96\",\"#ab63fa\",\"#FFA15A\",\"#19d3f3\",\"#FF6692\",\"#B6E880\",\"#FF97FF\",\"#FECB52\"],\"font\":{\"color\":\"#2a3f5f\"},\"geo\":{\"bgcolor\":\"white\",\"lakecolor\":\"white\",\"landcolor\":\"#E5ECF6\",\"showlakes\":true,\"showland\":true,\"subunitcolor\":\"white\"},\"hoverlabel\":{\"align\":\"left\"},\"hovermode\":\"closest\",\"mapbox\":{\"style\":\"light\"},\"paper_bgcolor\":\"white\",\"plot_bgcolor\":\"#E5ECF6\",\"polar\":{\"angularaxis\":{\"gridcolor\":\"white\",\"linecolor\":\"white\",\"ticks\":\"\"},\"bgcolor\":\"#E5ECF6\",\"radialaxis\":{\"gridcolor\":\"white\",\"linecolor\":\"white\",\"ticks\":\"\"}},\"scene\":{\"xaxis\":{\"backgroundcolor\":\"#E5ECF6\",\"gridcolor\":\"white\",\"gridwidth\":2,\"linecolor\":\"white\",\"showbackground\":true,\"ticks\":\"\",\"zerolinecolor\":\"white\"},\"yaxis\":{\"backgroundcolor\":\"#E5ECF6\",\"gridcolor\":\"white\",\"gridwidth\":2,\"linecolor\":\"white\",\"showbackground\":true,\"ticks\":\"\",\"zerolinecolor\":\"white\"},\"zaxis\":{\"backgroundcolor\":\"#E5ECF6\",\"gridcolor\":\"white\",\"gridwidth\":2,\"linecolor\":\"white\",\"showbackground\":true,\"ticks\":\"\",\"zerolinecolor\":\"white\"}},\"shapedefaults\":{\"line\":{\"color\":\"#2a3f5f\"}},\"ternary\":{\"aaxis\":{\"gridcolor\":\"white\",\"linecolor\":\"white\",\"ticks\":\"\"},\"baxis\":{\"gridcolor\":\"white\",\"linecolor\":\"white\",\"ticks\":\"\"},\"bgcolor\":\"#E5ECF6\",\"caxis\":{\"gridcolor\":\"white\",\"linecolor\":\"white\",\"ticks\":\"\"}},\"title\":{\"x\":0.05},\"xaxis\":{\"automargin\":true,\"gridcolor\":\"white\",\"linecolor\":\"white\",\"ticks\":\"\",\"title\":{\"standoff\":15},\"zerolinecolor\":\"white\",\"zerolinewidth\":2},\"yaxis\":{\"automargin\":true,\"gridcolor\":\"white\",\"linecolor\":\"white\",\"ticks\":\"\",\"title\":{\"standoff\":15},\"zerolinecolor\":\"white\",\"zerolinewidth\":2}}},\"xaxis\":{\"anchor\":\"y\",\"domain\":[0.0,1.0],\"title\":{\"text\":\"qtd\"}},\"yaxis\":{\"anchor\":\"x\",\"domain\":[0.0,1.0],\"title\":{\"text\":\"genres\"}},\"legend\":{\"tracegroupgap\":0},\"title\":{\"text\":\"Top 10 G\\u00eaneros\"},\"barmode\":\"relative\"},                        {\"responsive\": true}                    )                };                            </script>        </div>\n",
       "</body>\n",
       "</html>"
      ]
     },
     "metadata": {
      "application/vnd.databricks.v1+output": {
       "addedWidgets": {},
       "arguments": {},
       "data": "<html>\n<head><meta charset=\"utf-8\" /></head>\n<body>\n    <div>            <script src=\"https://cdnjs.cloudflare.com/ajax/libs/mathjax/2.7.5/MathJax.js?config=TeX-AMS-MML_SVG\"></script><script type=\"text/javascript\">if (window.MathJax) {MathJax.Hub.Config({SVG: {font: \"STIX-Web\"}});}</script>                <script type=\"text/javascript\">window.PlotlyConfig = {MathJaxConfig: 'local'};</script>\n        <script src=\"https://cdn.plot.ly/plotly-2.9.0.min.js\"></script>                <div id=\"e49d381a-872f-49fd-b50a-b10fe99a4904\" class=\"plotly-graph-div\" style=\"height:100%; width:100%;\"></div>            <script type=\"text/javascript\">                                    window.PLOTLYENV=window.PLOTLYENV || {};                                    if (document.getElementById(\"e49d381a-872f-49fd-b50a-b10fe99a4904\")) {                    Plotly.newPlot(                        \"e49d381a-872f-49fd-b50a-b10fe99a4904\",                        [{\"alignmentgroup\":\"True\",\"hovertemplate\":\"qtd=%{x}<br>genres=%{y}<extra></extra>\",\"legendgroup\":\"\",\"marker\":{\"color\":\"#636efa\",\"pattern\":{\"shape\":\"\"}},\"name\":\"\",\"offsetgroup\":\"\",\"orientation\":\"h\",\"showlegend\":false,\"textposition\":\"auto\",\"x\":[69,63,56,50,48,45,42,41,41,40,39],\"xaxis\":\"x\",\"y\":[\"['movie tunes']\",\"['show tunes']\",\"['hollywood']\",\"['orchestral performance']\",\"['broadway', 'hollywood', 'show tunes']\",\"['disney', 'movie tunes']\",\"['sleep']\",\"['gospel']\",\"['contemporary country', 'country', 'country road', 'modern country rock']\",\"['classical soprano']\",\"['latin', 'latin hip hop', 'reggaeton', 'reggaeton flow', 'trap latino', 'tropical']\"],\"yaxis\":\"y\",\"type\":\"bar\"}],                        {\"template\":{\"data\":{\"bar\":[{\"error_x\":{\"color\":\"#2a3f5f\"},\"error_y\":{\"color\":\"#2a3f5f\"},\"marker\":{\"line\":{\"color\":\"#E5ECF6\",\"width\":0.5},\"pattern\":{\"fillmode\":\"overlay\",\"size\":10,\"solidity\":0.2}},\"type\":\"bar\"}],\"barpolar\":[{\"marker\":{\"line\":{\"color\":\"#E5ECF6\",\"width\":0.5},\"pattern\":{\"fillmode\":\"overlay\",\"size\":10,\"solidity\":0.2}},\"type\":\"barpolar\"}],\"carpet\":[{\"aaxis\":{\"endlinecolor\":\"#2a3f5f\",\"gridcolor\":\"white\",\"linecolor\":\"white\",\"minorgridcolor\":\"white\",\"startlinecolor\":\"#2a3f5f\"},\"baxis\":{\"endlinecolor\":\"#2a3f5f\",\"gridcolor\":\"white\",\"linecolor\":\"white\",\"minorgridcolor\":\"white\",\"startlinecolor\":\"#2a3f5f\"},\"type\":\"carpet\"}],\"choropleth\":[{\"colorbar\":{\"outlinewidth\":0,\"ticks\":\"\"},\"type\":\"choropleth\"}],\"contour\":[{\"colorbar\":{\"outlinewidth\":0,\"ticks\":\"\"},\"colorscale\":[[0.0,\"#0d0887\"],[0.1111111111111111,\"#46039f\"],[0.2222222222222222,\"#7201a8\"],[0.3333333333333333,\"#9c179e\"],[0.4444444444444444,\"#bd3786\"],[0.5555555555555556,\"#d8576b\"],[0.6666666666666666,\"#ed7953\"],[0.7777777777777778,\"#fb9f3a\"],[0.8888888888888888,\"#fdca26\"],[1.0,\"#f0f921\"]],\"type\":\"contour\"}],\"contourcarpet\":[{\"colorbar\":{\"outlinewidth\":0,\"ticks\":\"\"},\"type\":\"contourcarpet\"}],\"heatmap\":[{\"colorbar\":{\"outlinewidth\":0,\"ticks\":\"\"},\"colorscale\":[[0.0,\"#0d0887\"],[0.1111111111111111,\"#46039f\"],[0.2222222222222222,\"#7201a8\"],[0.3333333333333333,\"#9c179e\"],[0.4444444444444444,\"#bd3786\"],[0.5555555555555556,\"#d8576b\"],[0.6666666666666666,\"#ed7953\"],[0.7777777777777778,\"#fb9f3a\"],[0.8888888888888888,\"#fdca26\"],[1.0,\"#f0f921\"]],\"type\":\"heatmap\"}],\"heatmapgl\":[{\"colorbar\":{\"outlinewidth\":0,\"ticks\":\"\"},\"colorscale\":[[0.0,\"#0d0887\"],[0.1111111111111111,\"#46039f\"],[0.2222222222222222,\"#7201a8\"],[0.3333333333333333,\"#9c179e\"],[0.4444444444444444,\"#bd3786\"],[0.5555555555555556,\"#d8576b\"],[0.6666666666666666,\"#ed7953\"],[0.7777777777777778,\"#fb9f3a\"],[0.8888888888888888,\"#fdca26\"],[1.0,\"#f0f921\"]],\"type\":\"heatmapgl\"}],\"histogram\":[{\"marker\":{\"pattern\":{\"fillmode\":\"overlay\",\"size\":10,\"solidity\":0.2}},\"type\":\"histogram\"}],\"histogram2d\":[{\"colorbar\":{\"outlinewidth\":0,\"ticks\":\"\"},\"colorscale\":[[0.0,\"#0d0887\"],[0.1111111111111111,\"#46039f\"],[0.2222222222222222,\"#7201a8\"],[0.3333333333333333,\"#9c179e\"],[0.4444444444444444,\"#bd3786\"],[0.5555555555555556,\"#d8576b\"],[0.6666666666666666,\"#ed7953\"],[0.7777777777777778,\"#fb9f3a\"],[0.8888888888888888,\"#fdca26\"],[1.0,\"#f0f921\"]],\"type\":\"histogram2d\"}],\"histogram2dcontour\":[{\"colorbar\":{\"outlinewidth\":0,\"ticks\":\"\"},\"colorscale\":[[0.0,\"#0d0887\"],[0.1111111111111111,\"#46039f\"],[0.2222222222222222,\"#7201a8\"],[0.3333333333333333,\"#9c179e\"],[0.4444444444444444,\"#bd3786\"],[0.5555555555555556,\"#d8576b\"],[0.6666666666666666,\"#ed7953\"],[0.7777777777777778,\"#fb9f3a\"],[0.8888888888888888,\"#fdca26\"],[1.0,\"#f0f921\"]],\"type\":\"histogram2dcontour\"}],\"mesh3d\":[{\"colorbar\":{\"outlinewidth\":0,\"ticks\":\"\"},\"type\":\"mesh3d\"}],\"parcoords\":[{\"line\":{\"colorbar\":{\"outlinewidth\":0,\"ticks\":\"\"}},\"type\":\"parcoords\"}],\"pie\":[{\"automargin\":true,\"type\":\"pie\"}],\"scatter\":[{\"marker\":{\"colorbar\":{\"outlinewidth\":0,\"ticks\":\"\"}},\"type\":\"scatter\"}],\"scatter3d\":[{\"line\":{\"colorbar\":{\"outlinewidth\":0,\"ticks\":\"\"}},\"marker\":{\"colorbar\":{\"outlinewidth\":0,\"ticks\":\"\"}},\"type\":\"scatter3d\"}],\"scattercarpet\":[{\"marker\":{\"colorbar\":{\"outlinewidth\":0,\"ticks\":\"\"}},\"type\":\"scattercarpet\"}],\"scattergeo\":[{\"marker\":{\"colorbar\":{\"outlinewidth\":0,\"ticks\":\"\"}},\"type\":\"scattergeo\"}],\"scattergl\":[{\"marker\":{\"colorbar\":{\"outlinewidth\":0,\"ticks\":\"\"}},\"type\":\"scattergl\"}],\"scattermapbox\":[{\"marker\":{\"colorbar\":{\"outlinewidth\":0,\"ticks\":\"\"}},\"type\":\"scattermapbox\"}],\"scatterpolar\":[{\"marker\":{\"colorbar\":{\"outlinewidth\":0,\"ticks\":\"\"}},\"type\":\"scatterpolar\"}],\"scatterpolargl\":[{\"marker\":{\"colorbar\":{\"outlinewidth\":0,\"ticks\":\"\"}},\"type\":\"scatterpolargl\"}],\"scatterternary\":[{\"marker\":{\"colorbar\":{\"outlinewidth\":0,\"ticks\":\"\"}},\"type\":\"scatterternary\"}],\"surface\":[{\"colorbar\":{\"outlinewidth\":0,\"ticks\":\"\"},\"colorscale\":[[0.0,\"#0d0887\"],[0.1111111111111111,\"#46039f\"],[0.2222222222222222,\"#7201a8\"],[0.3333333333333333,\"#9c179e\"],[0.4444444444444444,\"#bd3786\"],[0.5555555555555556,\"#d8576b\"],[0.6666666666666666,\"#ed7953\"],[0.7777777777777778,\"#fb9f3a\"],[0.8888888888888888,\"#fdca26\"],[1.0,\"#f0f921\"]],\"type\":\"surface\"}],\"table\":[{\"cells\":{\"fill\":{\"color\":\"#EBF0F8\"},\"line\":{\"color\":\"white\"}},\"header\":{\"fill\":{\"color\":\"#C8D4E3\"},\"line\":{\"color\":\"white\"}},\"type\":\"table\"}]},\"layout\":{\"annotationdefaults\":{\"arrowcolor\":\"#2a3f5f\",\"arrowhead\":0,\"arrowwidth\":1},\"autotypenumbers\":\"strict\",\"coloraxis\":{\"colorbar\":{\"outlinewidth\":0,\"ticks\":\"\"}},\"colorscale\":{\"diverging\":[[0,\"#8e0152\"],[0.1,\"#c51b7d\"],[0.2,\"#de77ae\"],[0.3,\"#f1b6da\"],[0.4,\"#fde0ef\"],[0.5,\"#f7f7f7\"],[0.6,\"#e6f5d0\"],[0.7,\"#b8e186\"],[0.8,\"#7fbc41\"],[0.9,\"#4d9221\"],[1,\"#276419\"]],\"sequential\":[[0.0,\"#0d0887\"],[0.1111111111111111,\"#46039f\"],[0.2222222222222222,\"#7201a8\"],[0.3333333333333333,\"#9c179e\"],[0.4444444444444444,\"#bd3786\"],[0.5555555555555556,\"#d8576b\"],[0.6666666666666666,\"#ed7953\"],[0.7777777777777778,\"#fb9f3a\"],[0.8888888888888888,\"#fdca26\"],[1.0,\"#f0f921\"]],\"sequentialminus\":[[0.0,\"#0d0887\"],[0.1111111111111111,\"#46039f\"],[0.2222222222222222,\"#7201a8\"],[0.3333333333333333,\"#9c179e\"],[0.4444444444444444,\"#bd3786\"],[0.5555555555555556,\"#d8576b\"],[0.6666666666666666,\"#ed7953\"],[0.7777777777777778,\"#fb9f3a\"],[0.8888888888888888,\"#fdca26\"],[1.0,\"#f0f921\"]]},\"colorway\":[\"#636efa\",\"#EF553B\",\"#00cc96\",\"#ab63fa\",\"#FFA15A\",\"#19d3f3\",\"#FF6692\",\"#B6E880\",\"#FF97FF\",\"#FECB52\"],\"font\":{\"color\":\"#2a3f5f\"},\"geo\":{\"bgcolor\":\"white\",\"lakecolor\":\"white\",\"landcolor\":\"#E5ECF6\",\"showlakes\":true,\"showland\":true,\"subunitcolor\":\"white\"},\"hoverlabel\":{\"align\":\"left\"},\"hovermode\":\"closest\",\"mapbox\":{\"style\":\"light\"},\"paper_bgcolor\":\"white\",\"plot_bgcolor\":\"#E5ECF6\",\"polar\":{\"angularaxis\":{\"gridcolor\":\"white\",\"linecolor\":\"white\",\"ticks\":\"\"},\"bgcolor\":\"#E5ECF6\",\"radialaxis\":{\"gridcolor\":\"white\",\"linecolor\":\"white\",\"ticks\":\"\"}},\"scene\":{\"xaxis\":{\"backgroundcolor\":\"#E5ECF6\",\"gridcolor\":\"white\",\"gridwidth\":2,\"linecolor\":\"white\",\"showbackground\":true,\"ticks\":\"\",\"zerolinecolor\":\"white\"},\"yaxis\":{\"backgroundcolor\":\"#E5ECF6\",\"gridcolor\":\"white\",\"gridwidth\":2,\"linecolor\":\"white\",\"showbackground\":true,\"ticks\":\"\",\"zerolinecolor\":\"white\"},\"zaxis\":{\"backgroundcolor\":\"#E5ECF6\",\"gridcolor\":\"white\",\"gridwidth\":2,\"linecolor\":\"white\",\"showbackground\":true,\"ticks\":\"\",\"zerolinecolor\":\"white\"}},\"shapedefaults\":{\"line\":{\"color\":\"#2a3f5f\"}},\"ternary\":{\"aaxis\":{\"gridcolor\":\"white\",\"linecolor\":\"white\",\"ticks\":\"\"},\"baxis\":{\"gridcolor\":\"white\",\"linecolor\":\"white\",\"ticks\":\"\"},\"bgcolor\":\"#E5ECF6\",\"caxis\":{\"gridcolor\":\"white\",\"linecolor\":\"white\",\"ticks\":\"\"}},\"title\":{\"x\":0.05},\"xaxis\":{\"automargin\":true,\"gridcolor\":\"white\",\"linecolor\":\"white\",\"ticks\":\"\",\"title\":{\"standoff\":15},\"zerolinecolor\":\"white\",\"zerolinewidth\":2},\"yaxis\":{\"automargin\":true,\"gridcolor\":\"white\",\"linecolor\":\"white\",\"ticks\":\"\",\"title\":{\"standoff\":15},\"zerolinecolor\":\"white\",\"zerolinewidth\":2}}},\"xaxis\":{\"anchor\":\"y\",\"domain\":[0.0,1.0],\"title\":{\"text\":\"qtd\"}},\"yaxis\":{\"anchor\":\"x\",\"domain\":[0.0,1.0],\"title\":{\"text\":\"genres\"}},\"legend\":{\"tracegroupgap\":0},\"title\":{\"text\":\"Top 10 G\\u00eaneros\"},\"barmode\":\"relative\"},                        {\"responsive\": true}                    )                };                            </script>        </div>\n</body>\n</html>",
       "datasetInfos": [],
       "metadata": {},
       "removedWidgets": [],
       "textData": null,
       "type": "htmlSandbox"
      }
     },
     "output_type": "display_data"
    }
   ],
   "source": [
    "%python\n",
    "\n",
    "#10 principais genêros musicais\n",
    "\n",
    "df_consulta_w_genres['qtd'] = 1  # Cria uma coluna de quantidade de 1 para cada linha\n",
    "\n",
    "df_consulta_w_genres_02 = df_consulta_w_genres[['genres', 'qtd']]  # Seleciona apenas as colunas de gênero e quantidade\n",
    "Wgenres_2_ordenado = df_consulta_w_genres_02.groupby('genres').sum().sort_values(by='qtd', ascending=False).reset_index() # Agrupa os dados por gênero e soma a quantidade de músicas de cada gênero, em seguida ordena os resultados em ordem decrescente\n",
    "top_generos = Wgenres_2_ordenado.loc[0:10] # Seleciona os 10 gêneros mais populares\n",
    "\n",
    "plot_title = 'Top 10 Gêneros'\n",
    "top_generos.plot.bar(x='qtd', y='genres', title=plot_title) # Plota um gráfico de barras para os top 10 gêneros\n",
    "\n",
    "top_generos_2 = Wgenres_2_ordenado.loc[1:11] # Seleciona os gêneros do 2º ao 11º mais populares\n",
    "\n",
    "plot_title = 'Top 10 Gêneros'\n",
    "top_generos_2.plot.bar(x='qtd', y='genres', title=plot_title) # Plota um gráfico de barras para os gêneros do 2º ao 11º mais populares"
   ]
  },
  {
   "cell_type": "markdown",
   "metadata": {
    "application/vnd.databricks.v1+cell": {
     "cellMetadata": {},
     "inputWidgets": {},
     "nuid": "bd0d7f34-6069-4b37-a92f-5bc4d9d4afda",
     "showTitle": false,
     "tableResultSettingsMap": {},
     "title": ""
    }
   },
   "source": [
    "\n",
    "## 10 artistas nos principais genêros"
   ]
  },
  {
   "cell_type": "code",
   "execution_count": 0,
   "metadata": {
    "application/vnd.databricks.v1+cell": {
     "cellMetadata": {
      "byteLimit": 2048000,
      "rowLimit": 10000
     },
     "inputWidgets": {},
     "nuid": "953c539a-5078-47fd-8ff7-3b0cdd8d809a",
     "showTitle": false,
     "tableResultSettingsMap": {},
     "title": ""
    }
   },
   "outputs": [
    {
     "output_type": "display_data",
     "data": {
      "text/html": [
       "<style scoped>\n",
       "  .table-result-container {\n",
       "    max-height: 300px;\n",
       "    overflow: auto;\n",
       "  }\n",
       "  table, th, td {\n",
       "    border: 1px solid black;\n",
       "    border-collapse: collapse;\n",
       "  }\n",
       "  th, td {\n",
       "    padding: 5px;\n",
       "  }\n",
       "  th {\n",
       "    text-align: left;\n",
       "  }\n",
       "</style><div class='table-result-container'><table class='table-result'><thead style='background-color: white'><tr><th>genres</th><th>artists</th></tr></thead><tbody><tr><td>['show tunes']</td><td>\"\"\"Cats\"\" 1981 Original London Cast\"</td></tr><tr><td>['broadway', 'hollywood', 'show tunes']</td><td>'Legally Blonde' Ensemble</td></tr><tr><td>['show tunes']</td><td>'Legally Blonde' Greek Chorus</td></tr><tr><td>['broadway', 'hollywood', 'show tunes']</td><td>Aaron Tveit</td></tr><tr><td>['broadway', 'hollywood', 'show tunes']</td><td>Adam Pascal</td></tr><tr><td>['movie tunes']</td><td>Adriana Caselotti</td></tr><tr><td>['classical soprano']</td><td>Adrianne Pieczonka</td></tr><tr><td>['classical soprano']</td><td>Agnes Giebel</td></tr><tr><td>['gospel']</td><td>Albertina Walker</td></tr><tr><td>['broadway', 'hollywood', 'show tunes']</td><td>Alex Brightman</td></tr><tr><td>['latin', 'latin hip hop', 'reggaeton', 'reggaeton flow', 'trap latino', 'tropical']</td><td>Alex Gargolas</td></tr><tr><td>['latin', 'latin hip hop', 'reggaeton', 'reggaeton flow', 'trap latino', 'tropical']</td><td>Alexis y Fido</td></tr><tr><td>['broadway', 'hollywood', 'show tunes']</td><td>Alice Ripley</td></tr><tr><td>['movie tunes']</td><td>Alice Sixer</td></tr><tr><td>['show tunes']</td><td>Amanda Bynes</td></tr><tr><td>['show tunes']</td><td>Amy Spanger</td></tr><tr><td>['show tunes']</td><td>Andrea Burns</td></tr><tr><td>['classical soprano']</td><td>Andrea Rost</td></tr><tr><td>['orchestral performance']</td><td>André Cluytens</td></tr><tr><td>['orchestral performance']</td><td>André Previn</td></tr><tr><td>['show tunes']</td><td>Angela Cartwright</td></tr><tr><td>['classical soprano']</td><td>Anna Tomowa-Sintow</td></tr><tr><td>['broadway', 'hollywood', 'show tunes']</td><td>Annaleigh Ashford</td></tr><tr><td>['classical soprano']</td><td>Anneliese Rothenberger</td></tr><tr><td>['gospel']</td><td>Anthony Brown & group therAPy</td></tr><tr><td>['movie tunes']</td><td>Anthony Gonzalez</td></tr><tr><td>['broadway', 'hollywood', 'show tunes']</td><td>Anthony Rapp</td></tr><tr><td>['orchestral performance']</td><td>Antoni Wit</td></tr><tr><td>['hollywood']</td><td>Antonio Banderas</td></tr><tr><td>['movie tunes']</td><td>Ashley Lilley</td></tr><tr><td>['classical soprano']</td><td>Astrid Varnay</td></tr><tr><td>['show tunes']</td><td>Austyn Johnson</td></tr><tr><td>['latin', 'latin hip hop', 'reggaeton', 'reggaeton flow', 'trap latino', 'tropical']</td><td>Baby Rasta</td></tr><tr><td>['sleep']</td><td>Baby Sleep</td></tr><tr><td>['sleep']</td><td>Baby Sweet Dream</td></tr><tr><td>['broadway', 'hollywood', 'show tunes']</td><td>Barrett Wilbert Weed</td></tr><tr><td>['hollywood']</td><td>Barry Bostwick</td></tr><tr><td>['disney', 'movie tunes']</td><td>Beaumont</td></tr><tr><td>['gospel']</td><td>Bebe & Cece Winans</td></tr><tr><td>['broadway', 'hollywood', 'show tunes']</td><td>Bebe Neuwirth</td></tr><tr><td>['gospel']</td><td>Bebe Winans</td></tr><tr><td>['sleep']</td><td>Bedtime Baby</td></tr><tr><td>['broadway', 'hollywood', 'show tunes']</td><td>Ben Fankhauser</td></tr><tr><td>['show tunes']</td><td>Benjamin Schrader</td></tr><tr><td>['contemporary country', 'country', 'country road', 'modern country rock']</td><td>Bent</td></tr><tr><td>['broadway', 'hollywood', 'show tunes']</td><td>Bernadette Peters</td></tr><tr><td>['disney', 'movie tunes']</td><td>Beth Fowler</td></tr><tr><td>['movie tunes']</td><td>Betty Noyes</td></tr><tr><td>['classical soprano']</td><td>Bidu Sayão</td></tr><tr><td>['contemporary country', 'country', 'country road', 'modern country rock']</td><td>Big & Rich</td></tr><tr><td>['movie tunes']</td><td>Bill Farmer</td></tr><tr><td>['disney', 'movie tunes']</td><td>Bill Shirley</td></tr><tr><td>['disney', 'movie tunes']</td><td>Bill Thompson</td></tr><tr><td>['movie tunes']</td><td>Billy Bletcher</td></tr><tr><td>['contemporary country', 'country', 'country road', 'modern country rock']</td><td>Billy Currington</td></tr><tr><td>['broadway', 'hollywood', 'show tunes']</td><td>Billy Porter</td></tr><tr><td>['gospel']</td><td>Bishop Paul S. Morton, Sr.</td></tr><tr><td>['disney', 'movie tunes']</td><td>Bobby Driscoll</td></tr><tr><td>['hollywood']</td><td>Bonham</td></tr><tr><td>['movie tunes']</td><td>Brad Garrett</td></tr><tr><td>['disney', 'movie tunes']</td><td>Brad Kane</td></tr><tr><td>['hollywood']</td><td>Bradley Cooper</td></tr><tr><td>['contemporary country', 'country', 'country road', 'modern country rock']</td><td>Brett Eldredge</td></tr><tr><td>['gospel']</td><td>Brian Courtney Wilson</td></tr><tr><td>['broadway', 'hollywood', 'show tunes']</td><td>Brian D'Arcy James</td></tr><tr><td>['show tunes']</td><td>Brian Sears</td></tr><tr><td>['gospel']</td><td>Brian Wilson</td></tr><tr><td>['hollywood']</td><td>Brittany Snow</td></tr><tr><td>['movie tunes']</td><td>Bruce Adler</td></tr><tr><td>['disney', 'movie tunes']</td><td>Bruce Reitherman</td></tr><tr><td>['hollywood']</td><td>Bruce Willis</td></tr><tr><td>['latin', 'latin hip hop', 'reggaeton', 'reggaeton flow', 'trap latino', 'tropical']</td><td>Brytiago</td></tr><tr><td>['contemporary country', 'country', 'country road', 'modern country rock']</td><td>Bucky Covington</td></tr><tr><td>['movie tunes']</td><td>Burke Moses</td></tr><tr><td>['sleep']</td><td>Calming Sounds</td></tr><tr><td>['movie tunes']</td><td>Cameron Seely</td></tr><tr><td>['disney', 'movie tunes']</td><td>Carmen Twillie</td></tr><tr><td>['broadway', 'hollywood', 'show tunes']</td><td>Caroline O'Connor</td></tr><tr><td>['broadway', 'hollywood', 'show tunes']</td><td>Carrie Fletcher</td></tr><tr><td>['latin', 'latin hip hop', 'reggaeton', 'reggaeton flow', 'trap latino', 'tropical']</td><td>Casa De Leones</td></tr><tr><td>['latin', 'latin hip hop', 'reggaeton', 'reggaeton flow', 'trap latino', 'tropical']</td><td>Casper Magico</td></tr><tr><td>['movie tunes']</td><td>Cast - The Nightmare Before Christmas</td></tr><tr><td>['hollywood']</td><td>Cast Of Mamma Mia The Movie</td></tr><tr><td>['gospel']</td><td>CeCe Winans</td></tr><tr><td>['contemporary country', 'country', 'country road', 'modern country rock']</td><td>Chase</td></tr><tr><td>['contemporary country', 'country', 'country road', 'modern country rock']</td><td>Chase Rice</td></tr><tr><td>['disney', 'movie tunes']</td><td>Cheryl Freeman</td></tr><tr><td>['movie tunes']</td><td>Childrens Chorus</td></tr><tr><td>['disney', 'movie tunes']</td><td>Chorus</td></tr><tr><td>['disney', 'movie tunes']</td><td>Chorus - Aladdin And The King Of Thieves</td></tr><tr><td>['disney', 'movie tunes']</td><td>Chorus - Hercules</td></tr><tr><td>['disney', 'movie tunes']</td><td>Chorus - Mulan</td></tr><tr><td>['contemporary country', 'country', 'country road', 'modern country rock']</td><td>Chris Cagle</td></tr><tr><td>['contemporary country', 'country', 'country road', 'modern country rock']</td><td>Chris Janson</td></tr><tr><td>['contemporary country', 'country', 'country road', 'modern country rock']</td><td>Chris Young</td></tr><tr><td>['hollywood']</td><td>Christian Bale</td></tr><tr><td>['broadway', 'hollywood', 'show tunes']</td><td>Christian Borle</td></tr><tr><td>['hollywood']</td><td>Christine Baranski</td></tr><tr><td>['broadway', 'hollywood', 'show tunes']</td><td>Christopher Fitzgerald</td></tr><tr><td>['broadway', 'hollywood', 'show tunes']</td><td>Christy Altomare</td></tr><tr><td>['disney', 'movie tunes']</td><td>Cinderella's Mice Chorus</td></tr><tr><td>['hollywood']</td><td>Cindy Bullens</td></tr><tr><td>['show tunes']</td><td>Clark Johnsen</td></tr><tr><td>['contemporary country', 'country', 'country road', 'modern country rock']</td><td>Clay Walker</td></tr><tr><td>['movie tunes']</td><td>Cliff Edwards</td></tr><tr><td>['contemporary country', 'country', 'country road', 'modern country rock']</td><td>Cole Swindell</td></tr><tr><td>['hollywood']</td><td>Colin Firth</td></tr><tr><td>['gospel']</td><td>Commissioned</td></tr><tr><td>['contemporary country', 'country', 'country road', 'modern country rock']</td><td>Corey Smith</td></tr><tr><td>['latin', 'latin hip hop', 'reggaeton', 'reggaeton flow', 'trap latino', 'tropical']</td><td>Cosculluela</td></tr><tr><td>['classical soprano']</td><td>Cristina Deutekom</td></tr><tr><td>['latin', 'latin hip hop', 'reggaeton', 'reggaeton flow', 'trap latino', 'tropical']</td><td>DJ Luian</td></tr><tr><td>['latin', 'latin hip hop', 'reggaeton', 'reggaeton flow', 'trap latino', 'tropical']</td><td>DJ Nelson</td></tr><tr><td>['hollywood']</td><td>Dana Fuchs</td></tr><tr><td>['broadway', 'hollywood', 'show tunes']</td><td>Daniel Breaker</td></tr><tr><td>['show tunes']</td><td>Daniel Everidge</td></tr><tr><td>['orchestral performance']</td><td>Daniel Harding</td></tr><tr><td>['broadway', 'hollywood', 'show tunes']</td><td>Danny Burstein</td></tr><tr><td>['movie tunes']</td><td>Danny DeVito</td></tr><tr><td>['show tunes']</td><td>Daphne Rubin-Vega</td></tr><tr><td>['contemporary country', 'country', 'country road', 'modern country rock']</td><td>Darryl Worley</td></tr><tr><td>['gospel']</td><td>Daryl Coley</td></tr><tr><td>['disney', 'movie tunes']</td><td>Daughters of Triton</td></tr><tr><td>['orchestral performance']</td><td>David Lloyd-Jones</td></tr><tr><td>['movie tunes']</td><td>David Moscow</td></tr><tr><td>['disney', 'movie tunes']</td><td>David Ogden Stiers</td></tr><tr><td>['latin', 'latin hip hop', 'reggaeton', 'reggaeton flow', 'trap latino', 'tropical']</td><td>De La Ghetto</td></tr><tr><td>['latin', 'latin hip hop', 'reggaeton', 'reggaeton flow', 'trap latino', 'tropical']</td><td>De Leone</td></tr><tr><td>['gospel']</td><td>DeWayne Woods</td></tr><tr><td>['show tunes']</td><td>Debbie Deb</td></tr><tr><td>['show tunes']</td><td>Debbie Turner</td></tr><tr><td>['sleep']</td><td>Deep Sleep</td></tr><tr><td>['sleep']</td><td>Deep Sleep Music Collective</td></tr><tr><td>['sleep']</td><td>Deep Sleep Music Experience</td></tr><tr><td>['show tunes']</td><td>Deidre Goodwin</td></tr><tr><td>['gospel']</td><td>Deitrick Haddon</td></tr><tr><td>['show tunes']</td><td>Delta Nus</td></tr><tr><td>['classical soprano']</td><td>Denise Duval</td></tr><tr><td>['show tunes']</td><td>Denise Faye</td></tr><tr><td>['show tunes']</td><td>Dequina Moore</td></tr><tr><td>['disney', 'movie tunes']</td><td>Dickie Jones</td></tr><tr><td>['contemporary country', 'country', 'country road', 'modern country rock']</td><td>Dierks Bentley</td></tr><tr><td>['movie tunes']</td><td>Digby Wolfe</td></tr><tr><td>['movie tunes']</td><td>Dominic Cooper</td></tr><tr><td>['gospel']</td><td>Donald Lawrence & The Tri-City Singers</td></tr><tr><td>['disney', 'movie tunes']</td><td>Donna Murphy</td></tr><tr><td>['gospel']</td><td>Donnie McClurkin</td></tr><tr><td>['movie tunes']</td><td>Dora Luz</td></tr><tr><td>['broadway', 'hollywood', 'show tunes']</td><td>Drew Gehling</td></tr><tr><td>['show tunes']</td><td>Duane Chase</td></tr><tr><td>['show tunes']</td><td>Duffy</td></tr><tr><td>['contemporary country', 'country', 'country road', 'modern country rock']</td><td>Dust</td></tr><tr><td>['contemporary country', 'country', 'country road', 'modern country rock']</td><td>Dustin Lynch</td></tr><tr><td>['contemporary country', 'country', 'country road', 'modern country rock']</td><td>Dylan Scott</td></tr><tr><td>['contemporary country', 'country', 'country road', 'modern country rock']</td><td>Easton Corbin</td></tr><tr><td>['classical soprano']</td><td>Eileen Farrell</td></tr><tr><td>['show tunes']</td><td>Ekaterina Chtchelkanova</td></tr><tr><td>['classical soprano']</td><td>Eleanor Steber</td></tr><tr><td>['classical soprano']</td><td>Elisabeth Grümmer</td></tr><tr><td>['classical soprano']</td><td>Elizabeth Harwood</td></tr><tr><td>['show tunes']</td><td>Elle McLemore</td></tr><tr><td>['hollywood']</td><td>Emma Stone</td></tr><tr><td>['movie tunes']</td><td>Ensemble</td></tr><tr><td>['contemporary country', 'country', 'country road', 'modern country rock']</td><td>Eric</td></tr><tr><td>['contemporary country', 'country', 'country road', 'modern country rock']</td><td>Eric Church</td></tr><tr><td>['classical soprano']</td><td>Erna Berger</td></tr><tr><td>['disney', 'movie tunes']</td><td>Ernie</td></tr><tr><td>['disney', 'movie tunes']</td><td>Ernie Sabella</td></tr><tr><td>['orchestral performance']</td><td>Eugen Jochum</td></tr><tr><td>['classical soprano']</td><td>Eva Marton</td></tr><tr><td>['hollywood']</td><td>Evan Rachel Wood</td></tr><tr><td>['hollywood']</td><td>Ewan McGregor</td></tr><tr><td>['latin', 'latin hip hop', 'reggaeton', 'reggaeton flow', 'trap latino', 'tropical']</td><td>FLOW</td></tr><tr><td>['orchestral performance']</td><td>Fabien Gabel</td></tr><tr><td>['sleep']</td><td>Fan Sounds</td></tr><tr><td>['hollywood']</td><td>Felicia Day</td></tr><tr><td>['movie tunes']</td><td>Fess Parker</td></tr><tr><td>['gospel']</td><td>Forever Jones</td></tr><tr><td>['latin', 'latin hip hop', 'reggaeton', 'reggaeton flow', 'trap latino', 'tropical']</td><td>\"Franco \"\"El Gorilla\"\"\"</td></tr><tr><td>['disney', 'movie tunes']</td><td>Frank Churchill</td></tr><tr><td>['contemporary country', 'country', 'country road', 'modern country rock']</td><td>Frankie Ballard</td></tr><tr><td>['orchestral performance']</td><td>Franz Welser-Möst</td></tr><tr><td>['gospel']</td><td>Fred Hammond</td></tr><tr><td>['classical soprano']</td><td>Galina Vishnevskaya</td></tr><tr><td>['contemporary country', 'country', 'country road', 'modern country rock']</td><td>Gary Allan</td></tr><tr><td>['show tunes']</td><td>Gary Beach</td></tr><tr><td>['disney', 'movie tunes']</td><td>George Bruns</td></tr><tr><td>['movie tunes']</td><td>George Givot</td></tr><tr><td>['movie tunes']</td><td>Gerard Butler</td></tr><tr><td>['show tunes']</td><td>Gerard Canonico</td></tr><tr><td>['orchestral performance']</td><td>Giuseppe Sinopoli</td></tr><tr><td>['gospel']</td><td>Gods Property</td></tr><tr><td>['show tunes']</td><td>Graham Bowen</td></tr><tr><td>['orchestral performance']</td><td>Grant Llewellyn</td></tr><tr><td>['gospel']</td><td>Group Therapy</td></tr><tr><td>['hollywood']</td><td>Haley Bennett</td></tr><tr><td>['movie tunes']</td><td>Harry Stockwell</td></tr><tr><td>['movie tunes']</td><td>Hayley Mills</td></tr><tr><td>['show tunes']</td><td>Heather Menzies</td></tr><tr><td>['disney', 'movie tunes']</td><td>Heidi Mollenhauer</td></tr><tr><td>['orchestral performance']</td><td>Heinz Rögner</td></tr><tr><td>['hollywood']</td><td>Helena Bonham Carter</td></tr><tr><td>['classical soprano']</td><td>Helga Dernesch</td></tr><tr><td>['orchestral performance']</td><td>Helmuth Rilling</td></tr><tr><td>['orchestral performance']</td><td>Herbert Blomstedt</td></tr><tr><td>['gospel']</td><td>Hezekiah Walker</td></tr><tr><td>['gospel']</td><td>Hezekiah Walker & The Love Fellowship Crusade Choir</td></tr><tr><td>['show tunes']</td><td>Hilton McRae</td></tr><tr><td>['movie tunes']</td><td>Howard Ashman</td></tr><tr><td>['hollywood']</td><td>Hugh Grant</td></tr><tr><td>['movie tunes']</td><td>Ilene Woods</td></tr><tr><td>['classical soprano']</td><td>Inge Borkh</td></tr><tr><td>['classical soprano']</td><td>Irmgard Seefried</td></tr><tr><td>['orchestral performance']</td><td>István Kertész</td></tr><tr><td>['disney', 'movie tunes']</td><td>J. Pat O'Malley</td></tr><tr><td>['hollywood']</td><td>J. Phoenix</td></tr><tr><td>['latin', 'latin hip hop', 'reggaeton', 'reggaeton flow', 'trap latino', 'tropical']</td><td>Jadiel</td></tr><tr><td>['contemporary country', 'country', 'country road', 'modern country rock']</td><td>Jake Owen</td></tr><tr><td>['movie tunes']</td><td>James Baskett</td></tr><tr><td>['orchestral performance']</td><td>James Conlon</td></tr><tr><td>['orchestral performance']</td><td>James Judd</td></tr><tr><td>['hollywood']</td><td>James Marsden</td></tr><tr><td>['contemporary country', 'country', 'country road', 'modern country rock']</td><td>James Otto</td></tr><tr><td>['hollywood']</td><td>Jamie Campbell Bower</td></tr><tr><td>['classical soprano']</td><td>Jane Eaglen</td></tr><tr><td>['show tunes']</td><td>Janet Dacal</td></tr><tr><td>['contemporary country', 'country', 'country road', 'modern country rock']</td><td>Jaron And The Long Road To Love</td></tr><tr><td>['show tunes']</td><td>Jasmine Cephas-Jones</td></tr><tr><td>['show tunes']</td><td>Jason Michael Snow</td></tr><tr><td>['show tunes']</td><td>Jason Raize</td></tr><tr><td>['hollywood']</td><td>Jason Segel</td></tr><tr><td>['movie tunes']</td><td>Jason Weaver</td></tr><tr><td>['orchestral performance']</td><td>Jean-François Paillard</td></tr><tr><td>['orchestral performance']</td><td>Jeffrey Tate</td></tr><tr><td>['disney', 'movie tunes']</td><td>Jenifer Lewis</td></tr><tr><td>['broadway', 'hollywood', 'show tunes']</td><td>Jennifer Damiano</td></tr><tr><td>['classical soprano']</td><td>Jennifer Vyvyan</td></tr><tr><td>['movie tunes']</td><td>Jeremy Irons</td></tr><tr><td>['broadway', 'hollywood', 'show tunes']</td><td>Jeremy Jordan</td></tr><tr><td>['movie tunes']</td><td>Jerry Colonna</td></tr><tr><td>['movie tunes']</td><td>Jesse Corti</td></tr><tr><td>['broadway', 'hollywood', 'show tunes']</td><td>Jessica Keenan Wynn</td></tr><tr><td>['broadway', 'hollywood', 'show tunes']</td><td>Jessie Mueller</td></tr><tr><td>['broadway', 'hollywood', 'show tunes']</td><td>Jewell</td></tr><tr><td>['hollywood']</td><td>Jim Broadbent</td></tr><tr><td>['hollywood']</td><td>Jim Bryant</td></tr><tr><td>['movie tunes']</td><td>Jim Carmichael</td></tr><tr><td>['hollywood']</td><td>Jim Sturgess</td></tr><tr><td>['orchestral performance']</td><td>Jiří Bělohlávek</td></tr><tr><td>['orchestral performance']</td><td>Joann Falletta</td></tr><tr><td>['hollywood']</td><td>Joaquin Phoenix</td></tr><tr><td>['hollywood']</td><td>Joe Anderson</td></tr><tr><td>['broadway', 'hollywood', 'show tunes']</td><td>John Gallagher Jr.</td></tr><tr><td>['broadway', 'hollywood', 'show tunes']</td><td>John Gallagher, Jr.</td></tr><tr><td>['hollywood']</td><td>John Kander</td></tr><tr><td>['gospel']</td><td>John P Kee & New Life</td></tr><tr><td>['gospel']</td><td>John P. Kee</td></tr><tr><td>['hollywood']</td><td>John Travolta</td></tr><tr><td>['hollywood']</td><td>Johnny Depp</td></tr><tr><td>['hollywood']</td><td>Johnny Green</td></tr><tr><td>['show tunes']</td><td>Jon Eidson</td></tr><tr><td>['contemporary country', 'country', 'country road', 'modern country rock']</td><td>Jon Pardi</td></tr><tr><td>['disney', 'movie tunes']</td><td>Jonathan Freeman</td></tr><tr><td>['gospel']</td><td>Jonathan Nelson</td></tr><tr><td>['orchestral performance']</td><td>Josef K</td></tr><tr><td>['orchestral performance']</td><td>Josef Krips</td></tr><tr><td>['disney', 'movie tunes']</td><td>Joseph Williams</td></tr><tr><td>['contemporary country', 'country', 'country road', 'modern country rock']</td><td>Josh Turner</td></tr><tr><td>['orchestral performance']</td><td>José Serebrier</td></tr><tr><td>['latin', 'latin hip hop', 'reggaeton', 'reggaeton flow', 'trap latino', 'tropical']</td><td>Jowell</td></tr><tr><td>['latin', 'latin hip hop', 'reggaeton', 'reggaeton flow', 'trap latino', 'tropical']</td><td>Jowell & Randy</td></tr><tr><td>['hollywood']</td><td>Julie Walters</td></tr><tr><td>['show tunes']</td><td>Justin Bohon</td></tr><tr><td>['movie tunes']</td><td>Kamehameha Schools Children's Chorus</td></tr><tr><td>['broadway', 'hollywood', 'show tunes']</td><td>Kara Lindsay</td></tr><tr><td>['disney', 'movie tunes']</td><td>Karen Dotrice</td></tr><tr><td>['classical soprano']</td><td>Karita Mattila</td></tr><tr><td>['disney', 'movie tunes']</td><td>Kathryn Beaumont</td></tr><tr><td>['broadway', 'hollywood', 'show tunes']</td><td>Keala Settle</td></tr><tr><td>['broadway', 'hollywood', 'show tunes']</td><td>Keenan Wynn</td></tr><tr><td>['movie tunes']</td><td>Keith David</td></tr><tr><td>['latin', 'latin hip hop', 'reggaeton', 'reggaeton flow', 'trap latino', 'tropical']</td><td>Ken-Y</td></tr><tr><td>['latin', 'latin hip hop', 'reggaeton', 'reggaeton flow', 'trap latino', 'tropical']</td><td>Kendo</td></tr><tr><td>['latin', 'latin hip hop', 'reggaeton', 'reggaeton flow', 'trap latino', 'tropical']</td><td>Kendo Kaponi</td></tr><tr><td>['orchestral performance']</td><td>Kent Nagano</td></tr><tr><td>['show tunes']</td><td>Kevin Duda</td></tr><tr><td>['broadway', 'hollywood', 'show tunes']</td><td>Kimiko Glenn</td></tr><tr><td>['contemporary country', 'country', 'country road', 'modern country rock']</td><td>Kip Moore</td></tr><tr><td>['orchestral performance']</td><td>Klaus Tennstedt</td></tr><tr><td>['gospel']</td><td>Kurt Carr & The Kurt Carr Singers</td></tr><tr><td>['show tunes']</td><td>Kym Karath</td></tr><tr><td>['movie tunes']</td><td>LaChanze</td></tr><tr><td>['gospel']</td><td>LaShun Pace</td></tr><tr><td>['broadway', 'hollywood', 'show tunes']</td><td>Laura Dreyfuss</td></tr><tr><td>['movie tunes']</td><td>Laura Williams</td></tr><tr><td>['disney', 'movie tunes']</td><td>Lebo M.</td></tr><tr><td>['contemporary country', 'country', 'country road', 'modern country rock']</td><td>Lee Brice</td></tr><tr><td>['movie tunes']</td><td>Leigh Harline</td></tr><tr><td>['broadway', 'hollywood', 'show tunes']</td><td>Len Cariou</td></tr><tr><td>['broadway', 'hollywood', 'show tunes']</td><td>Leo Norbert Butz</td></tr><tr><td>['orchestral performance']</td><td>Leonard Slatkin</td></tr><tr><td>['orchestral performance']</td><td>Leopold Stokowski</td></tr><tr><td>['show tunes']</td><td>Les Misérables-Original London Cast</td></tr><tr><td>['broadway', 'hollywood', 'show tunes']</td><td>Leslie Kritzer</td></tr><tr><td>['hollywood']</td><td>Levi Stubbs</td></tr><tr><td>['show tunes']</td><td>Lewis Cleale</td></tr><tr><td>['hollywood']</td><td>Lily James</td></tr><tr><td>['show tunes']</td><td>Lin-Manuel Miranda</td></tr><tr><td>['show tunes']</td><td>Linda Eder</td></tr><tr><td>['movie tunes']</td><td>Linda Hunt</td></tr><tr><td>['classical soprano']</td><td>Lisa Otto</td></tr><tr><td>['classical soprano']</td><td>Lisa della Casa</td></tr><tr><td>['movie tunes']</td><td>Liz English</td></tr><tr><td>['classical soprano']</td><td>Ljuba Welitsch</td></tr><tr><td>['sleep']</td><td>Loopable</td></tr><tr><td>['orchestral performance']</td><td>Louis Langrée</td></tr><tr><td>['sleep']</td><td>Lullabies for Deep Meditation</td></tr><tr><td>['latin', 'latin hip hop', 'reggaeton', 'reggaeton flow', 'trap latino', 'tropical']</td><td>Luny Tunes</td></tr><tr><td>['latin', 'latin hip hop', 'reggaeton', 'reggaeton flow', 'trap latino', 'tropical']</td><td>MAGIC!</td></tr><tr><td>['movie tunes']</td><td>Mack David</td></tr><tr><td>['latin', 'latin hip hop', 'reggaeton', 'reggaeton flow', 'trap latino', 'tropical']</td><td>Magic</td></tr><tr><td>['latin', 'latin hip hop', 'reggaeton', 'reggaeton flow', 'trap latino', 'tropical']</td><td>Magnate Y Valentino</td></tr><tr><td>['gospel']</td><td>Mali Music</td></tr><tr><td>['broadway', 'hollywood', 'show tunes']</td><td>Mandy Gonzalez</td></tr><tr><td>['classical soprano']</td><td>Margaret Marshall</td></tr><tr><td>['orchestral performance']</td><td>Mark Elder</td></tr><tr><td>['movie tunes']</td><td>Mark Keali'i Ho'omalu</td></tr><tr><td>['gospel']</td><td>Martha Munizzi</td></tr><tr><td>['classical soprano']</td><td>Martha Mödl</td></tr><tr><td>['hollywood']</td><td>Martin Luther</td></tr><tr><td>['hollywood']</td><td>Martin Luther McCoy</td></tr><tr><td>['gospel']</td><td>Marvin Sapp</td></tr><tr><td>['disney', 'movie tunes']</td><td>Mary Costa</td></tr><tr><td>['disney', 'movie tunes']</td><td>Mary Moder</td></tr><tr><td>['broadway', 'hollywood', 'show tunes']</td><td>Matthew Morrison</td></tr><tr><td>['orchestral performance']</td><td>Maurice Abravanel</td></tr><tr><td>['show tunes']</td><td>Max Casella</td></tr><tr><td>['sleep']</td><td>Meditation Awareness</td></tr><tr><td>['movie tunes']</td><td>Mel Gibson</td></tr><tr><td>['gospel']</td><td>Men Of Standard</td></tr><tr><td>['hollywood']</td><td>Meryl Streep</td></tr><tr><td>['disney', 'movie tunes']</td><td>Mice Chorus</td></tr><tr><td>['orchestral performance']</td><td>Michel Plasson</td></tr><tr><td>['show tunes']</td><td>Michelle Duffy</td></tr><tr><td>['show tunes']</td><td>Michelle Federer</td></tr><tr><td>['hollywood']</td><td>Michelle Pfeiffer</td></tr><tr><td>['hollywood']</td><td>Michelle Williams</td></tr><tr><td>['movie tunes']</td><td>Mike Douglas</td></tr><tr><td>['show tunes']</td><td>Mike Faist</td></tr><tr><td>['latin', 'latin hip hop', 'reggaeton', 'reggaeton flow', 'trap latino', 'tropical']</td><td>Miky Woodz</td></tr><tr><td>['show tunes']</td><td>Miranda!</td></tr><tr><td>['classical soprano']</td><td>Monika Frimmer</td></tr><tr><td>['show tunes']</td><td>Mya Harrison</td></tr><tr><td>['movie tunes']</td><td>Nancy Adams</td></tr><tr><td>['hollywood']</td><td>Natalie Mendoza</td></tr><tr><td>['sleep']</td><td>Native American Flute</td></tr><tr><td>['sleep']</td><td>Native American Meditations</td></tr><tr><td>['sleep']</td><td>Natural White Noise Relaxation</td></tr><tr><td>['movie tunes']</td><td>Ned Washington</td></tr><tr><td>['sleep']</td><td>New Age</td></tr><tr><td>['show tunes']</td><td>Nicholas Hammond</td></tr><tr><td>['show tunes']</td><td>Nick Spangler</td></tr><tr><td>['show tunes']</td><td>Nicolas Colicos</td></tr><tr><td>['broadway', 'hollywood', 'show tunes']</td><td>Norbert Leo Butz</td></tr><tr><td>['latin', 'latin hip hop', 'reggaeton', 'reggaeton flow', 'trap latino', 'tropical']</td><td>Nori</td></tr><tr><td>['latin', 'latin hip hop', 'reggaeton', 'reggaeton flow', 'trap latino', 'tropical']</td><td>Noriel</td></tr><tr><td>['latin', 'latin hip hop', 'reggaeton', 'reggaeton flow', 'trap latino', 'tropical']</td><td>Nova y Jory</td></tr><tr><td>['show tunes']</td><td>Okieriete Onaodowan</td></tr><tr><td>['show tunes']</td><td>Olivia Foa'i</td></tr><tr><td>['movie tunes']</td><td>Oscar Isaac</td></tr><tr><td>['orchestral performance']</td><td>Osmo Vänskä</td></tr><tr><td>['orchestral performance']</td><td>Otmar Suitner</td></tr><tr><td>['movie tunes']</td><td>Paige O'Hara</td></tr><tr><td>['disney', 'movie tunes']</td><td>Pat Carroll</td></tr><tr><td>['broadway', 'hollywood', 'show tunes']</td><td>Patti LuPone</td></tr><tr><td>['hollywood']</td><td>Paul Francis Webster</td></tr><tr><td>['movie tunes']</td><td>Paul Frees</td></tr><tr><td>['disney', 'movie tunes']</td><td>Paul Kandel</td></tr><tr><td>['movie tunes']</td><td>Pearl Bailey</td></tr><tr><td>['orchestral performance']</td><td>Peter Maag</td></tr><tr><td>['movie tunes']</td><td>Phil Harris</td></tr><tr><td>['contemporary country', 'country', 'country road', 'modern country rock']</td><td>Phil Vassar</td></tr><tr><td>['hollywood']</td><td>Pierce Brosnan</td></tr><tr><td>['latin', 'latin hip hop', 'reggaeton', 'reggaeton flow', 'trap latino', 'tropical']</td><td>R.K.M & Ken-Y</td></tr><tr><td>['broadway', 'hollywood', 'show tunes']</td><td>Rachel Bay Jones</td></tr><tr><td>['show tunes']</td><td>Rachel House</td></tr><tr><td>['movie tunes']</td><td>Rachel McDowall</td></tr><tr><td>['orchestral performance']</td><td>Rafael Kubelik</td></tr><tr><td>['sleep']</td><td>Rain Storm Sample Library</td></tr><tr><td>['hollywood']</td><td>Ralph Fiennes</td></tr><tr><td>['latin', 'latin hip hop', 'reggaeton', 'reggaeton flow', 'trap latino', 'tropical']</td><td>Randy</td></tr><tr><td>['orchestral performance']</td><td>Raymond Leppard</td></tr><tr><td>['hollywood']</td><td>Reese Witherspoon</td></tr><tr><td>['sleep']</td><td>Relajación</td></tr><tr><td>['sleep']</td><td>Relaxation</td></tr><tr><td>['classical soprano']</td><td>Reri Grist</td></tr><tr><td>['hollywood']</td><td>Richard Gere</td></tr><tr><td>['hollywood']</td><td>Richard O'Brien</td></tr><tr><td>['gospel']</td><td>Richard Smallwood</td></tr><tr><td>['movie tunes']</td><td>Richard White</td></tr><tr><td>['hollywood']</td><td>Rick Moranis</td></tr><tr><td>['disney', 'movie tunes']</td><td>Robby Benson</td></tr><tr><td>['show tunes']</td><td>Robert Billig</td></tr><tr><td>['orchestral performance']</td><td>Robert Shaw</td></tr><tr><td>['classical soprano']</td><td>Roberta Peters</td></tr><tr><td>['show tunes']</td><td>Robin de Jesus</td></tr><tr><td>['contemporary country', 'country', 'country road', 'modern country rock']</td><td>Rodney Atkins</td></tr><tr><td>['disney', 'movie tunes']</td><td>Roger Bart</td></tr><tr><td>['show tunes']</td><td>Rory O'Malley</td></tr><tr><td>['contemporary country', 'country', 'country road', 'modern country rock']</td><td>Russell Dickerson</td></tr><tr><td>['classical soprano']</td><td>Ruth Ziesak</td></tr><tr><td>['latin', 'latin hip hop', 'reggaeton', 'reggaeton flow', 'trap latino', 'tropical']</td><td>Rvssian</td></tr><tr><td>['hollywood']</td><td>Ryan Gosling</td></tr><tr><td>['broadway', 'hollywood', 'show tunes']</td><td>Ryan McCartan</td></tr><tr><td>['classical soprano']</td><td>Régine Crespin</td></tr><tr><td>['broadway', 'hollywood', 'show tunes']</td><td>Saigon</td></tr><tr><td>['orchestral performance']</td><td>Sakari Oramo</td></tr><tr><td>['movie tunes']</td><td>Sally Dworsky</td></tr><tr><td>['show tunes']</td><td>Samantha Barks</td></tr><tr><td>['sleep']</td><td>Sample Rain Library</td></tr><tr><td>['movie tunes']</td><td>Sandy Duncan, Howard McGillin, Liz Callaway, Dakin Matthews, Adam Wylie, J.D. Daniels, Lex de Azevedo, David Zippel</td></tr><tr><td>['hollywood']</td><td>Sara Ramirez</td></tr><tr><td>['movie tunes']</td><td>Scatman Crothers</td></tr><tr><td>['show tunes']</td><td>Scott Irby-Ranniar</td></tr><tr><td>['contemporary country', 'country', 'country road', 'modern country rock']</td><td>Scotty</td></tr><tr><td>['contemporary country', 'country', 'country road', 'modern country rock']</td><td>Scotty McCreery</td></tr><tr><td>['orchestral performance']</td><td>Semyon Bychkov</td></tr><tr><td>['classical soprano']</td><td>Sena Jurinac</td></tr><tr><td>['show tunes']</td><td>Seth Stewart</td></tr><tr><td>['movie tunes']</td><td>Shelby Flint</td></tr><tr><td>['broadway', 'hollywood', 'show tunes']</td><td>Sherie Rene Scott</td></tr><tr><td>['disney', 'movie tunes']</td><td>Ship's Chorus</td></tr><tr><td>['disney', 'movie tunes']</td><td>Si and Am</td></tr><tr><td>['show tunes']</td><td>Sierra Boggess as Ariel</td></tr><tr><td>['orchestral performance']</td><td>Sir Adrian Boult</td></tr><tr><td>['orchestral performance']</td><td>Sir Charles Groves</td></tr><tr><td>['orchestral performance']</td><td>Sir Charles Mackerras</td></tr><tr><td>['orchestral performance']</td><td>Sir David Willcocks</td></tr><tr><td>['orchestral performance']</td><td>Sir Georg Solti</td></tr><tr><td>['orchestral performance']</td><td>Sir Thomas Beecham</td></tr><tr><td>['sleep']</td><td>Sleep Baby Sleep</td></tr><tr><td>['sleep']</td><td>Sleep Sound Library</td></tr><tr><td>['sleep']</td><td>Sleepy Times</td></tr><tr><td>['sleep']</td><td>Soothing White Noise for Infant Sleeping and Massage, Crying & Colic Relief</td></tr><tr><td>['broadway', 'hollywood', 'show tunes']</td><td>Sophia Anne Caruso</td></tr><tr><td>['sleep']</td><td>Sound Library XL</td></tr><tr><td>['movie tunes']</td><td>Stellan Skarsgård</td></tr><tr><td>['hollywood']</td><td>Stephen Schwartz</td></tr><tr><td>['broadway', 'hollywood', 'show tunes']</td><td>Stephen Sondheim</td></tr><tr><td>['movie tunes']</td><td>Sterling Holloway</td></tr><tr><td>['contemporary country', 'country', 'country road', 'modern country rock']</td><td>Steve Holy</td></tr><tr><td>['show tunes']</td><td>Stig Anderson</td></tr><tr><td>['hollywood']</td><td>Stockard Channing</td></tr><tr><td>['classical soprano']</td><td>Susan Gritton</td></tr><tr><td>['show tunes']</td><td>Susan Misner</td></tr><tr><td>['hollywood']</td><td>Susan Sarandon</td></tr><tr><td>['broadway', 'hollywood', 'show tunes']</td><td>Sutton Foster</td></tr><tr><td>['classical soprano']</td><td>Suzanne Danco</td></tr><tr><td>['hollywood']</td><td>T.V. Carpio</td></tr><tr><td>['gospel']</td><td>Tamela Mann</td></tr><tr><td>['hollywood']</td><td>Taron Egerton</td></tr><tr><td>['movie tunes']</td><td>Tawatha Agee</td></tr><tr><td>['latin', 'latin hip hop', 'reggaeton', 'reggaeton flow', 'trap latino', 'tropical']</td><td>Tempo</td></tr><tr><td>['broadway', 'hollywood', 'show tunes']</td><td>Terrence Mann</td></tr><tr><td>['movie tunes']</td><td>Terry Gilkyson</td></tr><tr><td>['gospel']</td><td>The Brooklyn Tabernacle Choir</td></tr><tr><td>['gospel']</td><td>The Clark Sisters</td></tr><tr><td>['disney', 'movie tunes']</td><td>The Disneyland Children's Chorus</td></tr><tr><td>['disney', 'movie tunes']</td><td>The Dwarf Chorus</td></tr><tr><td>['movie tunes']</td><td>The Greatest Showman Ensemble</td></tr><tr><td>['disney', 'movie tunes']</td><td>The Jud Conlon Chorus</td></tr><tr><td>['contemporary country', 'country', 'country road', 'modern country rock']</td><td>The Lost Trailers</td></tr><tr><td>['movie tunes']</td><td>The Mellomen</td></tr><tr><td>['movie tunes']</td><td>The Mouseketeers</td></tr><tr><td>['sleep']</td><td>The Noise</td></tr><tr><td>['sleep']</td><td>The White Noise</td></tr><tr><td>['sleep']</td><td>The White Noise Zen & Meditation Sound Lab</td></tr><tr><td>['gospel']</td><td>The Winans</td></tr><tr><td>['sleep']</td><td>Therapy?</td></tr><tr><td>['contemporary country', 'country', 'country road', 'modern country rock']</td><td>Thomas Rhett</td></tr><tr><td>['hollywood']</td><td>Tim Curry</td></tr><tr><td>['sleep']</td><td>Tmsoft’s White Noise Sleep Sounds</td></tr><tr><td>['show tunes']</td><td>Tom Alan Robbins</td></tr><tr><td>['movie tunes']</td><td>Tom Hulce</td></tr><tr><td>['show tunes']</td><td>Tom Pierson</td></tr><tr><td>['movie tunes']</td><td>Tommy Luske</td></tr><tr><td>['disney', 'movie tunes']</td><td>Tony Jay</td></tr><tr><td>['sleep']</td><td>Traditional</td></tr><tr><td>['gospel']</td><td>Tramaine Hawkins</td></tr><tr><td>['latin', 'latin hip hop', 'reggaeton', 'reggaeton flow', 'trap latino', 'tropical']</td><td>Trebol Clan</td></tr><tr><td>['sleep']</td><td>Twinkle</td></tr><tr><td>['gospel']</td><td>VIP Mass Choir</td></tr><tr><td>['movie tunes']</td><td>Vai Mahina</td></tr><tr><td>['classical soprano']</td><td>Valerie Masterson</td></tr><tr><td>['gospel']</td><td>Vanessa Bell Armstrong</td></tr><tr><td>['classical soprano']</td><td>Varnay</td></tr><tr><td>['disney', 'movie tunes']</td><td>Verna Felton</td></tr><tr><td>['orchestral performance']</td><td>Vernon Handley</td></tr><tr><td>['gospel']</td><td>Vicki Yohe</td></tr><tr><td>['gospel']</td><td>Vickie Winans</td></tr><tr><td>['movie tunes']</td><td>Victor Sweler</td></tr><tr><td>['classical soprano']</td><td>Violeta Urmana</td></tr><tr><td>['latin', 'latin hip hop', 'reggaeton', 'reggaeton flow', 'trap latino', 'tropical']</td><td>Voltio</td></tr><tr><td>['latin', 'latin hip hop', 'reggaeton', 'reggaeton flow', 'trap latino', 'tropical']</td><td>WOODZ</td></tr><tr><td>['gospel']</td><td>Walter Hawkins</td></tr><tr><td>['sleep']</td><td>White Noise</td></tr><tr><td>['sleep']</td><td>White Noise Babies</td></tr><tr><td>['sleep']</td><td>White Noise Baby Sleep</td></tr><tr><td>['sleep']</td><td>White Noise Meditation</td></tr><tr><td>['sleep']</td><td>White Noise Research</td></tr><tr><td>['sleep']</td><td>White Noise Sound Garden</td></tr><tr><td>['sleep']</td><td>White Noise Therapy</td></tr><tr><td>['sleep']</td><td>White Noise for Babies</td></tr><tr><td>['sleep']</td><td>White Noise for Deeper Sleep</td></tr><tr><td>['sleep']</td><td>White! Noise</td></tr><tr><td>['orchestral performance']</td><td>Willi Boskovsky</td></tr><tr><td>['disney', 'movie tunes']</td><td>William Joseph</td></tr><tr><td>['gospel']</td><td>William McDowell</td></tr><tr><td>['orchestral performance']</td><td>William Steinberg</td></tr><tr><td>['classical soprano']</td><td>Wilma Lipp</td></tr><tr><td>['latin', 'latin hip hop', 'reggaeton', 'reggaeton flow', 'trap latino', 'tropical']</td><td>Wisin</td></tr><tr><td>['orchestral performance']</td><td>Wolfgang Sawallisch</td></tr><tr><td>['sleep']</td><td>Wonderful Escape</td></tr><tr><td>['movie tunes']</td><td>Xavier Atencio</td></tr><tr><td>['latin', 'latin hip hop', 'reggaeton', 'reggaeton flow', 'trap latino', 'tropical']</td><td>Yaga & Mackie</td></tr><tr><td>['orchestral performance']</td><td>Yannick Nézet-Séguin</td></tr><tr><td>['classical soprano']</td><td>Ying Huang</td></tr><tr><td>['latin', 'latin hip hop', 'reggaeton', 'reggaeton flow', 'trap latino', 'tropical']</td><td>Yomo</td></tr><tr><td>['contemporary country', 'country', 'country road', 'modern country rock']</td><td>Young Chris</td></tr><tr><td>['contemporary country', 'country', 'country road', 'modern country rock']</td><td>Zac Brown</td></tr><tr><td>['contemporary country', 'country', 'country road', 'modern country rock']</td><td>Zac Brown Band</td></tr><tr><td>['show tunes']</td><td>Ziv Zaifman</td></tr><tr><td>['latin', 'latin hip hop', 'reggaeton', 'reggaeton flow', 'trap latino', 'tropical']</td><td>Ñejo & Dalmata</td></tr><tr><td>['latin', 'latin hip hop', 'reggaeton', 'reggaeton flow', 'trap latino', 'tropical']</td><td>Ñengo Flow</td></tr></tbody></table></div>"
      ]
     },
     "metadata": {
      "application/vnd.databricks.v1+output": {
       "addedWidgets": {},
       "aggData": [],
       "aggError": "",
       "aggOverflow": false,
       "aggSchema": [],
       "aggSeriesLimitReached": false,
       "aggType": "",
       "arguments": {},
       "columnCustomDisplayInfos": {},
       "data": [
        [
         "['show tunes']",
         "\"\"\"Cats\"\" 1981 Original London Cast\""
        ],
        [
         "['broadway', 'hollywood', 'show tunes']",
         "'Legally Blonde' Ensemble"
        ],
        [
         "['show tunes']",
         "'Legally Blonde' Greek Chorus"
        ],
        [
         "['broadway', 'hollywood', 'show tunes']",
         "Aaron Tveit"
        ],
        [
         "['broadway', 'hollywood', 'show tunes']",
         "Adam Pascal"
        ],
        [
         "['movie tunes']",
         "Adriana Caselotti"
        ],
        [
         "['classical soprano']",
         "Adrianne Pieczonka"
        ],
        [
         "['classical soprano']",
         "Agnes Giebel"
        ],
        [
         "['gospel']",
         "Albertina Walker"
        ],
        [
         "['broadway', 'hollywood', 'show tunes']",
         "Alex Brightman"
        ],
        [
         "['latin', 'latin hip hop', 'reggaeton', 'reggaeton flow', 'trap latino', 'tropical']",
         "Alex Gargolas"
        ],
        [
         "['latin', 'latin hip hop', 'reggaeton', 'reggaeton flow', 'trap latino', 'tropical']",
         "Alexis y Fido"
        ],
        [
         "['broadway', 'hollywood', 'show tunes']",
         "Alice Ripley"
        ],
        [
         "['movie tunes']",
         "Alice Sixer"
        ],
        [
         "['show tunes']",
         "Amanda Bynes"
        ],
        [
         "['show tunes']",
         "Amy Spanger"
        ],
        [
         "['show tunes']",
         "Andrea Burns"
        ],
        [
         "['classical soprano']",
         "Andrea Rost"
        ],
        [
         "['orchestral performance']",
         "André Cluytens"
        ],
        [
         "['orchestral performance']",
         "André Previn"
        ],
        [
         "['show tunes']",
         "Angela Cartwright"
        ],
        [
         "['classical soprano']",
         "Anna Tomowa-Sintow"
        ],
        [
         "['broadway', 'hollywood', 'show tunes']",
         "Annaleigh Ashford"
        ],
        [
         "['classical soprano']",
         "Anneliese Rothenberger"
        ],
        [
         "['gospel']",
         "Anthony Brown & group therAPy"
        ],
        [
         "['movie tunes']",
         "Anthony Gonzalez"
        ],
        [
         "['broadway', 'hollywood', 'show tunes']",
         "Anthony Rapp"
        ],
        [
         "['orchestral performance']",
         "Antoni Wit"
        ],
        [
         "['hollywood']",
         "Antonio Banderas"
        ],
        [
         "['movie tunes']",
         "Ashley Lilley"
        ],
        [
         "['classical soprano']",
         "Astrid Varnay"
        ],
        [
         "['show tunes']",
         "Austyn Johnson"
        ],
        [
         "['latin', 'latin hip hop', 'reggaeton', 'reggaeton flow', 'trap latino', 'tropical']",
         "Baby Rasta"
        ],
        [
         "['sleep']",
         "Baby Sleep"
        ],
        [
         "['sleep']",
         "Baby Sweet Dream"
        ],
        [
         "['broadway', 'hollywood', 'show tunes']",
         "Barrett Wilbert Weed"
        ],
        [
         "['hollywood']",
         "Barry Bostwick"
        ],
        [
         "['disney', 'movie tunes']",
         "Beaumont"
        ],
        [
         "['gospel']",
         "Bebe & Cece Winans"
        ],
        [
         "['broadway', 'hollywood', 'show tunes']",
         "Bebe Neuwirth"
        ],
        [
         "['gospel']",
         "Bebe Winans"
        ],
        [
         "['sleep']",
         "Bedtime Baby"
        ],
        [
         "['broadway', 'hollywood', 'show tunes']",
         "Ben Fankhauser"
        ],
        [
         "['show tunes']",
         "Benjamin Schrader"
        ],
        [
         "['contemporary country', 'country', 'country road', 'modern country rock']",
         "Bent"
        ],
        [
         "['broadway', 'hollywood', 'show tunes']",
         "Bernadette Peters"
        ],
        [
         "['disney', 'movie tunes']",
         "Beth Fowler"
        ],
        [
         "['movie tunes']",
         "Betty Noyes"
        ],
        [
         "['classical soprano']",
         "Bidu Sayão"
        ],
        [
         "['contemporary country', 'country', 'country road', 'modern country rock']",
         "Big & Rich"
        ],
        [
         "['movie tunes']",
         "Bill Farmer"
        ],
        [
         "['disney', 'movie tunes']",
         "Bill Shirley"
        ],
        [
         "['disney', 'movie tunes']",
         "Bill Thompson"
        ],
        [
         "['movie tunes']",
         "Billy Bletcher"
        ],
        [
         "['contemporary country', 'country', 'country road', 'modern country rock']",
         "Billy Currington"
        ],
        [
         "['broadway', 'hollywood', 'show tunes']",
         "Billy Porter"
        ],
        [
         "['gospel']",
         "Bishop Paul S. Morton, Sr."
        ],
        [
         "['disney', 'movie tunes']",
         "Bobby Driscoll"
        ],
        [
         "['hollywood']",
         "Bonham"
        ],
        [
         "['movie tunes']",
         "Brad Garrett"
        ],
        [
         "['disney', 'movie tunes']",
         "Brad Kane"
        ],
        [
         "['hollywood']",
         "Bradley Cooper"
        ],
        [
         "['contemporary country', 'country', 'country road', 'modern country rock']",
         "Brett Eldredge"
        ],
        [
         "['gospel']",
         "Brian Courtney Wilson"
        ],
        [
         "['broadway', 'hollywood', 'show tunes']",
         "Brian D'Arcy James"
        ],
        [
         "['show tunes']",
         "Brian Sears"
        ],
        [
         "['gospel']",
         "Brian Wilson"
        ],
        [
         "['hollywood']",
         "Brittany Snow"
        ],
        [
         "['movie tunes']",
         "Bruce Adler"
        ],
        [
         "['disney', 'movie tunes']",
         "Bruce Reitherman"
        ],
        [
         "['hollywood']",
         "Bruce Willis"
        ],
        [
         "['latin', 'latin hip hop', 'reggaeton', 'reggaeton flow', 'trap latino', 'tropical']",
         "Brytiago"
        ],
        [
         "['contemporary country', 'country', 'country road', 'modern country rock']",
         "Bucky Covington"
        ],
        [
         "['movie tunes']",
         "Burke Moses"
        ],
        [
         "['sleep']",
         "Calming Sounds"
        ],
        [
         "['movie tunes']",
         "Cameron Seely"
        ],
        [
         "['disney', 'movie tunes']",
         "Carmen Twillie"
        ],
        [
         "['broadway', 'hollywood', 'show tunes']",
         "Caroline O'Connor"
        ],
        [
         "['broadway', 'hollywood', 'show tunes']",
         "Carrie Fletcher"
        ],
        [
         "['latin', 'latin hip hop', 'reggaeton', 'reggaeton flow', 'trap latino', 'tropical']",
         "Casa De Leones"
        ],
        [
         "['latin', 'latin hip hop', 'reggaeton', 'reggaeton flow', 'trap latino', 'tropical']",
         "Casper Magico"
        ],
        [
         "['movie tunes']",
         "Cast - The Nightmare Before Christmas"
        ],
        [
         "['hollywood']",
         "Cast Of Mamma Mia The Movie"
        ],
        [
         "['gospel']",
         "CeCe Winans"
        ],
        [
         "['contemporary country', 'country', 'country road', 'modern country rock']",
         "Chase"
        ],
        [
         "['contemporary country', 'country', 'country road', 'modern country rock']",
         "Chase Rice"
        ],
        [
         "['disney', 'movie tunes']",
         "Cheryl Freeman"
        ],
        [
         "['movie tunes']",
         "Childrens Chorus"
        ],
        [
         "['disney', 'movie tunes']",
         "Chorus"
        ],
        [
         "['disney', 'movie tunes']",
         "Chorus - Aladdin And The King Of Thieves"
        ],
        [
         "['disney', 'movie tunes']",
         "Chorus - Hercules"
        ],
        [
         "['disney', 'movie tunes']",
         "Chorus - Mulan"
        ],
        [
         "['contemporary country', 'country', 'country road', 'modern country rock']",
         "Chris Cagle"
        ],
        [
         "['contemporary country', 'country', 'country road', 'modern country rock']",
         "Chris Janson"
        ],
        [
         "['contemporary country', 'country', 'country road', 'modern country rock']",
         "Chris Young"
        ],
        [
         "['hollywood']",
         "Christian Bale"
        ],
        [
         "['broadway', 'hollywood', 'show tunes']",
         "Christian Borle"
        ],
        [
         "['hollywood']",
         "Christine Baranski"
        ],
        [
         "['broadway', 'hollywood', 'show tunes']",
         "Christopher Fitzgerald"
        ],
        [
         "['broadway', 'hollywood', 'show tunes']",
         "Christy Altomare"
        ],
        [
         "['disney', 'movie tunes']",
         "Cinderella's Mice Chorus"
        ],
        [
         "['hollywood']",
         "Cindy Bullens"
        ],
        [
         "['show tunes']",
         "Clark Johnsen"
        ],
        [
         "['contemporary country', 'country', 'country road', 'modern country rock']",
         "Clay Walker"
        ],
        [
         "['movie tunes']",
         "Cliff Edwards"
        ],
        [
         "['contemporary country', 'country', 'country road', 'modern country rock']",
         "Cole Swindell"
        ],
        [
         "['hollywood']",
         "Colin Firth"
        ],
        [
         "['gospel']",
         "Commissioned"
        ],
        [
         "['contemporary country', 'country', 'country road', 'modern country rock']",
         "Corey Smith"
        ],
        [
         "['latin', 'latin hip hop', 'reggaeton', 'reggaeton flow', 'trap latino', 'tropical']",
         "Cosculluela"
        ],
        [
         "['classical soprano']",
         "Cristina Deutekom"
        ],
        [
         "['latin', 'latin hip hop', 'reggaeton', 'reggaeton flow', 'trap latino', 'tropical']",
         "DJ Luian"
        ],
        [
         "['latin', 'latin hip hop', 'reggaeton', 'reggaeton flow', 'trap latino', 'tropical']",
         "DJ Nelson"
        ],
        [
         "['hollywood']",
         "Dana Fuchs"
        ],
        [
         "['broadway', 'hollywood', 'show tunes']",
         "Daniel Breaker"
        ],
        [
         "['show tunes']",
         "Daniel Everidge"
        ],
        [
         "['orchestral performance']",
         "Daniel Harding"
        ],
        [
         "['broadway', 'hollywood', 'show tunes']",
         "Danny Burstein"
        ],
        [
         "['movie tunes']",
         "Danny DeVito"
        ],
        [
         "['show tunes']",
         "Daphne Rubin-Vega"
        ],
        [
         "['contemporary country', 'country', 'country road', 'modern country rock']",
         "Darryl Worley"
        ],
        [
         "['gospel']",
         "Daryl Coley"
        ],
        [
         "['disney', 'movie tunes']",
         "Daughters of Triton"
        ],
        [
         "['orchestral performance']",
         "David Lloyd-Jones"
        ],
        [
         "['movie tunes']",
         "David Moscow"
        ],
        [
         "['disney', 'movie tunes']",
         "David Ogden Stiers"
        ],
        [
         "['latin', 'latin hip hop', 'reggaeton', 'reggaeton flow', 'trap latino', 'tropical']",
         "De La Ghetto"
        ],
        [
         "['latin', 'latin hip hop', 'reggaeton', 'reggaeton flow', 'trap latino', 'tropical']",
         "De Leone"
        ],
        [
         "['gospel']",
         "DeWayne Woods"
        ],
        [
         "['show tunes']",
         "Debbie Deb"
        ],
        [
         "['show tunes']",
         "Debbie Turner"
        ],
        [
         "['sleep']",
         "Deep Sleep"
        ],
        [
         "['sleep']",
         "Deep Sleep Music Collective"
        ],
        [
         "['sleep']",
         "Deep Sleep Music Experience"
        ],
        [
         "['show tunes']",
         "Deidre Goodwin"
        ],
        [
         "['gospel']",
         "Deitrick Haddon"
        ],
        [
         "['show tunes']",
         "Delta Nus"
        ],
        [
         "['classical soprano']",
         "Denise Duval"
        ],
        [
         "['show tunes']",
         "Denise Faye"
        ],
        [
         "['show tunes']",
         "Dequina Moore"
        ],
        [
         "['disney', 'movie tunes']",
         "Dickie Jones"
        ],
        [
         "['contemporary country', 'country', 'country road', 'modern country rock']",
         "Dierks Bentley"
        ],
        [
         "['movie tunes']",
         "Digby Wolfe"
        ],
        [
         "['movie tunes']",
         "Dominic Cooper"
        ],
        [
         "['gospel']",
         "Donald Lawrence & The Tri-City Singers"
        ],
        [
         "['disney', 'movie tunes']",
         "Donna Murphy"
        ],
        [
         "['gospel']",
         "Donnie McClurkin"
        ],
        [
         "['movie tunes']",
         "Dora Luz"
        ],
        [
         "['broadway', 'hollywood', 'show tunes']",
         "Drew Gehling"
        ],
        [
         "['show tunes']",
         "Duane Chase"
        ],
        [
         "['show tunes']",
         "Duffy"
        ],
        [
         "['contemporary country', 'country', 'country road', 'modern country rock']",
         "Dust"
        ],
        [
         "['contemporary country', 'country', 'country road', 'modern country rock']",
         "Dustin Lynch"
        ],
        [
         "['contemporary country', 'country', 'country road', 'modern country rock']",
         "Dylan Scott"
        ],
        [
         "['contemporary country', 'country', 'country road', 'modern country rock']",
         "Easton Corbin"
        ],
        [
         "['classical soprano']",
         "Eileen Farrell"
        ],
        [
         "['show tunes']",
         "Ekaterina Chtchelkanova"
        ],
        [
         "['classical soprano']",
         "Eleanor Steber"
        ],
        [
         "['classical soprano']",
         "Elisabeth Grümmer"
        ],
        [
         "['classical soprano']",
         "Elizabeth Harwood"
        ],
        [
         "['show tunes']",
         "Elle McLemore"
        ],
        [
         "['hollywood']",
         "Emma Stone"
        ],
        [
         "['movie tunes']",
         "Ensemble"
        ],
        [
         "['contemporary country', 'country', 'country road', 'modern country rock']",
         "Eric"
        ],
        [
         "['contemporary country', 'country', 'country road', 'modern country rock']",
         "Eric Church"
        ],
        [
         "['classical soprano']",
         "Erna Berger"
        ],
        [
         "['disney', 'movie tunes']",
         "Ernie"
        ],
        [
         "['disney', 'movie tunes']",
         "Ernie Sabella"
        ],
        [
         "['orchestral performance']",
         "Eugen Jochum"
        ],
        [
         "['classical soprano']",
         "Eva Marton"
        ],
        [
         "['hollywood']",
         "Evan Rachel Wood"
        ],
        [
         "['hollywood']",
         "Ewan McGregor"
        ],
        [
         "['latin', 'latin hip hop', 'reggaeton', 'reggaeton flow', 'trap latino', 'tropical']",
         "FLOW"
        ],
        [
         "['orchestral performance']",
         "Fabien Gabel"
        ],
        [
         "['sleep']",
         "Fan Sounds"
        ],
        [
         "['hollywood']",
         "Felicia Day"
        ],
        [
         "['movie tunes']",
         "Fess Parker"
        ],
        [
         "['gospel']",
         "Forever Jones"
        ],
        [
         "['latin', 'latin hip hop', 'reggaeton', 'reggaeton flow', 'trap latino', 'tropical']",
         "\"Franco \"\"El Gorilla\"\"\""
        ],
        [
         "['disney', 'movie tunes']",
         "Frank Churchill"
        ],
        [
         "['contemporary country', 'country', 'country road', 'modern country rock']",
         "Frankie Ballard"
        ],
        [
         "['orchestral performance']",
         "Franz Welser-Möst"
        ],
        [
         "['gospel']",
         "Fred Hammond"
        ],
        [
         "['classical soprano']",
         "Galina Vishnevskaya"
        ],
        [
         "['contemporary country', 'country', 'country road', 'modern country rock']",
         "Gary Allan"
        ],
        [
         "['show tunes']",
         "Gary Beach"
        ],
        [
         "['disney', 'movie tunes']",
         "George Bruns"
        ],
        [
         "['movie tunes']",
         "George Givot"
        ],
        [
         "['movie tunes']",
         "Gerard Butler"
        ],
        [
         "['show tunes']",
         "Gerard Canonico"
        ],
        [
         "['orchestral performance']",
         "Giuseppe Sinopoli"
        ],
        [
         "['gospel']",
         "Gods Property"
        ],
        [
         "['show tunes']",
         "Graham Bowen"
        ],
        [
         "['orchestral performance']",
         "Grant Llewellyn"
        ],
        [
         "['gospel']",
         "Group Therapy"
        ],
        [
         "['hollywood']",
         "Haley Bennett"
        ],
        [
         "['movie tunes']",
         "Harry Stockwell"
        ],
        [
         "['movie tunes']",
         "Hayley Mills"
        ],
        [
         "['show tunes']",
         "Heather Menzies"
        ],
        [
         "['disney', 'movie tunes']",
         "Heidi Mollenhauer"
        ],
        [
         "['orchestral performance']",
         "Heinz Rögner"
        ],
        [
         "['hollywood']",
         "Helena Bonham Carter"
        ],
        [
         "['classical soprano']",
         "Helga Dernesch"
        ],
        [
         "['orchestral performance']",
         "Helmuth Rilling"
        ],
        [
         "['orchestral performance']",
         "Herbert Blomstedt"
        ],
        [
         "['gospel']",
         "Hezekiah Walker"
        ],
        [
         "['gospel']",
         "Hezekiah Walker & The Love Fellowship Crusade Choir"
        ],
        [
         "['show tunes']",
         "Hilton McRae"
        ],
        [
         "['movie tunes']",
         "Howard Ashman"
        ],
        [
         "['hollywood']",
         "Hugh Grant"
        ],
        [
         "['movie tunes']",
         "Ilene Woods"
        ],
        [
         "['classical soprano']",
         "Inge Borkh"
        ],
        [
         "['classical soprano']",
         "Irmgard Seefried"
        ],
        [
         "['orchestral performance']",
         "István Kertész"
        ],
        [
         "['disney', 'movie tunes']",
         "J. Pat O'Malley"
        ],
        [
         "['hollywood']",
         "J. Phoenix"
        ],
        [
         "['latin', 'latin hip hop', 'reggaeton', 'reggaeton flow', 'trap latino', 'tropical']",
         "Jadiel"
        ],
        [
         "['contemporary country', 'country', 'country road', 'modern country rock']",
         "Jake Owen"
        ],
        [
         "['movie tunes']",
         "James Baskett"
        ],
        [
         "['orchestral performance']",
         "James Conlon"
        ],
        [
         "['orchestral performance']",
         "James Judd"
        ],
        [
         "['hollywood']",
         "James Marsden"
        ],
        [
         "['contemporary country', 'country', 'country road', 'modern country rock']",
         "James Otto"
        ],
        [
         "['hollywood']",
         "Jamie Campbell Bower"
        ],
        [
         "['classical soprano']",
         "Jane Eaglen"
        ],
        [
         "['show tunes']",
         "Janet Dacal"
        ],
        [
         "['contemporary country', 'country', 'country road', 'modern country rock']",
         "Jaron And The Long Road To Love"
        ],
        [
         "['show tunes']",
         "Jasmine Cephas-Jones"
        ],
        [
         "['show tunes']",
         "Jason Michael Snow"
        ],
        [
         "['show tunes']",
         "Jason Raize"
        ],
        [
         "['hollywood']",
         "Jason Segel"
        ],
        [
         "['movie tunes']",
         "Jason Weaver"
        ],
        [
         "['orchestral performance']",
         "Jean-François Paillard"
        ],
        [
         "['orchestral performance']",
         "Jeffrey Tate"
        ],
        [
         "['disney', 'movie tunes']",
         "Jenifer Lewis"
        ],
        [
         "['broadway', 'hollywood', 'show tunes']",
         "Jennifer Damiano"
        ],
        [
         "['classical soprano']",
         "Jennifer Vyvyan"
        ],
        [
         "['movie tunes']",
         "Jeremy Irons"
        ],
        [
         "['broadway', 'hollywood', 'show tunes']",
         "Jeremy Jordan"
        ],
        [
         "['movie tunes']",
         "Jerry Colonna"
        ],
        [
         "['movie tunes']",
         "Jesse Corti"
        ],
        [
         "['broadway', 'hollywood', 'show tunes']",
         "Jessica Keenan Wynn"
        ],
        [
         "['broadway', 'hollywood', 'show tunes']",
         "Jessie Mueller"
        ],
        [
         "['broadway', 'hollywood', 'show tunes']",
         "Jewell"
        ],
        [
         "['hollywood']",
         "Jim Broadbent"
        ],
        [
         "['hollywood']",
         "Jim Bryant"
        ],
        [
         "['movie tunes']",
         "Jim Carmichael"
        ],
        [
         "['hollywood']",
         "Jim Sturgess"
        ],
        [
         "['orchestral performance']",
         "Jiří Bělohlávek"
        ],
        [
         "['orchestral performance']",
         "Joann Falletta"
        ],
        [
         "['hollywood']",
         "Joaquin Phoenix"
        ],
        [
         "['hollywood']",
         "Joe Anderson"
        ],
        [
         "['broadway', 'hollywood', 'show tunes']",
         "John Gallagher Jr."
        ],
        [
         "['broadway', 'hollywood', 'show tunes']",
         "John Gallagher, Jr."
        ],
        [
         "['hollywood']",
         "John Kander"
        ],
        [
         "['gospel']",
         "John P Kee & New Life"
        ],
        [
         "['gospel']",
         "John P. Kee"
        ],
        [
         "['hollywood']",
         "John Travolta"
        ],
        [
         "['hollywood']",
         "Johnny Depp"
        ],
        [
         "['hollywood']",
         "Johnny Green"
        ],
        [
         "['show tunes']",
         "Jon Eidson"
        ],
        [
         "['contemporary country', 'country', 'country road', 'modern country rock']",
         "Jon Pardi"
        ],
        [
         "['disney', 'movie tunes']",
         "Jonathan Freeman"
        ],
        [
         "['gospel']",
         "Jonathan Nelson"
        ],
        [
         "['orchestral performance']",
         "Josef K"
        ],
        [
         "['orchestral performance']",
         "Josef Krips"
        ],
        [
         "['disney', 'movie tunes']",
         "Joseph Williams"
        ],
        [
         "['contemporary country', 'country', 'country road', 'modern country rock']",
         "Josh Turner"
        ],
        [
         "['orchestral performance']",
         "José Serebrier"
        ],
        [
         "['latin', 'latin hip hop', 'reggaeton', 'reggaeton flow', 'trap latino', 'tropical']",
         "Jowell"
        ],
        [
         "['latin', 'latin hip hop', 'reggaeton', 'reggaeton flow', 'trap latino', 'tropical']",
         "Jowell & Randy"
        ],
        [
         "['hollywood']",
         "Julie Walters"
        ],
        [
         "['show tunes']",
         "Justin Bohon"
        ],
        [
         "['movie tunes']",
         "Kamehameha Schools Children's Chorus"
        ],
        [
         "['broadway', 'hollywood', 'show tunes']",
         "Kara Lindsay"
        ],
        [
         "['disney', 'movie tunes']",
         "Karen Dotrice"
        ],
        [
         "['classical soprano']",
         "Karita Mattila"
        ],
        [
         "['disney', 'movie tunes']",
         "Kathryn Beaumont"
        ],
        [
         "['broadway', 'hollywood', 'show tunes']",
         "Keala Settle"
        ],
        [
         "['broadway', 'hollywood', 'show tunes']",
         "Keenan Wynn"
        ],
        [
         "['movie tunes']",
         "Keith David"
        ],
        [
         "['latin', 'latin hip hop', 'reggaeton', 'reggaeton flow', 'trap latino', 'tropical']",
         "Ken-Y"
        ],
        [
         "['latin', 'latin hip hop', 'reggaeton', 'reggaeton flow', 'trap latino', 'tropical']",
         "Kendo"
        ],
        [
         "['latin', 'latin hip hop', 'reggaeton', 'reggaeton flow', 'trap latino', 'tropical']",
         "Kendo Kaponi"
        ],
        [
         "['orchestral performance']",
         "Kent Nagano"
        ],
        [
         "['show tunes']",
         "Kevin Duda"
        ],
        [
         "['broadway', 'hollywood', 'show tunes']",
         "Kimiko Glenn"
        ],
        [
         "['contemporary country', 'country', 'country road', 'modern country rock']",
         "Kip Moore"
        ],
        [
         "['orchestral performance']",
         "Klaus Tennstedt"
        ],
        [
         "['gospel']",
         "Kurt Carr & The Kurt Carr Singers"
        ],
        [
         "['show tunes']",
         "Kym Karath"
        ],
        [
         "['movie tunes']",
         "LaChanze"
        ],
        [
         "['gospel']",
         "LaShun Pace"
        ],
        [
         "['broadway', 'hollywood', 'show tunes']",
         "Laura Dreyfuss"
        ],
        [
         "['movie tunes']",
         "Laura Williams"
        ],
        [
         "['disney', 'movie tunes']",
         "Lebo M."
        ],
        [
         "['contemporary country', 'country', 'country road', 'modern country rock']",
         "Lee Brice"
        ],
        [
         "['movie tunes']",
         "Leigh Harline"
        ],
        [
         "['broadway', 'hollywood', 'show tunes']",
         "Len Cariou"
        ],
        [
         "['broadway', 'hollywood', 'show tunes']",
         "Leo Norbert Butz"
        ],
        [
         "['orchestral performance']",
         "Leonard Slatkin"
        ],
        [
         "['orchestral performance']",
         "Leopold Stokowski"
        ],
        [
         "['show tunes']",
         "Les Misérables-Original London Cast"
        ],
        [
         "['broadway', 'hollywood', 'show tunes']",
         "Leslie Kritzer"
        ],
        [
         "['hollywood']",
         "Levi Stubbs"
        ],
        [
         "['show tunes']",
         "Lewis Cleale"
        ],
        [
         "['hollywood']",
         "Lily James"
        ],
        [
         "['show tunes']",
         "Lin-Manuel Miranda"
        ],
        [
         "['show tunes']",
         "Linda Eder"
        ],
        [
         "['movie tunes']",
         "Linda Hunt"
        ],
        [
         "['classical soprano']",
         "Lisa Otto"
        ],
        [
         "['classical soprano']",
         "Lisa della Casa"
        ],
        [
         "['movie tunes']",
         "Liz English"
        ],
        [
         "['classical soprano']",
         "Ljuba Welitsch"
        ],
        [
         "['sleep']",
         "Loopable"
        ],
        [
         "['orchestral performance']",
         "Louis Langrée"
        ],
        [
         "['sleep']",
         "Lullabies for Deep Meditation"
        ],
        [
         "['latin', 'latin hip hop', 'reggaeton', 'reggaeton flow', 'trap latino', 'tropical']",
         "Luny Tunes"
        ],
        [
         "['latin', 'latin hip hop', 'reggaeton', 'reggaeton flow', 'trap latino', 'tropical']",
         "MAGIC!"
        ],
        [
         "['movie tunes']",
         "Mack David"
        ],
        [
         "['latin', 'latin hip hop', 'reggaeton', 'reggaeton flow', 'trap latino', 'tropical']",
         "Magic"
        ],
        [
         "['latin', 'latin hip hop', 'reggaeton', 'reggaeton flow', 'trap latino', 'tropical']",
         "Magnate Y Valentino"
        ],
        [
         "['gospel']",
         "Mali Music"
        ],
        [
         "['broadway', 'hollywood', 'show tunes']",
         "Mandy Gonzalez"
        ],
        [
         "['classical soprano']",
         "Margaret Marshall"
        ],
        [
         "['orchestral performance']",
         "Mark Elder"
        ],
        [
         "['movie tunes']",
         "Mark Keali'i Ho'omalu"
        ],
        [
         "['gospel']",
         "Martha Munizzi"
        ],
        [
         "['classical soprano']",
         "Martha Mödl"
        ],
        [
         "['hollywood']",
         "Martin Luther"
        ],
        [
         "['hollywood']",
         "Martin Luther McCoy"
        ],
        [
         "['gospel']",
         "Marvin Sapp"
        ],
        [
         "['disney', 'movie tunes']",
         "Mary Costa"
        ],
        [
         "['disney', 'movie tunes']",
         "Mary Moder"
        ],
        [
         "['broadway', 'hollywood', 'show tunes']",
         "Matthew Morrison"
        ],
        [
         "['orchestral performance']",
         "Maurice Abravanel"
        ],
        [
         "['show tunes']",
         "Max Casella"
        ],
        [
         "['sleep']",
         "Meditation Awareness"
        ],
        [
         "['movie tunes']",
         "Mel Gibson"
        ],
        [
         "['gospel']",
         "Men Of Standard"
        ],
        [
         "['hollywood']",
         "Meryl Streep"
        ],
        [
         "['disney', 'movie tunes']",
         "Mice Chorus"
        ],
        [
         "['orchestral performance']",
         "Michel Plasson"
        ],
        [
         "['show tunes']",
         "Michelle Duffy"
        ],
        [
         "['show tunes']",
         "Michelle Federer"
        ],
        [
         "['hollywood']",
         "Michelle Pfeiffer"
        ],
        [
         "['hollywood']",
         "Michelle Williams"
        ],
        [
         "['movie tunes']",
         "Mike Douglas"
        ],
        [
         "['show tunes']",
         "Mike Faist"
        ],
        [
         "['latin', 'latin hip hop', 'reggaeton', 'reggaeton flow', 'trap latino', 'tropical']",
         "Miky Woodz"
        ],
        [
         "['show tunes']",
         "Miranda!"
        ],
        [
         "['classical soprano']",
         "Monika Frimmer"
        ],
        [
         "['show tunes']",
         "Mya Harrison"
        ],
        [
         "['movie tunes']",
         "Nancy Adams"
        ],
        [
         "['hollywood']",
         "Natalie Mendoza"
        ],
        [
         "['sleep']",
         "Native American Flute"
        ],
        [
         "['sleep']",
         "Native American Meditations"
        ],
        [
         "['sleep']",
         "Natural White Noise Relaxation"
        ],
        [
         "['movie tunes']",
         "Ned Washington"
        ],
        [
         "['sleep']",
         "New Age"
        ],
        [
         "['show tunes']",
         "Nicholas Hammond"
        ],
        [
         "['show tunes']",
         "Nick Spangler"
        ],
        [
         "['show tunes']",
         "Nicolas Colicos"
        ],
        [
         "['broadway', 'hollywood', 'show tunes']",
         "Norbert Leo Butz"
        ],
        [
         "['latin', 'latin hip hop', 'reggaeton', 'reggaeton flow', 'trap latino', 'tropical']",
         "Nori"
        ],
        [
         "['latin', 'latin hip hop', 'reggaeton', 'reggaeton flow', 'trap latino', 'tropical']",
         "Noriel"
        ],
        [
         "['latin', 'latin hip hop', 'reggaeton', 'reggaeton flow', 'trap latino', 'tropical']",
         "Nova y Jory"
        ],
        [
         "['show tunes']",
         "Okieriete Onaodowan"
        ],
        [
         "['show tunes']",
         "Olivia Foa'i"
        ],
        [
         "['movie tunes']",
         "Oscar Isaac"
        ],
        [
         "['orchestral performance']",
         "Osmo Vänskä"
        ],
        [
         "['orchestral performance']",
         "Otmar Suitner"
        ],
        [
         "['movie tunes']",
         "Paige O'Hara"
        ],
        [
         "['disney', 'movie tunes']",
         "Pat Carroll"
        ],
        [
         "['broadway', 'hollywood', 'show tunes']",
         "Patti LuPone"
        ],
        [
         "['hollywood']",
         "Paul Francis Webster"
        ],
        [
         "['movie tunes']",
         "Paul Frees"
        ],
        [
         "['disney', 'movie tunes']",
         "Paul Kandel"
        ],
        [
         "['movie tunes']",
         "Pearl Bailey"
        ],
        [
         "['orchestral performance']",
         "Peter Maag"
        ],
        [
         "['movie tunes']",
         "Phil Harris"
        ],
        [
         "['contemporary country', 'country', 'country road', 'modern country rock']",
         "Phil Vassar"
        ],
        [
         "['hollywood']",
         "Pierce Brosnan"
        ],
        [
         "['latin', 'latin hip hop', 'reggaeton', 'reggaeton flow', 'trap latino', 'tropical']",
         "R.K.M & Ken-Y"
        ],
        [
         "['broadway', 'hollywood', 'show tunes']",
         "Rachel Bay Jones"
        ],
        [
         "['show tunes']",
         "Rachel House"
        ],
        [
         "['movie tunes']",
         "Rachel McDowall"
        ],
        [
         "['orchestral performance']",
         "Rafael Kubelik"
        ],
        [
         "['sleep']",
         "Rain Storm Sample Library"
        ],
        [
         "['hollywood']",
         "Ralph Fiennes"
        ],
        [
         "['latin', 'latin hip hop', 'reggaeton', 'reggaeton flow', 'trap latino', 'tropical']",
         "Randy"
        ],
        [
         "['orchestral performance']",
         "Raymond Leppard"
        ],
        [
         "['hollywood']",
         "Reese Witherspoon"
        ],
        [
         "['sleep']",
         "Relajación"
        ],
        [
         "['sleep']",
         "Relaxation"
        ],
        [
         "['classical soprano']",
         "Reri Grist"
        ],
        [
         "['hollywood']",
         "Richard Gere"
        ],
        [
         "['hollywood']",
         "Richard O'Brien"
        ],
        [
         "['gospel']",
         "Richard Smallwood"
        ],
        [
         "['movie tunes']",
         "Richard White"
        ],
        [
         "['hollywood']",
         "Rick Moranis"
        ],
        [
         "['disney', 'movie tunes']",
         "Robby Benson"
        ],
        [
         "['show tunes']",
         "Robert Billig"
        ],
        [
         "['orchestral performance']",
         "Robert Shaw"
        ],
        [
         "['classical soprano']",
         "Roberta Peters"
        ],
        [
         "['show tunes']",
         "Robin de Jesus"
        ],
        [
         "['contemporary country', 'country', 'country road', 'modern country rock']",
         "Rodney Atkins"
        ],
        [
         "['disney', 'movie tunes']",
         "Roger Bart"
        ],
        [
         "['show tunes']",
         "Rory O'Malley"
        ],
        [
         "['contemporary country', 'country', 'country road', 'modern country rock']",
         "Russell Dickerson"
        ],
        [
         "['classical soprano']",
         "Ruth Ziesak"
        ],
        [
         "['latin', 'latin hip hop', 'reggaeton', 'reggaeton flow', 'trap latino', 'tropical']",
         "Rvssian"
        ],
        [
         "['hollywood']",
         "Ryan Gosling"
        ],
        [
         "['broadway', 'hollywood', 'show tunes']",
         "Ryan McCartan"
        ],
        [
         "['classical soprano']",
         "Régine Crespin"
        ],
        [
         "['broadway', 'hollywood', 'show tunes']",
         "Saigon"
        ],
        [
         "['orchestral performance']",
         "Sakari Oramo"
        ],
        [
         "['movie tunes']",
         "Sally Dworsky"
        ],
        [
         "['show tunes']",
         "Samantha Barks"
        ],
        [
         "['sleep']",
         "Sample Rain Library"
        ],
        [
         "['movie tunes']",
         "Sandy Duncan, Howard McGillin, Liz Callaway, Dakin Matthews, Adam Wylie, J.D. Daniels, Lex de Azevedo, David Zippel"
        ],
        [
         "['hollywood']",
         "Sara Ramirez"
        ],
        [
         "['movie tunes']",
         "Scatman Crothers"
        ],
        [
         "['show tunes']",
         "Scott Irby-Ranniar"
        ],
        [
         "['contemporary country', 'country', 'country road', 'modern country rock']",
         "Scotty"
        ],
        [
         "['contemporary country', 'country', 'country road', 'modern country rock']",
         "Scotty McCreery"
        ],
        [
         "['orchestral performance']",
         "Semyon Bychkov"
        ],
        [
         "['classical soprano']",
         "Sena Jurinac"
        ],
        [
         "['show tunes']",
         "Seth Stewart"
        ],
        [
         "['movie tunes']",
         "Shelby Flint"
        ],
        [
         "['broadway', 'hollywood', 'show tunes']",
         "Sherie Rene Scott"
        ],
        [
         "['disney', 'movie tunes']",
         "Ship's Chorus"
        ],
        [
         "['disney', 'movie tunes']",
         "Si and Am"
        ],
        [
         "['show tunes']",
         "Sierra Boggess as Ariel"
        ],
        [
         "['orchestral performance']",
         "Sir Adrian Boult"
        ],
        [
         "['orchestral performance']",
         "Sir Charles Groves"
        ],
        [
         "['orchestral performance']",
         "Sir Charles Mackerras"
        ],
        [
         "['orchestral performance']",
         "Sir David Willcocks"
        ],
        [
         "['orchestral performance']",
         "Sir Georg Solti"
        ],
        [
         "['orchestral performance']",
         "Sir Thomas Beecham"
        ],
        [
         "['sleep']",
         "Sleep Baby Sleep"
        ],
        [
         "['sleep']",
         "Sleep Sound Library"
        ],
        [
         "['sleep']",
         "Sleepy Times"
        ],
        [
         "['sleep']",
         "Soothing White Noise for Infant Sleeping and Massage, Crying & Colic Relief"
        ],
        [
         "['broadway', 'hollywood', 'show tunes']",
         "Sophia Anne Caruso"
        ],
        [
         "['sleep']",
         "Sound Library XL"
        ],
        [
         "['movie tunes']",
         "Stellan Skarsgård"
        ],
        [
         "['hollywood']",
         "Stephen Schwartz"
        ],
        [
         "['broadway', 'hollywood', 'show tunes']",
         "Stephen Sondheim"
        ],
        [
         "['movie tunes']",
         "Sterling Holloway"
        ],
        [
         "['contemporary country', 'country', 'country road', 'modern country rock']",
         "Steve Holy"
        ],
        [
         "['show tunes']",
         "Stig Anderson"
        ],
        [
         "['hollywood']",
         "Stockard Channing"
        ],
        [
         "['classical soprano']",
         "Susan Gritton"
        ],
        [
         "['show tunes']",
         "Susan Misner"
        ],
        [
         "['hollywood']",
         "Susan Sarandon"
        ],
        [
         "['broadway', 'hollywood', 'show tunes']",
         "Sutton Foster"
        ],
        [
         "['classical soprano']",
         "Suzanne Danco"
        ],
        [
         "['hollywood']",
         "T.V. Carpio"
        ],
        [
         "['gospel']",
         "Tamela Mann"
        ],
        [
         "['hollywood']",
         "Taron Egerton"
        ],
        [
         "['movie tunes']",
         "Tawatha Agee"
        ],
        [
         "['latin', 'latin hip hop', 'reggaeton', 'reggaeton flow', 'trap latino', 'tropical']",
         "Tempo"
        ],
        [
         "['broadway', 'hollywood', 'show tunes']",
         "Terrence Mann"
        ],
        [
         "['movie tunes']",
         "Terry Gilkyson"
        ],
        [
         "['gospel']",
         "The Brooklyn Tabernacle Choir"
        ],
        [
         "['gospel']",
         "The Clark Sisters"
        ],
        [
         "['disney', 'movie tunes']",
         "The Disneyland Children's Chorus"
        ],
        [
         "['disney', 'movie tunes']",
         "The Dwarf Chorus"
        ],
        [
         "['movie tunes']",
         "The Greatest Showman Ensemble"
        ],
        [
         "['disney', 'movie tunes']",
         "The Jud Conlon Chorus"
        ],
        [
         "['contemporary country', 'country', 'country road', 'modern country rock']",
         "The Lost Trailers"
        ],
        [
         "['movie tunes']",
         "The Mellomen"
        ],
        [
         "['movie tunes']",
         "The Mouseketeers"
        ],
        [
         "['sleep']",
         "The Noise"
        ],
        [
         "['sleep']",
         "The White Noise"
        ],
        [
         "['sleep']",
         "The White Noise Zen & Meditation Sound Lab"
        ],
        [
         "['gospel']",
         "The Winans"
        ],
        [
         "['sleep']",
         "Therapy?"
        ],
        [
         "['contemporary country', 'country', 'country road', 'modern country rock']",
         "Thomas Rhett"
        ],
        [
         "['hollywood']",
         "Tim Curry"
        ],
        [
         "['sleep']",
         "Tmsoft’s White Noise Sleep Sounds"
        ],
        [
         "['show tunes']",
         "Tom Alan Robbins"
        ],
        [
         "['movie tunes']",
         "Tom Hulce"
        ],
        [
         "['show tunes']",
         "Tom Pierson"
        ],
        [
         "['movie tunes']",
         "Tommy Luske"
        ],
        [
         "['disney', 'movie tunes']",
         "Tony Jay"
        ],
        [
         "['sleep']",
         "Traditional"
        ],
        [
         "['gospel']",
         "Tramaine Hawkins"
        ],
        [
         "['latin', 'latin hip hop', 'reggaeton', 'reggaeton flow', 'trap latino', 'tropical']",
         "Trebol Clan"
        ],
        [
         "['sleep']",
         "Twinkle"
        ],
        [
         "['gospel']",
         "VIP Mass Choir"
        ],
        [
         "['movie tunes']",
         "Vai Mahina"
        ],
        [
         "['classical soprano']",
         "Valerie Masterson"
        ],
        [
         "['gospel']",
         "Vanessa Bell Armstrong"
        ],
        [
         "['classical soprano']",
         "Varnay"
        ],
        [
         "['disney', 'movie tunes']",
         "Verna Felton"
        ],
        [
         "['orchestral performance']",
         "Vernon Handley"
        ],
        [
         "['gospel']",
         "Vicki Yohe"
        ],
        [
         "['gospel']",
         "Vickie Winans"
        ],
        [
         "['movie tunes']",
         "Victor Sweler"
        ],
        [
         "['classical soprano']",
         "Violeta Urmana"
        ],
        [
         "['latin', 'latin hip hop', 'reggaeton', 'reggaeton flow', 'trap latino', 'tropical']",
         "Voltio"
        ],
        [
         "['latin', 'latin hip hop', 'reggaeton', 'reggaeton flow', 'trap latino', 'tropical']",
         "WOODZ"
        ],
        [
         "['gospel']",
         "Walter Hawkins"
        ],
        [
         "['sleep']",
         "White Noise"
        ],
        [
         "['sleep']",
         "White Noise Babies"
        ],
        [
         "['sleep']",
         "White Noise Baby Sleep"
        ],
        [
         "['sleep']",
         "White Noise Meditation"
        ],
        [
         "['sleep']",
         "White Noise Research"
        ],
        [
         "['sleep']",
         "White Noise Sound Garden"
        ],
        [
         "['sleep']",
         "White Noise Therapy"
        ],
        [
         "['sleep']",
         "White Noise for Babies"
        ],
        [
         "['sleep']",
         "White Noise for Deeper Sleep"
        ],
        [
         "['sleep']",
         "White! Noise"
        ],
        [
         "['orchestral performance']",
         "Willi Boskovsky"
        ],
        [
         "['disney', 'movie tunes']",
         "William Joseph"
        ],
        [
         "['gospel']",
         "William McDowell"
        ],
        [
         "['orchestral performance']",
         "William Steinberg"
        ],
        [
         "['classical soprano']",
         "Wilma Lipp"
        ],
        [
         "['latin', 'latin hip hop', 'reggaeton', 'reggaeton flow', 'trap latino', 'tropical']",
         "Wisin"
        ],
        [
         "['orchestral performance']",
         "Wolfgang Sawallisch"
        ],
        [
         "['sleep']",
         "Wonderful Escape"
        ],
        [
         "['movie tunes']",
         "Xavier Atencio"
        ],
        [
         "['latin', 'latin hip hop', 'reggaeton', 'reggaeton flow', 'trap latino', 'tropical']",
         "Yaga & Mackie"
        ],
        [
         "['orchestral performance']",
         "Yannick Nézet-Séguin"
        ],
        [
         "['classical soprano']",
         "Ying Huang"
        ],
        [
         "['latin', 'latin hip hop', 'reggaeton', 'reggaeton flow', 'trap latino', 'tropical']",
         "Yomo"
        ],
        [
         "['contemporary country', 'country', 'country road', 'modern country rock']",
         "Young Chris"
        ],
        [
         "['contemporary country', 'country', 'country road', 'modern country rock']",
         "Zac Brown"
        ],
        [
         "['contemporary country', 'country', 'country road', 'modern country rock']",
         "Zac Brown Band"
        ],
        [
         "['show tunes']",
         "Ziv Zaifman"
        ],
        [
         "['latin', 'latin hip hop', 'reggaeton', 'reggaeton flow', 'trap latino', 'tropical']",
         "Ñejo & Dalmata"
        ],
        [
         "['latin', 'latin hip hop', 'reggaeton', 'reggaeton flow', 'trap latino', 'tropical']",
         "Ñengo Flow"
        ]
       ],
       "datasetInfos": [],
       "dbfsResultPath": null,
       "isJsonSchema": true,
       "metadata": {},
       "overflow": false,
       "plotOptions": {
        "customPlotOptions": {},
        "displayType": "table",
        "pivotAggregation": null,
        "pivotColumns": null,
        "xColumns": null,
        "yColumns": null
       },
       "removedWidgets": [],
       "schema": [
        {
         "metadata": "{}",
         "name": "genres",
         "type": "\"string\""
        },
        {
         "metadata": "{}",
         "name": "artists",
         "type": "\"string\""
        }
       ],
       "type": "table"
      }
     },
     "output_type": "display_data"
    }
   ],
   "source": [
    "%python\n",
    "\n",
    "#10 artistas nos principais genêros\n",
    "\n",
    "lista_genero =  top_generos_2.genres.unique().to_list()\n",
    "genero_artista = df_consulta_w_genres.loc[df_consulta_w_genres['genres'].isin (lista_genero)]\n",
    "genero_artista = genero_artista[['genres', 'artists' ]]\n",
    "display(genero_artista)"
   ]
  }
 ],
 "metadata": {
  "application/vnd.databricks.v1+notebook": {
   "dashboards": [],
   "environmentMetadata": null,
   "language": "python",
   "notebookMetadata": {
    "pythonIndentUnit": 2
   },
   "notebookName": "script_ml",
   "widgets": {}
  }
 },
 "nbformat": 4,
 "nbformat_minor": 0
}
